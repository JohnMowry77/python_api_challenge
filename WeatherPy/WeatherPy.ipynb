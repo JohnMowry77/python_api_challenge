{
 "cells": [
  {
   "cell_type": "markdown",
   "metadata": {},
   "source": [
    "# WeatherPy\n",
    "----\n",
    "\n",
    "#### Note\n",
    "* Instructions have been included for each segment. You do not have to follow them exactly, but they are included to help you think through the steps."
   ]
  },
  {
   "cell_type": "code",
   "execution_count": 1,
   "metadata": {
    "scrolled": true
   },
   "outputs": [],
   "source": [
    "# Dependencies and Setup\n",
    "import matplotlib.pyplot as plt\n",
    "import pandas as pd\n",
    "import numpy as np\n",
    "import requests\n",
    "import time\n",
    "from scipy.stats import linregress\n",
    "from pprint import pprint\n",
    "\n",
    "# Import API key\n",
    "from api_keys import weather_api_key\n",
    "\n",
    "# Incorporated citipy to determine city based on latitude and longitude\n",
    "from citipy import citipy\n",
    "\n",
    "# Output File (CSV)\n",
    "output_data_file = \"output_data/cities.csv\"\n",
    "\n",
    "# Range of latitudes and longitudes\n",
    "lat_range = (-90, 90)\n",
    "lng_range = (-180, 180)\n",
    "\n",
    "#daily 7 day forecast API\n"
   ]
  },
  {
   "cell_type": "code",
   "execution_count": 2,
   "metadata": {},
   "outputs": [],
   "source": [
    "#weather_api_key\n"
   ]
  },
  {
   "cell_type": "markdown",
   "metadata": {},
   "source": [
    "## Generate Cities List"
   ]
  },
  {
   "cell_type": "code",
   "execution_count": 3,
   "metadata": {},
   "outputs": [
    {
     "data": {
      "text/plain": [
       "630"
      ]
     },
     "execution_count": 3,
     "metadata": {},
     "output_type": "execute_result"
    }
   ],
   "source": [
    "# List for holding lat_lngs and cities\n",
    "lat_lngs = []\n",
    "cities_list = []\n",
    "\n",
    "# Create a set of random lat and lng combinations\n",
    "lats = np.random.uniform(lat_range[0], lat_range[1], size=1500)\n",
    "lngs = np.random.uniform(lng_range[0], lng_range[1], size=1500)\n",
    "lat_lngs = zip(lats, lngs)\n",
    "\n",
    "# Identify nearest city for each lat, lng combination\n",
    "for lat_lng in lat_lngs:\n",
    "    city = citipy.nearest_city(lat_lng[0], lat_lng[1]).city_name\n",
    "    \n",
    "    # If the city is unique, then add it to a our cities list\n",
    "    if city not in cities_list:\n",
    "        cities_list.append(city)\n",
    "\n",
    "# Print the city count to confirm sufficient count\n",
    "len(cities_list)"
   ]
  },
  {
   "cell_type": "code",
   "execution_count": 4,
   "metadata": {},
   "outputs": [],
   "source": [
    "#print(city)"
   ]
  },
  {
   "cell_type": "code",
   "execution_count": 5,
   "metadata": {},
   "outputs": [],
   "source": [
    "#print(cities_list) #print a list of the cities_list"
   ]
  },
  {
   "cell_type": "code",
   "execution_count": 6,
   "metadata": {},
   "outputs": [],
   "source": [
    "# this is your api url link, we fill it in below. \n",
    "#api.openweathermap.org/data/2.5/weather?q={city name}&appid={API key}"
   ]
  },
  {
   "cell_type": "code",
   "execution_count": 7,
   "metadata": {},
   "outputs": [
    {
     "name": "stdout",
     "output_type": "stream",
     "text": [
      "http://api.openweathermap.org/data/2.5/weather?appid=bc6b9a82441f1910d9054de33f421ceb&q=cattolica\n"
     ]
    }
   ],
   "source": [
    "base_url= \"http://api.openweathermap.org/data/2.5/weather?\"\n",
    "#city_one= \"Denver\"\n",
    "\n",
    "query_url= base_url+ \"appid=\"+weather_api_key+ \"&q=\" + city\n",
    "print(query_url) #click on this url and put into Google.\n"
   ]
  },
  {
   "cell_type": "code",
   "execution_count": 8,
   "metadata": {},
   "outputs": [
    {
     "name": "stdout",
     "output_type": "stream",
     "text": [
      "{'base': 'stations',\n",
      " 'clouds': {'all': 0},\n",
      " 'cod': 200,\n",
      " 'coord': {'lat': 43.9575, 'lon': 12.7376},\n",
      " 'dt': 1614564524,\n",
      " 'id': 3179347,\n",
      " 'main': {'feels_like': 273.93,\n",
      "          'humidity': 80,\n",
      "          'pressure': 1030,\n",
      "          'temp': 276.9,\n",
      "          'temp_max': 278.71,\n",
      "          'temp_min': 274.15},\n",
      " 'name': 'Cattolica',\n",
      " 'sys': {'country': 'IT',\n",
      "         'id': 6770,\n",
      "         'sunrise': 1614577567,\n",
      "         'sunset': 1614617819,\n",
      "         'type': 1},\n",
      " 'timezone': 3600,\n",
      " 'visibility': 10000,\n",
      " 'weather': [{'description': 'clear sky',\n",
      "              'icon': '01n',\n",
      "              'id': 800,\n",
      "              'main': 'Clear'}],\n",
      " 'wind': {'deg': 220, 'speed': 1.54}}\n"
     ]
    }
   ],
   "source": [
    "#query_url='api.openweathermap.org/data/2.5/weather?q={city}&appid={weather_api_key}'\n",
    "#query_url\n",
    "\n",
    "weather_response=requests.get(query_url)\n",
    "weather_json=weather_response.json()\n",
    "#pprint(f'The weather API responded with: {weather_json}.')\n",
    "\n",
    "pprint(weather_json)"
   ]
  },
  {
   "cell_type": "markdown",
   "metadata": {},
   "source": [
    "### Perform API Calls\n",
    "* Perform a weather check on each city using a series of successive API calls.\n",
    "* Include a print log of each city as it'sbeing processed (with the city number and city name).\n"
   ]
  },
  {
   "cell_type": "code",
   "execution_count": null,
   "metadata": {
    "scrolled": true
   },
   "outputs": [
    {
     "name": "stdout",
     "output_type": "stream",
     "text": [
      " Processing record number 1 for Set 1 the city of hilo\n",
      " Processing record number 2 for Set 1 the city of salalah\n",
      " Processing record number 3 for Set 1 the city of palafrugell\n",
      " Processing record number 4 for Set 1 the city of bluff\n",
      " Processing record number 5 for Set 1 the city of jamestown\n",
      " Processing record number 6 for Set 1 the city of vorta\n",
      " Processing record number 7 for Set 1 the city of mehamn\n",
      "City not found. Skipping...\n",
      " Processing record number 9 for Set 1 the city of east london\n",
      " Processing record number 10 for Set 1 the city of rikitea\n",
      " Processing record number 11 for Set 1 the city of muroto\n",
      " Processing record number 12 for Set 1 the city of port alfred\n",
      " Processing record number 13 for Set 1 the city of thompson\n",
      "City not found. Skipping...\n",
      " Processing record number 15 for Set 1 the city of mar del plata\n",
      " Processing record number 16 for Set 1 the city of saint-philippe\n",
      " Processing record number 17 for Set 1 the city of san cristobal\n",
      " Processing record number 18 for Set 1 the city of grand gaube\n",
      " Processing record number 19 for Set 1 the city of egvekinot\n",
      " Processing record number 20 for Set 1 the city of biak\n",
      " Processing record number 21 for Set 1 the city of petropavlovsk-kamchatskiy\n",
      " Processing record number 22 for Set 1 the city of punta arenas\n",
      " Processing record number 23 for Set 1 the city of malanje\n",
      " Processing record number 24 for Set 1 the city of albany\n",
      " Processing record number 25 for Set 1 the city of santa rosa\n",
      " Processing record number 26 for Set 1 the city of sur\n",
      " Processing record number 27 for Set 1 the city of turukhansk\n",
      " Processing record number 28 for Set 1 the city of mataura\n",
      " Processing record number 29 for Set 1 the city of nikolskoye\n",
      " Processing record number 30 for Set 1 the city of rawson\n",
      "City not found. Skipping...\n",
      " Processing record number 32 for Set 1 the city of cap malheureux\n",
      " Processing record number 33 for Set 1 the city of kiunga\n",
      " Processing record number 34 for Set 1 the city of araouane\n",
      " Processing record number 35 for Set 1 the city of port lincoln\n",
      " Processing record number 36 for Set 1 the city of reconquista\n",
      " Processing record number 37 for Set 1 the city of wuwei\n",
      " Processing record number 38 for Set 1 the city of visnes\n",
      " Processing record number 39 for Set 1 the city of busselton\n",
      "City not found. Skipping...\n",
      " Processing record number 41 for Set 1 the city of coos bay\n",
      " Processing record number 42 for Set 1 the city of ostrovnoy\n",
      " Processing record number 43 for Set 1 the city of barrow\n",
      " Processing record number 44 for Set 1 the city of celina\n",
      " Processing record number 45 for Set 1 the city of olafsvik\n",
      " Processing record number 46 for Set 1 the city of tasiilaq\n",
      "City not found. Skipping...\n",
      " Processing record number 48 for Set 1 the city of kununurra\n",
      " Processing record number 49 for Set 1 the city of flinders\n",
      " Processing record number 50 for Set 1 the city of nome\n",
      " Processing record number 1 for Set 2 the city of port blair\n",
      " Processing record number 2 for Set 2 the city of provideniya\n",
      " Processing record number 3 for Set 2 the city of bethel\n",
      " Processing record number 4 for Set 2 the city of cape town\n",
      " Processing record number 5 for Set 2 the city of celestun\n",
      " Processing record number 6 for Set 2 the city of yellowknife\n",
      " Processing record number 7 for Set 2 the city of vaini\n",
      " Processing record number 8 for Set 2 the city of dikson\n",
      " Processing record number 9 for Set 2 the city of ilulissat\n",
      " Processing record number 10 for Set 2 the city of pafos\n",
      " Processing record number 11 for Set 2 the city of diego de almagro\n",
      " Processing record number 12 for Set 2 the city of potam\n",
      " Processing record number 13 for Set 2 the city of bighapur\n",
      " Processing record number 14 for Set 2 the city of zhezkazgan\n",
      " Processing record number 15 for Set 2 the city of hauge\n",
      " Processing record number 16 for Set 2 the city of marawi\n",
      " Processing record number 17 for Set 2 the city of masuguru\n",
      " Processing record number 18 for Set 2 the city of sao joao dos patos\n",
      " Processing record number 19 for Set 2 the city of severo-kurilsk\n",
      " Processing record number 20 for Set 2 the city of ushuaia\n",
      " Processing record number 21 for Set 2 the city of castro\n",
      " Processing record number 22 for Set 2 the city of kapaa\n",
      " Processing record number 23 for Set 2 the city of vardo\n",
      " Processing record number 24 for Set 2 the city of lebu\n",
      " Processing record number 25 for Set 2 the city of haines junction\n",
      " Processing record number 26 for Set 2 the city of hithadhoo\n",
      " Processing record number 27 for Set 2 the city of namibe\n",
      " Processing record number 28 for Set 2 the city of avarua\n",
      " Processing record number 29 for Set 2 the city of sitka\n",
      " Processing record number 30 for Set 2 the city of hermanus\n",
      " Processing record number 31 for Set 2 the city of rocha\n",
      " Processing record number 32 for Set 2 the city of shingu\n",
      " Processing record number 33 for Set 2 the city of saint anthony\n",
      " Processing record number 34 for Set 2 the city of volcan\n",
      " Processing record number 35 for Set 2 the city of muros\n",
      " Processing record number 36 for Set 2 the city of kaitangata\n",
      " Processing record number 37 for Set 2 the city of resistencia\n",
      " Processing record number 38 for Set 2 the city of berlevag\n",
      " Processing record number 39 for Set 2 the city of camopi\n",
      " Processing record number 40 for Set 2 the city of te anau\n",
      " Processing record number 41 for Set 2 the city of bredasdorp\n",
      " Processing record number 42 for Set 2 the city of kilindoni\n",
      " Processing record number 43 for Set 2 the city of tautira\n",
      " Processing record number 44 for Set 2 the city of bereda\n",
      " Processing record number 45 for Set 2 the city of ambilobe\n",
      " Processing record number 46 for Set 2 the city of khatanga\n",
      " Processing record number 47 for Set 2 the city of roma\n",
      " Processing record number 48 for Set 2 the city of lipin bor\n",
      " Processing record number 49 for Set 2 the city of boyolangu\n",
      " Processing record number 50 for Set 2 the city of geraldton\n",
      " Processing record number 1 for Set 3 the city of bambous virieux\n",
      " Processing record number 2 for Set 3 the city of kruisfontein\n",
      " Processing record number 3 for Set 3 the city of vila velha\n",
      " Processing record number 4 for Set 3 the city of panuco\n",
      " Processing record number 5 for Set 3 the city of codrington\n",
      "City not found. Skipping...\n",
      " Processing record number 7 for Set 3 the city of ponta do sol\n",
      " Processing record number 8 for Set 3 the city of atuona\n",
      " Processing record number 9 for Set 3 the city of ola\n",
      " Processing record number 10 for Set 3 the city of peniche\n",
      " Processing record number 11 for Set 3 the city of butaritari\n",
      " Processing record number 12 for Set 3 the city of chuy\n",
      " Processing record number 13 for Set 3 the city of amroha\n",
      " Processing record number 14 for Set 3 the city of hobart\n",
      " Processing record number 15 for Set 3 the city of la ronge\n",
      " Processing record number 16 for Set 3 the city of puerto ayora\n",
      "City not found. Skipping...\n",
      " Processing record number 18 for Set 3 the city of pisco\n",
      " Processing record number 19 for Set 3 the city of ampanihy\n",
      "City not found. Skipping...\n",
      " Processing record number 21 for Set 3 the city of port elizabeth\n",
      " Processing record number 22 for Set 3 the city of mahebourg\n",
      " Processing record number 23 for Set 3 the city of cidreira\n",
      " Processing record number 24 for Set 3 the city of tsumeb\n",
      " Processing record number 25 for Set 3 the city of stornoway\n",
      " Processing record number 26 for Set 3 the city of fairfield\n",
      " Processing record number 27 for Set 3 the city of eureka\n",
      " Processing record number 28 for Set 3 the city of hamilton\n",
      " Processing record number 29 for Set 3 the city of anloga\n",
      " Processing record number 30 for Set 3 the city of beringovskiy\n",
      " Processing record number 31 for Set 3 the city of bindura\n",
      " Processing record number 32 for Set 3 the city of hlotse\n",
      " Processing record number 33 for Set 3 the city of new norfolk\n",
      "City not found. Skipping...\n",
      " Processing record number 35 for Set 3 the city of leningradskiy\n",
      " Processing record number 36 for Set 3 the city of meulaboh\n",
      " Processing record number 37 for Set 3 the city of upernavik\n",
      "City not found. Skipping...\n",
      " Processing record number 39 for Set 3 the city of tres arroyos\n",
      " Processing record number 40 for Set 3 the city of bontang\n",
      " Processing record number 41 for Set 3 the city of bage\n",
      " Processing record number 42 for Set 3 the city of huarmey\n"
     ]
    },
    {
     "name": "stdout",
     "output_type": "stream",
     "text": [
      " Processing record number 43 for Set 3 the city of letka\n",
      " Processing record number 44 for Set 3 the city of kupang\n",
      " Processing record number 45 for Set 3 the city of fortuna\n",
      " Processing record number 46 for Set 3 the city of vanersborg\n",
      " Processing record number 47 for Set 3 the city of solnechnyy\n",
      " Processing record number 48 for Set 3 the city of korla\n",
      " Processing record number 49 for Set 3 the city of chokurdakh\n",
      " Processing record number 50 for Set 3 the city of georgetown\n",
      " Processing record number 1 for Set 4 the city of bubaque\n",
      " Processing record number 2 for Set 4 the city of qaanaaq\n",
      " Processing record number 3 for Set 4 the city of hluti\n",
      " Processing record number 4 for Set 4 the city of thai nguyen\n",
      "City not found. Skipping...\n",
      " Processing record number 6 for Set 4 the city of gwanda\n",
      " Processing record number 7 for Set 4 the city of olinda\n",
      " Processing record number 8 for Set 4 the city of yar-sale\n",
      " Processing record number 9 for Set 4 the city of umm lajj\n",
      " Processing record number 10 for Set 4 the city of cochrane\n",
      " Processing record number 11 for Set 4 the city of rettikhovka\n",
      " Processing record number 12 for Set 4 the city of ihosy\n",
      " Processing record number 13 for Set 4 the city of medicine hat\n",
      " Processing record number 14 for Set 4 the city of asaka\n",
      " Processing record number 15 for Set 4 the city of pavlohrad\n",
      " Processing record number 16 for Set 4 the city of owando\n",
      " Processing record number 17 for Set 4 the city of narsaq\n",
      " Processing record number 18 for Set 4 the city of sangre grande\n",
      " Processing record number 19 for Set 4 the city of saint george\n",
      " Processing record number 20 for Set 4 the city of nhulunbuy\n",
      " Processing record number 21 for Set 4 the city of jejuri\n",
      " Processing record number 22 for Set 4 the city of darnah\n",
      " Processing record number 23 for Set 4 the city of ucluelet\n",
      " Processing record number 24 for Set 4 the city of kuusamo\n",
      " Processing record number 25 for Set 4 the city of kodiak\n",
      " Processing record number 26 for Set 4 the city of isangel\n",
      " Processing record number 27 for Set 4 the city of klaksvik\n",
      "City not found. Skipping...\n",
      " Processing record number 29 for Set 4 the city of phanom sarakham\n",
      " Processing record number 30 for Set 4 the city of tiksi\n",
      "City not found. Skipping...\n",
      " Processing record number 32 for Set 4 the city of lima\n",
      " Processing record number 33 for Set 4 the city of lekoni\n",
      " Processing record number 34 for Set 4 the city of karratha\n",
      " Processing record number 35 for Set 4 the city of tessalit\n",
      "City not found. Skipping...\n",
      "City not found. Skipping...\n",
      " Processing record number 38 for Set 4 the city of marsa matruh\n",
      " Processing record number 39 for Set 4 the city of machali\n",
      " Processing record number 40 for Set 4 the city of dunedin\n",
      " Processing record number 41 for Set 4 the city of cabo san lucas\n",
      " Processing record number 42 for Set 4 the city of tuktoyaktuk\n",
      " Processing record number 43 for Set 4 the city of road town\n",
      " Processing record number 44 for Set 4 the city of luau\n",
      " Processing record number 45 for Set 4 the city of saskylakh\n",
      " Processing record number 46 for Set 4 the city of iqaluit\n",
      " Processing record number 47 for Set 4 the city of chernyshevskiy\n",
      " Processing record number 48 for Set 4 the city of karaman\n",
      " Processing record number 49 for Set 4 the city of yatou\n",
      " Processing record number 50 for Set 4 the city of ziarat\n",
      " Processing record number 1 for Set 5 the city of inta\n",
      " Processing record number 2 for Set 5 the city of portland\n",
      " Processing record number 3 for Set 5 the city of vao\n",
      " Processing record number 4 for Set 5 the city of katsuura\n",
      " Processing record number 5 for Set 5 the city of half moon bay\n",
      " Processing record number 6 for Set 5 the city of talnakh\n",
      " Processing record number 7 for Set 5 the city of itoman\n",
      " Processing record number 8 for Set 5 the city of victoria\n",
      " Processing record number 9 for Set 5 the city of ballarat\n",
      " Processing record number 10 for Set 5 the city of bosaso\n",
      " Processing record number 11 for Set 5 the city of dukat\n",
      " Processing record number 12 for Set 5 the city of eyl\n",
      " Processing record number 13 for Set 5 the city of tondano\n",
      " Processing record number 14 for Set 5 the city of fukue\n",
      " Processing record number 15 for Set 5 the city of sokoni\n",
      " Processing record number 16 for Set 5 the city of nantucket\n",
      " Processing record number 17 for Set 5 the city of lavrentiya\n",
      " Processing record number 18 for Set 5 the city of sao gabriel da cachoeira\n",
      " Processing record number 19 for Set 5 the city of lincoln\n",
      " Processing record number 20 for Set 5 the city of kinablangan\n",
      " Processing record number 21 for Set 5 the city of pochutla\n",
      " Processing record number 22 for Set 5 the city of sakakah\n",
      " Processing record number 23 for Set 5 the city of dordrecht\n",
      "City not found. Skipping...\n",
      "City not found. Skipping...\n",
      " Processing record number 26 for Set 5 the city of miramar\n",
      " Processing record number 27 for Set 5 the city of bulgan\n",
      " Processing record number 28 for Set 5 the city of popondetta\n",
      " Processing record number 29 for Set 5 the city of meadow lake\n",
      " Processing record number 30 for Set 5 the city of constitucion\n",
      " Processing record number 31 for Set 5 the city of kutum\n",
      " Processing record number 32 for Set 5 the city of maldonado\n",
      " Processing record number 33 for Set 5 the city of kiomboi\n",
      " Processing record number 34 for Set 5 the city of lata\n",
      "City not found. Skipping...\n",
      " Processing record number 36 for Set 5 the city of petropavl\n",
      " Processing record number 37 for Set 5 the city of sulecin\n",
      " Processing record number 38 for Set 5 the city of kenora\n",
      " Processing record number 39 for Set 5 the city of vanimo\n",
      " Processing record number 40 for Set 5 the city of ngunguru\n",
      " Processing record number 41 for Set 5 the city of teguldet\n",
      " Processing record number 42 for Set 5 the city of samarai\n",
      " Processing record number 43 for Set 5 the city of port augusta\n",
      " Processing record number 44 for Set 5 the city of faanui\n",
      " Processing record number 45 for Set 5 the city of pevek\n",
      " Processing record number 46 for Set 5 the city of hobyo\n",
      " Processing record number 47 for Set 5 the city of loa janan\n",
      " Processing record number 48 for Set 5 the city of varnamo\n",
      " Processing record number 49 for Set 5 the city of margate\n",
      " Processing record number 50 for Set 5 the city of boguchar\n",
      " Processing record number 1 for Set 6 the city of necochea\n",
      " Processing record number 2 for Set 6 the city of pudozh\n",
      "City not found. Skipping...\n",
      " Processing record number 4 for Set 6 the city of fare\n",
      " Processing record number 5 for Set 6 the city of sao miguel do araguaia\n",
      " Processing record number 6 for Set 6 the city of turangi\n",
      " Processing record number 7 for Set 6 the city of souillac\n",
      " Processing record number 8 for Set 6 the city of ahipara\n",
      " Processing record number 9 for Set 6 the city of ozinki\n",
      " Processing record number 10 for Set 6 the city of ossora\n",
      " Processing record number 11 for Set 6 the city of micheweni\n",
      " Processing record number 12 for Set 6 the city of havoysund\n",
      " Processing record number 13 for Set 6 the city of arraial do cabo\n",
      " Processing record number 14 for Set 6 the city of hemnesberget\n",
      " Processing record number 15 for Set 6 the city of sao filipe\n",
      " Processing record number 16 for Set 6 the city of farmington\n",
      " Processing record number 17 for Set 6 the city of jertih\n",
      " Processing record number 18 for Set 6 the city of poso\n",
      " Processing record number 19 for Set 6 the city of pasighat\n",
      " Processing record number 20 for Set 6 the city of bukama\n",
      " Processing record number 21 for Set 6 the city of garelochhead\n",
      " Processing record number 22 for Set 6 the city of vostok\n",
      " Processing record number 23 for Set 6 the city of sao joao da barra\n",
      " Processing record number 24 for Set 6 the city of goderich\n",
      " Processing record number 25 for Set 6 the city of cherdyn\n",
      " Processing record number 26 for Set 6 the city of ambon\n",
      " Processing record number 27 for Set 6 the city of sept-iles\n",
      " Processing record number 28 for Set 6 the city of noumea\n",
      " Processing record number 29 for Set 6 the city of caucaia\n",
      " Processing record number 30 for Set 6 the city of tilichiki\n",
      " Processing record number 31 for Set 6 the city of paita\n",
      " Processing record number 32 for Set 6 the city of alofi\n",
      " Processing record number 33 for Set 6 the city of mattawa\n",
      " Processing record number 34 for Set 6 the city of lagoa\n"
     ]
    },
    {
     "name": "stdout",
     "output_type": "stream",
     "text": [
      " Processing record number 35 for Set 6 the city of nyurba\n",
      " Processing record number 36 for Set 6 the city of sabang\n",
      "City not found. Skipping...\n",
      " Processing record number 38 for Set 6 the city of vila franca do campo\n",
      " Processing record number 39 for Set 6 the city of kobryn\n",
      " Processing record number 40 for Set 6 the city of pacific grove\n",
      " Processing record number 41 for Set 6 the city of henties bay\n",
      " Processing record number 42 for Set 6 the city of namie\n",
      " Processing record number 43 for Set 6 the city of acari\n",
      " Processing record number 44 for Set 6 the city of panguna\n",
      " Processing record number 45 for Set 6 the city of grindavik\n",
      "City not found. Skipping...\n",
      " Processing record number 47 for Set 6 the city of mmabatho\n",
      " Processing record number 48 for Set 6 the city of nizhniy kuranakh\n",
      "City not found. Skipping...\n",
      " Processing record number 50 for Set 6 the city of parana\n",
      " Processing record number 1 for Set 7 the city of baruun-urt\n",
      " Processing record number 2 for Set 7 the city of shirokiy\n",
      " Processing record number 3 for Set 7 the city of vanavara\n",
      " Processing record number 4 for Set 7 the city of aklavik\n",
      " Processing record number 5 for Set 7 the city of bilibino\n",
      " Processing record number 6 for Set 7 the city of auki\n",
      " Processing record number 7 for Set 7 the city of marion\n",
      " Processing record number 8 for Set 7 the city of mayo\n",
      " Processing record number 9 for Set 7 the city of nanortalik\n",
      " Processing record number 10 for Set 7 the city of erenhot\n",
      " Processing record number 11 for Set 7 the city of akureyri\n",
      " Processing record number 12 for Set 7 the city of gigmoto\n",
      " Processing record number 13 for Set 7 the city of barabinsk\n",
      " Processing record number 14 for Set 7 the city of cusco\n",
      " Processing record number 15 for Set 7 the city of gat\n",
      " Processing record number 16 for Set 7 the city of san patricio\n",
      " Processing record number 17 for Set 7 the city of norman wells\n",
      " Processing record number 18 for Set 7 the city of yenagoa\n",
      " Processing record number 19 for Set 7 the city of havre\n",
      " Processing record number 20 for Set 7 the city of torbay\n",
      " Processing record number 21 for Set 7 the city of port keats\n",
      " Processing record number 22 for Set 7 the city of zabid\n",
      " Processing record number 23 for Set 7 the city of fruitvale\n",
      " Processing record number 24 for Set 7 the city of san quintin\n",
      " Processing record number 25 for Set 7 the city of axim\n",
      " Processing record number 26 for Set 7 the city of manjacaze\n",
      "City not found. Skipping...\n",
      " Processing record number 28 for Set 7 the city of uvinza\n",
      " Processing record number 29 for Set 7 the city of wahiawa\n",
      " Processing record number 30 for Set 7 the city of nkhotakota\n",
      " Processing record number 31 for Set 7 the city of puro\n",
      " Processing record number 32 for Set 7 the city of barra do corda\n",
      " Processing record number 33 for Set 7 the city of saint-georges\n",
      " Processing record number 34 for Set 7 the city of kavieng\n",
      " Processing record number 35 for Set 7 the city of longyearbyen\n",
      " Processing record number 36 for Set 7 the city of hambantota\n",
      " Processing record number 37 for Set 7 the city of pringsewu\n",
      " Processing record number 38 for Set 7 the city of kloulklubed\n",
      " Processing record number 39 for Set 7 the city of yumen\n",
      "City not found. Skipping...\n",
      " Processing record number 41 for Set 7 the city of yelizovo\n",
      " Processing record number 42 for Set 7 the city of namatanai\n",
      " Processing record number 43 for Set 7 the city of gornopravdinsk\n",
      " Processing record number 44 for Set 7 the city of vejalpur\n",
      " Processing record number 45 for Set 7 the city of manggar\n",
      " Processing record number 46 for Set 7 the city of atherton\n",
      " Processing record number 47 for Set 7 the city of iberia\n",
      " Processing record number 48 for Set 7 the city of ribeira grande\n",
      " Processing record number 49 for Set 7 the city of aykhal\n",
      " Processing record number 50 for Set 7 the city of torbat-e jam\n",
      " Processing record number 1 for Set 8 the city of guerrero negro\n",
      " Processing record number 2 for Set 8 the city of coahuayana\n",
      " Processing record number 3 for Set 8 the city of la asuncion\n",
      " Processing record number 4 for Set 8 the city of shieli\n",
      " Processing record number 5 for Set 8 the city of bowen\n",
      " Processing record number 6 for Set 8 the city of esperance\n",
      " Processing record number 7 for Set 8 the city of mareeba\n",
      "City not found. Skipping...\n",
      " Processing record number 9 for Set 8 the city of saryozek\n",
      " Processing record number 10 for Set 8 the city of derzhavinsk\n",
      " Processing record number 11 for Set 8 the city of wanning\n",
      " Processing record number 12 for Set 8 the city of tuatapere\n",
      " Processing record number 13 for Set 8 the city of yakima\n",
      " Processing record number 14 for Set 8 the city of miles city\n",
      " Processing record number 15 for Set 8 the city of kysyl-syr\n",
      " Processing record number 16 for Set 8 the city of nalut\n",
      " Processing record number 17 for Set 8 the city of tefe\n",
      " Processing record number 18 for Set 8 the city of potiskum\n",
      " Processing record number 19 for Set 8 the city of nelson bay\n",
      " Processing record number 20 for Set 8 the city of carnarvon\n",
      " Processing record number 21 for Set 8 the city of batagay-alyta\n",
      " Processing record number 22 for Set 8 the city of marfino\n",
      " Processing record number 23 for Set 8 the city of tezu\n",
      " Processing record number 24 for Set 8 the city of paranhos\n",
      " Processing record number 25 for Set 8 the city of rjukan\n",
      " Processing record number 26 for Set 8 the city of maragogi\n",
      " Processing record number 27 for Set 8 the city of sangueya\n",
      " Processing record number 28 for Set 8 the city of poum\n",
      " Processing record number 29 for Set 8 the city of srednekolymsk\n",
      " Processing record number 30 for Set 8 the city of ystad\n",
      " Processing record number 31 for Set 8 the city of diffa\n",
      " Processing record number 32 for Set 8 the city of nemuro\n",
      " Processing record number 33 for Set 8 the city of novyy urgal\n",
      " Processing record number 34 for Set 8 the city of daulatpur\n",
      "City not found. Skipping...\n",
      " Processing record number 36 for Set 8 the city of deputatskiy\n",
      "City not found. Skipping...\n",
      " Processing record number 38 for Set 8 the city of dingle\n",
      "City not found. Skipping...\n",
      " Processing record number 40 for Set 8 the city of hare bay\n",
      " Processing record number 41 for Set 8 the city of iquitos\n",
      " Processing record number 42 for Set 8 the city of nara\n",
      " Processing record number 43 for Set 8 the city of katangli\n",
      " Processing record number 44 for Set 8 the city of mount isa\n",
      " Processing record number 45 for Set 8 the city of santa vitoria do palmar\n",
      " Processing record number 46 for Set 8 the city of keetmanshoop\n",
      " Processing record number 47 for Set 8 the city of imbituba\n",
      " Processing record number 48 for Set 8 the city of smolenka\n",
      " Processing record number 49 for Set 8 the city of bafq\n",
      " Processing record number 50 for Set 8 the city of havelock\n",
      "City not found. Skipping...\n",
      " Processing record number 1 for Set 9 the city of burnie\n",
      " Processing record number 2 for Set 9 the city of okhotsk\n",
      " Processing record number 3 for Set 9 the city of hammerfest\n",
      " Processing record number 4 for Set 9 the city of erzin\n",
      " Processing record number 5 for Set 9 the city of aswan\n",
      " Processing record number 6 for Set 9 the city of sibolga\n",
      " Processing record number 7 for Set 9 the city of chippewa falls\n",
      " Processing record number 8 for Set 9 the city of bantry\n",
      " Processing record number 9 for Set 9 the city of gamba\n",
      " Processing record number 10 for Set 9 the city of caravelas\n",
      " Processing record number 11 for Set 9 the city of gradistea\n",
      " Processing record number 12 for Set 9 the city of svetlaya\n",
      " Processing record number 13 for Set 9 the city of saint-augustin\n",
      " Processing record number 14 for Set 9 the city of omsukchan\n",
      " Processing record number 15 for Set 9 the city of altamira\n",
      " Processing record number 16 for Set 9 the city of lorengau\n",
      " Processing record number 17 for Set 9 the city of mildura\n",
      " Processing record number 18 for Set 9 the city of kayerkan\n",
      " Processing record number 19 for Set 9 the city of topolobampo\n",
      " Processing record number 20 for Set 9 the city of bharatpur\n",
      " Processing record number 21 for Set 9 the city of goundam\n",
      " Processing record number 22 for Set 9 the city of arlit\n",
      " Processing record number 23 for Set 9 the city of zhuhai\n",
      " Processing record number 24 for Set 9 the city of northam\n",
      " Processing record number 25 for Set 9 the city of nador\n",
      "City not found. Skipping...\n"
     ]
    },
    {
     "name": "stdout",
     "output_type": "stream",
     "text": [
      " Processing record number 27 for Set 9 the city of alekseyevsk\n",
      " Processing record number 28 for Set 9 the city of scarborough\n",
      " Processing record number 29 for Set 9 the city of kavaratti\n",
      " Processing record number 30 for Set 9 the city of dahegam\n",
      " Processing record number 31 for Set 9 the city of quatre cocos\n",
      " Processing record number 32 for Set 9 the city of karasjok\n",
      " Processing record number 33 for Set 9 the city of parry sound\n",
      " Processing record number 34 for Set 9 the city of nuevo ideal\n",
      " Processing record number 35 for Set 9 the city of novikovo\n",
      " Processing record number 36 for Set 9 the city of hasaki\n",
      " Processing record number 37 for Set 9 the city of sobolevo\n",
      " Processing record number 38 for Set 9 the city of ponta delgada\n",
      " Processing record number 39 for Set 9 the city of sergeyevka\n",
      " Processing record number 40 for Set 9 the city of omboue\n",
      " Processing record number 41 for Set 9 the city of klyuchi\n",
      " Processing record number 42 for Set 9 the city of dawei\n",
      " Processing record number 43 for Set 9 the city of shirvan\n",
      " Processing record number 44 for Set 9 the city of le moule\n",
      " Processing record number 45 for Set 9 the city of alyangula\n",
      " Processing record number 46 for Set 9 the city of felipe carrillo puerto\n",
      " Processing record number 47 for Set 9 the city of aljezur\n",
      " Processing record number 48 for Set 9 the city of chilliwack\n",
      " Processing record number 49 for Set 9 the city of puri\n",
      "City not found. Skipping...\n",
      " Processing record number 1 for Set 10 the city of rio grande\n",
      " Processing record number 2 for Set 10 the city of tura\n",
      " Processing record number 3 for Set 10 the city of kahului\n",
      " Processing record number 4 for Set 10 the city of lunca banului\n",
      " Processing record number 5 for Set 10 the city of mandawar\n",
      " Processing record number 6 for Set 10 the city of taoudenni\n",
      " Processing record number 7 for Set 10 the city of padang\n",
      " Processing record number 8 for Set 10 the city of yaremche\n",
      " Processing record number 9 for Set 10 the city of alta floresta\n",
      " Processing record number 10 for Set 10 the city of san lazaro\n",
      " Processing record number 11 for Set 10 the city of babstovo\n",
      " Processing record number 12 for Set 10 the city of bellevue\n",
      " Processing record number 13 for Set 10 the city of ranong\n",
      " Processing record number 14 for Set 10 the city of novobirilyussy\n",
      " Processing record number 15 for Set 10 the city of pacatuba\n",
      " Processing record number 16 for Set 10 the city of ust-tsilma\n",
      " Processing record number 17 for Set 10 the city of kattivakkam\n",
      " Processing record number 18 for Set 10 the city of iranshahr\n",
      " Processing record number 19 for Set 10 the city of airai\n",
      " Processing record number 20 for Set 10 the city of xai-xai\n",
      "City not found. Skipping...\n",
      " Processing record number 22 for Set 10 the city of harrisonville\n",
      " Processing record number 23 for Set 10 the city of black river\n",
      " Processing record number 24 for Set 10 the city of troitskoye\n",
      "City not found. Skipping...\n",
      " Processing record number 26 for Set 10 the city of le port\n",
      " Processing record number 27 for Set 10 the city of khovu-aksy\n",
      " Processing record number 28 for Set 10 the city of dudinka\n",
      " Processing record number 29 for Set 10 the city of praya\n",
      " Processing record number 30 for Set 10 the city of ketchikan\n",
      " Processing record number 31 for Set 10 the city of ugra\n",
      " Processing record number 32 for Set 10 the city of alcantara\n",
      " Processing record number 33 for Set 10 the city of jalu\n",
      "City not found. Skipping...\n",
      " Processing record number 35 for Set 10 the city of angoram\n",
      " Processing record number 36 for Set 10 the city of marsh harbour\n",
      " Processing record number 37 for Set 10 the city of mahenge\n",
      " Processing record number 38 for Set 10 the city of santiago del estero\n",
      " Processing record number 39 for Set 10 the city of byron bay\n",
      " Processing record number 40 for Set 10 the city of neiafu\n",
      " Processing record number 41 for Set 10 the city of knysna\n",
      " Processing record number 42 for Set 10 the city of methoni\n",
      "City not found. Skipping...\n",
      " Processing record number 44 for Set 10 the city of vysokogornyy\n",
      " Processing record number 45 for Set 10 the city of saint-francois\n",
      " Processing record number 46 for Set 10 the city of upington\n",
      " Processing record number 47 for Set 10 the city of chato\n",
      " Processing record number 48 for Set 10 the city of togur\n",
      " Processing record number 49 for Set 10 the city of lazaro cardenas\n",
      "City not found. Skipping...\n",
      " Processing record number 1 for Set 11 the city of altay\n",
      " Processing record number 2 for Set 11 the city of zhigalovo\n",
      " Processing record number 3 for Set 11 the city of thayetmyo\n",
      " Processing record number 4 for Set 11 the city of bengkulu\n",
      " Processing record number 5 for Set 11 the city of vikulovo\n",
      " Processing record number 6 for Set 11 the city of ambulu\n",
      "City not found. Skipping...\n",
      " Processing record number 8 for Set 11 the city of devils lake\n",
      " Processing record number 9 for Set 11 the city of asau\n",
      " Processing record number 10 for Set 11 the city of yulara\n",
      " Processing record number 11 for Set 11 the city of svetlyy\n",
      "City not found. Skipping...\n",
      " Processing record number 13 for Set 11 the city of saldanha\n",
      " Processing record number 14 for Set 11 the city of soyo\n",
      " Processing record number 15 for Set 11 the city of youghal\n",
      " Processing record number 16 for Set 11 the city of merauke\n",
      " Processing record number 17 for Set 11 the city of juneau\n",
      " Processing record number 18 for Set 11 the city of remanso\n",
      "City not found. Skipping...\n",
      " Processing record number 20 for Set 11 the city of saurimo\n",
      " Processing record number 21 for Set 11 the city of los llanos de aridane\n",
      " Processing record number 22 for Set 11 the city of thinadhoo\n",
      " Processing record number 23 for Set 11 the city of baykit\n",
      " Processing record number 24 for Set 11 the city of dombarovskiy\n",
      " Processing record number 25 for Set 11 the city of rottingdean\n",
      " Processing record number 26 for Set 11 the city of ancud\n",
      " Processing record number 27 for Set 11 the city of villa carlos paz\n",
      "City not found. Skipping...\n",
      " Processing record number 29 for Set 11 the city of palatka\n",
      " Processing record number 30 for Set 11 the city of dezhou\n",
      " Processing record number 31 for Set 11 the city of winchester\n",
      " Processing record number 32 for Set 11 the city of nuevo progreso\n",
      " Processing record number 33 for Set 11 the city of cockburn town\n",
      " Processing record number 34 for Set 11 the city of tigil\n",
      " Processing record number 35 for Set 11 the city of riyadh\n",
      " Processing record number 36 for Set 11 the city of golden\n",
      " Processing record number 37 for Set 11 the city of kushima\n",
      " Processing record number 38 for Set 11 the city of buchanan\n",
      " Processing record number 39 for Set 11 the city of balad\n",
      " Processing record number 40 for Set 11 the city of hirara\n",
      " Processing record number 41 for Set 11 the city of zyryanka\n",
      " Processing record number 42 for Set 11 the city of rawlins\n",
      " Processing record number 43 for Set 11 the city of inhambane\n",
      " Processing record number 44 for Set 11 the city of morondava\n",
      " Processing record number 45 for Set 11 the city of camacha\n",
      " Processing record number 46 for Set 11 the city of college\n",
      " Processing record number 47 for Set 11 the city of dunda\n",
      " Processing record number 48 for Set 11 the city of fairbanks\n",
      " Processing record number 49 for Set 11 the city of carballo\n",
      " Processing record number 50 for Set 11 the city of leh\n",
      " Processing record number 1 for Set 12 the city of kenai\n",
      " Processing record number 2 for Set 12 the city of luderitz\n",
      " Processing record number 3 for Set 12 the city of maunabo\n",
      "City not found. Skipping...\n",
      " Processing record number 5 for Set 12 the city of lompoc\n",
      " Processing record number 6 for Set 12 the city of whitehorse\n",
      " Processing record number 7 for Set 12 the city of champua\n",
      " Processing record number 8 for Set 12 the city of nkayi\n",
      " Processing record number 9 for Set 12 the city of agadir\n",
      " Processing record number 10 for Set 12 the city of high prairie\n",
      " Processing record number 11 for Set 12 the city of nanakuli\n",
      " Processing record number 12 for Set 12 the city of mangrol\n",
      " Processing record number 13 for Set 12 the city of flin flon\n",
      " Processing record number 14 for Set 12 the city of broome\n",
      " Processing record number 15 for Set 12 the city of hay river\n",
      " Processing record number 16 for Set 12 the city of cayenne\n",
      " Processing record number 17 for Set 12 the city of ufa\n",
      " Processing record number 18 for Set 12 the city of saint-joseph\n"
     ]
    },
    {
     "name": "stdout",
     "output_type": "stream",
     "text": [
      " Processing record number 19 for Set 12 the city of otane\n",
      " Processing record number 20 for Set 12 the city of richards bay\n",
      " Processing record number 21 for Set 12 the city of lalibela\n",
      " Processing record number 22 for Set 12 the city of kapit\n",
      " Processing record number 23 for Set 12 the city of taltal\n",
      " Processing record number 24 for Set 12 the city of mahajanga\n",
      " Processing record number 25 for Set 12 the city of hofn\n",
      "City not found. Skipping...\n",
      " Processing record number 27 for Set 12 the city of magadan\n",
      " Processing record number 28 for Set 12 the city of coari\n",
      " Processing record number 29 for Set 12 the city of atambua\n",
      " Processing record number 30 for Set 12 the city of castelo do piaui\n",
      " Processing record number 31 for Set 12 the city of pervomayskiy\n",
      " Processing record number 32 for Set 12 the city of cahors\n",
      " Processing record number 33 for Set 12 the city of honiara\n",
      " Processing record number 34 for Set 12 the city of khani\n",
      " Processing record number 35 for Set 12 the city of gamboma\n",
      " Processing record number 36 for Set 12 the city of peachland\n",
      " Processing record number 37 for Set 12 the city of daru\n",
      " Processing record number 38 for Set 12 the city of plettenberg bay\n",
      " Processing record number 39 for Set 12 the city of nangomba\n",
      " Processing record number 40 for Set 12 the city of masalli\n",
      " Processing record number 41 for Set 12 the city of mazabuka\n",
      " Processing record number 42 for Set 12 the city of carutapera\n",
      " Processing record number 43 for Set 12 the city of jining\n",
      " Processing record number 44 for Set 12 the city of fort nelson\n",
      " Processing record number 45 for Set 12 the city of iralaya\n",
      " Processing record number 46 for Set 12 the city of esna\n",
      " Processing record number 47 for Set 12 the city of razdolinsk\n",
      " Processing record number 48 for Set 12 the city of cesis\n",
      " Processing record number 49 for Set 12 the city of abapo\n",
      " Processing record number 50 for Set 12 the city of monterey\n",
      " Processing record number 1 for Set 13 the city of cedar city\n",
      "City not found. Skipping...\n",
      " Processing record number 3 for Set 13 the city of kindu\n",
      " Processing record number 4 for Set 13 the city of cherskiy\n",
      " Processing record number 5 for Set 13 the city of ilebo\n",
      " Processing record number 6 for Set 13 the city of batemans bay\n",
      " Processing record number 7 for Set 13 the city of bukachacha\n",
      " Processing record number 8 for Set 13 the city of ishigaki\n",
      "City not found. Skipping...\n",
      " Processing record number 10 for Set 13 the city of russellville\n",
      "City not found. Skipping...\n",
      " Processing record number 12 for Set 13 the city of west bay\n",
      " Processing record number 13 for Set 13 the city of bilma\n",
      " Processing record number 14 for Set 13 the city of itum-kale\n",
      " Processing record number 15 for Set 13 the city of imeni poliny osipenko\n"
     ]
    }
   ],
   "source": [
    "#below is the base URL to access the openweather api data. Remove all data after ? \n",
    "\n",
    "#base_url= \"http://api.openweathermap.org/data/2.5/weather?\"\n",
    "\n",
    "\n",
    "# City\tLat\tLng\tMax Temp\tHumidity\tCloudiness\tWind Speed\tCountry\tDate\n",
    "#create empty list for your eventual dataframe\n",
    "city_list_500=[]\n",
    "lat_500=[]\n",
    "long_500=[]\n",
    "max_temp_500=[]\n",
    "humidity_500=[]\n",
    "wind_speed_500=[]\n",
    "cloudiness_500=[]\n",
    "country_500=[]\n",
    "date_500=[]\n",
    "counter=0\n",
    "group=1\n",
    "\n",
    "\n",
    "\n",
    "#[:3] gives me back 3 results from the cities_list. \n",
    "# for loop itreeather list of randomeng enerrate scitis, pings the opena \n",
    "for each_city in cities_list[:]: \n",
    "    #query_url= base_url+ \"appid=\"+weather_api_key+ \"&q=\" + city\n",
    "    query_url=f'{base_url}q={each_city}&appid={weather_api_key}'\n",
    "    weather_response=requests.get(query_url)\n",
    "    weather_data=weather_response.json()\n",
    "    counter= counter +1\n",
    "    \n",
    "    #pprint(weather_data) #keep this in the for loop so that it prints out the amount you want\n",
    "    try:\n",
    "        city_list_500.append(weather_data['name'])\n",
    "        lat_500.append(weather_data['coord']['lat'])\n",
    "        #print(lat_500)\n",
    "        long_500.append(weather_data['coord']['lon'])\n",
    "        max_temp_500.append(weather_data['main']['temp_max'])\n",
    "        humidity_500.append(weather_data['main']['humidity'])\n",
    "        cloudiness_500.append(weather_data['clouds']['all'])\n",
    "        wind_speed_500.append(weather_data['wind']['speed'])\n",
    "        country_500.append(weather_data['sys']['country'])\n",
    "        date_500.append(weather_data['dt'])\n",
    "        if counter >50:\n",
    "            counter=1\n",
    "            group=1 +group\n",
    "        #print(f\" Processing record number {len(city_list_500)} for the city of {each_city}\")\n",
    "        print(f\" Processing record number {counter} for Set {group} the city of {each_city}\")\n",
    "        \n",
    "    except:\n",
    "        print('City not found. Skipping...')\n",
    "        pass\n",
    "\n",
    "    # need to print out 50 and then new list shows up. look at starter file\n",
    "    # hint: these are counters\n",
    "    # \n",
    "\n",
    "# print(city_list_500)\n",
    "# print(lat_500)\n",
    "# print(long_500)\n",
    "# print(max_temp_500)\n",
    "# print(humidity_500)\n",
    "# print(wind_speed_500)\n",
    "# print(cloudiness_500)\n",
    "# print(country_500)\n",
    "# print(date_500)\n"
   ]
  },
  {
   "cell_type": "code",
   "execution_count": null,
   "metadata": {},
   "outputs": [],
   "source": [
    "len(city_list_500)"
   ]
  },
  {
   "cell_type": "code",
   "execution_count": 12,
   "metadata": {},
   "outputs": [],
   "source": [
    "# print(city_list_500)\n",
    "# print(lat_500)\n",
    "# print(long_500)\n",
    "# print(max_temp_500)\n",
    "# print(humidity_500)\n",
    "# print(wind_speed_500)\n",
    "# print(cloudiness_500)\n",
    "# print(country_500)\n",
    "# print(date_500)\n",
    "\n",
    "# # highlight them all and hit command ? to comment these\n",
    "# #"
   ]
  },
  {
   "cell_type": "markdown",
   "metadata": {},
   "source": [
    "### Convert Raw Data to DataFrame\n",
    "* Export the city data into a .csv.\n",
    "* Display the DataFrame"
   ]
  },
  {
   "cell_type": "code",
   "execution_count": 13,
   "metadata": {},
   "outputs": [
    {
     "data": {
      "text/html": [
       "<div>\n",
       "<style scoped>\n",
       "    .dataframe tbody tr th:only-of-type {\n",
       "        vertical-align: middle;\n",
       "    }\n",
       "\n",
       "    .dataframe tbody tr th {\n",
       "        vertical-align: top;\n",
       "    }\n",
       "\n",
       "    .dataframe thead th {\n",
       "        text-align: right;\n",
       "    }\n",
       "</style>\n",
       "<table border=\"1\" class=\"dataframe\">\n",
       "  <thead>\n",
       "    <tr style=\"text-align: right;\">\n",
       "      <th></th>\n",
       "      <th>City</th>\n",
       "      <th>Latitude</th>\n",
       "      <th>Longitude</th>\n",
       "      <th>Max Temp</th>\n",
       "      <th>Humidity</th>\n",
       "      <th>Cloudiness</th>\n",
       "      <th>Wind Speed</th>\n",
       "      <th>Country</th>\n",
       "      <th>Date</th>\n",
       "    </tr>\n",
       "  </thead>\n",
       "  <tbody>\n",
       "    <tr>\n",
       "      <th>0</th>\n",
       "      <td>Ushuaia</td>\n",
       "      <td>-54.8000</td>\n",
       "      <td>-68.3000</td>\n",
       "      <td>286.15</td>\n",
       "      <td>62</td>\n",
       "      <td>75</td>\n",
       "      <td>7.20</td>\n",
       "      <td>AR</td>\n",
       "      <td>1612838864</td>\n",
       "    </tr>\n",
       "    <tr>\n",
       "      <th>1</th>\n",
       "      <td>Coos Bay</td>\n",
       "      <td>43.3665</td>\n",
       "      <td>-124.2179</td>\n",
       "      <td>281.15</td>\n",
       "      <td>71</td>\n",
       "      <td>40</td>\n",
       "      <td>4.12</td>\n",
       "      <td>US</td>\n",
       "      <td>1612838750</td>\n",
       "    </tr>\n",
       "    <tr>\n",
       "      <th>2</th>\n",
       "      <td>Pochutla</td>\n",
       "      <td>15.7432</td>\n",
       "      <td>-96.4661</td>\n",
       "      <td>298.71</td>\n",
       "      <td>73</td>\n",
       "      <td>0</td>\n",
       "      <td>1.44</td>\n",
       "      <td>MX</td>\n",
       "      <td>1612838996</td>\n",
       "    </tr>\n",
       "    <tr>\n",
       "      <th>3</th>\n",
       "      <td>Maningrida</td>\n",
       "      <td>-12.0667</td>\n",
       "      <td>134.2667</td>\n",
       "      <td>304.43</td>\n",
       "      <td>63</td>\n",
       "      <td>99</td>\n",
       "      <td>4.42</td>\n",
       "      <td>AU</td>\n",
       "      <td>1612838996</td>\n",
       "    </tr>\n",
       "    <tr>\n",
       "      <th>4</th>\n",
       "      <td>Santa Rosa</td>\n",
       "      <td>14.3122</td>\n",
       "      <td>121.1114</td>\n",
       "      <td>299.82</td>\n",
       "      <td>83</td>\n",
       "      <td>90</td>\n",
       "      <td>1.54</td>\n",
       "      <td>PH</td>\n",
       "      <td>1612838996</td>\n",
       "    </tr>\n",
       "  </tbody>\n",
       "</table>\n",
       "</div>"
      ],
      "text/plain": [
       "         City  Latitude  Longitude  Max Temp  Humidity  Cloudiness  \\\n",
       "0     Ushuaia  -54.8000   -68.3000    286.15        62          75   \n",
       "1    Coos Bay   43.3665  -124.2179    281.15        71          40   \n",
       "2    Pochutla   15.7432   -96.4661    298.71        73           0   \n",
       "3  Maningrida  -12.0667   134.2667    304.43        63          99   \n",
       "4  Santa Rosa   14.3122   121.1114    299.82        83          90   \n",
       "\n",
       "   Wind Speed Country        Date  \n",
       "0        7.20      AR  1612838864  \n",
       "1        4.12      US  1612838750  \n",
       "2        1.44      MX  1612838996  \n",
       "3        4.42      AU  1612838996  \n",
       "4        1.54      PH  1612838996  "
      ]
     },
     "execution_count": 13,
     "metadata": {},
     "output_type": "execute_result"
    }
   ],
   "source": [
    "#create a dictionary and then pass to data frame \n",
    "\n",
    "# how can we run the API calls so that the output is equal to 500.\n",
    "\n",
    "# is there a way to set = to 500?\n",
    "\n",
    "weather_data_dict= {'City': city_list_500,\n",
    "                       'Latitude': lat_500,\n",
    "                       'Longitude': long_500,\n",
    "                       'Max Temp': max_temp_500,\n",
    "                       'Humidity': humidity_500,\n",
    "                       'Cloudiness': cloudiness_500,\n",
    "                       'Wind Speed': wind_speed_500,\n",
    "                       'Country' : country_500,\n",
    "                       'Date': date_500\n",
    "                      }\n",
    "weather_data_df_zero=pd.DataFrame(weather_data_dict)\n",
    "weather_data_df_zero.head()\n",
    "\n",
    "#export the city data into a .csv\n"
   ]
  },
  {
   "cell_type": "code",
   "execution_count": 14,
   "metadata": {},
   "outputs": [
    {
     "data": {
      "text/html": [
       "<div>\n",
       "<style scoped>\n",
       "    .dataframe tbody tr th:only-of-type {\n",
       "        vertical-align: middle;\n",
       "    }\n",
       "\n",
       "    .dataframe tbody tr th {\n",
       "        vertical-align: top;\n",
       "    }\n",
       "\n",
       "    .dataframe thead th {\n",
       "        text-align: right;\n",
       "    }\n",
       "</style>\n",
       "<table border=\"1\" class=\"dataframe\">\n",
       "  <thead>\n",
       "    <tr style=\"text-align: right;\">\n",
       "      <th></th>\n",
       "      <th>Latitude</th>\n",
       "      <th>Longitude</th>\n",
       "      <th>Max Temp</th>\n",
       "      <th>Humidity</th>\n",
       "      <th>Cloudiness</th>\n",
       "      <th>Wind Speed</th>\n",
       "      <th>Date</th>\n",
       "    </tr>\n",
       "  </thead>\n",
       "  <tbody>\n",
       "    <tr>\n",
       "      <th>count</th>\n",
       "      <td>555.000000</td>\n",
       "      <td>555.000000</td>\n",
       "      <td>555.000000</td>\n",
       "      <td>555.000000</td>\n",
       "      <td>555.000000</td>\n",
       "      <td>555.000000</td>\n",
       "      <td>5.550000e+02</td>\n",
       "    </tr>\n",
       "    <tr>\n",
       "      <th>mean</th>\n",
       "      <td>21.070585</td>\n",
       "      <td>14.923856</td>\n",
       "      <td>282.283802</td>\n",
       "      <td>75.277477</td>\n",
       "      <td>56.288288</td>\n",
       "      <td>3.566829</td>\n",
       "      <td>1.612839e+09</td>\n",
       "    </tr>\n",
       "    <tr>\n",
       "      <th>std</th>\n",
       "      <td>33.004303</td>\n",
       "      <td>89.722986</td>\n",
       "      <td>17.601481</td>\n",
       "      <td>18.216571</td>\n",
       "      <td>40.328611</td>\n",
       "      <td>2.524566</td>\n",
       "      <td>1.044047e+02</td>\n",
       "    </tr>\n",
       "    <tr>\n",
       "      <th>min</th>\n",
       "      <td>-54.800000</td>\n",
       "      <td>-175.200000</td>\n",
       "      <td>231.150000</td>\n",
       "      <td>10.000000</td>\n",
       "      <td>0.000000</td>\n",
       "      <td>0.060000</td>\n",
       "      <td>1.612838e+09</td>\n",
       "    </tr>\n",
       "    <tr>\n",
       "      <th>25%</th>\n",
       "      <td>-6.155500</td>\n",
       "      <td>-65.539600</td>\n",
       "      <td>269.150000</td>\n",
       "      <td>67.000000</td>\n",
       "      <td>11.500000</td>\n",
       "      <td>1.710000</td>\n",
       "      <td>1.612839e+09</td>\n",
       "    </tr>\n",
       "    <tr>\n",
       "      <th>50%</th>\n",
       "      <td>26.866100</td>\n",
       "      <td>18.296000</td>\n",
       "      <td>288.580000</td>\n",
       "      <td>80.000000</td>\n",
       "      <td>75.000000</td>\n",
       "      <td>3.000000</td>\n",
       "      <td>1.612839e+09</td>\n",
       "    </tr>\n",
       "    <tr>\n",
       "      <th>75%</th>\n",
       "      <td>48.640700</td>\n",
       "      <td>97.745550</td>\n",
       "      <td>296.215000</td>\n",
       "      <td>89.000000</td>\n",
       "      <td>98.000000</td>\n",
       "      <td>4.630000</td>\n",
       "      <td>1.612839e+09</td>\n",
       "    </tr>\n",
       "    <tr>\n",
       "      <th>max</th>\n",
       "      <td>78.218600</td>\n",
       "      <td>178.416700</td>\n",
       "      <td>310.150000</td>\n",
       "      <td>100.000000</td>\n",
       "      <td>100.000000</td>\n",
       "      <td>16.980000</td>\n",
       "      <td>1.612839e+09</td>\n",
       "    </tr>\n",
       "  </tbody>\n",
       "</table>\n",
       "</div>"
      ],
      "text/plain": [
       "         Latitude   Longitude    Max Temp    Humidity  Cloudiness  Wind Speed  \\\n",
       "count  555.000000  555.000000  555.000000  555.000000  555.000000  555.000000   \n",
       "mean    21.070585   14.923856  282.283802   75.277477   56.288288    3.566829   \n",
       "std     33.004303   89.722986   17.601481   18.216571   40.328611    2.524566   \n",
       "min    -54.800000 -175.200000  231.150000   10.000000    0.000000    0.060000   \n",
       "25%     -6.155500  -65.539600  269.150000   67.000000   11.500000    1.710000   \n",
       "50%     26.866100   18.296000  288.580000   80.000000   75.000000    3.000000   \n",
       "75%     48.640700   97.745550  296.215000   89.000000   98.000000    4.630000   \n",
       "max     78.218600  178.416700  310.150000  100.000000  100.000000   16.980000   \n",
       "\n",
       "               Date  \n",
       "count  5.550000e+02  \n",
       "mean   1.612839e+09  \n",
       "std    1.044047e+02  \n",
       "min    1.612838e+09  \n",
       "25%    1.612839e+09  \n",
       "50%    1.612839e+09  \n",
       "75%    1.612839e+09  \n",
       "max    1.612839e+09  "
      ]
     },
     "execution_count": 14,
     "metadata": {},
     "output_type": "execute_result"
    }
   ],
   "source": [
    "#print a describe table for the weather data frame\n",
    "# the df_zero is the original dict we are using to run the API calls \n",
    "weather_data_df_zero.describe()\n",
    "\n",
    "# you are getting the same count \n"
   ]
  },
  {
   "cell_type": "markdown",
   "metadata": {},
   "source": [
    "## Inspect the data and remove the cities where the humidity > 100%.\n",
    "----\n",
    "Skip this step if there are no cities that have humidity > 100%. "
   ]
  },
  {
   "cell_type": "code",
   "execution_count": 16,
   "metadata": {},
   "outputs": [],
   "source": [
    "# create a filter to filter out cities that have humidity >100%\n",
    "# weather_data_one applies the humidity filter to weather_data_df_zero\n",
    "humidity_filter=weather_data_df_zero.loc[:, \"Humidity\"]<=100 \n",
    "weather_data_df_one=weather_data_df_zero.loc[humidity_filter,:]\n",
    "#.loc[ is saying grab all the rows and the humidity coul]\n",
    "#humidity_filter\n",
    "#weather_data_df_one.describe() #weather data_df_one is cities with less than or equal to 100% humidity\n",
    "weather_data_df_one.describe()\n",
    "\n",
    "#another way to get a filter, different syntax\n",
    "\n",
    "#print_me=weather_data_df_zero.loc[weather_data_df_zero['Humidity']<=100]\n",
    "#print_me #no comma : it assumes you want all the columns\n",
    "\n",
    "weather_data_df_one.to_csv(\"weather_data_one.csv\")"
   ]
  },
  {
   "cell_type": "code",
   "execution_count": 17,
   "metadata": {},
   "outputs": [
    {
     "data": {
      "text/plain": [
       "555"
      ]
     },
     "execution_count": 17,
     "metadata": {},
     "output_type": "execute_result"
    }
   ],
   "source": [
    "len(weather_data_df_one)\n"
   ]
  },
  {
   "cell_type": "code",
   "execution_count": 18,
   "metadata": {},
   "outputs": [
    {
     "data": {
      "text/plain": [
       "Int64Index([], dtype='int64')"
      ]
     },
     "execution_count": 18,
     "metadata": {},
     "output_type": "execute_result"
    }
   ],
   "source": [
    "# Get the indices of cities that have humidity over 100%.\n",
    "humidity_over_filter=weather_data_df_zero.loc[:, 'Humidity']>100\n",
    "weather_over_df=weather_data_df_zero.loc[humidity_over_filter,:]\n",
    "list(weather_over_df.index)\n",
    "weather_over_df.index\n",
    "# there are no indicies over 100\n",
    "# you can do this through itterrows\n"
   ]
  },
  {
   "cell_type": "code",
   "execution_count": 19,
   "metadata": {},
   "outputs": [],
   "source": [
    "# Make a new DataFrame equal to the city data to drop all humidity outliers by index.\n",
    "# Passing \"inplace=False\" will make a copy of the city_data DataFrame, which we call \"clean_city_data\".\n"
   ]
  },
  {
   "cell_type": "markdown",
   "metadata": {},
   "source": [
    "## Plotting the Data\n",
    "* Use proper labeling of the plots using plot titles (including date of analysis) and axes labels.\n",
    "* Save the plotted figures as .pngs."
   ]
  },
  {
   "cell_type": "markdown",
   "metadata": {},
   "source": [
    "## Latitude vs. Temperature Plot"
   ]
  },
  {
   "cell_type": "code",
   "execution_count": 20,
   "metadata": {},
   "outputs": [],
   "source": [
    "#The first requirement is to create a series of scatter plots to showcase the following relationships:\n",
    "\n",
    "# Temperature (F) vs. Latitude\n",
    "# Humidity (%) vs. Latitude\n",
    "# Cloudiness (%) vs. Latitude\n",
    "# Wind Speed (mph) vs. Latitude\n",
    "\n",
    "#After each plot, add a sentence or two explaining what the code is analyzing."
   ]
  },
  {
   "cell_type": "code",
   "execution_count": 21,
   "metadata": {},
   "outputs": [],
   "source": [
    "# These are notes only, no lines of code in this cell\n",
    "\n",
    "# In the spherical system, horizontal lines, or east–west lines, are lines of equal latitude, or parallels. \n",
    "# Vertical lines, or north–south lines, are lines of equal longitude, or meridians. \n",
    "# These lines encompass the globe and form a gridded network called a graticule\n",
    "\n",
    "# It may be helpful to equate longitude values with X and latitude values with Y.\n",
    "# Data defined on a geographic coordinate system is displayed as if a degree is a linear unit of measure.\n",
    "\n",
    "# Latitude and longitude values are traditionally measured either in decimal degrees or in degrees, minutes, and seconds (DMS).\n",
    "\n",
    "# Latitude values are measured relative to the equator and range from -90° at the South Pole to +90° at the North Pole. \n",
    "# Longitude values are measured relative to the prime meridian. They range from -180° when traveling west to 180° when traveling east. \n",
    "# If the prime meridian is at Greenwich, then Australia, which is south of the equator and east of Greenwich, has positive longitude values and negative latitude values."
   ]
  },
  {
   "cell_type": "code",
   "execution_count": 22,
   "metadata": {},
   "outputs": [
    {
     "name": "stdout",
     "output_type": "stream",
     "text": [
      " This sample shows as one moves closer to the equator the temperature increases.\n",
      " This is because of less sunlight the further away one goes from the equator.\n"
     ]
    },
    {
     "data": {
      "image/png": "[encoded data removed]",
      "text/plain": [
       "<Figure size 432x288 with 1 Axes>"
      ]
     },
     "metadata": {
      "needs_background": "light"
     },
     "output_type": "display_data"
    }
   ],
   "source": [
    "# Scatter plot of max temp vs latitude for weather data after filtering out cities with humidity >100\n",
    "x_lat=weather_data_df_one['Latitude']\n",
    "y_maxtemp=weather_data_df_one['Max Temp']\n",
    "\n",
    "plt.scatter(x_lat, y_maxtemp)\n",
    "plt.title(\"Max Temperature vs Latitude\") \n",
    "plt.xlabel('Latitude')\n",
    "plt.ylabel('Max Temperature (K)')\n",
    "plt.grid(True)\n",
    "\n",
    "#print statement\n",
    "plt.savefig('../WeatherPy/Latitude vs Temperature.png')\n",
    "\n",
    "print(f' This sample shows as one moves closer to the equator the temperature increases.') \n",
    "print(f' This is because of less sunlight the further away one goes from the equator.')\n",
    "#      Can you name all the countries on the equator?')"
   ]
  },
  {
   "cell_type": "markdown",
   "metadata": {},
   "source": [
    "## Latitude vs. Humidity Plot"
   ]
  },
  {
   "cell_type": "code",
   "execution_count": 23,
   "metadata": {},
   "outputs": [
    {
     "name": "stdout",
     "output_type": "stream",
     "text": [
      " This sample shows consistent humidity levels around the globe for most cities .\n",
      " There appear to be outliers. We could plot a boxplot to check for outliers.\n",
      " There world could not survive without humidity\n"
     ]
    },
    {
     "data": {
      "image/png": "[encoded data removed]",
      "text/plain": [
       "<Figure size 432x288 with 1 Axes>"
      ]
     },
     "metadata": {
      "needs_background": "light"
     },
     "output_type": "display_data"
    }
   ],
   "source": [
    "x_lat=weather_data_df_one['Latitude']\n",
    "y_humidity=weather_data_df_one['Humidity']\n",
    "\n",
    "plt.scatter(x_lat, y_humidity)\n",
    "#plt.scatter(x_lat, y_maxtemp)\n",
    "plt.title('City Latitude vs Humidity')\n",
    "plt.xlabel('Latitude')\n",
    "plt.ylabel('Humidity (%)')\n",
    "plt.grid(True)\n",
    "\n",
    "#print statement\n",
    "plt.savefig('../WeatherPy/Latitude vs Humidity.png')\n",
    "\n",
    "print(f' This sample shows consistent humidity levels around the globe for most cities .')\n",
    "print(f' There appear to be outliers. We could plot a boxplot to check for outliers.')\n",
    "print(f' There world could not survive without humidity')\n",
    "# \\'  is how you f string a '\n",
    "# what might be perceived as outliers.')"
   ]
  },
  {
   "cell_type": "markdown",
   "metadata": {},
   "source": [
    "## Latitude vs. Cloudiness Plot"
   ]
  },
  {
   "cell_type": "code",
   "execution_count": 24,
   "metadata": {},
   "outputs": [
    {
     "name": "stdout",
     "output_type": "stream",
     "text": [
      " There was no correlation between city latitude and cloudiness in the sample of cities.\n"
     ]
    },
    {
     "data": {
      "image/png": "[encoded data removed]",
      "text/plain": [
       "<Figure size 432x288 with 1 Axes>"
      ]
     },
     "metadata": {
      "needs_background": "light"
     },
     "output_type": "display_data"
    }
   ],
   "source": [
    "# Scatter plot of max temp vs latitude for weather data after filtering out cities with humidity >100\n",
    "x_lat=weather_data_df_one['Latitude']\n",
    "y_cloudiness=weather_data_df_one['Cloudiness']\n",
    "\n",
    "plt.scatter(x_lat, y_cloudiness)\n",
    "plt.title('Cloudiness Percent vs. Latitude') #how to use % and ' in f string???\n",
    "plt.xlabel('Latitude')\n",
    "plt.ylabel('Cloudiness')\n",
    "plt.grid(True)\n",
    "\n",
    "#print statement\n",
    "plt.savefig('../WeatherPy/Latitude vs Cloudiness.png')\n",
    "\n",
    "print(f' There was no correlation between city latitude and cloudiness in the sample of cities.') \n"
   ]
  },
  {
   "cell_type": "markdown",
   "metadata": {},
   "source": [
    "## Latitude vs. Wind Speed Plot"
   ]
  },
  {
   "cell_type": "code",
   "execution_count": 36,
   "metadata": {},
   "outputs": [
    {
     "name": "stdout",
     "output_type": "stream",
     "text": [
      " This doesn't look like there is much correlation.\n",
      " The further you move toward each pole the more windy it appears to be.\n",
      " Latitude values are measured relative to the equator\n",
      " and range from -90° at the South Pole to +90° at the North Pole.\n"
     ]
    },
    {
     "data": {
      "image/png": "[encoded data removed]",
      "text/plain": [
       "<Figure size 432x288 with 1 Axes>"
      ]
     },
     "metadata": {
      "needs_background": "light"
     },
     "output_type": "display_data"
    }
   ],
   "source": [
    "x_lat=weather_data_df_one['Latitude']\n",
    "y_wind_speed=weather_data_df_one['Wind Speed']\n",
    "\n",
    "plt.scatter(x_lat, y_wind_speed)\n",
    "plt.title('City Latitude vs Wind Speed')\n",
    "plt.xlabel('Latitude')\n",
    "plt.ylabel('Wind Speed')\n",
    "plt.grid(True)\n",
    "\n",
    "#print statement\n",
    "plt.savefig('../WeatherPy/Latitude vs Wind Speed.png')\n",
    "\n",
    "print(f' This doesn\\'t look like there is much correlation.') \n",
    "print(f' The further you move toward each pole the more windy it appears to be.')\n",
    "print(f' Latitude values are measured relative to the equator') \n",
    "print(f' and range from -90° at the South Pole to +90° at the North Pole.')\n",
    "\n"
   ]
  },
  {
   "cell_type": "markdown",
   "metadata": {},
   "source": [
    "## Linear Regression"
   ]
  },
  {
   "cell_type": "code",
   "execution_count": 44,
   "metadata": {},
   "outputs": [],
   "source": [
    "# latitude greater than 0 is northern\n",
    "# latitude less than 0 is southern\n",
    "# #print statement\n",
    "# look in the read me file \n",
    "\n",
    "\n",
    "#https://towardsdatascience.com/simple-and-multiple-linear-regression-in-python-c928425168f9\n",
    "# read this and then proceed next time"
   ]
  },
  {
   "cell_type": "code",
   "execution_count": 45,
   "metadata": {},
   "outputs": [
    {
     "data": {
      "text/html": [
       "<div>\n",
       "<style scoped>\n",
       "    .dataframe tbody tr th:only-of-type {\n",
       "        vertical-align: middle;\n",
       "    }\n",
       "\n",
       "    .dataframe tbody tr th {\n",
       "        vertical-align: top;\n",
       "    }\n",
       "\n",
       "    .dataframe thead th {\n",
       "        text-align: right;\n",
       "    }\n",
       "</style>\n",
       "<table border=\"1\" class=\"dataframe\">\n",
       "  <thead>\n",
       "    <tr style=\"text-align: right;\">\n",
       "      <th></th>\n",
       "      <th>Latitude</th>\n",
       "      <th>Longitude</th>\n",
       "      <th>Max Temp</th>\n",
       "      <th>Humidity</th>\n",
       "      <th>Cloudiness</th>\n",
       "      <th>Wind Speed</th>\n",
       "      <th>Date</th>\n",
       "    </tr>\n",
       "  </thead>\n",
       "  <tbody>\n",
       "    <tr>\n",
       "      <th>count</th>\n",
       "      <td>400.000000</td>\n",
       "      <td>400.000000</td>\n",
       "      <td>400.000000</td>\n",
       "      <td>400.000000</td>\n",
       "      <td>400.000000</td>\n",
       "      <td>400.000000</td>\n",
       "      <td>4.000000e+02</td>\n",
       "    </tr>\n",
       "    <tr>\n",
       "      <th>mean</th>\n",
       "      <td>37.790607</td>\n",
       "      <td>13.118231</td>\n",
       "      <td>276.300900</td>\n",
       "      <td>72.692500</td>\n",
       "      <td>51.560000</td>\n",
       "      <td>3.638200</td>\n",
       "      <td>1.612050e+09</td>\n",
       "    </tr>\n",
       "    <tr>\n",
       "      <th>std</th>\n",
       "      <td>20.134806</td>\n",
       "      <td>87.446438</td>\n",
       "      <td>19.093321</td>\n",
       "      <td>19.964202</td>\n",
       "      <td>39.587806</td>\n",
       "      <td>2.700884</td>\n",
       "      <td>1.403738e+02</td>\n",
       "    </tr>\n",
       "    <tr>\n",
       "      <th>min</th>\n",
       "      <td>1.166700</td>\n",
       "      <td>-179.166700</td>\n",
       "      <td>228.020000</td>\n",
       "      <td>8.000000</td>\n",
       "      <td>0.000000</td>\n",
       "      <td>0.230000</td>\n",
       "      <td>1.612050e+09</td>\n",
       "    </tr>\n",
       "    <tr>\n",
       "      <th>25%</th>\n",
       "      <td>20.513225</td>\n",
       "      <td>-68.777775</td>\n",
       "      <td>264.747500</td>\n",
       "      <td>60.000000</td>\n",
       "      <td>3.000000</td>\n",
       "      <td>1.540000</td>\n",
       "      <td>1.612050e+09</td>\n",
       "    </tr>\n",
       "    <tr>\n",
       "      <th>50%</th>\n",
       "      <td>38.197850</td>\n",
       "      <td>21.929800</td>\n",
       "      <td>279.940000</td>\n",
       "      <td>78.000000</td>\n",
       "      <td>56.500000</td>\n",
       "      <td>2.720000</td>\n",
       "      <td>1.612050e+09</td>\n",
       "    </tr>\n",
       "    <tr>\n",
       "      <th>75%</th>\n",
       "      <td>54.118325</td>\n",
       "      <td>83.949250</td>\n",
       "      <td>292.267500</td>\n",
       "      <td>87.000000</td>\n",
       "      <td>90.000000</td>\n",
       "      <td>5.140000</td>\n",
       "      <td>1.612050e+09</td>\n",
       "    </tr>\n",
       "    <tr>\n",
       "      <th>max</th>\n",
       "      <td>78.218600</td>\n",
       "      <td>179.316700</td>\n",
       "      <td>303.440000</td>\n",
       "      <td>100.000000</td>\n",
       "      <td>100.000000</td>\n",
       "      <td>16.460000</td>\n",
       "      <td>1.612050e+09</td>\n",
       "    </tr>\n",
       "  </tbody>\n",
       "</table>\n",
       "</div>"
      ],
      "text/plain": [
       "         Latitude   Longitude    Max Temp    Humidity  Cloudiness  Wind Speed  \\\n",
       "count  400.000000  400.000000  400.000000  400.000000  400.000000  400.000000   \n",
       "mean    37.790607   13.118231  276.300900   72.692500   51.560000    3.638200   \n",
       "std     20.134806   87.446438   19.093321   19.964202   39.587806    2.700884   \n",
       "min      1.166700 -179.166700  228.020000    8.000000    0.000000    0.230000   \n",
       "25%     20.513225  -68.777775  264.747500   60.000000    3.000000    1.540000   \n",
       "50%     38.197850   21.929800  279.940000   78.000000   56.500000    2.720000   \n",
       "75%     54.118325   83.949250  292.267500   87.000000   90.000000    5.140000   \n",
       "max     78.218600  179.316700  303.440000  100.000000  100.000000   16.460000   \n",
       "\n",
       "               Date  \n",
       "count  4.000000e+02  \n",
       "mean   1.612050e+09  \n",
       "std    1.403738e+02  \n",
       "min    1.612050e+09  \n",
       "25%    1.612050e+09  \n",
       "50%    1.612050e+09  \n",
       "75%    1.612050e+09  \n",
       "max    1.612050e+09  "
      ]
     },
     "execution_count": 45,
     "metadata": {},
     "output_type": "execute_result"
    }
   ],
   "source": [
    "northern_hem_filter=weather_data_df_one.loc[:, \"Latitude\"]>=0 #on the equator included\n",
    "northern_hem_df=weather_data_df_one.loc[northern_hem_filter,:]\n",
    "northern_hem_df.describe()\n",
    "# this is your northern_hemisphere_dataframe filter"
   ]
  },
  {
   "cell_type": "code",
   "execution_count": 46,
   "metadata": {},
   "outputs": [
    {
     "data": {
      "text/html": [
       "<div>\n",
       "<style scoped>\n",
       "    .dataframe tbody tr th:only-of-type {\n",
       "        vertical-align: middle;\n",
       "    }\n",
       "\n",
       "    .dataframe tbody tr th {\n",
       "        vertical-align: top;\n",
       "    }\n",
       "\n",
       "    .dataframe thead th {\n",
       "        text-align: right;\n",
       "    }\n",
       "</style>\n",
       "<table border=\"1\" class=\"dataframe\">\n",
       "  <thead>\n",
       "    <tr style=\"text-align: right;\">\n",
       "      <th></th>\n",
       "      <th>Latitude</th>\n",
       "      <th>Longitude</th>\n",
       "      <th>Max Temp</th>\n",
       "      <th>Humidity</th>\n",
       "      <th>Cloudiness</th>\n",
       "      <th>Wind Speed</th>\n",
       "      <th>Date</th>\n",
       "    </tr>\n",
       "  </thead>\n",
       "  <tbody>\n",
       "    <tr>\n",
       "      <th>count</th>\n",
       "      <td>179.000000</td>\n",
       "      <td>179.000000</td>\n",
       "      <td>179.000000</td>\n",
       "      <td>179.000000</td>\n",
       "      <td>179.000000</td>\n",
       "      <td>179.000000</td>\n",
       "      <td>1.790000e+02</td>\n",
       "    </tr>\n",
       "    <tr>\n",
       "      <th>mean</th>\n",
       "      <td>-20.850932</td>\n",
       "      <td>29.331656</td>\n",
       "      <td>296.387430</td>\n",
       "      <td>76.368715</td>\n",
       "      <td>58.871508</td>\n",
       "      <td>3.624302</td>\n",
       "      <td>1.612050e+09</td>\n",
       "    </tr>\n",
       "    <tr>\n",
       "      <th>std</th>\n",
       "      <td>13.233334</td>\n",
       "      <td>94.713014</td>\n",
       "      <td>4.435314</td>\n",
       "      <td>18.036116</td>\n",
       "      <td>38.304373</td>\n",
       "      <td>2.708019</td>\n",
       "      <td>1.523822e+02</td>\n",
       "    </tr>\n",
       "    <tr>\n",
       "      <th>min</th>\n",
       "      <td>-54.800000</td>\n",
       "      <td>-175.200000</td>\n",
       "      <td>283.560000</td>\n",
       "      <td>10.000000</td>\n",
       "      <td>0.000000</td>\n",
       "      <td>0.120000</td>\n",
       "      <td>1.612050e+09</td>\n",
       "    </tr>\n",
       "    <tr>\n",
       "      <th>25%</th>\n",
       "      <td>-32.375000</td>\n",
       "      <td>-54.358300</td>\n",
       "      <td>293.150000</td>\n",
       "      <td>68.000000</td>\n",
       "      <td>20.000000</td>\n",
       "      <td>1.375000</td>\n",
       "      <td>1.612050e+09</td>\n",
       "    </tr>\n",
       "    <tr>\n",
       "      <th>50%</th>\n",
       "      <td>-20.342800</td>\n",
       "      <td>28.698000</td>\n",
       "      <td>297.010000</td>\n",
       "      <td>80.000000</td>\n",
       "      <td>75.000000</td>\n",
       "      <td>2.840000</td>\n",
       "      <td>1.612050e+09</td>\n",
       "    </tr>\n",
       "    <tr>\n",
       "      <th>75%</th>\n",
       "      <td>-8.912200</td>\n",
       "      <td>121.326200</td>\n",
       "      <td>299.455000</td>\n",
       "      <td>89.000000</td>\n",
       "      <td>98.000000</td>\n",
       "      <td>5.530000</td>\n",
       "      <td>1.612050e+09</td>\n",
       "    </tr>\n",
       "    <tr>\n",
       "      <th>max</th>\n",
       "      <td>-0.600000</td>\n",
       "      <td>178.004200</td>\n",
       "      <td>308.150000</td>\n",
       "      <td>100.000000</td>\n",
       "      <td>100.000000</td>\n",
       "      <td>12.860000</td>\n",
       "      <td>1.612050e+09</td>\n",
       "    </tr>\n",
       "  </tbody>\n",
       "</table>\n",
       "</div>"
      ],
      "text/plain": [
       "         Latitude   Longitude    Max Temp    Humidity  Cloudiness  Wind Speed  \\\n",
       "count  179.000000  179.000000  179.000000  179.000000  179.000000  179.000000   \n",
       "mean   -20.850932   29.331656  296.387430   76.368715   58.871508    3.624302   \n",
       "std     13.233334   94.713014    4.435314   18.036116   38.304373    2.708019   \n",
       "min    -54.800000 -175.200000  283.560000   10.000000    0.000000    0.120000   \n",
       "25%    -32.375000  -54.358300  293.150000   68.000000   20.000000    1.375000   \n",
       "50%    -20.342800   28.698000  297.010000   80.000000   75.000000    2.840000   \n",
       "75%     -8.912200  121.326200  299.455000   89.000000   98.000000    5.530000   \n",
       "max     -0.600000  178.004200  308.150000  100.000000  100.000000   12.860000   \n",
       "\n",
       "               Date  \n",
       "count  1.790000e+02  \n",
       "mean   1.612050e+09  \n",
       "std    1.523822e+02  \n",
       "min    1.612050e+09  \n",
       "25%    1.612050e+09  \n",
       "50%    1.612050e+09  \n",
       "75%    1.612050e+09  \n",
       "max    1.612050e+09  "
      ]
     },
     "execution_count": 46,
     "metadata": {},
     "output_type": "execute_result"
    }
   ],
   "source": [
    "southern_hem_filter=weather_data_df_one.loc[:, \"Latitude\"]<0 #on the equator included\n",
    "southern_hem_df=weather_data_df_one.loc[southern_hem_filter,:]\n",
    "southern_hem_df.describe()\n",
    "# this is your southern_hemisphere_dataframe filter"
   ]
  },
  {
   "cell_type": "code",
   "execution_count": 47,
   "metadata": {},
   "outputs": [
    {
     "data": {
      "text/plain": [
       "179"
      ]
     },
     "execution_count": 47,
     "metadata": {},
     "output_type": "execute_result"
    }
   ],
   "source": [
    "len(southern_hem_df)\n",
    "# this plus northern_hem_df should add up to your weather_data_df_one "
   ]
  },
  {
   "cell_type": "code",
   "execution_count": 48,
   "metadata": {},
   "outputs": [
    {
     "data": {
      "text/plain": [
       "400"
      ]
     },
     "execution_count": 48,
     "metadata": {},
     "output_type": "execute_result"
    }
   ],
   "source": [
    "len(northern_hem_df)"
   ]
  },
  {
   "cell_type": "code",
   "execution_count": 49,
   "metadata": {},
   "outputs": [],
   "source": [
    "#(slope, intercept, rvalue, pvalue, stderr) = linregress(x_values, y_values)\n",
    "#regress_values = x_values * slope + intercept\n",
    "\n",
    "# x_lat=weather_data_df_one['Latitude']\n",
    "# y_wind_speed=weather_data_df_one['Wind Speed']\n",
    "\n",
    "# (slope, intercept, rvalue, pvalue, stderr) = linregress(x_lat, y_wind_speed)\n",
    "# regress_values = x_lat * slope + intercept\n",
    "# line_eq = \"y = \" + str(round(slope,2)) + \"x + \" + str(round(intercept,2))\n",
    "# plt.scatter(x_lat,y_wind_speed)\n",
    "# plt.plot(x_lat,regress_values,\"r-\")\n",
    "# plt.annotate(line_eq,(0,5),fontsize=15,color=\"red\")\n",
    "# plt.xlabel('')\n",
    "# plt.ylabel('')\n",
    "# print(f\"The r-squared is: {rvalue**2}\")\n",
    "# plt.show()\n",
    "# print(f' )\n",
    "\n",
    "# #slope, intercept, rvalue, pvalue, stderr = linregress(x, y) #list unpacking \n",
    "# # y=mx+b #every straight line can be represented by this equation\n",
    "# #regression=slope+x+intercept\n",
    "# #regression_label=(f'y={round(slope,2)}x+{round(intercept,2)}')\n",
    "\n",
    "# #liner regression is trying to draw a line as close as possible to the most dots\n"
   ]
  },
  {
   "cell_type": "markdown",
   "metadata": {},
   "source": [
    "####  Northern Hemisphere - Max Temp vs. Latitude Linear Regression"
   ]
  },
  {
   "cell_type": "code",
   "execution_count": 51,
   "metadata": {},
   "outputs": [
    {
     "name": "stdout",
     "output_type": "stream",
     "text": [
      "The r-squared is: 0.7466213412756787\n"
     ]
    },
    {
     "data": {
      "image/png": "[encoded data removed]",
      "text/plain": [
       "<Figure size 432x288 with 1 Axes>"
      ]
     },
     "metadata": {
      "needs_background": "light"
     },
     "output_type": "display_data"
    },
    {
     "name": "stdout",
     "output_type": "stream",
     "text": [
      " This regression appears tight but as you move closer to the north pole\n",
      " the data is less correlated.\n"
     ]
    },
    {
     "data": {
      "text/plain": [
       "<Figure size 432x288 with 0 Axes>"
      ]
     },
     "metadata": {},
     "output_type": "display_data"
    }
   ],
   "source": [
    "x_lat=northern_hem_df['Latitude']\n",
    "y_maxtemp=northern_hem_df['Max Temp']\n",
    "\n",
    "\n",
    "# (slope, intercept, rvalue, pvalue,stderr)= linregress(x_lat, y_maxtemp)\n",
    "# plt.scatter(x_lat, y_maxtemp)\n",
    "# plt.title('City Latitude vs Max Temperature')\n",
    "# plt.xlabel('Latitude')\n",
    "# plt.ylabel('Max Temperature (K)')\n",
    "# plt.grid(True)\n",
    "\n",
    "\n",
    "(slope, intercept, rvalue, pvalue, stderr) = linregress(x_lat, y_maxtemp)\n",
    "regress_values = x_lat * slope + intercept\n",
    "line_eq = \"y = \" + str(round(slope,2)) + \"x + \" + str(round(intercept,2))\n",
    "plt.scatter(x_lat,y_maxtemp)\n",
    "plt.plot(x_lat,regress_values,\"r-\")\n",
    "plt.annotate(line_eq,(10,240),fontsize=15,color=\"red\")\n",
    "plt.title('Northern Hemisphere: City Latitude vs Max Temp ')\n",
    "plt.xlabel('Latitude')\n",
    "plt.ylabel('Max Temp')\n",
    "print(f\"The r-squared is: {rvalue**2}\")\n",
    "#plt.xlim(0,90)\n",
    "#plt.ylim(0,110)\n",
    "\n",
    "plt.grid(True)\n",
    "plt.show()\n",
    "print(f' This regression appears tight but as you move closer to the north pole')\n",
    "print(f' the data is less correlated.')\n",
    "#=300-200\n",
    "# based off this regression, we can expect the max temp \n",
    "plt.savefig('../WeatherPy/Northern_Latitude vs Max Temp.png')\n"
   ]
  },
  {
   "cell_type": "markdown",
   "metadata": {},
   "source": [
    "####  Southern Hemisphere - Max Temp vs. Latitude Linear Regression"
   ]
  },
  {
   "cell_type": "code",
   "execution_count": 52,
   "metadata": {},
   "outputs": [
    {
     "name": "stdout",
     "output_type": "stream",
     "text": [
      "The r-squared is: 0.2893311006019193\n"
     ]
    },
    {
     "data": {
      "image/png": "[encoded data removed]",
      "text/plain": [
       "<Figure size 432x288 with 1 Axes>"
      ]
     },
     "metadata": {
      "needs_background": "light"
     },
     "output_type": "display_data"
    },
    {
     "name": "stdout",
     "output_type": "stream",
     "text": [
      " City latitude appears less correlated than the Northern Hemisphere\n",
      " but this might be because the sample set are not equal. There is\n",
      " a little more than 2 times the samples in Northern vs Southern.\n"
     ]
    },
    {
     "data": {
      "text/plain": [
       "<Figure size 432x288 with 0 Axes>"
      ]
     },
     "metadata": {},
     "output_type": "display_data"
    }
   ],
   "source": [
    "x_lat=southern_hem_df['Latitude']\n",
    "y_maxtemp=southern_hem_df['Max Temp']\n",
    "\n",
    "\n",
    "# (slope, intercept, rvalue, pvalue,stderr)= linregress(x_lat, y_maxtemp)\n",
    "# plt.scatter(x_lat, y_maxtemp)\n",
    "# plt.title('City Latitude vs Max Temperature')\n",
    "# plt.xlabel('Latitude')\n",
    "# plt.ylabel('Max Temperature (K)')\n",
    "# plt.grid(True)\n",
    "\n",
    "\n",
    "(slope, intercept, rvalue, pvalue, stderr) = linregress(x_lat, y_maxtemp)\n",
    "regress_values = x_lat * slope + intercept\n",
    "line_eq = \"y = \" + str(round(slope,2)) + \"x + \" + str(round(intercept,2))\n",
    "plt.scatter(x_lat,y_maxtemp)\n",
    "plt.plot(x_lat,regress_values,\"r-\")\n",
    "plt.annotate(line_eq,(-70,288),fontsize=15,color=\"red\")\n",
    "plt.title('Southern Hemisphere: City Latitude vs Max Temp ')\n",
    "plt.xlabel('Latitude')\n",
    "plt.ylabel('Max Temp')\n",
    "print(f\"The r-squared is: {rvalue**2}\")\n",
    "#plt.xlim(0,90)\n",
    "#plt.ylim(0,110)\n",
    "\n",
    "plt.grid(True)\n",
    "plt.show()\n",
    "\n",
    "print(f' City latitude appears less correlated than the Northern Hemisphere')\n",
    "print(f' but this might be because the sample set are not equal. There is')\n",
    "print(f' a little more than 2 times the samples in Northern vs Southern.')\n",
    "#plt.savefig()\n",
    "#find the line where you have the smallest distance between the point of the data set\n",
    "plt.savefig('../WeatherPy/Southern_Latitude vs Max Temp.png')"
   ]
  },
  {
   "cell_type": "markdown",
   "metadata": {},
   "source": [
    "####  Northern Hemisphere - Humidity (%) vs. Latitude Linear Regression"
   ]
  },
  {
   "cell_type": "code",
   "execution_count": 53,
   "metadata": {},
   "outputs": [
    {
     "name": "stdout",
     "output_type": "stream",
     "text": [
      "The r-squared is: 0.10445315980682346\n",
      " City latitude vs humidity shows there isn't a tight relationship\n"
     ]
    },
    {
     "data": {
      "image/png": "[encoded data removed]",
      "text/plain": [
       "<Figure size 432x288 with 1 Axes>"
      ]
     },
     "metadata": {
      "needs_background": "light"
     },
     "output_type": "display_data"
    },
    {
     "data": {
      "text/plain": [
       "<Figure size 432x288 with 0 Axes>"
      ]
     },
     "metadata": {},
     "output_type": "display_data"
    }
   ],
   "source": [
    "x_lat=northern_hem_df['Latitude']\n",
    "y_humidity=northern_hem_df['Humidity']\n",
    "\n",
    "\n",
    "# (slope, intercept, rvalue, pvalue,stderr)= linregress(x_lat, y_maxtemp)\n",
    "# plt.scatter(x_lat, y_maxtemp)\n",
    "# plt.title('City Latitude vs Max Temperature')\n",
    "# plt.xlabel('Latitude')\n",
    "# plt.ylabel('Max Temperature (K)')\n",
    "# plt.grid(True)\n",
    "\n",
    "\n",
    "(slope, intercept, rvalue, pvalue, stderr) = linregress(x_lat, y_humidity)\n",
    "regress_values = x_lat * slope + intercept\n",
    "line_eq = \"y = \" + str(round(slope,2)) + \"x + \" + str(round(intercept,2))\n",
    "plt.scatter(x_lat,y_humidity)\n",
    "plt.plot(x_lat,regress_values,\"r-\")\n",
    "plt.annotate(line_eq,(20,20),fontsize=15,color=\"red\")\n",
    "plt.title('Northern Hemisphere: City Latitude vs Humidity ')\n",
    "plt.xlabel('Latitude')\n",
    "plt.ylabel('Humidity')\n",
    "print(f\"The r-squared is: {rvalue**2}\")\n",
    "#plot.xlim(min, max)\n",
    "plt.xlim(0,90)\n",
    "plt.ylim(0,110)\n",
    "plt.grid(True)\n",
    "\n",
    "print(f' City latitude vs humidity shows there isn\\'t a tight relationship')\n",
    "plt.show()\n",
    "\n",
    "plt.savefig('../WeatherPy/Northern_Latitude vs Humidity.png')"
   ]
  },
  {
   "cell_type": "code",
   "execution_count": null,
   "metadata": {},
   "outputs": [],
   "source": []
  },
  {
   "cell_type": "markdown",
   "metadata": {},
   "source": [
    "####  Southern Hemisphere - Humidity (%) vs. Latitude Linear Regression"
   ]
  },
  {
   "cell_type": "code",
   "execution_count": 54,
   "metadata": {},
   "outputs": [
    {
     "name": "stdout",
     "output_type": "stream",
     "text": [
      " City latitude vs humidity in Southern Hempispher shows\n",
      " there isn't a strong correlation between the two.\n"
     ]
    },
    {
     "data": {
      "image/png": "[encoded data removed]",
      "text/plain": [
       "<Figure size 432x288 with 1 Axes>"
      ]
     },
     "metadata": {
      "needs_background": "light"
     },
     "output_type": "display_data"
    },
    {
     "name": "stdout",
     "output_type": "stream",
     "text": [
      "The r-squared is: 0.18029519276037584\n"
     ]
    }
   ],
   "source": [
    "x_lat=southern_hem_df['Latitude']\n",
    "y_humidity=southern_hem_df['Humidity']\n",
    "\n",
    "\n",
    "# (slope, intercept, rvalue, pvalue,stderr)= linregress(x_lat, y_maxtemp)\n",
    "# plt.scatter(x_lat, y_maxtemp)\n",
    "# plt.title('City Latitude vs Max Temperature')\n",
    "# plt.xlabel('Latitude')\n",
    "# plt.ylabel('Max Temperature (K)')\n",
    "# plt.grid(True)\n",
    "\n",
    "\n",
    "(slope, intercept, rvalue, pvalue, stderr) = linregress(x_lat, y_humidity)\n",
    "regress_values = x_lat * slope + intercept\n",
    "line_eq = \"y = \" + str(round(slope,2)) + \"x + \" + str(round(intercept,2))\n",
    "plt.scatter(x_lat,y_humidity)\n",
    "plt.plot(x_lat,regress_values,\"r-\")\n",
    "plt.annotate(line_eq,(-65,30),fontsize=15,color=\"red\")\n",
    "plt.title('Southern Hemisphere: City Latitude vs Humidity')\n",
    "plt.xlabel('Latitude')\n",
    "plt.ylabel('Humidity')\n",
    "\n",
    "#plot.xlim(min, max)\n",
    "plt.xlim(-70,10)\n",
    "plt.ylim(10,110)\n",
    "plt.grid(True)\n",
    "print(f' City latitude vs humidity in Southern Hempispher shows')\n",
    "print(f' there isn\\'t a strong correlation between the two.')\n",
    "plt.show()\n",
    "\n",
    "print(f\"The r-squared is: {rvalue**2}\")\n"
   ]
  },
  {
   "cell_type": "markdown",
   "metadata": {},
   "source": [
    "####  Northern Hemisphere - Cloudiness (%) vs. Latitude Linear Regression"
   ]
  },
  {
   "cell_type": "code",
   "execution_count": 55,
   "metadata": {},
   "outputs": [
    {
     "name": "stdout",
     "output_type": "stream",
     "text": [
      "The r-squared is: 0.07644413800294053\n",
      " There is not strong correlation between city latitude and cloudiness.\n",
      " I do not know why this plot would not show bigger.\n"
     ]
    },
    {
     "data": {
      "image/png": "[encoded data removed]",
      "text/plain": [
       "<Figure size 432x288 with 1 Axes>"
      ]
     },
     "metadata": {
      "needs_background": "light"
     },
     "output_type": "display_data"
    }
   ],
   "source": [
    "x_lat=northern_hem_df['Latitude']\n",
    "y_cloudiness=northern_hem_df['Cloudiness']\n",
    "\n",
    "\n",
    "# (slope, intercept, rvalue, pvalue,stderr)= linregress(x_lat, y_maxtemp)\n",
    "# plt.scatter(x_lat, y_maxtemp)\n",
    "# plt.title('City Latitude vs Max Temperature')\n",
    "# plt.xlabel('Latitude')\n",
    "# plt.ylabel('Max Temperature (K)')\n",
    "# plt.grid(True)\n",
    "\n",
    "\n",
    "(slope, intercept, rvalue, pvalue, stderr) = linregress(x_lat, y_cloudiness)\n",
    "regress_values = x_lat * slope + intercept\n",
    "line_eq = \"y = \" + str(round(slope,2)) + \"x + \" + str(round(intercept,2))\n",
    "plt.scatter(x_lat,y_cloudiness)\n",
    "plt.plot(x_lat,regress_values,\"r-\")\n",
    "plt.annotate(line_eq,(10,240),fontsize=15,color=\"red\")\n",
    "plt.title('Northern Hemisphere: City Latitude vs Cloudiness (%) ')\n",
    "plt.xlabel('Latitude')\n",
    "plt.ylabel('Cloudiness')\n",
    "print(f\"The r-squared is: {rvalue**2}\")\n",
    "\n",
    "plt.grid(True)\n",
    "print( f' There is not strong correlation between city latitude and cloudiness.')\n",
    "print(f' I do not know why this plot would not show bigger.')\n",
    "plt.show()"
   ]
  },
  {
   "cell_type": "code",
   "execution_count": null,
   "metadata": {},
   "outputs": [],
   "source": []
  },
  {
   "cell_type": "markdown",
   "metadata": {},
   "source": [
    "####  Southern Hemisphere - Cloudiness (%) vs. Latitude Linear Regression"
   ]
  },
  {
   "cell_type": "code",
   "execution_count": 56,
   "metadata": {},
   "outputs": [
    {
     "name": "stdout",
     "output_type": "stream",
     "text": [
      "The r-squared is: 0.18029519276037584\n",
      " There appears to be more correlation in the Southern Hempisphere\n",
      " for city latitude compared to cloudiness.\n"
     ]
    },
    {
     "data": {
      "image/png": "[encoded data removed]",
      "text/plain": [
       "<Figure size 432x288 with 1 Axes>"
      ]
     },
     "metadata": {
      "needs_background": "light"
     },
     "output_type": "display_data"
    }
   ],
   "source": [
    "x_lat=southern_hem_df['Latitude']\n",
    "y_cloudiness=southern_hem_df['Humidity']\n",
    "\n",
    "\n",
    "# (slope, intercept, rvalue, pvalue,stderr)= linregress(x_lat, y_maxtemp)\n",
    "# plt.scatter(x_lat, y_maxtemp)\n",
    "# plt.title('City Latitude vs Max Temperature')\n",
    "# plt.xlabel('Latitude')\n",
    "# plt.ylabel('Max Temperature (K)')\n",
    "# plt.grid(True)\n",
    "\n",
    "\n",
    "(slope, intercept, rvalue, pvalue, stderr) = linregress(x_lat, y_cloudiness)\n",
    "regress_values = x_lat * slope + intercept\n",
    "line_eq = \"y = \" + str(round(slope,2)) + \"x + \" + str(round(intercept,2))\n",
    "plt.scatter(x_lat,y_cloudiness)\n",
    "plt.plot(x_lat,regress_values,\"r-\")\n",
    "plt.annotate(line_eq,(-75,50),fontsize=15,color=\"red\")\n",
    "plt.title('Southern Hemisphere: City Latitude vs Cloudiness')\n",
    "plt.xlabel('Latitude')\n",
    "plt.ylabel('Cloudiness')\n",
    "print(f\"The r-squared is: {rvalue**2}\")\n",
    "#plot.xlim(min, max)\n",
    "plt.xlim(-70,10)\n",
    "plt.ylim(10,120)\n",
    "plt.grid(True)\n",
    "print(f' There appears to be more correlation in the Southern Hempisphere')\n",
    "print(f' for city latitude compared to cloudiness.')\n",
    "plt.show()\n"
   ]
  },
  {
   "cell_type": "markdown",
   "metadata": {},
   "source": [
    "####  Northern Hemisphere - Wind Speed (mph) vs. Latitude Linear Regression"
   ]
  },
  {
   "cell_type": "code",
   "execution_count": 57,
   "metadata": {},
   "outputs": [
    {
     "name": "stdout",
     "output_type": "stream",
     "text": [
      "The r-squared is: 0.0009570132607095526\n",
      " there doesn't appear to be strong correlation between city latitude vs wind speed.\n"
     ]
    },
    {
     "data": {
      "image/png": "[encoded data removed]",
      "text/plain": [
       "<Figure size 432x288 with 1 Axes>"
      ]
     },
     "metadata": {
      "needs_background": "light"
     },
     "output_type": "display_data"
    }
   ],
   "source": [
    "x_lat=northern_hem_df['Latitude']\n",
    "y_wind_speed=northern_hem_df['Wind Speed']\n",
    "\n",
    "\n",
    "# (slope, intercept, rvalue, pvalue,stderr)= linregress(x_lat, y_maxtemp)\n",
    "# plt.scatter(x_lat, y_maxtemp)\n",
    "# plt.title('City Latitude vs Max Temperature')\n",
    "# plt.xlabel('Latitude')\n",
    "# plt.ylabel('Max Temperature (K)')\n",
    "# plt.grid(True)\n",
    "\n",
    "\n",
    "(slope, intercept, rvalue, pvalue, stderr) = linregress(x_lat, y_wind_speed)\n",
    "regress_values = x_lat * slope + intercept\n",
    "line_eq = \"y = \" + str(round(slope,2)) + \"x + \" + str(round(intercept,2))\n",
    "plt.scatter(x_lat,y_wind_speed)\n",
    "plt.plot(x_lat,regress_values,\"r-\")\n",
    "plt.annotate(line_eq,(0,10),fontsize=15,color=\"red\")\n",
    "plt.title('Northern Hemisphere: City Latitude vs Wind Speed (mph) ')\n",
    "plt.xlabel('Latitude')\n",
    "plt.ylabel('Wind Speed')\n",
    "print(f\"The r-squared is: {rvalue**2}\")\n",
    "plt.grid(True)\n",
    "\n",
    "print(f' there doesn\\'t appear to be strong correlation between city latitude vs wind speed.')\n",
    "plt.show()"
   ]
  },
  {
   "cell_type": "markdown",
   "metadata": {},
   "source": [
    "####  Southern Hemisphere - Wind Speed (mph) vs. Latitude Linear Regression"
   ]
  },
  {
   "cell_type": "code",
   "execution_count": 58,
   "metadata": {},
   "outputs": [
    {
     "name": "stdout",
     "output_type": "stream",
     "text": [
      "The r-squared is: 0.04368842247720583\n",
      " there doesn't appear to be strong correlation between city latitude vs wind speed.\n"
     ]
    },
    {
     "data": {
      "image/png": "[encoded data removed]",
      "text/plain": [
       "<Figure size 432x288 with 1 Axes>"
      ]
     },
     "metadata": {
      "needs_background": "light"
     },
     "output_type": "display_data"
    }
   ],
   "source": [
    "x_lat=southern_hem_df['Latitude']\n",
    "y_wind_speed=southern_hem_df['Wind Speed']\n",
    "\n",
    "\n",
    "# (slope, intercept, rvalue, pvalue,stderr)= linregress(x_lat, y_maxtemp)\n",
    "# plt.scatter(x_lat, y_maxtemp)\n",
    "# plt.title('City Latitude vs Max Temperature')\n",
    "# plt.xlabel('Latitude')\n",
    "# plt.ylabel('Max Temperature (K)')\n",
    "# plt.grid(True)\n",
    "\n",
    "\n",
    "(slope, intercept, rvalue, pvalue, stderr) = linregress(x_lat, y_wind_speed)\n",
    "regress_values = x_lat * slope + intercept\n",
    "line_eq = \"y = \" + str(round(slope,2)) + \"x + \" + str(round(intercept,2))\n",
    "plt.scatter(x_lat,y_wind_speed)\n",
    "plt.plot(x_lat,regress_values,\"r-\")\n",
    "plt.annotate(line_eq,(-65,10),fontsize=15,color=\"red\")\n",
    "plt.title('Southern Hemisphere: City Latitude vs Wind Speed (mph)')\n",
    "plt.xlabel('Latitude')\n",
    "plt.ylabel('Wind Speed (mph)')\n",
    "print(f\"The r-squared is: {rvalue**2}\")\n",
    "#plot.xlim(min, max)\n",
    "#plt.xlim(-70,10)\n",
    "#plt.ylim(10,110)\n",
    "plt.grid(True)\n",
    "print(f' there doesn\\'t appear to be strong correlation between city latitude vs wind speed.')\n",
    "plt.show()"
   ]
  },
  {
   "cell_type": "code",
   "execution_count": null,
   "metadata": {},
   "outputs": [],
   "source": []
  },
  {
   "cell_type": "code",
   "execution_count": null,
   "metadata": {},
   "outputs": [],
   "source": []
  }
 ],
 "metadata": {
  "anaconda-cloud": {},
  "kernel_info": {
   "name": "python3"
  },
  "kernelspec": {
   "display_name": "Python 3",
   "language": "python",
   "name": "python3"
  },
  "language_info": {
   "codemirror_mode": {
    "name": "ipython",
    "version": 3
   },
   "file_extension": ".py",
   "mimetype": "text/x-python",
   "name": "python",
   "nbconvert_exporter": "python",
   "pygments_lexer": "ipython3",
   "version": "3.8.3"
  },
  "latex_envs": {
   "LaTeX_envs_menu_present": true,
   "autoclose": false,
   "autocomplete": true,
   "bibliofile": "biblio.bib",
   "cite_by": "apalike",
   "current_citInitial": 1,
   "eqLabelWithNumbers": true,
   "eqNumInitial": 1,
   "hotkeys": {
    "equation": "Ctrl-E",
    "itemize": "Ctrl-I"
   },
   "labels_anchors": false,
   "latex_user_defs": false,
   "report_style_numbering": false,
   "user_envs_cfg": false
  },
  "nteract": {
   "version": "0.12.3"
  }
 },
 "nbformat": 4,
 "nbformat_minor": 2
}
