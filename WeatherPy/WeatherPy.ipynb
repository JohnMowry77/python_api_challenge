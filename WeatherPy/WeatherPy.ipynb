{
 "cells": [
  {
   "cell_type": "markdown",
   "metadata": {},
   "source": [
    "# WeatherPy\n",
    "----\n",
    "\n",
    "#### Note\n",
    "* Instructions have been included for each segment. You do not have to follow them exactly, but they are included to help you think through the steps."
   ]
  },
  {
   "cell_type": "code",
   "execution_count": 5,
   "metadata": {
    "scrolled": true
   },
   "outputs": [],
   "source": [
    "# Dependencies and Setup\n",
    "import matplotlib.pyplot as plt\n",
    "import pandas as pd\n",
    "import numpy as np\n",
    "import requests\n",
    "import time\n",
    "from scipy.stats import linregress\n",
    "from pprint import pprint\n",
    "\n",
    "# Import API key\n",
    "from api_keys import weather_api_key\n",
    "\n",
    "# Incorporated citipy to determine city based on latitude and longitude\n",
    "from citipy import citipy\n",
    "\n",
    "# Output File (CSV)\n",
    "output_data_file = \"output_data/cities.csv\"\n",
    "\n",
    "# Range of latitudes and longitudes\n",
    "lat_range = (-90, 90)\n",
    "lng_range = (-180, 180)\n",
    "\n",
    "#daily 7 day forecast API\n"
   ]
  },
  {
   "cell_type": "code",
   "execution_count": 6,
   "metadata": {},
   "outputs": [],
   "source": [
    "#weather_api_key\n"
   ]
  },
  {
   "cell_type": "markdown",
   "metadata": {},
   "source": [
    "## Generate Cities List"
   ]
  },
  {
   "cell_type": "code",
   "execution_count": 7,
   "metadata": {},
   "outputs": [
    {
     "data": {
      "text/plain": [
       "625"
      ]
     },
     "execution_count": 7,
     "metadata": {},
     "output_type": "execute_result"
    }
   ],
   "source": [
    "# List for holding lat_lngs and cities\n",
    "lat_lngs = []\n",
    "cities_list = []\n",
    "\n",
    "# Create a set of random lat and lng combinations\n",
    "lats = np.random.uniform(lat_range[0], lat_range[1], size=1500)\n",
    "lngs = np.random.uniform(lng_range[0], lng_range[1], size=1500)\n",
    "lat_lngs = zip(lats, lngs)\n",
    "\n",
    "# Identify nearest city for each lat, lng combination\n",
    "for lat_lng in lat_lngs:\n",
    "    city = citipy.nearest_city(lat_lng[0], lat_lng[1]).city_name\n",
    "    \n",
    "    # If the city is unique, then add it to a our cities list\n",
    "    if city not in cities_list:\n",
    "        cities_list.append(city)\n",
    "\n",
    "# Print the city count to confirm sufficient count\n",
    "len(cities_list)"
   ]
  },
  {
   "cell_type": "code",
   "execution_count": 8,
   "metadata": {},
   "outputs": [],
   "source": [
    "#print(city)"
   ]
  },
  {
   "cell_type": "code",
   "execution_count": 9,
   "metadata": {},
   "outputs": [],
   "source": [
    "#print(cities_list) #print a list of the cities_list"
   ]
  },
  {
   "cell_type": "code",
   "execution_count": 10,
   "metadata": {},
   "outputs": [],
   "source": [
    "# this is your api url link, we fill it in below. \n",
    "#api.openweathermap.org/data/2.5/weather?q={city name}&appid={API key}"
   ]
  },
  {
   "cell_type": "code",
   "execution_count": 11,
   "metadata": {},
   "outputs": [
    {
     "name": "stdout",
     "output_type": "stream",
     "text": [
      "http://api.openweathermap.org/data/2.5/weather?appid=bc6b9a82441f1910d9054de33f421ceb&q=tiksi\n"
     ]
    }
   ],
   "source": [
    "base_url= \"http://api.openweathermap.org/data/2.5/weather?\"\n",
    "#city_one= \"Denver\"\n",
    "\n",
    "query_url= base_url+ \"appid=\"+weather_api_key+ \"&q=\" + city\n",
    "print(query_url) #click on this url and put into Google.\n"
   ]
  },
  {
   "cell_type": "code",
   "execution_count": 12,
   "metadata": {},
   "outputs": [
    {
     "name": "stdout",
     "output_type": "stream",
     "text": [
      "{'base': 'stations',\n",
      " 'clouds': {'all': 100},\n",
      " 'cod': 200,\n",
      " 'coord': {'lat': 71.6872, 'lon': 128.8694},\n",
      " 'dt': 1612050201,\n",
      " 'id': 2015306,\n",
      " 'main': {'feels_like': 234.68,\n",
      "          'grnd_level': 1035,\n",
      "          'humidity': 86,\n",
      "          'pressure': 1041,\n",
      "          'sea_level': 1041,\n",
      "          'temp': 240.14,\n",
      "          'temp_max': 240.14,\n",
      "          'temp_min': 240.14},\n",
      " 'name': 'Tiksi',\n",
      " 'sys': {'country': 'RU', 'sunrise': 1612058064, 'sunset': 1612070479},\n",
      " 'timezone': 32400,\n",
      " 'visibility': 4432,\n",
      " 'weather': [{'description': 'overcast clouds',\n",
      "              'icon': '04n',\n",
      "              'id': 804,\n",
      "              'main': 'Clouds'}],\n",
      " 'wind': {'deg': 68, 'speed': 2.24}}\n"
     ]
    }
   ],
   "source": [
    "#query_url='api.openweathermap.org/data/2.5/weather?q={city}&appid={weather_api_key}'\n",
    "#query_url\n",
    "\n",
    "weather_response=requests.get(query_url)\n",
    "weather_json=weather_response.json()\n",
    "#pprint(f'The weather API responded with: {weather_json}.')\n",
    "\n",
    "pprint(weather_json)"
   ]
  },
  {
   "cell_type": "code",
   "execution_count": null,
   "metadata": {},
   "outputs": [],
   "source": []
  },
  {
   "cell_type": "code",
   "execution_count": null,
   "metadata": {},
   "outputs": [],
   "source": []
  },
  {
   "cell_type": "markdown",
   "metadata": {},
   "source": [
    "### Perform API Calls\n",
    "* Perform a weather check on each city using a series of successive API calls.\n",
    "* Include a print log of each city as it'sbeing processed (with the city number and city name).\n"
   ]
  },
  {
   "cell_type": "code",
   "execution_count": 13,
   "metadata": {
    "scrolled": true
   },
   "outputs": [
    {
     "name": "stdout",
     "output_type": "stream",
     "text": [
      "City not found. Skipping...\n",
      " Processing record number 2 for Set 1 the city of pecos\n",
      "City not found. Skipping...\n",
      " Processing record number 4 for Set 1 the city of port elizabeth\n",
      " Processing record number 5 for Set 1 the city of faanui\n",
      " Processing record number 6 for Set 1 the city of kapaa\n",
      " Processing record number 7 for Set 1 the city of rikitea\n",
      " Processing record number 8 for Set 1 the city of ilheus\n",
      " Processing record number 9 for Set 1 the city of jamestown\n",
      " Processing record number 10 for Set 1 the city of east london\n",
      " Processing record number 11 for Set 1 the city of bredasdorp\n",
      " Processing record number 12 for Set 1 the city of ushuaia\n",
      " Processing record number 13 for Set 1 the city of hermanus\n",
      " Processing record number 14 for Set 1 the city of punta arenas\n",
      " Processing record number 15 for Set 1 the city of bluff\n",
      " Processing record number 16 for Set 1 the city of albany\n",
      " Processing record number 17 for Set 1 the city of mataura\n",
      " Processing record number 18 for Set 1 the city of yanam\n",
      " Processing record number 19 for Set 1 the city of haines junction\n",
      " Processing record number 20 for Set 1 the city of olafsvik\n",
      " Processing record number 21 for Set 1 the city of tuatapere\n",
      " Processing record number 22 for Set 1 the city of vaini\n",
      " Processing record number 23 for Set 1 the city of seoul\n",
      " Processing record number 24 for Set 1 the city of husavik\n",
      " Processing record number 25 for Set 1 the city of lorengau\n",
      " Processing record number 26 for Set 1 the city of bafoulabe\n",
      " Processing record number 27 for Set 1 the city of te anau\n",
      " Processing record number 28 for Set 1 the city of narsaq\n",
      " Processing record number 29 for Set 1 the city of new norfolk\n",
      "City not found. Skipping...\n",
      " Processing record number 31 for Set 1 the city of atuona\n",
      " Processing record number 32 for Set 1 the city of tuktoyaktuk\n",
      " Processing record number 33 for Set 1 the city of meulaboh\n",
      "City not found. Skipping...\n",
      " Processing record number 35 for Set 1 the city of puerto escondido\n",
      " Processing record number 36 for Set 1 the city of hithadhoo\n",
      " Processing record number 37 for Set 1 the city of luderitz\n",
      " Processing record number 38 for Set 1 the city of maceio\n",
      "City not found. Skipping...\n",
      " Processing record number 40 for Set 1 the city of anshun\n",
      " Processing record number 41 for Set 1 the city of akdepe\n",
      " Processing record number 42 for Set 1 the city of ribeira grande\n",
      " Processing record number 43 for Set 1 the city of tagusao\n",
      " Processing record number 44 for Set 1 the city of igurubi\n",
      " Processing record number 45 for Set 1 the city of castro\n",
      " Processing record number 46 for Set 1 the city of puerto gaitan\n",
      " Processing record number 47 for Set 1 the city of severo-kurilsk\n",
      " Processing record number 48 for Set 1 the city of hobart\n",
      " Processing record number 49 for Set 1 the city of skibbereen\n",
      " Processing record number 50 for Set 1 the city of mizan teferi\n",
      " Processing record number 1 for Set 2 the city of wukari\n",
      " Processing record number 2 for Set 2 the city of khatanga\n",
      " Processing record number 3 for Set 2 the city of khor\n",
      " Processing record number 4 for Set 2 the city of isangel\n",
      "City not found. Skipping...\n",
      " Processing record number 6 for Set 2 the city of lebu\n",
      " Processing record number 7 for Set 2 the city of chokurdakh\n",
      " Processing record number 8 for Set 2 the city of komsomolets\n",
      " Processing record number 9 for Set 2 the city of vao\n",
      " Processing record number 10 for Set 2 the city of hovd\n",
      " Processing record number 11 for Set 2 the city of butaritari\n",
      " Processing record number 12 for Set 2 the city of busselton\n",
      " Processing record number 13 for Set 2 the city of guerrero negro\n",
      " Processing record number 14 for Set 2 the city of salalah\n",
      " Processing record number 15 for Set 2 the city of westport\n",
      " Processing record number 16 for Set 2 the city of arraial do cabo\n",
      "City not found. Skipping...\n",
      " Processing record number 18 for Set 2 the city of muros\n",
      " Processing record number 19 for Set 2 the city of siquirres\n",
      " Processing record number 20 for Set 2 the city of angoche\n",
      " Processing record number 21 for Set 2 the city of frumosu\n",
      "City not found. Skipping...\n",
      " Processing record number 23 for Set 2 the city of campoverde\n",
      " Processing record number 24 for Set 2 the city of aswan\n",
      " Processing record number 25 for Set 2 the city of karpathos\n",
      " Processing record number 26 for Set 2 the city of san ignacio\n",
      " Processing record number 27 for Set 2 the city of avarua\n",
      " Processing record number 28 for Set 2 the city of upernavik\n",
      " Processing record number 29 for Set 2 the city of makaha\n",
      " Processing record number 30 for Set 2 the city of mar del plata\n",
      " Processing record number 31 for Set 2 the city of iskateley\n",
      " Processing record number 32 for Set 2 the city of sangmelima\n",
      "City not found. Skipping...\n",
      " Processing record number 34 for Set 2 the city of longyearbyen\n",
      " Processing record number 35 for Set 2 the city of sao joao da barra\n",
      " Processing record number 36 for Set 2 the city of labuan\n",
      "City not found. Skipping...\n",
      " Processing record number 38 for Set 2 the city of bethel\n",
      " Processing record number 39 for Set 2 the city of mansa\n",
      " Processing record number 40 for Set 2 the city of chadiza\n",
      " Processing record number 41 for Set 2 the city of high rock\n",
      "City not found. Skipping...\n",
      " Processing record number 43 for Set 2 the city of krasnaya zarya\n",
      " Processing record number 44 for Set 2 the city of merauke\n",
      " Processing record number 45 for Set 2 the city of yellowknife\n",
      "City not found. Skipping...\n",
      " Processing record number 47 for Set 2 the city of honiara\n",
      "City not found. Skipping...\n",
      " Processing record number 49 for Set 2 the city of namatanai\n",
      " Processing record number 50 for Set 2 the city of bilibino\n",
      " Processing record number 1 for Set 3 the city of katsuura\n",
      " Processing record number 2 for Set 3 the city of loandjili\n",
      " Processing record number 3 for Set 3 the city of ponta do sol\n",
      " Processing record number 4 for Set 3 the city of bengkulu\n",
      " Processing record number 5 for Set 3 the city of hilo\n",
      " Processing record number 6 for Set 3 the city of cape town\n",
      " Processing record number 7 for Set 3 the city of puerto ayora\n",
      " Processing record number 8 for Set 3 the city of montepuez\n",
      "City not found. Skipping...\n",
      "City not found. Skipping...\n",
      " Processing record number 11 for Set 3 the city of kavieng\n",
      " Processing record number 12 for Set 3 the city of alta floresta\n",
      " Processing record number 13 for Set 3 the city of touros\n",
      " Processing record number 14 for Set 3 the city of katherine\n",
      " Processing record number 15 for Set 3 the city of nikolskoye\n",
      " Processing record number 16 for Set 3 the city of barrow\n",
      " Processing record number 17 for Set 3 the city of sohag\n",
      " Processing record number 18 for Set 3 the city of kalmunai\n",
      " Processing record number 19 for Set 3 the city of tasiilaq\n",
      " Processing record number 20 for Set 3 the city of rangapara\n",
      " Processing record number 21 for Set 3 the city of beloha\n",
      " Processing record number 22 for Set 3 the city of himensulan\n",
      " Processing record number 23 for Set 3 the city of atikokan\n",
      " Processing record number 24 for Set 3 the city of paungde\n",
      " Processing record number 25 for Set 3 the city of oum hadjer\n",
      " Processing record number 26 for Set 3 the city of superior\n",
      " Processing record number 27 for Set 3 the city of caucaia\n",
      " Processing record number 28 for Set 3 the city of vaitape\n",
      " Processing record number 29 for Set 3 the city of airai\n",
      " Processing record number 30 for Set 3 the city of cap malheureux\n",
      " Processing record number 31 for Set 3 the city of huarmey\n",
      " Processing record number 32 for Set 3 the city of miquelon\n",
      "City not found. Skipping...\n",
      " Processing record number 34 for Set 3 the city of provideniya\n",
      " Processing record number 35 for Set 3 the city of nanortalik\n",
      " Processing record number 36 for Set 3 the city of saint-philippe\n",
      "City not found. Skipping...\n",
      " Processing record number 38 for Set 3 the city of vanimo\n",
      " Processing record number 39 for Set 3 the city of oskemen\n",
      " Processing record number 40 for Set 3 the city of fort nelson\n",
      " Processing record number 41 for Set 3 the city of alofi\n",
      " Processing record number 42 for Set 3 the city of galesong\n",
      " Processing record number 43 for Set 3 the city of rypefjord\n",
      " Processing record number 44 for Set 3 the city of nemuro\n",
      " Processing record number 45 for Set 3 the city of la asuncion\n",
      " Processing record number 46 for Set 3 the city of padang\n"
     ]
    },
    {
     "name": "stdout",
     "output_type": "stream",
     "text": [
      "City not found. Skipping...\n",
      " Processing record number 48 for Set 3 the city of hofn\n",
      " Processing record number 49 for Set 3 the city of piacabucu\n",
      " Processing record number 50 for Set 3 the city of caravelas\n",
      " Processing record number 1 for Set 4 the city of mayo\n",
      " Processing record number 2 for Set 4 the city of mournies\n",
      " Processing record number 3 for Set 4 the city of shu\n",
      " Processing record number 4 for Set 4 the city of asau\n",
      "City not found. Skipping...\n",
      " Processing record number 6 for Set 4 the city of ostrovnoy\n",
      " Processing record number 7 for Set 4 the city of verkhnetulomskiy\n",
      "City not found. Skipping...\n",
      " Processing record number 9 for Set 4 the city of egvekinot\n",
      "City not found. Skipping...\n",
      " Processing record number 11 for Set 4 the city of hoshcha\n",
      "City not found. Skipping...\n",
      " Processing record number 13 for Set 4 the city of mokhsogollokh\n",
      " Processing record number 14 for Set 4 the city of geraldton\n",
      " Processing record number 15 for Set 4 the city of tautira\n",
      " Processing record number 16 for Set 4 the city of kalashnikovo\n",
      " Processing record number 17 for Set 4 the city of sao felix do xingu\n",
      " Processing record number 18 for Set 4 the city of ratnagiri\n",
      " Processing record number 19 for Set 4 the city of darhan\n",
      " Processing record number 20 for Set 4 the city of mount isa\n",
      " Processing record number 21 for Set 4 the city of teguise\n",
      " Processing record number 22 for Set 4 the city of victoria\n",
      " Processing record number 23 for Set 4 the city of baykit\n",
      "City not found. Skipping...\n",
      " Processing record number 25 for Set 4 the city of torbay\n",
      " Processing record number 26 for Set 4 the city of am timan\n",
      " Processing record number 27 for Set 4 the city of michelstadt\n",
      " Processing record number 28 for Set 4 the city of kijang\n",
      " Processing record number 29 for Set 4 the city of georgetown\n",
      " Processing record number 30 for Set 4 the city of cherskiy\n",
      " Processing record number 31 for Set 4 the city of icoana\n",
      " Processing record number 32 for Set 4 the city of qaanaaq\n",
      " Processing record number 33 for Set 4 the city of santiago\n",
      "City not found. Skipping...\n",
      " Processing record number 35 for Set 4 the city of tynda\n",
      " Processing record number 36 for Set 4 the city of cabo san lucas\n",
      " Processing record number 37 for Set 4 the city of dongsheng\n",
      " Processing record number 38 for Set 4 the city of port lavaca\n",
      " Processing record number 39 for Set 4 the city of pisco\n",
      " Processing record number 40 for Set 4 the city of vila velha\n",
      " Processing record number 41 for Set 4 the city of marzuq\n",
      " Processing record number 42 for Set 4 the city of eregli\n",
      " Processing record number 43 for Set 4 the city of port alfred\n",
      " Processing record number 44 for Set 4 the city of deputatskiy\n",
      " Processing record number 45 for Set 4 the city of biloela\n",
      "City not found. Skipping...\n",
      " Processing record number 47 for Set 4 the city of khorixas\n",
      " Processing record number 48 for Set 4 the city of shar\n",
      " Processing record number 49 for Set 4 the city of kieta\n",
      "City not found. Skipping...\n",
      " Processing record number 1 for Set 5 the city of mahebourg\n",
      " Processing record number 2 for Set 5 the city of zhangye\n",
      "City not found. Skipping...\n",
      " Processing record number 4 for Set 5 the city of kamenka\n",
      " Processing record number 5 for Set 5 the city of grindavik\n",
      " Processing record number 6 for Set 5 the city of peniche\n",
      " Processing record number 7 for Set 5 the city of bambous virieux\n",
      " Processing record number 8 for Set 5 the city of katangli\n",
      " Processing record number 9 for Set 5 the city of halifax\n",
      " Processing record number 10 for Set 5 the city of sawtell\n",
      " Processing record number 11 for Set 5 the city of yaan\n",
      " Processing record number 12 for Set 5 the city of pevek\n",
      " Processing record number 13 for Set 5 the city of tiksi\n",
      " Processing record number 14 for Set 5 the city of nyurba\n",
      " Processing record number 15 for Set 5 the city of kiruna\n",
      "City not found. Skipping...\n",
      "City not found. Skipping...\n",
      " Processing record number 18 for Set 5 the city of santa vitoria do palmar\n",
      " Processing record number 19 for Set 5 the city of chuy\n",
      " Processing record number 20 for Set 5 the city of lumut\n",
      " Processing record number 21 for Set 5 the city of avera\n",
      " Processing record number 22 for Set 5 the city of north berwick\n",
      " Processing record number 23 for Set 5 the city of bandarbeyla\n",
      " Processing record number 24 for Set 5 the city of andenes\n",
      " Processing record number 25 for Set 5 the city of los chiles\n",
      " Processing record number 26 for Set 5 the city of namibe\n",
      " Processing record number 27 for Set 5 the city of los llanos de aridane\n",
      " Processing record number 28 for Set 5 the city of prestea\n",
      "City not found. Skipping...\n",
      " Processing record number 30 for Set 5 the city of the pas\n",
      " Processing record number 31 for Set 5 the city of yining\n",
      " Processing record number 32 for Set 5 the city of san patricio\n",
      " Processing record number 33 for Set 5 the city of petrivka\n",
      " Processing record number 34 for Set 5 the city of kodiak\n",
      " Processing record number 35 for Set 5 the city of brigantine\n",
      " Processing record number 36 for Set 5 the city of carnarvon\n",
      " Processing record number 37 for Set 5 the city of makakilo city\n",
      " Processing record number 38 for Set 5 the city of myanaung\n",
      "City not found. Skipping...\n",
      " Processing record number 40 for Set 5 the city of antofagasta\n",
      " Processing record number 41 for Set 5 the city of semenivka\n",
      " Processing record number 42 for Set 5 the city of yagodnoye\n",
      " Processing record number 43 for Set 5 the city of phalombe\n",
      " Processing record number 44 for Set 5 the city of nishihara\n",
      " Processing record number 45 for Set 5 the city of marica\n",
      " Processing record number 46 for Set 5 the city of comodoro rivadavia\n",
      " Processing record number 47 for Set 5 the city of ahipara\n",
      " Processing record number 48 for Set 5 the city of banjar\n",
      " Processing record number 49 for Set 5 the city of dese\n",
      " Processing record number 50 for Set 5 the city of vila franca do campo\n",
      " Processing record number 1 for Set 6 the city of ketchikan\n",
      " Processing record number 2 for Set 6 the city of puerto cabezas\n",
      " Processing record number 3 for Set 6 the city of ossora\n",
      " Processing record number 4 for Set 6 the city of ponta delgada\n",
      " Processing record number 5 for Set 6 the city of presidencia roque saenz pena\n",
      " Processing record number 6 for Set 6 the city of sorong\n",
      " Processing record number 7 for Set 6 the city of nizhniy kuranakh\n",
      " Processing record number 8 for Set 6 the city of koutiala\n",
      " Processing record number 9 for Set 6 the city of suhbaatar\n",
      " Processing record number 10 for Set 6 the city of nouadhibou\n",
      " Processing record number 11 for Set 6 the city of maniitsoq\n",
      " Processing record number 12 for Set 6 the city of gaomi\n",
      " Processing record number 13 for Set 6 the city of san policarpo\n",
      " Processing record number 14 for Set 6 the city of naze\n",
      " Processing record number 15 for Set 6 the city of viransehir\n",
      " Processing record number 16 for Set 6 the city of north bend\n",
      " Processing record number 17 for Set 6 the city of uruzgan\n",
      " Processing record number 18 for Set 6 the city of tual\n",
      " Processing record number 19 for Set 6 the city of liverpool\n",
      " Processing record number 20 for Set 6 the city of dikson\n",
      " Processing record number 21 for Set 6 the city of mocuba\n",
      " Processing record number 22 for Set 6 the city of goderich\n",
      " Processing record number 23 for Set 6 the city of boyolangu\n",
      " Processing record number 24 for Set 6 the city of kinablangan\n",
      " Processing record number 25 for Set 6 the city of jizan\n",
      " Processing record number 26 for Set 6 the city of ilulissat\n",
      " Processing record number 27 for Set 6 the city of koslan\n",
      "City not found. Skipping...\n",
      " Processing record number 29 for Set 6 the city of pirgos\n",
      " Processing record number 30 for Set 6 the city of ballina\n",
      " Processing record number 31 for Set 6 the city of mandalgovi\n",
      " Processing record number 32 for Set 6 the city of le port\n",
      " Processing record number 33 for Set 6 the city of port moresby\n",
      " Processing record number 34 for Set 6 the city of tomatlan\n",
      " Processing record number 35 for Set 6 the city of camacha\n",
      " Processing record number 36 for Set 6 the city of neuquen\n",
      " Processing record number 37 for Set 6 the city of bairiki\n",
      " Processing record number 38 for Set 6 the city of codrington\n",
      " Processing record number 39 for Set 6 the city of taywarah\n",
      " Processing record number 40 for Set 6 the city of luocheng\n"
     ]
    },
    {
     "name": "stdout",
     "output_type": "stream",
     "text": [
      " Processing record number 41 for Set 6 the city of tabou\n",
      " Processing record number 42 for Set 6 the city of batagay\n",
      " Processing record number 43 for Set 6 the city of uuemoisa\n",
      " Processing record number 44 for Set 6 the city of itoman\n",
      " Processing record number 45 for Set 6 the city of nome\n",
      " Processing record number 46 for Set 6 the city of tiznit\n",
      "City not found. Skipping...\n",
      " Processing record number 48 for Set 6 the city of nizhniy baskunchak\n",
      " Processing record number 49 for Set 6 the city of dali\n",
      " Processing record number 50 for Set 6 the city of ola\n",
      " Processing record number 1 for Set 7 the city of upington\n",
      " Processing record number 2 for Set 7 the city of baruun-urt\n",
      " Processing record number 3 for Set 7 the city of mogadishu\n",
      " Processing record number 4 for Set 7 the city of kampot\n",
      " Processing record number 5 for Set 7 the city of esperance\n",
      " Processing record number 6 for Set 7 the city of simpang\n",
      " Processing record number 7 for Set 7 the city of nantucket\n",
      " Processing record number 8 for Set 7 the city of saskylakh\n",
      " Processing record number 9 for Set 7 the city of orlik\n",
      " Processing record number 10 for Set 7 the city of thompson\n",
      " Processing record number 11 for Set 7 the city of pinawa\n",
      " Processing record number 12 for Set 7 the city of great falls\n",
      " Processing record number 13 for Set 7 the city of saint-augustin\n",
      " Processing record number 14 for Set 7 the city of matam\n",
      " Processing record number 15 for Set 7 the city of boa vista\n",
      " Processing record number 16 for Set 7 the city of tahoua\n",
      " Processing record number 17 for Set 7 the city of hambantota\n",
      " Processing record number 18 for Set 7 the city of pidhaytsi\n",
      " Processing record number 19 for Set 7 the city of batemans bay\n",
      " Processing record number 20 for Set 7 the city of sile\n",
      " Processing record number 21 for Set 7 the city of uvalde\n",
      " Processing record number 22 for Set 7 the city of vostok\n",
      " Processing record number 23 for Set 7 the city of yulara\n",
      " Processing record number 24 for Set 7 the city of calama\n",
      " Processing record number 25 for Set 7 the city of zhigansk\n",
      " Processing record number 26 for Set 7 the city of fairbanks\n",
      " Processing record number 27 for Set 7 the city of grand gaube\n",
      " Processing record number 28 for Set 7 the city of sirjan\n",
      " Processing record number 29 for Set 7 the city of mayya\n",
      " Processing record number 30 for Set 7 the city of constitucion\n",
      " Processing record number 31 for Set 7 the city of khasan\n",
      " Processing record number 32 for Set 7 the city of kununurra\n",
      " Processing record number 33 for Set 7 the city of manggar\n",
      " Processing record number 34 for Set 7 the city of cravo norte\n",
      " Processing record number 35 for Set 7 the city of atar\n",
      " Processing record number 36 for Set 7 the city of marsh harbour\n",
      " Processing record number 37 for Set 7 the city of brae\n",
      " Processing record number 38 for Set 7 the city of yerbogachen\n",
      " Processing record number 39 for Set 7 the city of mwense\n",
      " Processing record number 40 for Set 7 the city of lompoc\n",
      " Processing record number 41 for Set 7 the city of koindu\n",
      " Processing record number 42 for Set 7 the city of sao jose da coroa grande\n",
      " Processing record number 43 for Set 7 the city of anzio\n",
      " Processing record number 44 for Set 7 the city of norman wells\n",
      " Processing record number 45 for Set 7 the city of wilmington\n",
      " Processing record number 46 for Set 7 the city of flin flon\n",
      "City not found. Skipping...\n",
      " Processing record number 48 for Set 7 the city of khopoli\n",
      " Processing record number 49 for Set 7 the city of umm kaddadah\n",
      " Processing record number 50 for Set 7 the city of bam\n",
      " Processing record number 1 for Set 8 the city of crnomelj\n",
      " Processing record number 2 for Set 8 the city of wanning\n",
      " Processing record number 3 for Set 8 the city of marawi\n",
      " Processing record number 4 for Set 8 the city of kaitangata\n",
      " Processing record number 5 for Set 8 the city of kiunga\n",
      " Processing record number 6 for Set 8 the city of leningradskiy\n",
      " Processing record number 7 for Set 8 the city of palauig\n",
      " Processing record number 8 for Set 8 the city of betong\n",
      " Processing record number 9 for Set 8 the city of hasaki\n",
      " Processing record number 10 for Set 8 the city of salta\n",
      " Processing record number 11 for Set 8 the city of korla\n",
      " Processing record number 12 for Set 8 the city of athabasca\n",
      " Processing record number 13 for Set 8 the city of pacific grove\n",
      " Processing record number 14 for Set 8 the city of hualmay\n",
      " Processing record number 15 for Set 8 the city of axim\n",
      " Processing record number 16 for Set 8 the city of polson\n",
      " Processing record number 17 for Set 8 the city of bilma\n",
      " Processing record number 18 for Set 8 the city of villefranche-de-rouergue\n",
      " Processing record number 19 for Set 8 the city of cabedelo\n",
      " Processing record number 20 for Set 8 the city of pucallpa\n",
      " Processing record number 21 for Set 8 the city of cidreira\n",
      " Processing record number 22 for Set 8 the city of baghdad\n",
      " Processing record number 23 for Set 8 the city of tura\n",
      " Processing record number 24 for Set 8 the city of kulhudhuffushi\n",
      " Processing record number 25 for Set 8 the city of wrzesnia\n",
      " Processing record number 26 for Set 8 the city of saint george\n",
      " Processing record number 27 for Set 8 the city of poso\n",
      " Processing record number 28 for Set 8 the city of chifeng\n",
      " Processing record number 29 for Set 8 the city of methoni\n",
      "City not found. Skipping...\n",
      " Processing record number 31 for Set 8 the city of nuuk\n",
      " Processing record number 32 for Set 8 the city of matara\n",
      " Processing record number 33 for Set 8 the city of stornoway\n",
      " Processing record number 34 for Set 8 the city of huilong\n",
      " Processing record number 35 for Set 8 the city of taoudenni\n",
      " Processing record number 36 for Set 8 the city of kargasok\n",
      " Processing record number 37 for Set 8 the city of mlonggo\n",
      " Processing record number 38 for Set 8 the city of labuhan\n",
      " Processing record number 39 for Set 8 the city of phalaborwa\n",
      " Processing record number 40 for Set 8 the city of saint-pierre\n",
      " Processing record number 41 for Set 8 the city of matagami\n",
      " Processing record number 42 for Set 8 the city of san jeronimo\n",
      " Processing record number 43 for Set 8 the city of adrar\n",
      " Processing record number 44 for Set 8 the city of inuvik\n",
      " Processing record number 45 for Set 8 the city of biograd na moru\n",
      " Processing record number 46 for Set 8 the city of rocha\n",
      " Processing record number 47 for Set 8 the city of black river\n",
      " Processing record number 48 for Set 8 the city of nagato\n",
      " Processing record number 49 for Set 8 the city of aykhal\n",
      " Processing record number 50 for Set 8 the city of kitimat\n",
      " Processing record number 1 for Set 9 the city of bagdarin\n",
      " Processing record number 2 for Set 9 the city of tazovskiy\n",
      " Processing record number 3 for Set 9 the city of sao filipe\n",
      " Processing record number 4 for Set 9 the city of gat\n",
      " Processing record number 5 for Set 9 the city of pangnirtung\n",
      " Processing record number 6 for Set 9 the city of batticaloa\n",
      " Processing record number 7 for Set 9 the city of havelock\n",
      " Processing record number 8 for Set 9 the city of kidal\n",
      " Processing record number 9 for Set 9 the city of chaumont\n",
      "City not found. Skipping...\n",
      " Processing record number 11 for Set 9 the city of malumfashi\n",
      " Processing record number 12 for Set 9 the city of jambi\n",
      " Processing record number 13 for Set 9 the city of ishigaki\n",
      " Processing record number 14 for Set 9 the city of banda aceh\n",
      " Processing record number 15 for Set 9 the city of neiafu\n",
      "City not found. Skipping...\n",
      " Processing record number 17 for Set 9 the city of west lafayette\n",
      " Processing record number 18 for Set 9 the city of lavrentiya\n",
      " Processing record number 19 for Set 9 the city of dumka\n",
      " Processing record number 20 for Set 9 the city of saint-ghislain\n",
      " Processing record number 21 for Set 9 the city of san quintin\n",
      " Processing record number 22 for Set 9 the city of kanniyakumari\n",
      " Processing record number 23 for Set 9 the city of lasa\n",
      "City not found. Skipping...\n",
      " Processing record number 25 for Set 9 the city of gizo\n",
      " Processing record number 26 for Set 9 the city of kruisfontein\n",
      " Processing record number 27 for Set 9 the city of vavoua\n",
      " Processing record number 28 for Set 9 the city of kirakira\n",
      " Processing record number 29 for Set 9 the city of broken hill\n",
      " Processing record number 30 for Set 9 the city of hami\n"
     ]
    },
    {
     "name": "stdout",
     "output_type": "stream",
     "text": [
      " Processing record number 31 for Set 9 the city of katobu\n",
      " Processing record number 32 for Set 9 the city of ambilobe\n",
      " Processing record number 33 for Set 9 the city of lagoa\n",
      " Processing record number 34 for Set 9 the city of savannah bight\n",
      " Processing record number 35 for Set 9 the city of dvorichna\n",
      " Processing record number 36 for Set 9 the city of treinta y tres\n",
      "City not found. Skipping...\n",
      " Processing record number 38 for Set 9 the city of kattivakkam\n",
      " Processing record number 39 for Set 9 the city of batesville\n",
      " Processing record number 40 for Set 9 the city of alpena\n",
      " Processing record number 41 for Set 9 the city of broome\n",
      "City not found. Skipping...\n",
      " Processing record number 43 for Set 9 the city of buala\n",
      " Processing record number 44 for Set 9 the city of santa cruz\n",
      " Processing record number 45 for Set 9 the city of lockhart\n",
      " Processing record number 46 for Set 9 the city of bima\n",
      " Processing record number 47 for Set 9 the city of lesosibirsk\n",
      " Processing record number 48 for Set 9 the city of bubaque\n",
      " Processing record number 49 for Set 9 the city of tombouctou\n",
      " Processing record number 50 for Set 9 the city of salekhard\n",
      " Processing record number 1 for Set 10 the city of aktau\n",
      " Processing record number 2 for Set 10 the city of crestview\n",
      " Processing record number 3 for Set 10 the city of pocone\n",
      " Processing record number 4 for Set 10 the city of ko samui\n",
      "City not found. Skipping...\n",
      " Processing record number 6 for Set 10 the city of dubbo\n",
      " Processing record number 7 for Set 10 the city of prince rupert\n",
      " Processing record number 8 for Set 10 the city of puerto del rosario\n",
      " Processing record number 9 for Set 10 the city of bocana de paiwas\n",
      " Processing record number 10 for Set 10 the city of sitka\n",
      " Processing record number 11 for Set 10 the city of sumbe\n",
      " Processing record number 12 for Set 10 the city of yekaterinoslavka\n",
      " Processing record number 13 for Set 10 the city of viedma\n",
      " Processing record number 14 for Set 10 the city of dunda\n",
      " Processing record number 15 for Set 10 the city of visselhovede\n",
      " Processing record number 16 for Set 10 the city of boali\n",
      " Processing record number 17 for Set 10 the city of sur\n",
      " Processing record number 18 for Set 10 the city of paso de los toros\n",
      " Processing record number 19 for Set 10 the city of klaksvik\n",
      " Processing record number 20 for Set 10 the city of bataipora\n",
      " Processing record number 21 for Set 10 the city of bahia blanca\n",
      "City not found. Skipping...\n",
      " Processing record number 23 for Set 10 the city of pirai do sul\n",
      " Processing record number 24 for Set 10 the city of luanda\n",
      " Processing record number 25 for Set 10 the city of russell\n",
      " Processing record number 26 for Set 10 the city of hit\n",
      " Processing record number 27 for Set 10 the city of hirara\n",
      " Processing record number 28 for Set 10 the city of greencastle\n",
      " Processing record number 29 for Set 10 the city of la ronge\n",
      " Processing record number 30 for Set 10 the city of kareli\n",
      " Processing record number 31 for Set 10 the city of port augusta\n",
      " Processing record number 32 for Set 10 the city of isilkul\n",
      " Processing record number 33 for Set 10 the city of coihaique\n",
      " Processing record number 34 for Set 10 the city of kavaratti\n",
      " Processing record number 35 for Set 10 the city of ayia galini\n",
      " Processing record number 36 for Set 10 the city of bhanvad\n",
      " Processing record number 37 for Set 10 the city of fukue\n",
      " Processing record number 38 for Set 10 the city of takoradi\n",
      " Processing record number 39 for Set 10 the city of cayenne\n",
      " Processing record number 40 for Set 10 the city of tessalit\n",
      " Processing record number 41 for Set 10 the city of zemio\n",
      " Processing record number 42 for Set 10 the city of agucadoura\n",
      " Processing record number 43 for Set 10 the city of tarpon springs\n",
      " Processing record number 44 for Set 10 the city of barentu\n",
      " Processing record number 45 for Set 10 the city of berlevag\n",
      " Processing record number 46 for Set 10 the city of chabahar\n",
      " Processing record number 47 for Set 10 the city of monrovia\n",
      " Processing record number 48 for Set 10 the city of abonnema\n",
      " Processing record number 49 for Set 10 the city of port hedland\n",
      " Processing record number 50 for Set 10 the city of sun prairie\n",
      " Processing record number 1 for Set 11 the city of kutoarjo\n",
      " Processing record number 2 for Set 11 the city of maningrida\n",
      " Processing record number 3 for Set 11 the city of nizwa\n",
      " Processing record number 4 for Set 11 the city of bud\n",
      " Processing record number 5 for Set 11 the city of dera ghazi khan\n",
      " Processing record number 6 for Set 11 the city of tambopata\n",
      " Processing record number 7 for Set 11 the city of gisborne\n",
      " Processing record number 8 for Set 11 the city of ulaanbaatar\n",
      " Processing record number 9 for Set 11 the city of jacareacanga\n",
      " Processing record number 10 for Set 11 the city of shellbrook\n",
      " Processing record number 11 for Set 11 the city of rengo\n",
      " Processing record number 12 for Set 11 the city of campbellton\n",
      " Processing record number 13 for Set 11 the city of karsiyang\n",
      " Processing record number 14 for Set 11 the city of vallenar\n",
      " Processing record number 15 for Set 11 the city of bichena\n",
      " Processing record number 16 for Set 11 the city of nador\n",
      " Processing record number 17 for Set 11 the city of catio\n",
      " Processing record number 18 for Set 11 the city of requena\n",
      " Processing record number 19 for Set 11 the city of rawson\n",
      " Processing record number 20 for Set 11 the city of samarai\n",
      "City not found. Skipping...\n",
      " Processing record number 22 for Set 11 the city of khandbari\n",
      " Processing record number 23 for Set 11 the city of klamath falls\n",
      " Processing record number 24 for Set 11 the city of minot\n",
      " Processing record number 25 for Set 11 the city of pemangkat\n",
      " Processing record number 26 for Set 11 the city of kuusamo\n",
      " Processing record number 27 for Set 11 the city of coromandel\n",
      " Processing record number 28 for Set 11 the city of laguna\n",
      " Processing record number 29 for Set 11 the city of malkangiri\n",
      " Processing record number 30 for Set 11 the city of leeuwarden\n",
      " Processing record number 31 for Set 11 the city of santa maria\n",
      " Processing record number 32 for Set 11 the city of lashio\n",
      " Processing record number 33 for Set 11 the city of aleysk\n",
      " Processing record number 34 for Set 11 the city of hailar\n",
      " Processing record number 35 for Set 11 the city of lavumisa\n",
      " Processing record number 36 for Set 11 the city of quelimane\n",
      " Processing record number 37 for Set 11 the city of radishchevo\n",
      " Processing record number 38 for Set 11 the city of yar-sale\n",
      " Processing record number 39 for Set 11 the city of alanya\n",
      " Processing record number 40 for Set 11 the city of rostovka\n",
      " Processing record number 41 for Set 11 the city of gainesville\n",
      " Processing record number 42 for Set 11 the city of belyy yar\n",
      " Processing record number 43 for Set 11 the city of beringovskiy\n",
      " Processing record number 44 for Set 11 the city of mastic beach\n",
      " Processing record number 45 for Set 11 the city of cody\n",
      "City not found. Skipping...\n",
      " Processing record number 47 for Set 11 the city of pedernales\n",
      " Processing record number 48 for Set 11 the city of lazaro cardenas\n",
      " Processing record number 49 for Set 11 the city of mossendjo\n",
      " Processing record number 50 for Set 11 the city of sabang\n",
      " Processing record number 1 for Set 12 the city of kahului\n",
      " Processing record number 2 for Set 12 the city of shingu\n",
      " Processing record number 3 for Set 12 the city of chicama\n",
      " Processing record number 4 for Set 12 the city of rio gallegos\n",
      " Processing record number 5 for Set 12 the city of colares\n",
      " Processing record number 6 for Set 12 the city of verkhnyaya toyma\n",
      " Processing record number 7 for Set 12 the city of salur\n",
      " Processing record number 8 for Set 12 the city of doka\n",
      " Processing record number 9 for Set 12 the city of port-gentil\n",
      " Processing record number 10 for Set 12 the city of mecca\n",
      " Processing record number 11 for Set 12 the city of wad rawah\n",
      " Processing record number 12 for Set 12 the city of roald\n",
      " Processing record number 13 for Set 12 the city of ahuimanu\n",
      " Processing record number 14 for Set 12 the city of vulcan\n",
      " Processing record number 15 for Set 12 the city of barmer\n",
      " Processing record number 16 for Set 12 the city of gao\n",
      " Processing record number 17 for Set 12 the city of buenos aires\n",
      " Processing record number 18 for Set 12 the city of ust-maya\n",
      "City not found. Skipping...\n"
     ]
    },
    {
     "name": "stdout",
     "output_type": "stream",
     "text": [
      " Processing record number 20 for Set 12 the city of dauphin\n",
      " Processing record number 21 for Set 12 the city of kaili\n",
      " Processing record number 22 for Set 12 the city of kumluca\n",
      " Processing record number 23 for Set 12 the city of souillac\n",
      " Processing record number 24 for Set 12 the city of karoi\n",
      " Processing record number 25 for Set 12 the city of bosaso\n",
      " Processing record number 26 for Set 12 the city of soledade\n",
      " Processing record number 27 for Set 12 the city of lumsden\n",
      "City not found. Skipping...\n",
      " Processing record number 29 for Set 12 the city of ishim\n",
      " Processing record number 30 for Set 12 the city of juegang\n",
      " Processing record number 31 for Set 12 the city of alice springs\n",
      " Processing record number 32 for Set 12 the city of tabuk\n",
      " Processing record number 33 for Set 12 the city of agnibilekrou\n",
      " Processing record number 34 for Set 12 the city of araria\n",
      " Processing record number 35 for Set 12 the city of rio do sul\n",
      " Processing record number 36 for Set 12 the city of samana\n",
      " Processing record number 37 for Set 12 the city of the valley\n",
      " Processing record number 38 for Set 12 the city of sangar\n",
      " Processing record number 39 for Set 12 the city of aksarka\n",
      " Processing record number 40 for Set 12 the city of shorkot\n",
      " Processing record number 41 for Set 12 the city of port lincoln\n",
      " Processing record number 42 for Set 12 the city of clyde river\n",
      " Processing record number 43 for Set 12 the city of chengam\n",
      " Processing record number 44 for Set 12 the city of palana\n",
      " Processing record number 45 for Set 12 the city of raudeberg\n",
      " Processing record number 46 for Set 12 the city of ifanadiana\n",
      " Processing record number 47 for Set 12 the city of ancud\n",
      " Processing record number 48 for Set 12 the city of przhevalskoye\n",
      " Processing record number 49 for Set 12 the city of oistins\n",
      " Processing record number 50 for Set 12 the city of richards bay\n",
      " Processing record number 1 for Set 13 the city of vestmanna\n",
      " Processing record number 2 for Set 13 the city of naryan-mar\n",
      " Processing record number 3 for Set 13 the city of visby\n",
      " Processing record number 4 for Set 13 the city of campina verde\n",
      " Processing record number 5 for Set 13 the city of yafran\n",
      " Processing record number 6 for Set 13 the city of konza\n",
      " Processing record number 7 for Set 13 the city of ridgecrest\n",
      " Processing record number 8 for Set 13 the city of misratah\n",
      " Processing record number 9 for Set 13 the city of springbok\n",
      " Processing record number 10 for Set 13 the city of ocampo\n",
      " Processing record number 11 for Set 13 the city of aklavik\n",
      " Processing record number 12 for Set 13 the city of chulman\n",
      " Processing record number 13 for Set 13 the city of barabai\n",
      " Processing record number 14 for Set 13 the city of imbituba\n",
      " Processing record number 15 for Set 13 the city of college\n",
      " Processing record number 16 for Set 13 the city of saldanha\n",
      " Processing record number 17 for Set 13 the city of ciudad bolivar\n",
      " Processing record number 18 for Set 13 the city of iqaluit\n",
      " Processing record number 19 for Set 13 the city of lulea\n",
      " Processing record number 20 for Set 13 the city of sydney\n",
      " Processing record number 21 for Set 13 the city of kargil\n",
      " Processing record number 22 for Set 13 the city of san anselmo\n",
      " Processing record number 23 for Set 13 the city of fortuna\n",
      " Processing record number 24 for Set 13 the city of sioux lookout\n",
      " Processing record number 25 for Set 13 the city of wajima\n"
     ]
    }
   ],
   "source": [
    "#below is the base URL to access the openweather api data. Remove all data after ? \n",
    "\n",
    "#base_url= \"http://api.openweathermap.org/data/2.5/weather?\"\n",
    "\n",
    "\n",
    "# City\tLat\tLng\tMax Temp\tHumidity\tCloudiness\tWind Speed\tCountry\tDate\n",
    "#create empty list for your eventual dataframe\n",
    "city_list_500=[]\n",
    "lat_500=[]\n",
    "long_500=[]\n",
    "max_temp_500=[]\n",
    "humidity_500=[]\n",
    "wind_speed_500=[]\n",
    "cloudiness_500=[]\n",
    "country_500=[]\n",
    "date_500=[]\n",
    "counter=0\n",
    "group=1\n",
    "\n",
    "\n",
    "\n",
    "#[:3] gives me back 3 results from the cities_list. \n",
    "# for loop itreeather list of randomeng enerrate scitis, pings the opena \n",
    "for each_city in cities_list[:]: \n",
    "    #query_url= base_url+ \"appid=\"+weather_api_key+ \"&q=\" + city\n",
    "    query_url=f'{base_url}q={each_city}&appid={weather_api_key}'\n",
    "    weather_response=requests.get(query_url)\n",
    "    weather_data=weather_response.json()\n",
    "    counter= counter +1\n",
    "    \n",
    "    #pprint(weather_data) #keep this in the for loop so that it prints out the amount you want\n",
    "    try:\n",
    "        city_list_500.append(weather_data['name'])\n",
    "        lat_500.append(weather_data['coord']['lat'])\n",
    "        #print(lat_500)\n",
    "        long_500.append(weather_data['coord']['lon'])\n",
    "        max_temp_500.append(weather_data['main']['temp_max'])\n",
    "        humidity_500.append(weather_data['main']['humidity'])\n",
    "        cloudiness_500.append(weather_data['clouds']['all'])\n",
    "        wind_speed_500.append(weather_data['wind']['speed'])\n",
    "        country_500.append(weather_data['sys']['country'])\n",
    "        date_500.append(weather_data['dt'])\n",
    "        if counter >50:\n",
    "            counter=1\n",
    "            group=1 +group\n",
    "        #print(f\" Processing record number {len(city_list_500)} for the city of {each_city}\")\n",
    "        print(f\" Processing record number {counter} for Set {group} the city of {each_city}\")\n",
    "        \n",
    "    except:\n",
    "        print('City not found. Skipping...')\n",
    "        pass\n",
    "\n",
    "    # need to print out 50 and then new list shows up. look at starter file\n",
    "    # hint: these are counters\n",
    "    # \n",
    "\n",
    "# print(city_list_500)\n",
    "# print(lat_500)\n",
    "# print(long_500)\n",
    "# print(max_temp_500)\n",
    "# print(humidity_500)\n",
    "# print(wind_speed_500)\n",
    "# print(cloudiness_500)\n",
    "# print(country_500)\n",
    "# print(date_500)\n"
   ]
  },
  {
   "cell_type": "code",
   "execution_count": 16,
   "metadata": {},
   "outputs": [
    {
     "data": {
      "text/plain": [
       "579"
      ]
     },
     "execution_count": 16,
     "metadata": {},
     "output_type": "execute_result"
    }
   ],
   "source": [
    "len(city_list_500)"
   ]
  },
  {
   "cell_type": "code",
   "execution_count": 17,
   "metadata": {},
   "outputs": [],
   "source": [
    "# print(city_list_500)\n",
    "# print(lat_500)\n",
    "# print(long_500)\n",
    "# print(max_temp_500)\n",
    "# print(humidity_500)\n",
    "# print(wind_speed_500)\n",
    "# print(cloudiness_500)\n",
    "# print(country_500)\n",
    "# print(date_500)\n",
    "\n",
    "# # highlight them all and hit command ? to comment these\n",
    "# #"
   ]
  },
  {
   "cell_type": "markdown",
   "metadata": {},
   "source": [
    "### Convert Raw Data to DataFrame\n",
    "* Export the city data into a .csv.\n",
    "* Display the DataFrame"
   ]
  },
  {
   "cell_type": "code",
   "execution_count": 18,
   "metadata": {},
   "outputs": [
    {
     "data": {
      "text/html": [
       "<div>\n",
       "<style scoped>\n",
       "    .dataframe tbody tr th:only-of-type {\n",
       "        vertical-align: middle;\n",
       "    }\n",
       "\n",
       "    .dataframe tbody tr th {\n",
       "        vertical-align: top;\n",
       "    }\n",
       "\n",
       "    .dataframe thead th {\n",
       "        text-align: right;\n",
       "    }\n",
       "</style>\n",
       "<table border=\"1\" class=\"dataframe\">\n",
       "  <thead>\n",
       "    <tr style=\"text-align: right;\">\n",
       "      <th></th>\n",
       "      <th>City</th>\n",
       "      <th>Latitude</th>\n",
       "      <th>Longitude</th>\n",
       "      <th>Max Temp</th>\n",
       "      <th>Humidity</th>\n",
       "      <th>Cloudiness</th>\n",
       "      <th>Wind Speed</th>\n",
       "      <th>Country</th>\n",
       "      <th>Date</th>\n",
       "    </tr>\n",
       "  </thead>\n",
       "  <tbody>\n",
       "    <tr>\n",
       "      <th>0</th>\n",
       "      <td>Pecos</td>\n",
       "      <td>31.4229</td>\n",
       "      <td>-103.4932</td>\n",
       "      <td>293.15</td>\n",
       "      <td>8</td>\n",
       "      <td>1</td>\n",
       "      <td>7.20</td>\n",
       "      <td>US</td>\n",
       "      <td>1612050356</td>\n",
       "    </tr>\n",
       "    <tr>\n",
       "      <th>1</th>\n",
       "      <td>Port Elizabeth</td>\n",
       "      <td>-33.9180</td>\n",
       "      <td>25.5701</td>\n",
       "      <td>291.15</td>\n",
       "      <td>94</td>\n",
       "      <td>0</td>\n",
       "      <td>2.06</td>\n",
       "      <td>ZA</td>\n",
       "      <td>1612050179</td>\n",
       "    </tr>\n",
       "    <tr>\n",
       "      <th>2</th>\n",
       "      <td>Faanui</td>\n",
       "      <td>-16.4833</td>\n",
       "      <td>-151.7500</td>\n",
       "      <td>300.49</td>\n",
       "      <td>71</td>\n",
       "      <td>78</td>\n",
       "      <td>3.40</td>\n",
       "      <td>PF</td>\n",
       "      <td>1612050357</td>\n",
       "    </tr>\n",
       "    <tr>\n",
       "      <th>3</th>\n",
       "      <td>Kapaa</td>\n",
       "      <td>22.0752</td>\n",
       "      <td>-159.3190</td>\n",
       "      <td>297.15</td>\n",
       "      <td>73</td>\n",
       "      <td>75</td>\n",
       "      <td>7.72</td>\n",
       "      <td>US</td>\n",
       "      <td>1612050357</td>\n",
       "    </tr>\n",
       "    <tr>\n",
       "      <th>4</th>\n",
       "      <td>Rikitea</td>\n",
       "      <td>-23.1203</td>\n",
       "      <td>-134.9692</td>\n",
       "      <td>299.45</td>\n",
       "      <td>71</td>\n",
       "      <td>18</td>\n",
       "      <td>5.24</td>\n",
       "      <td>PF</td>\n",
       "      <td>1612050357</td>\n",
       "    </tr>\n",
       "  </tbody>\n",
       "</table>\n",
       "</div>"
      ],
      "text/plain": [
       "             City  Latitude  Longitude  Max Temp  Humidity  Cloudiness  \\\n",
       "0           Pecos   31.4229  -103.4932    293.15         8           1   \n",
       "1  Port Elizabeth  -33.9180    25.5701    291.15        94           0   \n",
       "2          Faanui  -16.4833  -151.7500    300.49        71          78   \n",
       "3           Kapaa   22.0752  -159.3190    297.15        73          75   \n",
       "4         Rikitea  -23.1203  -134.9692    299.45        71          18   \n",
       "\n",
       "   Wind Speed Country        Date  \n",
       "0        7.20      US  1612050356  \n",
       "1        2.06      ZA  1612050179  \n",
       "2        3.40      PF  1612050357  \n",
       "3        7.72      US  1612050357  \n",
       "4        5.24      PF  1612050357  "
      ]
     },
     "execution_count": 18,
     "metadata": {},
     "output_type": "execute_result"
    }
   ],
   "source": [
    "#create a dictionary and then pass to data frame \n",
    "\n",
    "# how can we run the API calls so that the output is equal to 500.\n",
    "\n",
    "# is there a way to set = to 500?\n",
    "\n",
    "weather_data_dict= {'City': city_list_500,\n",
    "                       'Latitude': lat_500,\n",
    "                       'Longitude': long_500,\n",
    "                       'Max Temp': max_temp_500,\n",
    "                       'Humidity': humidity_500,\n",
    "                       'Cloudiness': cloudiness_500,\n",
    "                       'Wind Speed': wind_speed_500,\n",
    "                       'Country' : country_500,\n",
    "                       'Date': date_500\n",
    "                      }\n",
    "weather_data_df_zero=pd.DataFrame(weather_data_dict)\n",
    "weather_data_df_zero.head()\n",
    "\n",
    "#export the city data into a .csv\n"
   ]
  },
  {
   "cell_type": "code",
   "execution_count": 19,
   "metadata": {},
   "outputs": [
    {
     "data": {
      "text/html": [
       "<div>\n",
       "<style scoped>\n",
       "    .dataframe tbody tr th:only-of-type {\n",
       "        vertical-align: middle;\n",
       "    }\n",
       "\n",
       "    .dataframe tbody tr th {\n",
       "        vertical-align: top;\n",
       "    }\n",
       "\n",
       "    .dataframe thead th {\n",
       "        text-align: right;\n",
       "    }\n",
       "</style>\n",
       "<table border=\"1\" class=\"dataframe\">\n",
       "  <thead>\n",
       "    <tr style=\"text-align: right;\">\n",
       "      <th></th>\n",
       "      <th>Latitude</th>\n",
       "      <th>Longitude</th>\n",
       "      <th>Max Temp</th>\n",
       "      <th>Humidity</th>\n",
       "      <th>Cloudiness</th>\n",
       "      <th>Wind Speed</th>\n",
       "      <th>Date</th>\n",
       "    </tr>\n",
       "  </thead>\n",
       "  <tbody>\n",
       "    <tr>\n",
       "      <th>count</th>\n",
       "      <td>579.000000</td>\n",
       "      <td>579.000000</td>\n",
       "      <td>579.000000</td>\n",
       "      <td>579.000000</td>\n",
       "      <td>579.00000</td>\n",
       "      <td>579.000000</td>\n",
       "      <td>5.790000e+02</td>\n",
       "    </tr>\n",
       "    <tr>\n",
       "      <th>mean</th>\n",
       "      <td>19.661357</td>\n",
       "      <td>18.130671</td>\n",
       "      <td>282.510725</td>\n",
       "      <td>73.829016</td>\n",
       "      <td>53.82038</td>\n",
       "      <td>3.633903</td>\n",
       "      <td>1.612050e+09</td>\n",
       "    </tr>\n",
       "    <tr>\n",
       "      <th>std</th>\n",
       "      <td>32.703480</td>\n",
       "      <td>89.986266</td>\n",
       "      <td>18.548196</td>\n",
       "      <td>19.447564</td>\n",
       "      <td>39.30819</td>\n",
       "      <td>2.700756</td>\n",
       "      <td>1.451934e+02</td>\n",
       "    </tr>\n",
       "    <tr>\n",
       "      <th>min</th>\n",
       "      <td>-54.800000</td>\n",
       "      <td>-179.166700</td>\n",
       "      <td>228.020000</td>\n",
       "      <td>8.000000</td>\n",
       "      <td>0.00000</td>\n",
       "      <td>0.120000</td>\n",
       "      <td>1.612050e+09</td>\n",
       "    </tr>\n",
       "    <tr>\n",
       "      <th>25%</th>\n",
       "      <td>-7.973850</td>\n",
       "      <td>-61.472850</td>\n",
       "      <td>271.480000</td>\n",
       "      <td>64.000000</td>\n",
       "      <td>6.00000</td>\n",
       "      <td>1.540000</td>\n",
       "      <td>1.612050e+09</td>\n",
       "    </tr>\n",
       "    <tr>\n",
       "      <th>50%</th>\n",
       "      <td>22.285500</td>\n",
       "      <td>24.009200</td>\n",
       "      <td>290.150000</td>\n",
       "      <td>79.000000</td>\n",
       "      <td>66.00000</td>\n",
       "      <td>2.740000</td>\n",
       "      <td>1.612050e+09</td>\n",
       "    </tr>\n",
       "    <tr>\n",
       "      <th>75%</th>\n",
       "      <td>47.641650</td>\n",
       "      <td>99.880350</td>\n",
       "      <td>297.150000</td>\n",
       "      <td>88.000000</td>\n",
       "      <td>90.00000</td>\n",
       "      <td>5.155000</td>\n",
       "      <td>1.612050e+09</td>\n",
       "    </tr>\n",
       "    <tr>\n",
       "      <th>max</th>\n",
       "      <td>78.218600</td>\n",
       "      <td>179.316700</td>\n",
       "      <td>308.150000</td>\n",
       "      <td>100.000000</td>\n",
       "      <td>100.00000</td>\n",
       "      <td>16.460000</td>\n",
       "      <td>1.612050e+09</td>\n",
       "    </tr>\n",
       "  </tbody>\n",
       "</table>\n",
       "</div>"
      ],
      "text/plain": [
       "         Latitude   Longitude    Max Temp    Humidity  Cloudiness  Wind Speed  \\\n",
       "count  579.000000  579.000000  579.000000  579.000000   579.00000  579.000000   \n",
       "mean    19.661357   18.130671  282.510725   73.829016    53.82038    3.633903   \n",
       "std     32.703480   89.986266   18.548196   19.447564    39.30819    2.700756   \n",
       "min    -54.800000 -179.166700  228.020000    8.000000     0.00000    0.120000   \n",
       "25%     -7.973850  -61.472850  271.480000   64.000000     6.00000    1.540000   \n",
       "50%     22.285500   24.009200  290.150000   79.000000    66.00000    2.740000   \n",
       "75%     47.641650   99.880350  297.150000   88.000000    90.00000    5.155000   \n",
       "max     78.218600  179.316700  308.150000  100.000000   100.00000   16.460000   \n",
       "\n",
       "               Date  \n",
       "count  5.790000e+02  \n",
       "mean   1.612050e+09  \n",
       "std    1.451934e+02  \n",
       "min    1.612050e+09  \n",
       "25%    1.612050e+09  \n",
       "50%    1.612050e+09  \n",
       "75%    1.612050e+09  \n",
       "max    1.612050e+09  "
      ]
     },
     "execution_count": 19,
     "metadata": {},
     "output_type": "execute_result"
    }
   ],
   "source": [
    "#print a describe table for the weather data frame\n",
    "# the df_zero is the original dict we are using to run the API calls \n",
    "weather_data_df_zero.describe()\n",
    "\n",
    "# you are getting the same count \n"
   ]
  },
  {
   "cell_type": "code",
   "execution_count": null,
   "metadata": {},
   "outputs": [],
   "source": []
  },
  {
   "cell_type": "markdown",
   "metadata": {},
   "source": [
    "## Inspect the data and remove the cities where the humidity > 100%.\n",
    "----\n",
    "Skip this step if there are no cities that have humidity > 100%. "
   ]
  },
  {
   "cell_type": "code",
   "execution_count": 20,
   "metadata": {},
   "outputs": [],
   "source": [
    "# create a filter to filter out cities that have humidity >100%\n",
    "# weather_data_one applies the humidity filter to weather_data_df_zero\n",
    "humidity_filter=weather_data_df_zero.loc[:, \"Humidity\"]<=100 \n",
    "weather_data_df_one=weather_data_df_zero.loc[humidity_filter,:]\n",
    "#.loc[ is saying grab all the rows and the humidity coul]\n",
    "#humidity_filter\n",
    "#weather_data_df_one.describe() #weather data_df_one is cities with less than or equal to 100% humidity\n",
    "weather_data_df_one.describe()\n",
    "\n",
    "#another way to get a filter, different syntax\n",
    "\n",
    "#print_me=weather_data_df_zero.loc[weather_data_df_zero['Humidity']<=100]\n",
    "#print_me #no comma : it assumes you want all the columns\n",
    "\n",
    "weather_data_df_one.to_csv(\"weather_data_one.csv\")"
   ]
  },
  {
   "cell_type": "code",
   "execution_count": 21,
   "metadata": {},
   "outputs": [
    {
     "data": {
      "text/plain": [
       "579"
      ]
     },
     "execution_count": 21,
     "metadata": {},
     "output_type": "execute_result"
    }
   ],
   "source": [
    "len(weather_data_df_one)\n"
   ]
  },
  {
   "cell_type": "code",
   "execution_count": null,
   "metadata": {},
   "outputs": [],
   "source": []
  },
  {
   "cell_type": "code",
   "execution_count": 22,
   "metadata": {},
   "outputs": [
    {
     "data": {
      "text/plain": [
       "Int64Index([], dtype='int64')"
      ]
     },
     "execution_count": 22,
     "metadata": {},
     "output_type": "execute_result"
    }
   ],
   "source": [
    "# Get the indices of cities that have humidity over 100%.\n",
    "humidity_over_filter=weather_data_df_zero.loc[:, 'Humidity']>100\n",
    "weather_over_df=weather_data_df_zero.loc[humidity_over_filter,:]\n",
    "list(weather_over_df.index)\n",
    "weather_over_df.index\n",
    "# there are no indicies over 100\n",
    "# you can do this through itterrows\n"
   ]
  },
  {
   "cell_type": "code",
   "execution_count": 23,
   "metadata": {},
   "outputs": [],
   "source": [
    "# Make a new DataFrame equal to the city data to drop all humidity outliers by index.\n",
    "# Passing \"inplace=False\" will make a copy of the city_data DataFrame, which we call \"clean_city_data\".\n"
   ]
  },
  {
   "cell_type": "code",
   "execution_count": null,
   "metadata": {},
   "outputs": [],
   "source": [
    "\n"
   ]
  },
  {
   "cell_type": "markdown",
   "metadata": {},
   "source": [
    "## Plotting the Data\n",
    "* Use proper labeling of the plots using plot titles (including date of analysis) and axes labels.\n",
    "* Save the plotted figures as .pngs."
   ]
  },
  {
   "cell_type": "markdown",
   "metadata": {},
   "source": [
    "## Latitude vs. Temperature Plot"
   ]
  },
  {
   "cell_type": "code",
   "execution_count": 24,
   "metadata": {},
   "outputs": [],
   "source": [
    "#The first requirement is to create a series of scatter plots to showcase the following relationships:\n",
    "\n",
    "# Temperature (F) vs. Latitude\n",
    "# Humidity (%) vs. Latitude\n",
    "# Cloudiness (%) vs. Latitude\n",
    "# Wind Speed (mph) vs. Latitude\n",
    "\n",
    "#After each plot, add a sentence or two explaining what the code is analyzing."
   ]
  },
  {
   "cell_type": "code",
   "execution_count": 25,
   "metadata": {},
   "outputs": [],
   "source": [
    "# These are notes only, no lines of code in this cell\n",
    "\n",
    "# In the spherical system, horizontal lines, or east–west lines, are lines of equal latitude, or parallels. \n",
    "# Vertical lines, or north–south lines, are lines of equal longitude, or meridians. \n",
    "# These lines encompass the globe and form a gridded network called a graticule\n",
    "\n",
    "# It may be helpful to equate longitude values with X and latitude values with Y.\n",
    "# Data defined on a geographic coordinate system is displayed as if a degree is a linear unit of measure.\n",
    "\n",
    "# Latitude and longitude values are traditionally measured either in decimal degrees or in degrees, minutes, and seconds (DMS).\n",
    "\n",
    "# Latitude values are measured relative to the equator and range from -90° at the South Pole to +90° at the North Pole. \n",
    "# Longitude values are measured relative to the prime meridian. They range from -180° when traveling west to 180° when traveling east. \n",
    "# If the prime meridian is at Greenwich, then Australia, which is south of the equator and east of Greenwich, has positive longitude values and negative latitude values."
   ]
  },
  {
   "cell_type": "code",
   "execution_count": 26,
   "metadata": {},
   "outputs": [
    {
     "name": "stdout",
     "output_type": "stream",
     "text": [
      " This sample shows as one moves closer to the equator the temperature increases.\n",
      " This is because of less sunlight the further away one goes from the equator.\n"
     ]
    },
    {
     "data": {
      "image/png": "[encoded data removed]",
      "text/plain": [
       "<Figure size 432x288 with 1 Axes>"
      ]
     },
     "metadata": {
      "needs_background": "light"
     },
     "output_type": "display_data"
    }
   ],
   "source": [
    "# Scatter plot of max temp vs latitude for weather data after filtering out cities with humidity >100\n",
    "x_lat=weather_data_df_one['Latitude']\n",
    "y_maxtemp=weather_data_df_one['Max Temp']\n",
    "\n",
    "plt.scatter(x_lat, y_maxtemp)\n",
    "plt.title(\"Max Temperature vs Latitude\") \n",
    "plt.xlabel('Latitude')\n",
    "plt.ylabel('Max Temperature (K)')\n",
    "plt.grid(True)\n",
    "\n",
    "#print statement\n",
    "plt.savefig('../WeatherPy/Latitude vs Temperature.png')\n",
    "\n",
    "print(f' This sample shows as one moves closer to the equator the temperature increases.') \n",
    "print(f' This is because of less sunlight the further away one goes from the equator.')\n",
    "#      Can you name all the countries on the equator?')"
   ]
  },
  {
   "cell_type": "markdown",
   "metadata": {},
   "source": [
    "## Latitude vs. Humidity Plot"
   ]
  },
  {
   "cell_type": "code",
   "execution_count": 28,
   "metadata": {},
   "outputs": [
    {
     "name": "stdout",
     "output_type": "stream",
     "text": [
      " This sample shows consistent humidity levels around the globe for most cities .\n",
      " There appear to be outliers. We could plot a boxplot to check for outliers.\n",
      " There world could not survive without humidity\n"
     ]
    },
    {
     "data": {
      "image/png": "[encoded data removed]",
      "text/plain": [
       "<Figure size 432x288 with 1 Axes>"
      ]
     },
     "metadata": {
      "needs_background": "light"
     },
     "output_type": "display_data"
    }
   ],
   "source": [
    "x_lat=weather_data_df_one['Latitude']\n",
    "y_humidity=weather_data_df_one['Humidity']\n",
    "\n",
    "plt.scatter(x_lat, y_humidity)\n",
    "#plt.scatter(x_lat, y_maxtemp)\n",
    "plt.title('City Latitude vs Humidity')\n",
    "plt.xlabel('Latitude')\n",
    "plt.ylabel('Humidity (%)')\n",
    "plt.grid(True)\n",
    "\n",
    "#print statement\n",
    "plt.savefig('../WeatherPy/Latitude vs Humidity.png')\n",
    "\n",
    "print(f' This sample shows consistent humidity levels around the globe for most cities .')\n",
    "print(f' There appear to be outliers. We could plot a boxplot to check for outliers.')\n",
    "print(f' There world could not survive without humidity')\n",
    "# \\'  is how you f string a '\n",
    "# what might be perceived as outliers.')"
   ]
  },
  {
   "cell_type": "markdown",
   "metadata": {},
   "source": [
    "## Latitude vs. Cloudiness Plot"
   ]
  },
  {
   "cell_type": "code",
   "execution_count": 29,
   "metadata": {},
   "outputs": [
    {
     "name": "stdout",
     "output_type": "stream",
     "text": [
      " There was no correlation between city latitude and cloudiness in the sample of cities.\n"
     ]
    },
    {
     "data": {
      "image/png": "[encoded data removed]",
      "text/plain": [
       "<Figure size 432x288 with 1 Axes>"
      ]
     },
     "metadata": {
      "needs_background": "light"
     },
     "output_type": "display_data"
    }
   ],
   "source": [
    "# Scatter plot of max temp vs latitude for weather data after filtering out cities with humidity >100\n",
    "x_lat=weather_data_df_one['Latitude']\n",
    "y_cloudiness=weather_data_df_one['Cloudiness']\n",
    "\n",
    "plt.scatter(x_lat, y_cloudiness)\n",
    "plt.title('Cloudiness Percent vs. Latitude') #how to use % and ' in f string???\n",
    "plt.xlabel('Latitude')\n",
    "plt.ylabel('Cloudiness')\n",
    "plt.grid(True)\n",
    "\n",
    "#print statement\n",
    "plt.savefig('../WeatherPy/Latitude vs Cloudiness.png')\n",
    "\n",
    "print(f' There was no correlation between city latitude and cloudiness in the sample of cities.') \n"
   ]
  },
  {
   "cell_type": "markdown",
   "metadata": {},
   "source": [
    "## Latitude vs. Wind Speed Plot"
   ]
  },
  {
   "cell_type": "code",
   "execution_count": 36,
   "metadata": {},
   "outputs": [
    {
     "name": "stdout",
     "output_type": "stream",
     "text": [
      " This doesn't look like there is much correlation.\n",
      " The further you move toward each pole the more windy it appears to be.\n",
      " Latitude values are measured relative to the equator\n",
      " and range from -90° at the South Pole to +90° at the North Pole.\n"
     ]
    },
    {
     "data": {
      "image/png": "[encoded data removed]",
      "text/plain": [
       "<Figure size 432x288 with 1 Axes>"
      ]
     },
     "metadata": {
      "needs_background": "light"
     },
     "output_type": "display_data"
    }
   ],
   "source": [
    "x_lat=weather_data_df_one['Latitude']\n",
    "y_wind_speed=weather_data_df_one['Wind Speed']\n",
    "\n",
    "plt.scatter(x_lat, y_wind_speed)\n",
    "plt.title('City Latitude vs Wind Speed')\n",
    "plt.xlabel('Latitude')\n",
    "plt.ylabel('Wind Speed')\n",
    "plt.grid(True)\n",
    "\n",
    "#print statement\n",
    "plt.savefig('../WeatherPy/Latitude vs Wind Speed.png')\n",
    "\n",
    "print(f' This doesn\\'t look like there is much correlation.') \n",
    "print(f' The further you move toward each pole the more windy it appears to be.')\n",
    "print(f' Latitude values are measured relative to the equator') \n",
    "print(f' and range from -90° at the South Pole to +90° at the North Pole.')\n",
    "\n"
   ]
  },
  {
   "cell_type": "markdown",
   "metadata": {},
   "source": [
    "## Linear Regression"
   ]
  },
  {
   "cell_type": "code",
   "execution_count": 44,
   "metadata": {},
   "outputs": [],
   "source": [
    "# latitude greater than 0 is northern\n",
    "# latitude less than 0 is southern\n",
    "# #print statement\n",
    "# look in the read me file "
   ]
  },
  {
   "cell_type": "code",
   "execution_count": 45,
   "metadata": {},
   "outputs": [
    {
     "data": {
      "text/html": [
       "<div>\n",
       "<style scoped>\n",
       "    .dataframe tbody tr th:only-of-type {\n",
       "        vertical-align: middle;\n",
       "    }\n",
       "\n",
       "    .dataframe tbody tr th {\n",
       "        vertical-align: top;\n",
       "    }\n",
       "\n",
       "    .dataframe thead th {\n",
       "        text-align: right;\n",
       "    }\n",
       "</style>\n",
       "<table border=\"1\" class=\"dataframe\">\n",
       "  <thead>\n",
       "    <tr style=\"text-align: right;\">\n",
       "      <th></th>\n",
       "      <th>Latitude</th>\n",
       "      <th>Longitude</th>\n",
       "      <th>Max Temp</th>\n",
       "      <th>Humidity</th>\n",
       "      <th>Cloudiness</th>\n",
       "      <th>Wind Speed</th>\n",
       "      <th>Date</th>\n",
       "    </tr>\n",
       "  </thead>\n",
       "  <tbody>\n",
       "    <tr>\n",
       "      <th>count</th>\n",
       "      <td>400.000000</td>\n",
       "      <td>400.000000</td>\n",
       "      <td>400.000000</td>\n",
       "      <td>400.000000</td>\n",
       "      <td>400.000000</td>\n",
       "      <td>400.000000</td>\n",
       "      <td>4.000000e+02</td>\n",
       "    </tr>\n",
       "    <tr>\n",
       "      <th>mean</th>\n",
       "      <td>37.790607</td>\n",
       "      <td>13.118231</td>\n",
       "      <td>276.300900</td>\n",
       "      <td>72.692500</td>\n",
       "      <td>51.560000</td>\n",
       "      <td>3.638200</td>\n",
       "      <td>1.612050e+09</td>\n",
       "    </tr>\n",
       "    <tr>\n",
       "      <th>std</th>\n",
       "      <td>20.134806</td>\n",
       "      <td>87.446438</td>\n",
       "      <td>19.093321</td>\n",
       "      <td>19.964202</td>\n",
       "      <td>39.587806</td>\n",
       "      <td>2.700884</td>\n",
       "      <td>1.403738e+02</td>\n",
       "    </tr>\n",
       "    <tr>\n",
       "      <th>min</th>\n",
       "      <td>1.166700</td>\n",
       "      <td>-179.166700</td>\n",
       "      <td>228.020000</td>\n",
       "      <td>8.000000</td>\n",
       "      <td>0.000000</td>\n",
       "      <td>0.230000</td>\n",
       "      <td>1.612050e+09</td>\n",
       "    </tr>\n",
       "    <tr>\n",
       "      <th>25%</th>\n",
       "      <td>20.513225</td>\n",
       "      <td>-68.777775</td>\n",
       "      <td>264.747500</td>\n",
       "      <td>60.000000</td>\n",
       "      <td>3.000000</td>\n",
       "      <td>1.540000</td>\n",
       "      <td>1.612050e+09</td>\n",
       "    </tr>\n",
       "    <tr>\n",
       "      <th>50%</th>\n",
       "      <td>38.197850</td>\n",
       "      <td>21.929800</td>\n",
       "      <td>279.940000</td>\n",
       "      <td>78.000000</td>\n",
       "      <td>56.500000</td>\n",
       "      <td>2.720000</td>\n",
       "      <td>1.612050e+09</td>\n",
       "    </tr>\n",
       "    <tr>\n",
       "      <th>75%</th>\n",
       "      <td>54.118325</td>\n",
       "      <td>83.949250</td>\n",
       "      <td>292.267500</td>\n",
       "      <td>87.000000</td>\n",
       "      <td>90.000000</td>\n",
       "      <td>5.140000</td>\n",
       "      <td>1.612050e+09</td>\n",
       "    </tr>\n",
       "    <tr>\n",
       "      <th>max</th>\n",
       "      <td>78.218600</td>\n",
       "      <td>179.316700</td>\n",
       "      <td>303.440000</td>\n",
       "      <td>100.000000</td>\n",
       "      <td>100.000000</td>\n",
       "      <td>16.460000</td>\n",
       "      <td>1.612050e+09</td>\n",
       "    </tr>\n",
       "  </tbody>\n",
       "</table>\n",
       "</div>"
      ],
      "text/plain": [
       "         Latitude   Longitude    Max Temp    Humidity  Cloudiness  Wind Speed  \\\n",
       "count  400.000000  400.000000  400.000000  400.000000  400.000000  400.000000   \n",
       "mean    37.790607   13.118231  276.300900   72.692500   51.560000    3.638200   \n",
       "std     20.134806   87.446438   19.093321   19.964202   39.587806    2.700884   \n",
       "min      1.166700 -179.166700  228.020000    8.000000    0.000000    0.230000   \n",
       "25%     20.513225  -68.777775  264.747500   60.000000    3.000000    1.540000   \n",
       "50%     38.197850   21.929800  279.940000   78.000000   56.500000    2.720000   \n",
       "75%     54.118325   83.949250  292.267500   87.000000   90.000000    5.140000   \n",
       "max     78.218600  179.316700  303.440000  100.000000  100.000000   16.460000   \n",
       "\n",
       "               Date  \n",
       "count  4.000000e+02  \n",
       "mean   1.612050e+09  \n",
       "std    1.403738e+02  \n",
       "min    1.612050e+09  \n",
       "25%    1.612050e+09  \n",
       "50%    1.612050e+09  \n",
       "75%    1.612050e+09  \n",
       "max    1.612050e+09  "
      ]
     },
     "execution_count": 45,
     "metadata": {},
     "output_type": "execute_result"
    }
   ],
   "source": [
    "northern_hem_filter=weather_data_df_one.loc[:, \"Latitude\"]>=0 #on the equator included\n",
    "northern_hem_df=weather_data_df_one.loc[northern_hem_filter,:]\n",
    "northern_hem_df.describe()\n",
    "# this is your northern_hemisphere_dataframe filter"
   ]
  },
  {
   "cell_type": "code",
   "execution_count": 46,
   "metadata": {},
   "outputs": [
    {
     "data": {
      "text/html": [
       "<div>\n",
       "<style scoped>\n",
       "    .dataframe tbody tr th:only-of-type {\n",
       "        vertical-align: middle;\n",
       "    }\n",
       "\n",
       "    .dataframe tbody tr th {\n",
       "        vertical-align: top;\n",
       "    }\n",
       "\n",
       "    .dataframe thead th {\n",
       "        text-align: right;\n",
       "    }\n",
       "</style>\n",
       "<table border=\"1\" class=\"dataframe\">\n",
       "  <thead>\n",
       "    <tr style=\"text-align: right;\">\n",
       "      <th></th>\n",
       "      <th>Latitude</th>\n",
       "      <th>Longitude</th>\n",
       "      <th>Max Temp</th>\n",
       "      <th>Humidity</th>\n",
       "      <th>Cloudiness</th>\n",
       "      <th>Wind Speed</th>\n",
       "      <th>Date</th>\n",
       "    </tr>\n",
       "  </thead>\n",
       "  <tbody>\n",
       "    <tr>\n",
       "      <th>count</th>\n",
       "      <td>179.000000</td>\n",
       "      <td>179.000000</td>\n",
       "      <td>179.000000</td>\n",
       "      <td>179.000000</td>\n",
       "      <td>179.000000</td>\n",
       "      <td>179.000000</td>\n",
       "      <td>1.790000e+02</td>\n",
       "    </tr>\n",
       "    <tr>\n",
       "      <th>mean</th>\n",
       "      <td>-20.850932</td>\n",
       "      <td>29.331656</td>\n",
       "      <td>296.387430</td>\n",
       "      <td>76.368715</td>\n",
       "      <td>58.871508</td>\n",
       "      <td>3.624302</td>\n",
       "      <td>1.612050e+09</td>\n",
       "    </tr>\n",
       "    <tr>\n",
       "      <th>std</th>\n",
       "      <td>13.233334</td>\n",
       "      <td>94.713014</td>\n",
       "      <td>4.435314</td>\n",
       "      <td>18.036116</td>\n",
       "      <td>38.304373</td>\n",
       "      <td>2.708019</td>\n",
       "      <td>1.523822e+02</td>\n",
       "    </tr>\n",
       "    <tr>\n",
       "      <th>min</th>\n",
       "      <td>-54.800000</td>\n",
       "      <td>-175.200000</td>\n",
       "      <td>283.560000</td>\n",
       "      <td>10.000000</td>\n",
       "      <td>0.000000</td>\n",
       "      <td>0.120000</td>\n",
       "      <td>1.612050e+09</td>\n",
       "    </tr>\n",
       "    <tr>\n",
       "      <th>25%</th>\n",
       "      <td>-32.375000</td>\n",
       "      <td>-54.358300</td>\n",
       "      <td>293.150000</td>\n",
       "      <td>68.000000</td>\n",
       "      <td>20.000000</td>\n",
       "      <td>1.375000</td>\n",
       "      <td>1.612050e+09</td>\n",
       "    </tr>\n",
       "    <tr>\n",
       "      <th>50%</th>\n",
       "      <td>-20.342800</td>\n",
       "      <td>28.698000</td>\n",
       "      <td>297.010000</td>\n",
       "      <td>80.000000</td>\n",
       "      <td>75.000000</td>\n",
       "      <td>2.840000</td>\n",
       "      <td>1.612050e+09</td>\n",
       "    </tr>\n",
       "    <tr>\n",
       "      <th>75%</th>\n",
       "      <td>-8.912200</td>\n",
       "      <td>121.326200</td>\n",
       "      <td>299.455000</td>\n",
       "      <td>89.000000</td>\n",
       "      <td>98.000000</td>\n",
       "      <td>5.530000</td>\n",
       "      <td>1.612050e+09</td>\n",
       "    </tr>\n",
       "    <tr>\n",
       "      <th>max</th>\n",
       "      <td>-0.600000</td>\n",
       "      <td>178.004200</td>\n",
       "      <td>308.150000</td>\n",
       "      <td>100.000000</td>\n",
       "      <td>100.000000</td>\n",
       "      <td>12.860000</td>\n",
       "      <td>1.612050e+09</td>\n",
       "    </tr>\n",
       "  </tbody>\n",
       "</table>\n",
       "</div>"
      ],
      "text/plain": [
       "         Latitude   Longitude    Max Temp    Humidity  Cloudiness  Wind Speed  \\\n",
       "count  179.000000  179.000000  179.000000  179.000000  179.000000  179.000000   \n",
       "mean   -20.850932   29.331656  296.387430   76.368715   58.871508    3.624302   \n",
       "std     13.233334   94.713014    4.435314   18.036116   38.304373    2.708019   \n",
       "min    -54.800000 -175.200000  283.560000   10.000000    0.000000    0.120000   \n",
       "25%    -32.375000  -54.358300  293.150000   68.000000   20.000000    1.375000   \n",
       "50%    -20.342800   28.698000  297.010000   80.000000   75.000000    2.840000   \n",
       "75%     -8.912200  121.326200  299.455000   89.000000   98.000000    5.530000   \n",
       "max     -0.600000  178.004200  308.150000  100.000000  100.000000   12.860000   \n",
       "\n",
       "               Date  \n",
       "count  1.790000e+02  \n",
       "mean   1.612050e+09  \n",
       "std    1.523822e+02  \n",
       "min    1.612050e+09  \n",
       "25%    1.612050e+09  \n",
       "50%    1.612050e+09  \n",
       "75%    1.612050e+09  \n",
       "max    1.612050e+09  "
      ]
     },
     "execution_count": 46,
     "metadata": {},
     "output_type": "execute_result"
    }
   ],
   "source": [
    "southern_hem_filter=weather_data_df_one.loc[:, \"Latitude\"]<0 #on the equator included\n",
    "southern_hem_df=weather_data_df_one.loc[southern_hem_filter,:]\n",
    "southern_hem_df.describe()\n",
    "# this is your southern_hemisphere_dataframe filter"
   ]
  },
  {
   "cell_type": "code",
   "execution_count": 47,
   "metadata": {},
   "outputs": [
    {
     "data": {
      "text/plain": [
       "179"
      ]
     },
     "execution_count": 47,
     "metadata": {},
     "output_type": "execute_result"
    }
   ],
   "source": [
    "len(southern_hem_df)\n",
    "# this plus northern_hem_df should add up to your weather_data_df_one "
   ]
  },
  {
   "cell_type": "code",
   "execution_count": 48,
   "metadata": {},
   "outputs": [
    {
     "data": {
      "text/plain": [
       "400"
      ]
     },
     "execution_count": 48,
     "metadata": {},
     "output_type": "execute_result"
    }
   ],
   "source": [
    "len(northern_hem_df)"
   ]
  },
  {
   "cell_type": "code",
   "execution_count": 49,
   "metadata": {},
   "outputs": [],
   "source": [
    "#(slope, intercept, rvalue, pvalue, stderr) = linregress(x_values, y_values)\n",
    "#regress_values = x_values * slope + intercept\n",
    "\n",
    "# x_lat=weather_data_df_one['Latitude']\n",
    "# y_wind_speed=weather_data_df_one['Wind Speed']\n",
    "\n",
    "# (slope, intercept, rvalue, pvalue, stderr) = linregress(x_lat, y_wind_speed)\n",
    "# regress_values = x_lat * slope + intercept\n",
    "# line_eq = \"y = \" + str(round(slope,2)) + \"x + \" + str(round(intercept,2))\n",
    "# plt.scatter(x_lat,y_wind_speed)\n",
    "# plt.plot(x_lat,regress_values,\"r-\")\n",
    "# plt.annotate(line_eq,(0,5),fontsize=15,color=\"red\")\n",
    "# plt.xlabel('')\n",
    "# plt.ylabel('')\n",
    "# print(f\"The r-squared is: {rvalue**2}\")\n",
    "# plt.show()\n",
    "# print(f' )\n",
    "\n",
    "# #slope, intercept, rvalue, pvalue, stderr = linregress(x, y) #list unpacking \n",
    "# # y=mx+b #every straight line can be represented by this equation\n",
    "# #regression=slope+x+intercept\n",
    "# #regression_label=(f'y={round(slope,2)}x+{round(intercept,2)}')\n",
    "\n",
    "# #liner regression is trying to draw a line as close as possible to the most dots\n"
   ]
  },
  {
   "cell_type": "markdown",
   "metadata": {},
   "source": [
    "####  Northern Hemisphere - Max Temp vs. Latitude Linear Regression"
   ]
  },
  {
   "cell_type": "code",
   "execution_count": 51,
   "metadata": {},
   "outputs": [
    {
     "name": "stdout",
     "output_type": "stream",
     "text": [
      "The r-squared is: 0.7466213412756787\n"
     ]
    },
    {
     "data": {
      "image/png": "[encoded data removed]",
      "text/plain": [
       "<Figure size 432x288 with 1 Axes>"
      ]
     },
     "metadata": {
      "needs_background": "light"
     },
     "output_type": "display_data"
    },
    {
     "name": "stdout",
     "output_type": "stream",
     "text": [
      " This regression appears tight but as you move closer to the north pole\n",
      " the data is less correlated.\n"
     ]
    },
    {
     "data": {
      "text/plain": [
       "<Figure size 432x288 with 0 Axes>"
      ]
     },
     "metadata": {},
     "output_type": "display_data"
    }
   ],
   "source": [
    "x_lat=northern_hem_df['Latitude']\n",
    "y_maxtemp=northern_hem_df['Max Temp']\n",
    "\n",
    "\n",
    "# (slope, intercept, rvalue, pvalue,stderr)= linregress(x_lat, y_maxtemp)\n",
    "# plt.scatter(x_lat, y_maxtemp)\n",
    "# plt.title('City Latitude vs Max Temperature')\n",
    "# plt.xlabel('Latitude')\n",
    "# plt.ylabel('Max Temperature (K)')\n",
    "# plt.grid(True)\n",
    "\n",
    "\n",
    "(slope, intercept, rvalue, pvalue, stderr) = linregress(x_lat, y_maxtemp)\n",
    "regress_values = x_lat * slope + intercept\n",
    "line_eq = \"y = \" + str(round(slope,2)) + \"x + \" + str(round(intercept,2))\n",
    "plt.scatter(x_lat,y_maxtemp)\n",
    "plt.plot(x_lat,regress_values,\"r-\")\n",
    "plt.annotate(line_eq,(10,240),fontsize=15,color=\"red\")\n",
    "plt.title('Northern Hemisphere: City Latitude vs Max Temp ')\n",
    "plt.xlabel('Latitude')\n",
    "plt.ylabel('Max Temp')\n",
    "print(f\"The r-squared is: {rvalue**2}\")\n",
    "#plt.xlim(0,90)\n",
    "#plt.ylim(0,110)\n",
    "\n",
    "plt.grid(True)\n",
    "plt.show()\n",
    "print(f' This regression appears tight but as you move closer to the north pole')\n",
    "print(f' the data is less correlated.')\n",
    "#=300-200\n",
    "# based off this regression, we can expect the max temp \n",
    "plt.savefig('../WeatherPy/Northern_Latitude vs Max Temp.png')\n"
   ]
  },
  {
   "cell_type": "markdown",
   "metadata": {},
   "source": [
    "####  Southern Hemisphere - Max Temp vs. Latitude Linear Regression"
   ]
  },
  {
   "cell_type": "code",
   "execution_count": 52,
   "metadata": {},
   "outputs": [
    {
     "name": "stdout",
     "output_type": "stream",
     "text": [
      "The r-squared is: 0.2893311006019193\n"
     ]
    },
    {
     "data": {
      "image/png": "[encoded data removed]",
      "text/plain": [
       "<Figure size 432x288 with 1 Axes>"
      ]
     },
     "metadata": {
      "needs_background": "light"
     },
     "output_type": "display_data"
    },
    {
     "name": "stdout",
     "output_type": "stream",
     "text": [
      " City latitude appears less correlated than the Northern Hemisphere\n",
      " but this might be because the sample set are not equal. There is\n",
      " a little more than 2 times the samples in Northern vs Southern.\n"
     ]
    },
    {
     "data": {
      "text/plain": [
       "<Figure size 432x288 with 0 Axes>"
      ]
     },
     "metadata": {},
     "output_type": "display_data"
    }
   ],
   "source": [
    "x_lat=southern_hem_df['Latitude']\n",
    "y_maxtemp=southern_hem_df['Max Temp']\n",
    "\n",
    "\n",
    "# (slope, intercept, rvalue, pvalue,stderr)= linregress(x_lat, y_maxtemp)\n",
    "# plt.scatter(x_lat, y_maxtemp)\n",
    "# plt.title('City Latitude vs Max Temperature')\n",
    "# plt.xlabel('Latitude')\n",
    "# plt.ylabel('Max Temperature (K)')\n",
    "# plt.grid(True)\n",
    "\n",
    "\n",
    "(slope, intercept, rvalue, pvalue, stderr) = linregress(x_lat, y_maxtemp)\n",
    "regress_values = x_lat * slope + intercept\n",
    "line_eq = \"y = \" + str(round(slope,2)) + \"x + \" + str(round(intercept,2))\n",
    "plt.scatter(x_lat,y_maxtemp)\n",
    "plt.plot(x_lat,regress_values,\"r-\")\n",
    "plt.annotate(line_eq,(-70,288),fontsize=15,color=\"red\")\n",
    "plt.title('Southern Hemisphere: City Latitude vs Max Temp ')\n",
    "plt.xlabel('Latitude')\n",
    "plt.ylabel('Max Temp')\n",
    "print(f\"The r-squared is: {rvalue**2}\")\n",
    "#plt.xlim(0,90)\n",
    "#plt.ylim(0,110)\n",
    "\n",
    "plt.grid(True)\n",
    "plt.show()\n",
    "\n",
    "print(f' City latitude appears less correlated than the Northern Hemisphere')\n",
    "print(f' but this might be because the sample set are not equal. There is')\n",
    "print(f' a little more than 2 times the samples in Northern vs Southern.')\n",
    "#plt.savefig()\n",
    "#find the line where you have the smallest distance between the point of the data set\n",
    "plt.savefig('../WeatherPy/Southern_Latitude vs Max Temp.png')"
   ]
  },
  {
   "cell_type": "markdown",
   "metadata": {},
   "source": [
    "####  Northern Hemisphere - Humidity (%) vs. Latitude Linear Regression"
   ]
  },
  {
   "cell_type": "code",
   "execution_count": 53,
   "metadata": {},
   "outputs": [
    {
     "name": "stdout",
     "output_type": "stream",
     "text": [
      "The r-squared is: 0.10445315980682346\n",
      " City latitude vs humidity shows there isn't a tight relationship\n"
     ]
    },
    {
     "data": {
      "image/png": "[encoded data removed]",
      "text/plain": [
       "<Figure size 432x288 with 1 Axes>"
      ]
     },
     "metadata": {
      "needs_background": "light"
     },
     "output_type": "display_data"
    },
    {
     "data": {
      "text/plain": [
       "<Figure size 432x288 with 0 Axes>"
      ]
     },
     "metadata": {},
     "output_type": "display_data"
    }
   ],
   "source": [
    "x_lat=northern_hem_df['Latitude']\n",
    "y_humidity=northern_hem_df['Humidity']\n",
    "\n",
    "\n",
    "# (slope, intercept, rvalue, pvalue,stderr)= linregress(x_lat, y_maxtemp)\n",
    "# plt.scatter(x_lat, y_maxtemp)\n",
    "# plt.title('City Latitude vs Max Temperature')\n",
    "# plt.xlabel('Latitude')\n",
    "# plt.ylabel('Max Temperature (K)')\n",
    "# plt.grid(True)\n",
    "\n",
    "\n",
    "(slope, intercept, rvalue, pvalue, stderr) = linregress(x_lat, y_humidity)\n",
    "regress_values = x_lat * slope + intercept\n",
    "line_eq = \"y = \" + str(round(slope,2)) + \"x + \" + str(round(intercept,2))\n",
    "plt.scatter(x_lat,y_humidity)\n",
    "plt.plot(x_lat,regress_values,\"r-\")\n",
    "plt.annotate(line_eq,(20,20),fontsize=15,color=\"red\")\n",
    "plt.title('Northern Hemisphere: City Latitude vs Humidity ')\n",
    "plt.xlabel('Latitude')\n",
    "plt.ylabel('Humidity')\n",
    "print(f\"The r-squared is: {rvalue**2}\")\n",
    "#plot.xlim(min, max)\n",
    "plt.xlim(0,90)\n",
    "plt.ylim(0,110)\n",
    "plt.grid(True)\n",
    "\n",
    "print(f' City latitude vs humidity shows there isn\\'t a tight relationship')\n",
    "plt.show()\n",
    "\n",
    "plt.savefig('../WeatherPy/Northern_Latitude vs Humidity.png')"
   ]
  },
  {
   "cell_type": "code",
   "execution_count": null,
   "metadata": {},
   "outputs": [],
   "source": []
  },
  {
   "cell_type": "markdown",
   "metadata": {},
   "source": [
    "####  Southern Hemisphere - Humidity (%) vs. Latitude Linear Regression"
   ]
  },
  {
   "cell_type": "code",
   "execution_count": 54,
   "metadata": {},
   "outputs": [
    {
     "name": "stdout",
     "output_type": "stream",
     "text": [
      " City latitude vs humidity in Southern Hempispher shows\n",
      " there isn't a strong correlation between the two.\n"
     ]
    },
    {
     "data": {
      "image/png": "[encoded data removed]",
      "text/plain": [
       "<Figure size 432x288 with 1 Axes>"
      ]
     },
     "metadata": {
      "needs_background": "light"
     },
     "output_type": "display_data"
    },
    {
     "name": "stdout",
     "output_type": "stream",
     "text": [
      "The r-squared is: 0.18029519276037584\n"
     ]
    }
   ],
   "source": [
    "x_lat=southern_hem_df['Latitude']\n",
    "y_humidity=southern_hem_df['Humidity']\n",
    "\n",
    "\n",
    "# (slope, intercept, rvalue, pvalue,stderr)= linregress(x_lat, y_maxtemp)\n",
    "# plt.scatter(x_lat, y_maxtemp)\n",
    "# plt.title('City Latitude vs Max Temperature')\n",
    "# plt.xlabel('Latitude')\n",
    "# plt.ylabel('Max Temperature (K)')\n",
    "# plt.grid(True)\n",
    "\n",
    "\n",
    "(slope, intercept, rvalue, pvalue, stderr) = linregress(x_lat, y_humidity)\n",
    "regress_values = x_lat * slope + intercept\n",
    "line_eq = \"y = \" + str(round(slope,2)) + \"x + \" + str(round(intercept,2))\n",
    "plt.scatter(x_lat,y_humidity)\n",
    "plt.plot(x_lat,regress_values,\"r-\")\n",
    "plt.annotate(line_eq,(-65,30),fontsize=15,color=\"red\")\n",
    "plt.title('Southern Hemisphere: City Latitude vs Humidity')\n",
    "plt.xlabel('Latitude')\n",
    "plt.ylabel('Humidity')\n",
    "\n",
    "#plot.xlim(min, max)\n",
    "plt.xlim(-70,10)\n",
    "plt.ylim(10,110)\n",
    "plt.grid(True)\n",
    "print(f' City latitude vs humidity in Southern Hempispher shows')\n",
    "print(f' there isn\\'t a strong correlation between the two.')\n",
    "plt.show()\n",
    "\n",
    "print(f\"The r-squared is: {rvalue**2}\")\n"
   ]
  },
  {
   "cell_type": "markdown",
   "metadata": {},
   "source": [
    "####  Northern Hemisphere - Cloudiness (%) vs. Latitude Linear Regression"
   ]
  },
  {
   "cell_type": "code",
   "execution_count": 55,
   "metadata": {},
   "outputs": [
    {
     "name": "stdout",
     "output_type": "stream",
     "text": [
      "The r-squared is: 0.07644413800294053\n",
      " There is not strong correlation between city latitude and cloudiness.\n",
      " I do not know why this plot would not show bigger.\n"
     ]
    },
    {
     "data": {
      "image/png": "[encoded data removed]",
      "text/plain": [
       "<Figure size 432x288 with 1 Axes>"
      ]
     },
     "metadata": {
      "needs_background": "light"
     },
     "output_type": "display_data"
    }
   ],
   "source": [
    "x_lat=northern_hem_df['Latitude']\n",
    "y_cloudiness=northern_hem_df['Cloudiness']\n",
    "\n",
    "\n",
    "# (slope, intercept, rvalue, pvalue,stderr)= linregress(x_lat, y_maxtemp)\n",
    "# plt.scatter(x_lat, y_maxtemp)\n",
    "# plt.title('City Latitude vs Max Temperature')\n",
    "# plt.xlabel('Latitude')\n",
    "# plt.ylabel('Max Temperature (K)')\n",
    "# plt.grid(True)\n",
    "\n",
    "\n",
    "(slope, intercept, rvalue, pvalue, stderr) = linregress(x_lat, y_cloudiness)\n",
    "regress_values = x_lat * slope + intercept\n",
    "line_eq = \"y = \" + str(round(slope,2)) + \"x + \" + str(round(intercept,2))\n",
    "plt.scatter(x_lat,y_cloudiness)\n",
    "plt.plot(x_lat,regress_values,\"r-\")\n",
    "plt.annotate(line_eq,(10,240),fontsize=15,color=\"red\")\n",
    "plt.title('Northern Hemisphere: City Latitude vs Cloudiness (%) ')\n",
    "plt.xlabel('Latitude')\n",
    "plt.ylabel('Cloudiness')\n",
    "print(f\"The r-squared is: {rvalue**2}\")\n",
    "\n",
    "plt.grid(True)\n",
    "print( f' There is not strong correlation between city latitude and cloudiness.')\n",
    "print(f' I do not know why this plot would not show bigger.')\n",
    "plt.show()"
   ]
  },
  {
   "cell_type": "code",
   "execution_count": null,
   "metadata": {},
   "outputs": [],
   "source": []
  },
  {
   "cell_type": "markdown",
   "metadata": {},
   "source": [
    "####  Southern Hemisphere - Cloudiness (%) vs. Latitude Linear Regression"
   ]
  },
  {
   "cell_type": "code",
   "execution_count": 56,
   "metadata": {},
   "outputs": [
    {
     "name": "stdout",
     "output_type": "stream",
     "text": [
      "The r-squared is: 0.18029519276037584\n",
      " There appears to be more correlation in the Southern Hempisphere\n",
      " for city latitude compared to cloudiness.\n"
     ]
    },
    {
     "data": {
      "image/png": "[encoded data removed]",
      "text/plain": [
       "<Figure size 432x288 with 1 Axes>"
      ]
     },
     "metadata": {
      "needs_background": "light"
     },
     "output_type": "display_data"
    }
   ],
   "source": [
    "x_lat=southern_hem_df['Latitude']\n",
    "y_cloudiness=southern_hem_df['Humidity']\n",
    "\n",
    "\n",
    "# (slope, intercept, rvalue, pvalue,stderr)= linregress(x_lat, y_maxtemp)\n",
    "# plt.scatter(x_lat, y_maxtemp)\n",
    "# plt.title('City Latitude vs Max Temperature')\n",
    "# plt.xlabel('Latitude')\n",
    "# plt.ylabel('Max Temperature (K)')\n",
    "# plt.grid(True)\n",
    "\n",
    "\n",
    "(slope, intercept, rvalue, pvalue, stderr) = linregress(x_lat, y_cloudiness)\n",
    "regress_values = x_lat * slope + intercept\n",
    "line_eq = \"y = \" + str(round(slope,2)) + \"x + \" + str(round(intercept,2))\n",
    "plt.scatter(x_lat,y_cloudiness)\n",
    "plt.plot(x_lat,regress_values,\"r-\")\n",
    "plt.annotate(line_eq,(-75,50),fontsize=15,color=\"red\")\n",
    "plt.title('Southern Hemisphere: City Latitude vs Cloudiness')\n",
    "plt.xlabel('Latitude')\n",
    "plt.ylabel('Cloudiness')\n",
    "print(f\"The r-squared is: {rvalue**2}\")\n",
    "#plot.xlim(min, max)\n",
    "plt.xlim(-70,10)\n",
    "plt.ylim(10,120)\n",
    "plt.grid(True)\n",
    "print(f' There appears to be more correlation in the Southern Hempisphere')\n",
    "print(f' for city latitude compared to cloudiness.')\n",
    "plt.show()\n"
   ]
  },
  {
   "cell_type": "markdown",
   "metadata": {},
   "source": [
    "####  Northern Hemisphere - Wind Speed (mph) vs. Latitude Linear Regression"
   ]
  },
  {
   "cell_type": "code",
   "execution_count": 57,
   "metadata": {},
   "outputs": [
    {
     "name": "stdout",
     "output_type": "stream",
     "text": [
      "The r-squared is: 0.0009570132607095526\n",
      " there doesn't appear to be strong correlation between city latitude vs wind speed.\n"
     ]
    },
    {
     "data": {
      "image/png": "[encoded data removed]",
      "text/plain": [
       "<Figure size 432x288 with 1 Axes>"
      ]
     },
     "metadata": {
      "needs_background": "light"
     },
     "output_type": "display_data"
    }
   ],
   "source": [
    "x_lat=northern_hem_df['Latitude']\n",
    "y_wind_speed=northern_hem_df['Wind Speed']\n",
    "\n",
    "\n",
    "# (slope, intercept, rvalue, pvalue,stderr)= linregress(x_lat, y_maxtemp)\n",
    "# plt.scatter(x_lat, y_maxtemp)\n",
    "# plt.title('City Latitude vs Max Temperature')\n",
    "# plt.xlabel('Latitude')\n",
    "# plt.ylabel('Max Temperature (K)')\n",
    "# plt.grid(True)\n",
    "\n",
    "\n",
    "(slope, intercept, rvalue, pvalue, stderr) = linregress(x_lat, y_wind_speed)\n",
    "regress_values = x_lat * slope + intercept\n",
    "line_eq = \"y = \" + str(round(slope,2)) + \"x + \" + str(round(intercept,2))\n",
    "plt.scatter(x_lat,y_wind_speed)\n",
    "plt.plot(x_lat,regress_values,\"r-\")\n",
    "plt.annotate(line_eq,(0,10),fontsize=15,color=\"red\")\n",
    "plt.title('Northern Hemisphere: City Latitude vs Wind Speed (mph) ')\n",
    "plt.xlabel('Latitude')\n",
    "plt.ylabel('Wind Speed')\n",
    "print(f\"The r-squared is: {rvalue**2}\")\n",
    "plt.grid(True)\n",
    "\n",
    "print(f' there doesn\\'t appear to be strong correlation between city latitude vs wind speed.')\n",
    "plt.show()"
   ]
  },
  {
   "cell_type": "markdown",
   "metadata": {},
   "source": [
    "####  Southern Hemisphere - Wind Speed (mph) vs. Latitude Linear Regression"
   ]
  },
  {
   "cell_type": "code",
   "execution_count": 58,
   "metadata": {},
   "outputs": [
    {
     "name": "stdout",
     "output_type": "stream",
     "text": [
      "The r-squared is: 0.04368842247720583\n",
      " there doesn't appear to be strong correlation between city latitude vs wind speed.\n"
     ]
    },
    {
     "data": {
      "image/png": "[encoded data removed]",
      "text/plain": [
       "<Figure size 432x288 with 1 Axes>"
      ]
     },
     "metadata": {
      "needs_background": "light"
     },
     "output_type": "display_data"
    }
   ],
   "source": [
    "x_lat=southern_hem_df['Latitude']\n",
    "y_wind_speed=southern_hem_df['Wind Speed']\n",
    "\n",
    "\n",
    "# (slope, intercept, rvalue, pvalue,stderr)= linregress(x_lat, y_maxtemp)\n",
    "# plt.scatter(x_lat, y_maxtemp)\n",
    "# plt.title('City Latitude vs Max Temperature')\n",
    "# plt.xlabel('Latitude')\n",
    "# plt.ylabel('Max Temperature (K)')\n",
    "# plt.grid(True)\n",
    "\n",
    "\n",
    "(slope, intercept, rvalue, pvalue, stderr) = linregress(x_lat, y_wind_speed)\n",
    "regress_values = x_lat * slope + intercept\n",
    "line_eq = \"y = \" + str(round(slope,2)) + \"x + \" + str(round(intercept,2))\n",
    "plt.scatter(x_lat,y_wind_speed)\n",
    "plt.plot(x_lat,regress_values,\"r-\")\n",
    "plt.annotate(line_eq,(-65,10),fontsize=15,color=\"red\")\n",
    "plt.title('Southern Hemisphere: City Latitude vs Wind Speed (mph)')\n",
    "plt.xlabel('Latitude')\n",
    "plt.ylabel('Wind Speed (mph)')\n",
    "print(f\"The r-squared is: {rvalue**2}\")\n",
    "#plot.xlim(min, max)\n",
    "#plt.xlim(-70,10)\n",
    "#plt.ylim(10,110)\n",
    "plt.grid(True)\n",
    "print(f' there doesn\\'t appear to be strong correlation between city latitude vs wind speed.')\n",
    "plt.show()"
   ]
  },
  {
   "cell_type": "code",
   "execution_count": null,
   "metadata": {},
   "outputs": [],
   "source": []
  },
  {
   "cell_type": "code",
   "execution_count": null,
   "metadata": {},
   "outputs": [],
   "source": []
  }
 ],
 "metadata": {
  "anaconda-cloud": {},
  "kernel_info": {
   "name": "python3"
  },
  "kernelspec": {
   "display_name": "Python 3",
   "language": "python",
   "name": "python3"
  },
  "language_info": {
   "codemirror_mode": {
    "name": "ipython",
    "version": 3
   },
   "file_extension": ".py",
   "mimetype": "text/x-python",
   "name": "python",
   "nbconvert_exporter": "python",
   "pygments_lexer": "ipython3",
   "version": "3.8.3"
  },
  "latex_envs": {
   "LaTeX_envs_menu_present": true,
   "autoclose": false,
   "autocomplete": true,
   "bibliofile": "biblio.bib",
   "cite_by": "apalike",
   "current_citInitial": 1,
   "eqLabelWithNumbers": true,
   "eqNumInitial": 1,
   "hotkeys": {
    "equation": "Ctrl-E",
    "itemize": "Ctrl-I"
   },
   "labels_anchors": false,
   "latex_user_defs": false,
   "report_style_numbering": false,
   "user_envs_cfg": false
  },
  "nteract": {
   "version": "0.12.3"
  }
 },
 "nbformat": 4,
 "nbformat_minor": 2
}
