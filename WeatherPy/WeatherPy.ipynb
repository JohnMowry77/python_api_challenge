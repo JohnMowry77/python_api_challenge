{
 "cells": [
  {
   "cell_type": "markdown",
   "metadata": {},
   "source": [
    "# WeatherPy\n",
    "----\n",
    "\n",
    "#### Note\n",
    "* Instructions have been included for each segment. You do not have to follow them exactly, but they are included to help you think through the steps."
   ]
  },
  {
   "cell_type": "code",
   "execution_count": 1,
   "metadata": {
    "scrolled": true
   },
   "outputs": [],
   "source": [
    "# Dependencies and Setup\n",
    "import matplotlib.pyplot as plt\n",
    "import pandas as pd\n",
    "import numpy as np\n",
    "import requests\n",
    "import time\n",
    "from scipy.stats import linregress\n",
    "from pprint import pprint\n",
    "\n",
    "# Import API key\n",
    "from api_keys import weather_api_key\n",
    "\n",
    "# Incorporated citipy to determine city based on latitude and longitude\n",
    "from citipy import citipy\n",
    "\n",
    "# Output File (CSV)\n",
    "output_data_file = \"output_data/cities.csv\"\n",
    "\n",
    "# Range of latitudes and longitudes\n",
    "lat_range = (-90, 90)\n",
    "lng_range = (-180, 180)\n",
    "\n",
    "#daily 7 day forecast API\n"
   ]
  },
  {
   "cell_type": "code",
   "execution_count": 2,
   "metadata": {},
   "outputs": [],
   "source": [
    "#weather_api_key\n"
   ]
  },
  {
   "cell_type": "markdown",
   "metadata": {},
   "source": [
    "## Generate Cities List"
   ]
  },
  {
   "cell_type": "code",
   "execution_count": 3,
   "metadata": {},
   "outputs": [
    {
     "data": {
      "text/plain": [
       "611"
      ]
     },
     "execution_count": 3,
     "metadata": {},
     "output_type": "execute_result"
    }
   ],
   "source": [
    "# List for holding lat_lngs and cities\n",
    "lat_lngs = []\n",
    "cities_list = []\n",
    "\n",
    "# Create a set of random lat and lng combinations\n",
    "lats = np.random.uniform(lat_range[0], lat_range[1], size=1500)\n",
    "lngs = np.random.uniform(lng_range[0], lng_range[1], size=1500)\n",
    "lat_lngs = zip(lats, lngs)\n",
    "\n",
    "# Identify nearest city for each lat, lng combination\n",
    "for lat_lng in lat_lngs:\n",
    "    city = citipy.nearest_city(lat_lng[0], lat_lng[1]).city_name\n",
    "    \n",
    "    # If the city is unique, then add it to a our cities list\n",
    "    if city not in cities_list:\n",
    "        cities_list.append(city)\n",
    "\n",
    "# Print the city count to confirm sufficient count\n",
    "len(cities_list)"
   ]
  },
  {
   "cell_type": "code",
   "execution_count": 64,
   "metadata": {},
   "outputs": [],
   "source": [
    "#print(city)"
   ]
  },
  {
   "cell_type": "code",
   "execution_count": 65,
   "metadata": {},
   "outputs": [],
   "source": [
    "#print(cities_list) #print a list of the cities_list"
   ]
  },
  {
   "cell_type": "code",
   "execution_count": 66,
   "metadata": {},
   "outputs": [],
   "source": [
    "# this is your api url link, we fill it in below. \n",
    "#api.openweathermap.org/data/2.5/weather?q={city name}&appid={API key}"
   ]
  },
  {
   "cell_type": "code",
   "execution_count": 67,
   "metadata": {},
   "outputs": [
    {
     "name": "stdout",
     "output_type": "stream",
     "text": [
      "http://api.openweathermap.org/data/2.5/weather?appid=bc6b9a82441f1910d9054de33f421ceb&q=busselton\n"
     ]
    }
   ],
   "source": [
    "base_url= \"http://api.openweathermap.org/data/2.5/weather?\"\n",
    "#city_one= \"Denver\"\n",
    "\n",
    "query_url= base_url+ \"appid=\"+weather_api_key+ \"&q=\" + city\n",
    "print(query_url) #click on this url and put into Google.\n"
   ]
  },
  {
   "cell_type": "code",
   "execution_count": 68,
   "metadata": {},
   "outputs": [
    {
     "name": "stdout",
     "output_type": "stream",
     "text": [
      "{'base': 'stations',\n",
      " 'clouds': {'all': 0},\n",
      " 'cod': 200,\n",
      " 'coord': {'lat': -33.65, 'lon': 115.3333},\n",
      " 'dt': 1611980605,\n",
      " 'id': 2075265,\n",
      " 'main': {'feels_like': 300.28,\n",
      "          'humidity': 39,\n",
      "          'pressure': 1015,\n",
      "          'temp': 301.27,\n",
      "          'temp_max': 302.59,\n",
      "          'temp_min': 298.15},\n",
      " 'name': 'Busselton',\n",
      " 'sys': {'country': 'AU',\n",
      "         'id': 2008303,\n",
      "         'sunrise': 1611956311,\n",
      "         'sunset': 1612005910,\n",
      "         'type': 3},\n",
      " 'timezone': 28800,\n",
      " 'visibility': 10000,\n",
      " 'weather': [{'description': 'clear sky',\n",
      "              'icon': '01d',\n",
      "              'id': 800,\n",
      "              'main': 'Clear'}],\n",
      " 'wind': {'deg': 54, 'gust': 6.26, 'speed': 2.68}}\n"
     ]
    }
   ],
   "source": [
    "#query_url='api.openweathermap.org/data/2.5/weather?q={city}&appid={weather_api_key}'\n",
    "#query_url\n",
    "\n",
    "weather_response=requests.get(query_url)\n",
    "weather_json=weather_response.json()\n",
    "#pprint(f'The weather API responded with: {weather_json}.')\n",
    "\n",
    "pprint(weather_json)"
   ]
  },
  {
   "cell_type": "code",
   "execution_count": null,
   "metadata": {},
   "outputs": [],
   "source": []
  },
  {
   "cell_type": "code",
   "execution_count": null,
   "metadata": {},
   "outputs": [],
   "source": []
  },
  {
   "cell_type": "markdown",
   "metadata": {},
   "source": [
    "### Perform API Calls\n",
    "* Perform a weather check on each city using a series of successive API calls.\n",
    "* Include a print log of each city as it'sbeing processed (with the city number and city name).\n"
   ]
  },
  {
   "cell_type": "code",
   "execution_count": 69,
   "metadata": {
    "scrolled": true
   },
   "outputs": [
    {
     "name": "stdout",
     "output_type": "stream",
     "text": [
      " Processing record number 1 for Set 1 the city of port alfred\n",
      " Processing record number 2 for Set 1 the city of albany\n",
      " Processing record number 3 for Set 1 the city of mehamn\n",
      " Processing record number 4 for Set 1 the city of santa cruz de tenerife\n",
      " Processing record number 5 for Set 1 the city of suzuka\n",
      " Processing record number 6 for Set 1 the city of walvis bay\n",
      " Processing record number 7 for Set 1 the city of yellowknife\n",
      " Processing record number 8 for Set 1 the city of hobart\n",
      " Processing record number 9 for Set 1 the city of tahoua\n",
      " Processing record number 10 for Set 1 the city of margate\n",
      " Processing record number 11 for Set 1 the city of coquimbo\n",
      " Processing record number 12 for Set 1 the city of rikitea\n",
      " Processing record number 13 for Set 1 the city of ushuaia\n",
      " Processing record number 14 for Set 1 the city of new norfolk\n",
      "City not found. Skipping...\n",
      " Processing record number 16 for Set 1 the city of alice springs\n",
      " Processing record number 17 for Set 1 the city of pisco\n",
      " Processing record number 18 for Set 1 the city of airai\n",
      " Processing record number 19 for Set 1 the city of east london\n",
      " Processing record number 20 for Set 1 the city of nador\n",
      " Processing record number 21 for Set 1 the city of tamboril\n",
      "City not found. Skipping...\n",
      " Processing record number 23 for Set 1 the city of torbay\n",
      " Processing record number 24 for Set 1 the city of karlshus\n",
      " Processing record number 25 for Set 1 the city of qasigiannguit\n",
      " Processing record number 26 for Set 1 the city of pamanukan\n",
      " Processing record number 27 for Set 1 the city of tual\n",
      " Processing record number 28 for Set 1 the city of punta arenas\n",
      " Processing record number 29 for Set 1 the city of zhuhai\n",
      " Processing record number 30 for Set 1 the city of esperance\n",
      " Processing record number 31 for Set 1 the city of lata\n",
      " Processing record number 32 for Set 1 the city of kodiak\n",
      " Processing record number 33 for Set 1 the city of faanui\n",
      " Processing record number 34 for Set 1 the city of hilo\n",
      " Processing record number 35 for Set 1 the city of saryozek\n",
      " Processing record number 36 for Set 1 the city of mataura\n",
      " Processing record number 37 for Set 1 the city of abu dhabi\n",
      " Processing record number 38 for Set 1 the city of beringovskiy\n",
      " Processing record number 39 for Set 1 the city of vaini\n",
      " Processing record number 40 for Set 1 the city of kangaba\n",
      " Processing record number 41 for Set 1 the city of hermanus\n",
      " Processing record number 42 for Set 1 the city of payo\n",
      " Processing record number 43 for Set 1 the city of ponta do sol\n",
      "City not found. Skipping...\n",
      " Processing record number 45 for Set 1 the city of port hardy\n",
      " Processing record number 46 for Set 1 the city of tornio\n",
      " Processing record number 47 for Set 1 the city of busselton\n",
      "City not found. Skipping...\n",
      " Processing record number 49 for Set 1 the city of popondetta\n",
      " Processing record number 50 for Set 1 the city of lorengau\n",
      "City not found. Skipping...\n",
      " Processing record number 1 for Set 2 the city of lovozero\n",
      " Processing record number 2 for Set 2 the city of kununurra\n",
      " Processing record number 3 for Set 2 the city of westport\n",
      " Processing record number 4 for Set 2 the city of isangel\n",
      " Processing record number 5 for Set 2 the city of kapaa\n",
      " Processing record number 6 for Set 2 the city of klaksvik\n",
      " Processing record number 7 for Set 2 the city of kaitangata\n",
      " Processing record number 8 for Set 2 the city of polovinnoye\n",
      " Processing record number 9 for Set 2 the city of kieta\n",
      " Processing record number 10 for Set 2 the city of grindavik\n",
      " Processing record number 11 for Set 2 the city of sao francisco de assis\n",
      " Processing record number 12 for Set 2 the city of san quintin\n",
      " Processing record number 13 for Set 2 the city of samarai\n",
      " Processing record number 14 for Set 2 the city of manaure\n",
      " Processing record number 15 for Set 2 the city of milkovo\n",
      " Processing record number 16 for Set 2 the city of lao cai\n",
      " Processing record number 17 for Set 2 the city of den helder\n",
      " Processing record number 18 for Set 2 the city of cervo\n",
      "City not found. Skipping...\n",
      " Processing record number 20 for Set 2 the city of jacareacanga\n",
      " Processing record number 21 for Set 2 the city of rio gallegos\n",
      " Processing record number 22 for Set 2 the city of jijiga\n",
      " Processing record number 23 for Set 2 the city of atuona\n",
      " Processing record number 24 for Set 2 the city of tiksi\n",
      " Processing record number 25 for Set 2 the city of waitati\n",
      " Processing record number 26 for Set 2 the city of butaritari\n",
      " Processing record number 27 for Set 2 the city of kavieng\n",
      " Processing record number 28 for Set 2 the city of lompoc\n",
      " Processing record number 29 for Set 2 the city of kholodnyy\n",
      " Processing record number 30 for Set 2 the city of makakilo city\n",
      " Processing record number 31 for Set 2 the city of livingston\n",
      " Processing record number 32 for Set 2 the city of chuy\n",
      " Processing record number 33 for Set 2 the city of mahebourg\n",
      " Processing record number 34 for Set 2 the city of khatanga\n",
      " Processing record number 35 for Set 2 the city of bubaque\n",
      " Processing record number 36 for Set 2 the city of wanning\n",
      " Processing record number 37 for Set 2 the city of salalah\n",
      " Processing record number 38 for Set 2 the city of narsaq\n",
      " Processing record number 39 for Set 2 the city of grand gaube\n",
      " Processing record number 40 for Set 2 the city of ucluelet\n",
      " Processing record number 41 for Set 2 the city of staunton\n",
      " Processing record number 42 for Set 2 the city of hovd\n",
      " Processing record number 43 for Set 2 the city of tuktoyaktuk\n",
      "City not found. Skipping...\n",
      " Processing record number 45 for Set 2 the city of nova olimpia\n",
      " Processing record number 46 for Set 2 the city of jinchang\n",
      " Processing record number 47 for Set 2 the city of mlonggo\n",
      " Processing record number 48 for Set 2 the city of vestmannaeyjar\n",
      " Processing record number 49 for Set 2 the city of bluff\n",
      " Processing record number 50 for Set 2 the city of constitucion\n",
      " Processing record number 1 for Set 3 the city of thompson\n",
      " Processing record number 2 for Set 3 the city of puerto ayora\n",
      " Processing record number 3 for Set 3 the city of yulara\n",
      " Processing record number 4 for Set 3 the city of werota\n",
      " Processing record number 5 for Set 3 the city of nome\n",
      " Processing record number 6 for Set 3 the city of tura\n",
      " Processing record number 7 for Set 3 the city of monte san giovanni campano\n",
      " Processing record number 8 for Set 3 the city of qaanaaq\n",
      " Processing record number 9 for Set 3 the city of cockburn town\n",
      " Processing record number 10 for Set 3 the city of nara\n",
      " Processing record number 11 for Set 3 the city of fortuna\n",
      " Processing record number 12 for Set 3 the city of geraldton\n",
      " Processing record number 13 for Set 3 the city of kruisfontein\n",
      " Processing record number 14 for Set 3 the city of yining\n",
      " Processing record number 15 for Set 3 the city of antalaha\n",
      " Processing record number 16 for Set 3 the city of asau\n",
      " Processing record number 17 for Set 3 the city of jamestown\n",
      " Processing record number 18 for Set 3 the city of mareeba\n",
      " Processing record number 19 for Set 3 the city of serdobsk\n",
      " Processing record number 20 for Set 3 the city of kamuli\n",
      " Processing record number 21 for Set 3 the city of bredasdorp\n",
      " Processing record number 22 for Set 3 the city of dengfeng\n",
      " Processing record number 23 for Set 3 the city of chapais\n",
      " Processing record number 24 for Set 3 the city of shizunai\n",
      "City not found. Skipping...\n",
      " Processing record number 26 for Set 3 the city of tasiilaq\n",
      " Processing record number 27 for Set 3 the city of guerrero negro\n",
      " Processing record number 28 for Set 3 the city of san francisco del mar\n",
      " Processing record number 29 for Set 3 the city of vermillion\n",
      " Processing record number 30 for Set 3 the city of bellevue\n",
      " Processing record number 31 for Set 3 the city of kapuskasing\n",
      " Processing record number 32 for Set 3 the city of lebu\n",
      " Processing record number 33 for Set 3 the city of comodoro rivadavia\n",
      " Processing record number 34 for Set 3 the city of hengyang\n",
      " Processing record number 35 for Set 3 the city of shakiso\n",
      " Processing record number 36 for Set 3 the city of ostrovnoy\n",
      " Processing record number 37 for Set 3 the city of suntar\n",
      " Processing record number 38 for Set 3 the city of paamiut\n",
      " Processing record number 39 for Set 3 the city of zeya\n",
      " Processing record number 40 for Set 3 the city of damghan\n"
     ]
    },
    {
     "name": "stdout",
     "output_type": "stream",
     "text": [
      " Processing record number 41 for Set 3 the city of verkhoyansk\n",
      " Processing record number 42 for Set 3 the city of naze\n",
      " Processing record number 43 for Set 3 the city of irbil\n",
      " Processing record number 44 for Set 3 the city of nevelsk\n",
      " Processing record number 45 for Set 3 the city of thinadhoo\n",
      " Processing record number 46 for Set 3 the city of ipil\n",
      " Processing record number 47 for Set 3 the city of bengkulu\n",
      " Processing record number 48 for Set 3 the city of areosa\n",
      " Processing record number 49 for Set 3 the city of maceio\n",
      " Processing record number 50 for Set 3 the city of riyadh\n",
      " Processing record number 1 for Set 4 the city of bataipora\n",
      " Processing record number 2 for Set 4 the city of guilin\n",
      "City not found. Skipping...\n",
      " Processing record number 4 for Set 4 the city of port elizabeth\n",
      " Processing record number 5 for Set 4 the city of ferrol\n",
      " Processing record number 6 for Set 4 the city of mandalgovi\n",
      " Processing record number 7 for Set 4 the city of cidreira\n",
      "City not found. Skipping...\n",
      " Processing record number 9 for Set 4 the city of cape town\n",
      " Processing record number 10 for Set 4 the city of alofi\n",
      " Processing record number 11 for Set 4 the city of iracoubo\n",
      " Processing record number 12 for Set 4 the city of santa rosa\n",
      " Processing record number 13 for Set 4 the city of mount gambier\n",
      " Processing record number 14 for Set 4 the city of lasa\n",
      " Processing record number 15 for Set 4 the city of kirakira\n",
      " Processing record number 16 for Set 4 the city of saint-philippe\n",
      " Processing record number 17 for Set 4 the city of clyde river\n",
      " Processing record number 18 for Set 4 the city of bethel\n",
      " Processing record number 19 for Set 4 the city of aitape\n",
      " Processing record number 20 for Set 4 the city of nouadhibou\n",
      " Processing record number 21 for Set 4 the city of chokurdakh\n",
      " Processing record number 22 for Set 4 the city of katangli\n",
      " Processing record number 23 for Set 4 the city of huaiyuan\n",
      " Processing record number 24 for Set 4 the city of conde\n",
      " Processing record number 25 for Set 4 the city of mayo\n",
      " Processing record number 26 for Set 4 the city of kavaratti\n",
      "City not found. Skipping...\n",
      " Processing record number 28 for Set 4 the city of gat\n",
      " Processing record number 29 for Set 4 the city of snasa\n",
      " Processing record number 30 for Set 4 the city of castro\n",
      " Processing record number 31 for Set 4 the city of broken hill\n",
      " Processing record number 32 for Set 4 the city of auxerre\n",
      " Processing record number 33 for Set 4 the city of saint-augustin\n",
      " Processing record number 34 for Set 4 the city of sitrah\n",
      " Processing record number 35 for Set 4 the city of honiara\n",
      "City not found. Skipping...\n",
      " Processing record number 37 for Set 4 the city of parabel\n",
      " Processing record number 38 for Set 4 the city of bambous virieux\n",
      " Processing record number 39 for Set 4 the city of tazovskiy\n",
      " Processing record number 40 for Set 4 the city of georgetown\n",
      "City not found. Skipping...\n",
      " Processing record number 42 for Set 4 the city of solnechnyy\n",
      " Processing record number 43 for Set 4 the city of turukhansk\n",
      " Processing record number 44 for Set 4 the city of lat yao\n",
      " Processing record number 45 for Set 4 the city of nelson bay\n",
      " Processing record number 46 for Set 4 the city of hun\n",
      " Processing record number 47 for Set 4 the city of barrow\n",
      " Processing record number 48 for Set 4 the city of laguna\n",
      " Processing record number 49 for Set 4 the city of severo-kurilsk\n",
      " Processing record number 50 for Set 4 the city of victoria\n",
      " Processing record number 1 for Set 5 the city of grenaa\n",
      " Processing record number 2 for Set 5 the city of yeniseysk\n",
      " Processing record number 3 for Set 5 the city of zyryanovsk\n",
      " Processing record number 4 for Set 5 the city of suez\n",
      " Processing record number 5 for Set 5 the city of namibe\n",
      " Processing record number 6 for Set 5 the city of vao\n",
      " Processing record number 7 for Set 5 the city of lukovetskiy\n",
      "City not found. Skipping...\n",
      " Processing record number 9 for Set 5 the city of otavi\n",
      " Processing record number 10 for Set 5 the city of gryazovets\n",
      " Processing record number 11 for Set 5 the city of rawson\n",
      " Processing record number 12 for Set 5 the city of shwebo\n",
      " Processing record number 13 for Set 5 the city of zhigansk\n",
      " Processing record number 14 for Set 5 the city of katsuura\n",
      " Processing record number 15 for Set 5 the city of ilulissat\n",
      " Processing record number 16 for Set 5 the city of hualmay\n",
      " Processing record number 17 for Set 5 the city of cabo san lucas\n",
      " Processing record number 18 for Set 5 the city of saskylakh\n",
      " Processing record number 19 for Set 5 the city of hasaki\n",
      " Processing record number 20 for Set 5 the city of portland\n",
      " Processing record number 21 for Set 5 the city of cabinda\n",
      " Processing record number 22 for Set 5 the city of dingle\n",
      " Processing record number 23 for Set 5 the city of arraial do cabo\n",
      " Processing record number 24 for Set 5 the city of port macquarie\n",
      " Processing record number 25 for Set 5 the city of upernavik\n",
      " Processing record number 26 for Set 5 the city of zabol\n",
      " Processing record number 27 for Set 5 the city of abnub\n",
      " Processing record number 28 for Set 5 the city of ankazobe\n",
      " Processing record number 29 for Set 5 the city of richards bay\n",
      " Processing record number 30 for Set 5 the city of erenhot\n",
      " Processing record number 31 for Set 5 the city of vernon\n",
      " Processing record number 32 for Set 5 the city of moose factory\n",
      "City not found. Skipping...\n",
      "City not found. Skipping...\n",
      " Processing record number 35 for Set 5 the city of dover\n",
      " Processing record number 36 for Set 5 the city of acapulco\n",
      "City not found. Skipping...\n",
      " Processing record number 38 for Set 5 the city of pevek\n",
      " Processing record number 39 for Set 5 the city of port lincoln\n",
      " Processing record number 40 for Set 5 the city of sitka\n",
      " Processing record number 41 for Set 5 the city of necochea\n",
      "City not found. Skipping...\n",
      " Processing record number 43 for Set 5 the city of ancud\n",
      " Processing record number 44 for Set 5 the city of rorvik\n",
      " Processing record number 45 for Set 5 the city of denizli\n",
      " Processing record number 46 for Set 5 the city of talnakh\n",
      " Processing record number 47 for Set 5 the city of villanueva\n",
      " Processing record number 48 for Set 5 the city of klyuchi\n",
      " Processing record number 49 for Set 5 the city of te anau\n",
      " Processing record number 50 for Set 5 the city of atar\n",
      " Processing record number 1 for Set 6 the city of vanavara\n",
      " Processing record number 2 for Set 6 the city of erzin\n",
      " Processing record number 3 for Set 6 the city of abu kamal\n",
      " Processing record number 4 for Set 6 the city of mazatlan\n",
      " Processing record number 5 for Set 6 the city of vardo\n",
      " Processing record number 6 for Set 6 the city of longyearbyen\n",
      " Processing record number 7 for Set 6 the city of lima\n",
      " Processing record number 8 for Set 6 the city of salobrena\n",
      "City not found. Skipping...\n",
      " Processing record number 10 for Set 6 the city of sao domingos\n",
      " Processing record number 11 for Set 6 the city of broadstairs\n",
      " Processing record number 12 for Set 6 the city of carnarvon\n",
      " Processing record number 13 for Set 6 the city of beaumont\n",
      " Processing record number 14 for Set 6 the city of sungaipenuh\n",
      " Processing record number 15 for Set 6 the city of kulhudhuffushi\n",
      " Processing record number 16 for Set 6 the city of husavik\n",
      " Processing record number 17 for Set 6 the city of mangrol\n",
      "City not found. Skipping...\n",
      " Processing record number 19 for Set 6 the city of blama\n",
      " Processing record number 20 for Set 6 the city of dunedin\n",
      " Processing record number 21 for Set 6 the city of college\n",
      " Processing record number 22 for Set 6 the city of minsk\n",
      " Processing record number 23 for Set 6 the city of dikson\n",
      "City not found. Skipping...\n",
      " Processing record number 25 for Set 6 the city of carcassonne\n",
      " Processing record number 26 for Set 6 the city of ketchikan\n",
      " Processing record number 27 for Set 6 the city of byron bay\n",
      " Processing record number 28 for Set 6 the city of hundorp\n",
      "City not found. Skipping...\n",
      " Processing record number 30 for Set 6 the city of emerald\n",
      " Processing record number 31 for Set 6 the city of raga\n",
      "City not found. Skipping...\n",
      " Processing record number 33 for Set 6 the city of katherine\n",
      " Processing record number 34 for Set 6 the city of loreto\n",
      " Processing record number 35 for Set 6 the city of blackwater\n",
      " Processing record number 36 for Set 6 the city of chipinge\n"
     ]
    },
    {
     "name": "stdout",
     "output_type": "stream",
     "text": [
      " Processing record number 37 for Set 6 the city of zavodouspenskoye\n",
      " Processing record number 38 for Set 6 the city of yerbogachen\n",
      " Processing record number 39 for Set 6 the city of nikolskoye\n",
      " Processing record number 40 for Set 6 the city of diu\n",
      " Processing record number 41 for Set 6 the city of port hedland\n",
      " Processing record number 42 for Set 6 the city of kaeo\n",
      " Processing record number 43 for Set 6 the city of buala\n",
      " Processing record number 44 for Set 6 the city of los llanos de aridane\n",
      " Processing record number 45 for Set 6 the city of itagi\n",
      " Processing record number 46 for Set 6 the city of mamallapuram\n",
      " Processing record number 47 for Set 6 the city of koslan\n",
      " Processing record number 48 for Set 6 the city of mananjary\n",
      " Processing record number 49 for Set 6 the city of vitim\n",
      " Processing record number 50 for Set 6 the city of codrington\n",
      " Processing record number 1 for Set 7 the city of khorixas\n",
      " Processing record number 2 for Set 7 the city of north bend\n",
      " Processing record number 3 for Set 7 the city of pauini\n",
      " Processing record number 4 for Set 7 the city of ceyhan\n",
      " Processing record number 5 for Set 7 the city of caronport\n",
      " Processing record number 6 for Set 7 the city of kihurio\n",
      " Processing record number 7 for Set 7 the city of quatre cocos\n",
      " Processing record number 8 for Set 7 the city of poum\n",
      " Processing record number 9 for Set 7 the city of batemans bay\n",
      " Processing record number 10 for Set 7 the city of katakwi\n",
      " Processing record number 11 for Set 7 the city of souillac\n",
      " Processing record number 12 for Set 7 the city of mancio lima\n",
      " Processing record number 13 for Set 7 the city of vila velha\n",
      " Processing record number 14 for Set 7 the city of nicoya\n",
      " Processing record number 15 for Set 7 the city of aden\n",
      " Processing record number 16 for Set 7 the city of ballina\n",
      " Processing record number 17 for Set 7 the city of hithadhoo\n",
      " Processing record number 18 for Set 7 the city of isla mujeres\n",
      " Processing record number 19 for Set 7 the city of abu samrah\n",
      " Processing record number 20 for Set 7 the city of poya\n",
      " Processing record number 21 for Set 7 the city of marshfield\n",
      " Processing record number 22 for Set 7 the city of romanovo\n",
      " Processing record number 23 for Set 7 the city of derzhavinsk\n",
      " Processing record number 24 for Set 7 the city of krasnogvardeyets\n",
      " Processing record number 25 for Set 7 the city of inhambane\n",
      " Processing record number 26 for Set 7 the city of sao joao da barra\n",
      " Processing record number 27 for Set 7 the city of takoradi\n",
      " Processing record number 28 for Set 7 the city of khani\n",
      " Processing record number 29 for Set 7 the city of ornskoldsvik\n",
      " Processing record number 30 for Set 7 the city of mecca\n",
      " Processing record number 31 for Set 7 the city of jalu\n",
      " Processing record number 32 for Set 7 the city of lagoa\n",
      " Processing record number 33 for Set 7 the city of saint george\n",
      "City not found. Skipping...\n",
      " Processing record number 35 for Set 7 the city of mitsamiouli\n",
      " Processing record number 36 for Set 7 the city of itarema\n",
      " Processing record number 37 for Set 7 the city of acopiara\n",
      " Processing record number 38 for Set 7 the city of avarua\n",
      " Processing record number 39 for Set 7 the city of teahupoo\n",
      " Processing record number 40 for Set 7 the city of petropavlovsk-kamchatskiy\n",
      " Processing record number 41 for Set 7 the city of belaya gora\n",
      "City not found. Skipping...\n",
      " Processing record number 43 for Set 7 the city of iwanai\n",
      " Processing record number 44 for Set 7 the city of angoche\n",
      " Processing record number 45 for Set 7 the city of sidney\n",
      "City not found. Skipping...\n",
      " Processing record number 47 for Set 7 the city of coos bay\n",
      " Processing record number 48 for Set 7 the city of northam\n",
      " Processing record number 49 for Set 7 the city of nabire\n",
      " Processing record number 50 for Set 7 the city of inuvik\n",
      " Processing record number 1 for Set 8 the city of faya\n",
      " Processing record number 2 for Set 8 the city of rio grande\n",
      " Processing record number 3 for Set 8 the city of rock springs\n",
      " Processing record number 4 for Set 8 the city of hambantota\n",
      " Processing record number 5 for Set 8 the city of srivardhan\n",
      " Processing record number 6 for Set 8 the city of whitehorse\n",
      " Processing record number 7 for Set 8 the city of christchurch\n",
      " Processing record number 8 for Set 8 the city of kangaatsiaq\n",
      " Processing record number 9 for Set 8 the city of oliveira\n",
      " Processing record number 10 for Set 8 the city of timra\n",
      " Processing record number 11 for Set 8 the city of ixtapa\n",
      " Processing record number 12 for Set 8 the city of manawar\n",
      " Processing record number 13 for Set 8 the city of chaman\n",
      " Processing record number 14 for Set 8 the city of sur\n",
      " Processing record number 15 for Set 8 the city of kondopoga\n",
      " Processing record number 16 for Set 8 the city of santa cruz del sur\n",
      " Processing record number 17 for Set 8 the city of la ronge\n",
      "City not found. Skipping...\n",
      " Processing record number 19 for Set 8 the city of awjilah\n",
      " Processing record number 20 for Set 8 the city of vila franca do campo\n",
      " Processing record number 21 for Set 8 the city of burla\n",
      " Processing record number 22 for Set 8 the city of novyye lyady\n",
      " Processing record number 23 for Set 8 the city of phan thiet\n",
      " Processing record number 24 for Set 8 the city of bestobe\n",
      " Processing record number 25 for Set 8 the city of ambilobe\n",
      " Processing record number 26 for Set 8 the city of harper\n",
      " Processing record number 27 for Set 8 the city of sept-iles\n",
      " Processing record number 28 for Set 8 the city of marawi\n",
      " Processing record number 29 for Set 8 the city of gasa\n",
      " Processing record number 30 for Set 8 the city of karpathos\n",
      " Processing record number 31 for Set 8 the city of ayagoz\n",
      " Processing record number 32 for Set 8 the city of djenne\n",
      " Processing record number 33 for Set 8 the city of deer lake\n",
      " Processing record number 34 for Set 8 the city of bloemfontein\n",
      " Processing record number 35 for Set 8 the city of ribnitz-damgarten\n",
      " Processing record number 36 for Set 8 the city of keetmanshoop\n",
      " Processing record number 37 for Set 8 the city of malakal\n",
      " Processing record number 38 for Set 8 the city of san cristobal\n",
      "City not found. Skipping...\n",
      " Processing record number 40 for Set 8 the city of neiafu\n",
      " Processing record number 41 for Set 8 the city of manoel urbano\n",
      " Processing record number 42 for Set 8 the city of mudigere\n",
      " Processing record number 43 for Set 8 the city of stanghelle\n",
      " Processing record number 44 for Set 8 the city of san rafael\n",
      " Processing record number 45 for Set 8 the city of horsham\n",
      "City not found. Skipping...\n",
      " Processing record number 47 for Set 8 the city of yar-sale\n",
      "City not found. Skipping...\n",
      " Processing record number 49 for Set 8 the city of san carlos de bariloche\n",
      " Processing record number 50 for Set 8 the city of zakamensk\n",
      "City not found. Skipping...\n",
      " Processing record number 1 for Set 9 the city of luderitz\n",
      " Processing record number 2 for Set 9 the city of polis\n",
      " Processing record number 3 for Set 9 the city of san patricio\n",
      " Processing record number 4 for Set 9 the city of seymchan\n",
      " Processing record number 5 for Set 9 the city of iqaluit\n",
      "City not found. Skipping...\n",
      " Processing record number 7 for Set 9 the city of salina\n",
      " Processing record number 8 for Set 9 the city of matveyev kurgan\n",
      " Processing record number 9 for Set 9 the city of jiangyou\n",
      " Processing record number 10 for Set 9 the city of manaus\n",
      " Processing record number 11 for Set 9 the city of valle de allende\n",
      "City not found. Skipping...\n",
      " Processing record number 13 for Set 9 the city of kitui\n",
      " Processing record number 14 for Set 9 the city of baykit\n",
      " Processing record number 15 for Set 9 the city of chinhoyi\n",
      " Processing record number 16 for Set 9 the city of sao filipe\n",
      " Processing record number 17 for Set 9 the city of plettenberg bay\n",
      " Processing record number 18 for Set 9 the city of punta alta\n",
      " Processing record number 19 for Set 9 the city of dwarka\n",
      " Processing record number 20 for Set 9 the city of luanda\n",
      " Processing record number 21 for Set 9 the city of mar del plata\n",
      " Processing record number 22 for Set 9 the city of vostok\n",
      " Processing record number 23 for Set 9 the city of forestville\n",
      " Processing record number 24 for Set 9 the city of pirovskoye\n",
      " Processing record number 25 for Set 9 the city of oktyabrskiy\n",
      " Processing record number 26 for Set 9 the city of kenai\n"
     ]
    },
    {
     "name": "stdout",
     "output_type": "stream",
     "text": [
      " Processing record number 27 for Set 9 the city of tuatapere\n",
      " Processing record number 28 for Set 9 the city of turbat\n",
      " Processing record number 29 for Set 9 the city of sandwich\n",
      " Processing record number 30 for Set 9 the city of gardner\n",
      " Processing record number 31 for Set 9 the city of brody\n",
      " Processing record number 32 for Set 9 the city of ibiruba\n",
      " Processing record number 33 for Set 9 the city of pervomayskoye\n",
      "City not found. Skipping...\n",
      " Processing record number 35 for Set 9 the city of acajutla\n",
      " Processing record number 36 for Set 9 the city of ribeira grande\n",
      "City not found. Skipping...\n",
      " Processing record number 38 for Set 9 the city of nantucket\n",
      " Processing record number 39 for Set 9 the city of totskoye\n",
      "City not found. Skipping...\n",
      " Processing record number 41 for Set 9 the city of marystown\n",
      " Processing record number 42 for Set 9 the city of kutum\n",
      "City not found. Skipping...\n",
      " Processing record number 44 for Set 9 the city of villa guerrero\n",
      " Processing record number 45 for Set 9 the city of broome\n",
      " Processing record number 46 for Set 9 the city of amot\n",
      " Processing record number 47 for Set 9 the city of mokhsogollokh\n",
      "City not found. Skipping...\n",
      " Processing record number 49 for Set 9 the city of cherskiy\n",
      " Processing record number 50 for Set 9 the city of leningradskiy\n",
      " Processing record number 1 for Set 10 the city of provideniya\n",
      " Processing record number 2 for Set 10 the city of bama\n",
      " Processing record number 3 for Set 10 the city of luba\n",
      " Processing record number 4 for Set 10 the city of treinta y tres\n",
      " Processing record number 5 for Set 10 the city of marquette\n",
      " Processing record number 6 for Set 10 the city of mwinilunga\n",
      " Processing record number 7 for Set 10 the city of capitao poco\n",
      " Processing record number 8 for Set 10 the city of xuddur\n",
      " Processing record number 9 for Set 10 the city of nanakuli\n",
      " Processing record number 10 for Set 10 the city of springbok\n",
      " Processing record number 11 for Set 10 the city of garowe\n",
      " Processing record number 12 for Set 10 the city of la spezia\n",
      " Processing record number 13 for Set 10 the city of pathein\n",
      " Processing record number 14 for Set 10 the city of taoudenni\n",
      " Processing record number 15 for Set 10 the city of kidal\n",
      " Processing record number 16 for Set 10 the city of altay\n",
      " Processing record number 17 for Set 10 the city of nuuk\n",
      " Processing record number 18 for Set 10 the city of goundi\n",
      " Processing record number 19 for Set 10 the city of ambanja\n",
      " Processing record number 20 for Set 10 the city of araouane\n",
      "City not found. Skipping...\n",
      " Processing record number 22 for Set 10 the city of kisangani\n",
      " Processing record number 23 for Set 10 the city of aswan\n",
      " Processing record number 24 for Set 10 the city of umm lajj\n",
      " Processing record number 25 for Set 10 the city of bom jesus\n",
      " Processing record number 26 for Set 10 the city of andra\n",
      " Processing record number 27 for Set 10 the city of paka\n",
      " Processing record number 28 for Set 10 the city of cap malheureux\n",
      " Processing record number 29 for Set 10 the city of itoman\n",
      " Processing record number 30 for Set 10 the city of bowen\n",
      " Processing record number 31 for Set 10 the city of bytosh\n",
      " Processing record number 32 for Set 10 the city of namatanai\n",
      " Processing record number 33 for Set 10 the city of half moon bay\n",
      "City not found. Skipping...\n",
      " Processing record number 35 for Set 10 the city of tahta\n",
      " Processing record number 36 for Set 10 the city of korla\n",
      "City not found. Skipping...\n",
      " Processing record number 38 for Set 10 the city of lavrentiya\n",
      " Processing record number 39 for Set 10 the city of delmiro gouveia\n",
      " Processing record number 40 for Set 10 the city of kagoro\n",
      "City not found. Skipping...\n",
      " Processing record number 42 for Set 10 the city of gaoyou\n",
      " Processing record number 43 for Set 10 the city of gonzaga\n",
      " Processing record number 44 for Set 10 the city of trelew\n",
      " Processing record number 45 for Set 10 the city of mogadishu\n",
      " Processing record number 46 for Set 10 the city of manturovo\n",
      " Processing record number 47 for Set 10 the city of san policarpo\n",
      " Processing record number 48 for Set 10 the city of guayaramerin\n",
      " Processing record number 49 for Set 10 the city of nanortalik\n",
      " Processing record number 50 for Set 10 the city of punta gorda\n",
      " Processing record number 1 for Set 11 the city of vega de alatorre\n",
      " Processing record number 2 for Set 11 the city of coihaique\n",
      " Processing record number 3 for Set 11 the city of kalmunai\n",
      " Processing record number 4 for Set 11 the city of shahpur\n",
      " Processing record number 5 for Set 11 the city of waipawa\n",
      " Processing record number 6 for Set 11 the city of havre-saint-pierre\n",
      " Processing record number 7 for Set 11 the city of yakeshi\n",
      " Processing record number 8 for Set 11 the city of eyl\n",
      " Processing record number 9 for Set 11 the city of nautla\n",
      " Processing record number 10 for Set 11 the city of saint-pierre\n",
      " Processing record number 11 for Set 11 the city of vung tau\n",
      " Processing record number 12 for Set 11 the city of kindu\n",
      "City not found. Skipping...\n",
      " Processing record number 14 for Set 11 the city of duzce\n",
      " Processing record number 15 for Set 11 the city of gorele\n",
      " Processing record number 16 for Set 11 the city of pacific grove\n",
      " Processing record number 17 for Set 11 the city of carutapera\n",
      " Processing record number 18 for Set 11 the city of paramonga\n",
      " Processing record number 19 for Set 11 the city of sandwick\n",
      " Processing record number 20 for Set 11 the city of port blair\n",
      " Processing record number 21 for Set 11 the city of simiti\n",
      " Processing record number 22 for Set 11 the city of kamenka\n",
      " Processing record number 23 for Set 11 the city of bagdarin\n",
      " Processing record number 24 for Set 11 the city of marsa matruh\n",
      " Processing record number 25 for Set 11 the city of ahipara\n",
      " Processing record number 26 for Set 11 the city of alekseyevsk\n",
      " Processing record number 27 for Set 11 the city of sembe\n",
      "City not found. Skipping...\n",
      " Processing record number 29 for Set 11 the city of fort nelson\n",
      " Processing record number 30 for Set 11 the city of pedasi\n",
      " Processing record number 31 for Set 11 the city of bukama\n",
      " Processing record number 32 for Set 11 the city of shimoda\n",
      " Processing record number 33 for Set 11 the city of viedma\n",
      " Processing record number 34 for Set 11 the city of greytown\n",
      " Processing record number 35 for Set 11 the city of matagami\n",
      " Processing record number 36 for Set 11 the city of marsh harbour\n",
      " Processing record number 37 for Set 11 the city of zyryanka\n",
      " Processing record number 38 for Set 11 the city of saint-denis\n",
      " Processing record number 39 for Set 11 the city of ravar\n",
      " Processing record number 40 for Set 11 the city of vallenar\n",
      " Processing record number 41 for Set 11 the city of tynne\n",
      " Processing record number 42 for Set 11 the city of haimen\n",
      " Processing record number 43 for Set 11 the city of rocha\n",
      " Processing record number 44 for Set 11 the city of oxford\n",
      " Processing record number 45 for Set 11 the city of tefe\n",
      " Processing record number 46 for Set 11 the city of tobermory\n",
      " Processing record number 47 for Set 11 the city of paita\n",
      " Processing record number 48 for Set 11 the city of sola\n",
      " Processing record number 49 for Set 11 the city of aklavik\n",
      "City not found. Skipping...\n",
      " Processing record number 1 for Set 12 the city of cuamba\n",
      " Processing record number 2 for Set 12 the city of pangody\n",
      " Processing record number 3 for Set 12 the city of stornoway\n",
      " Processing record number 4 for Set 12 the city of saldanha\n",
      " Processing record number 5 for Set 12 the city of san antonio\n",
      " Processing record number 6 for Set 12 the city of dingli\n",
      " Processing record number 7 for Set 12 the city of hurghada\n",
      " Processing record number 8 for Set 12 the city of tabou\n",
      " Processing record number 9 for Set 12 the city of robertsport\n",
      " Processing record number 10 for Set 12 the city of deputatskiy\n",
      " Processing record number 11 for Set 12 the city of zaragoza\n",
      " Processing record number 12 for Set 12 the city of roma\n",
      "City not found. Skipping...\n",
      " Processing record number 14 for Set 12 the city of bulawayo\n",
      " Processing record number 15 for Set 12 the city of furano\n",
      " Processing record number 16 for Set 12 the city of daru\n",
      "City not found. Skipping...\n",
      " Processing record number 18 for Set 12 the city of bela\n",
      " Processing record number 19 for Set 12 the city of atambua\n",
      " Processing record number 20 for Set 12 the city of sao jose da coroa grande\n"
     ]
    },
    {
     "name": "stdout",
     "output_type": "stream",
     "text": [
      " Processing record number 21 for Set 12 the city of oksfjord\n",
      " Processing record number 22 for Set 12 the city of belmonte\n",
      " Processing record number 23 for Set 12 the city of mosna\n",
      " Processing record number 24 for Set 12 the city of wanaka\n",
      " Processing record number 25 for Set 12 the city of tygda\n",
      " Processing record number 26 for Set 12 the city of luneburg\n",
      " Processing record number 27 for Set 12 the city of molina\n",
      " Processing record number 28 for Set 12 the city of greystones\n",
      " Processing record number 29 for Set 12 the city of norman wells\n",
      " Processing record number 30 for Set 12 the city of sobolevo\n",
      " Processing record number 31 for Set 12 the city of lazaro cardenas\n",
      " Processing record number 32 for Set 12 the city of felipe carrillo puerto\n",
      "City not found. Skipping...\n",
      " Processing record number 34 for Set 12 the city of tessalit\n",
      " Processing record number 35 for Set 12 the city of kuvandyk\n",
      " Processing record number 36 for Set 12 the city of antofagasta\n",
      " Processing record number 37 for Set 12 the city of sassandra\n",
      " Processing record number 38 for Set 12 the city of port-gentil\n",
      " Processing record number 39 for Set 12 the city of bo rai\n",
      " Processing record number 40 for Set 12 the city of azanka\n",
      " Processing record number 41 for Set 12 the city of resistencia\n",
      "City not found. Skipping...\n",
      " Processing record number 43 for Set 12 the city of novyy urengoy\n",
      " Processing record number 44 for Set 12 the city of high rock\n",
      " Processing record number 45 for Set 12 the city of porto walter\n",
      " Processing record number 46 for Set 12 the city of yozgat\n",
      " Processing record number 47 for Set 12 the city of lisakovsk\n",
      " Processing record number 48 for Set 12 the city of dinan\n",
      " Processing record number 49 for Set 12 the city of tomatlan\n",
      " Processing record number 50 for Set 12 the city of pandan\n",
      " Processing record number 1 for Set 13 the city of kiruna\n",
      " Processing record number 2 for Set 13 the city of nampa\n",
      " Processing record number 3 for Set 13 the city of kelo\n",
      " Processing record number 4 for Set 13 the city of thunder bay\n",
      " Processing record number 5 for Set 13 the city of adeje\n",
      " Processing record number 6 for Set 13 the city of cayenne\n",
      " Processing record number 7 for Set 13 the city of agadir\n",
      " Processing record number 8 for Set 13 the city of gamba\n",
      " Processing record number 9 for Set 13 the city of bell ville\n",
      " Processing record number 10 for Set 13 the city of sao luis\n",
      " Processing record number 11 for Set 13 the city of champerico\n",
      " Processing record number 12 for Set 13 the city of buin\n",
      " Processing record number 13 for Set 13 the city of basoko\n",
      " Processing record number 14 for Set 13 the city of rio pardo de minas\n",
      " Processing record number 15 for Set 13 the city of caconda\n",
      " Processing record number 16 for Set 13 the city of celestun\n",
      "City not found. Skipping...\n",
      " Processing record number 18 for Set 13 the city of mana\n"
     ]
    }
   ],
   "source": [
    "#below is the base URL to access the openweather api data. Remove all data after ? \n",
    "\n",
    "#base_url= \"http://api.openweathermap.org/data/2.5/weather?\"\n",
    "\n",
    "\n",
    "# City\tLat\tLng\tMax Temp\tHumidity\tCloudiness\tWind Speed\tCountry\tDate\n",
    "#create empty list for your eventual dataframe\n",
    "city_list_500=[]\n",
    "lat_500=[]\n",
    "long_500=[]\n",
    "max_temp_500=[]\n",
    "humidity_500=[]\n",
    "wind_speed_500=[]\n",
    "cloudiness_500=[]\n",
    "country_500=[]\n",
    "date_500=[]\n",
    "counter=0\n",
    "group=1\n",
    "\n",
    "\n",
    "\n",
    "#[:3] gives me back 3 results from the cities_list. \n",
    "# for loop itreeather list of randomeng enerrate scitis, pings the opena \n",
    "for each_city in cities_list[:]: \n",
    "    #query_url= base_url+ \"appid=\"+weather_api_key+ \"&q=\" + city\n",
    "    query_url=f'{base_url}q={each_city}&appid={weather_api_key}'\n",
    "    weather_response=requests.get(query_url)\n",
    "    weather_data=weather_response.json()\n",
    "    counter= counter +1\n",
    "    \n",
    "    #pprint(weather_data) #keep this in the for loop so that it prints out the amount you want\n",
    "    try:\n",
    "        city_list_500.append(weather_data['name'])\n",
    "        lat_500.append(weather_data['coord']['lat'])\n",
    "        #print(lat_500)\n",
    "        long_500.append(weather_data['coord']['lon'])\n",
    "        max_temp_500.append(weather_data['main']['temp_max'])\n",
    "        humidity_500.append(weather_data['main']['humidity'])\n",
    "        cloudiness_500.append(weather_data['clouds']['all'])\n",
    "        wind_speed_500.append(weather_data['wind']['speed'])\n",
    "        country_500.append(weather_data['sys']['country'])\n",
    "        date_500.append(weather_data['dt'])\n",
    "        if counter >50:\n",
    "            counter=1\n",
    "            group=1 +group\n",
    "        #print(f\" Processing record number {len(city_list_500)} for the city of {each_city}\")\n",
    "        print(f\" Processing record number {counter} for Set {group} the city of {each_city}\")\n",
    "        \n",
    "    except:\n",
    "        print('City not found. Skipping...')\n",
    "        pass\n",
    "\n",
    "    # need to print out 50 and then new list shows up. look at starter file\n",
    "    # hint: these are counters\n",
    "    # \n",
    "\n",
    "# print(city_list_500)\n",
    "# print(lat_500)\n",
    "# print(long_500)\n",
    "# print(max_temp_500)\n",
    "# print(humidity_500)\n",
    "# print(wind_speed_500)\n",
    "# print(cloudiness_500)\n",
    "# print(country_500)\n",
    "# print(date_500)\n"
   ]
  },
  {
   "cell_type": "code",
   "execution_count": 70,
   "metadata": {},
   "outputs": [
    {
     "data": {
      "text/plain": [
       "570"
      ]
     },
     "execution_count": 70,
     "metadata": {},
     "output_type": "execute_result"
    }
   ],
   "source": [
    "len(city_list_500)"
   ]
  },
  {
   "cell_type": "code",
   "execution_count": 71,
   "metadata": {},
   "outputs": [],
   "source": [
    "# print(city_list_500)\n",
    "# print(lat_500)\n",
    "# print(long_500)\n",
    "# print(max_temp_500)\n",
    "# print(humidity_500)\n",
    "# print(wind_speed_500)\n",
    "# print(cloudiness_500)\n",
    "# print(country_500)\n",
    "# print(date_500)\n",
    "\n",
    "# # highlight them all and hit command ? to comment these\n",
    "# #"
   ]
  },
  {
   "cell_type": "markdown",
   "metadata": {},
   "source": [
    "### Convert Raw Data to DataFrame\n",
    "* Export the city data into a .csv.\n",
    "* Display the DataFrame"
   ]
  },
  {
   "cell_type": "code",
   "execution_count": 72,
   "metadata": {},
   "outputs": [
    {
     "data": {
      "text/html": [
       "<div>\n",
       "<style scoped>\n",
       "    .dataframe tbody tr th:only-of-type {\n",
       "        vertical-align: middle;\n",
       "    }\n",
       "\n",
       "    .dataframe tbody tr th {\n",
       "        vertical-align: top;\n",
       "    }\n",
       "\n",
       "    .dataframe thead th {\n",
       "        text-align: right;\n",
       "    }\n",
       "</style>\n",
       "<table border=\"1\" class=\"dataframe\">\n",
       "  <thead>\n",
       "    <tr style=\"text-align: right;\">\n",
       "      <th></th>\n",
       "      <th>City</th>\n",
       "      <th>Latitude</th>\n",
       "      <th>Longitude</th>\n",
       "      <th>Max Temp</th>\n",
       "      <th>Humidity</th>\n",
       "      <th>Cloudiness</th>\n",
       "      <th>Wind Speed</th>\n",
       "      <th>Country</th>\n",
       "      <th>Date</th>\n",
       "    </tr>\n",
       "  </thead>\n",
       "  <tbody>\n",
       "    <tr>\n",
       "      <th>0</th>\n",
       "      <td>Port Alfred</td>\n",
       "      <td>-33.5906</td>\n",
       "      <td>26.8910</td>\n",
       "      <td>292.59</td>\n",
       "      <td>83</td>\n",
       "      <td>10</td>\n",
       "      <td>3.13</td>\n",
       "      <td>ZA</td>\n",
       "      <td>1611980608</td>\n",
       "    </tr>\n",
       "    <tr>\n",
       "      <th>1</th>\n",
       "      <td>Albany</td>\n",
       "      <td>42.6001</td>\n",
       "      <td>-73.9662</td>\n",
       "      <td>260.37</td>\n",
       "      <td>50</td>\n",
       "      <td>3</td>\n",
       "      <td>1.34</td>\n",
       "      <td>US</td>\n",
       "      <td>1611980400</td>\n",
       "    </tr>\n",
       "    <tr>\n",
       "      <th>2</th>\n",
       "      <td>Mehamn</td>\n",
       "      <td>71.0357</td>\n",
       "      <td>27.8492</td>\n",
       "      <td>269.52</td>\n",
       "      <td>96</td>\n",
       "      <td>100</td>\n",
       "      <td>8.58</td>\n",
       "      <td>NO</td>\n",
       "      <td>1611980609</td>\n",
       "    </tr>\n",
       "    <tr>\n",
       "      <th>3</th>\n",
       "      <td>Santa Cruz de Tenerife</td>\n",
       "      <td>28.4682</td>\n",
       "      <td>-16.2546</td>\n",
       "      <td>289.82</td>\n",
       "      <td>39</td>\n",
       "      <td>0</td>\n",
       "      <td>3.09</td>\n",
       "      <td>ES</td>\n",
       "      <td>1611980609</td>\n",
       "    </tr>\n",
       "    <tr>\n",
       "      <th>4</th>\n",
       "      <td>Suzuka</td>\n",
       "      <td>34.8833</td>\n",
       "      <td>136.5833</td>\n",
       "      <td>280.15</td>\n",
       "      <td>60</td>\n",
       "      <td>75</td>\n",
       "      <td>7.72</td>\n",
       "      <td>JP</td>\n",
       "      <td>1611980609</td>\n",
       "    </tr>\n",
       "  </tbody>\n",
       "</table>\n",
       "</div>"
      ],
      "text/plain": [
       "                     City  Latitude  Longitude  Max Temp  Humidity  \\\n",
       "0             Port Alfred  -33.5906    26.8910    292.59        83   \n",
       "1                  Albany   42.6001   -73.9662    260.37        50   \n",
       "2                  Mehamn   71.0357    27.8492    269.52        96   \n",
       "3  Santa Cruz de Tenerife   28.4682   -16.2546    289.82        39   \n",
       "4                  Suzuka   34.8833   136.5833    280.15        60   \n",
       "\n",
       "   Cloudiness  Wind Speed Country        Date  \n",
       "0          10        3.13      ZA  1611980608  \n",
       "1           3        1.34      US  1611980400  \n",
       "2         100        8.58      NO  1611980609  \n",
       "3           0        3.09      ES  1611980609  \n",
       "4          75        7.72      JP  1611980609  "
      ]
     },
     "execution_count": 72,
     "metadata": {},
     "output_type": "execute_result"
    }
   ],
   "source": [
    "#create a dictionary and then pass to data frame \n",
    "\n",
    "# how can we run the API calls so that the output is equal to 500.\n",
    "\n",
    "# is there a way to set = to 500?\n",
    "\n",
    "weather_data_dict= {'City': city_list_500,\n",
    "                       'Latitude': lat_500,\n",
    "                       'Longitude': long_500,\n",
    "                       'Max Temp': max_temp_500,\n",
    "                       'Humidity': humidity_500,\n",
    "                       'Cloudiness': cloudiness_500,\n",
    "                       'Wind Speed': wind_speed_500,\n",
    "                       'Country' : country_500,\n",
    "                       'Date': date_500\n",
    "                      }\n",
    "weather_data_df_zero=pd.DataFrame(weather_data_dict)\n",
    "weather_data_df_zero.head()\n",
    "\n",
    "#export the city data into a .csv\n"
   ]
  },
  {
   "cell_type": "code",
   "execution_count": 73,
   "metadata": {},
   "outputs": [
    {
     "data": {
      "text/html": [
       "<div>\n",
       "<style scoped>\n",
       "    .dataframe tbody tr th:only-of-type {\n",
       "        vertical-align: middle;\n",
       "    }\n",
       "\n",
       "    .dataframe tbody tr th {\n",
       "        vertical-align: top;\n",
       "    }\n",
       "\n",
       "    .dataframe thead th {\n",
       "        text-align: right;\n",
       "    }\n",
       "</style>\n",
       "<table border=\"1\" class=\"dataframe\">\n",
       "  <thead>\n",
       "    <tr style=\"text-align: right;\">\n",
       "      <th></th>\n",
       "      <th>Latitude</th>\n",
       "      <th>Longitude</th>\n",
       "      <th>Max Temp</th>\n",
       "      <th>Humidity</th>\n",
       "      <th>Cloudiness</th>\n",
       "      <th>Wind Speed</th>\n",
       "      <th>Date</th>\n",
       "    </tr>\n",
       "  </thead>\n",
       "  <tbody>\n",
       "    <tr>\n",
       "      <th>count</th>\n",
       "      <td>570.000000</td>\n",
       "      <td>570.000000</td>\n",
       "      <td>570.000000</td>\n",
       "      <td>570.000000</td>\n",
       "      <td>570.000000</td>\n",
       "      <td>570.000000</td>\n",
       "      <td>5.700000e+02</td>\n",
       "    </tr>\n",
       "    <tr>\n",
       "      <th>mean</th>\n",
       "      <td>19.208242</td>\n",
       "      <td>17.555579</td>\n",
       "      <td>282.183772</td>\n",
       "      <td>74.221053</td>\n",
       "      <td>52.947368</td>\n",
       "      <td>3.645456</td>\n",
       "      <td>1.611981e+09</td>\n",
       "    </tr>\n",
       "    <tr>\n",
       "      <th>std</th>\n",
       "      <td>33.968536</td>\n",
       "      <td>88.721234</td>\n",
       "      <td>18.489126</td>\n",
       "      <td>19.396435</td>\n",
       "      <td>39.934622</td>\n",
       "      <td>2.531264</td>\n",
       "      <td>7.137854e+01</td>\n",
       "    </tr>\n",
       "    <tr>\n",
       "      <th>min</th>\n",
       "      <td>-54.800000</td>\n",
       "      <td>-175.200000</td>\n",
       "      <td>231.380000</td>\n",
       "      <td>10.000000</td>\n",
       "      <td>0.000000</td>\n",
       "      <td>0.090000</td>\n",
       "      <td>1.611980e+09</td>\n",
       "    </tr>\n",
       "    <tr>\n",
       "      <th>25%</th>\n",
       "      <td>-9.176525</td>\n",
       "      <td>-58.715150</td>\n",
       "      <td>270.795000</td>\n",
       "      <td>65.000000</td>\n",
       "      <td>5.250000</td>\n",
       "      <td>1.640000</td>\n",
       "      <td>1.611981e+09</td>\n",
       "    </tr>\n",
       "    <tr>\n",
       "      <th>50%</th>\n",
       "      <td>22.271800</td>\n",
       "      <td>23.881300</td>\n",
       "      <td>288.585000</td>\n",
       "      <td>79.500000</td>\n",
       "      <td>63.500000</td>\n",
       "      <td>3.090000</td>\n",
       "      <td>1.611981e+09</td>\n",
       "    </tr>\n",
       "    <tr>\n",
       "      <th>75%</th>\n",
       "      <td>49.254150</td>\n",
       "      <td>88.083350</td>\n",
       "      <td>296.150000</td>\n",
       "      <td>88.000000</td>\n",
       "      <td>91.000000</td>\n",
       "      <td>4.930000</td>\n",
       "      <td>1.611981e+09</td>\n",
       "    </tr>\n",
       "    <tr>\n",
       "      <th>max</th>\n",
       "      <td>78.218600</td>\n",
       "      <td>179.316700</td>\n",
       "      <td>315.150000</td>\n",
       "      <td>100.000000</td>\n",
       "      <td>100.000000</td>\n",
       "      <td>15.430000</td>\n",
       "      <td>1.611981e+09</td>\n",
       "    </tr>\n",
       "  </tbody>\n",
       "</table>\n",
       "</div>"
      ],
      "text/plain": [
       "         Latitude   Longitude    Max Temp    Humidity  Cloudiness  Wind Speed  \\\n",
       "count  570.000000  570.000000  570.000000  570.000000  570.000000  570.000000   \n",
       "mean    19.208242   17.555579  282.183772   74.221053   52.947368    3.645456   \n",
       "std     33.968536   88.721234   18.489126   19.396435   39.934622    2.531264   \n",
       "min    -54.800000 -175.200000  231.380000   10.000000    0.000000    0.090000   \n",
       "25%     -9.176525  -58.715150  270.795000   65.000000    5.250000    1.640000   \n",
       "50%     22.271800   23.881300  288.585000   79.500000   63.500000    3.090000   \n",
       "75%     49.254150   88.083350  296.150000   88.000000   91.000000    4.930000   \n",
       "max     78.218600  179.316700  315.150000  100.000000  100.000000   15.430000   \n",
       "\n",
       "               Date  \n",
       "count  5.700000e+02  \n",
       "mean   1.611981e+09  \n",
       "std    7.137854e+01  \n",
       "min    1.611980e+09  \n",
       "25%    1.611981e+09  \n",
       "50%    1.611981e+09  \n",
       "75%    1.611981e+09  \n",
       "max    1.611981e+09  "
      ]
     },
     "execution_count": 73,
     "metadata": {},
     "output_type": "execute_result"
    }
   ],
   "source": [
    "#print a describe table for the weather data frame\n",
    "# the df_zero is the original dict we are using to run the API calls \n",
    "weather_data_df_zero.describe()\n",
    "\n",
    "# you are getting the same count \n"
   ]
  },
  {
   "cell_type": "code",
   "execution_count": null,
   "metadata": {},
   "outputs": [],
   "source": []
  },
  {
   "cell_type": "markdown",
   "metadata": {},
   "source": [
    "## Inspect the data and remove the cities where the humidity > 100%.\n",
    "----\n",
    "Skip this step if there are no cities that have humidity > 100%. "
   ]
  },
  {
   "cell_type": "code",
   "execution_count": 74,
   "metadata": {},
   "outputs": [],
   "source": [
    "# create a filter to filter out cities that have humidity >100%\n",
    "# weather_data_one applies the humidity filter to weather_data_df_zero\n",
    "humidity_filter=weather_data_df_zero.loc[:, \"Humidity\"]<=100 \n",
    "weather_data_df_one=weather_data_df_zero.loc[humidity_filter,:]\n",
    "#.loc[ is saying grab all the rows and the humidity coul]\n",
    "#humidity_filter\n",
    "#weather_data_df_one.describe() #weather data_df_one is cities with less than or equal to 100% humidity\n",
    "weather_data_df_one.describe()\n",
    "\n",
    "#another way to get a filter, different syntax\n",
    "\n",
    "#print_me=weather_data_df_zero.loc[weather_data_df_zero['Humidity']<=100]\n",
    "#print_me #no comma : it assumes you want all the columns\n",
    "\n",
    "weather_data_df_one.to_csv(\"weather_data_one.csv\")"
   ]
  },
  {
   "cell_type": "code",
   "execution_count": 75,
   "metadata": {},
   "outputs": [
    {
     "data": {
      "text/plain": [
       "570"
      ]
     },
     "execution_count": 75,
     "metadata": {},
     "output_type": "execute_result"
    }
   ],
   "source": [
    "len(weather_data_df_one)\n"
   ]
  },
  {
   "cell_type": "code",
   "execution_count": null,
   "metadata": {},
   "outputs": [],
   "source": []
  },
  {
   "cell_type": "code",
   "execution_count": 76,
   "metadata": {},
   "outputs": [
    {
     "data": {
      "text/plain": [
       "Int64Index([], dtype='int64')"
      ]
     },
     "execution_count": 76,
     "metadata": {},
     "output_type": "execute_result"
    }
   ],
   "source": [
    "# Get the indices of cities that have humidity over 100%.\n",
    "humidity_over_filter=weather_data_df_zero.loc[:, 'Humidity']>100\n",
    "weather_over_df=weather_data_df_zero.loc[humidity_over_filter,:]\n",
    "list(weather_over_df.index)\n",
    "weather_over_df.index\n",
    "# there are no indicies over 100\n",
    "# you can do this through itterrows\n"
   ]
  },
  {
   "cell_type": "code",
   "execution_count": 77,
   "metadata": {},
   "outputs": [],
   "source": [
    "# Make a new DataFrame equal to the city data to drop all humidity outliers by index.\n",
    "# Passing \"inplace=False\" will make a copy of the city_data DataFrame, which we call \"clean_city_data\".\n"
   ]
  },
  {
   "cell_type": "code",
   "execution_count": null,
   "metadata": {},
   "outputs": [],
   "source": [
    "\n"
   ]
  },
  {
   "cell_type": "markdown",
   "metadata": {},
   "source": [
    "## Plotting the Data\n",
    "* Use proper labeling of the plots using plot titles (including date of analysis) and axes labels.\n",
    "* Save the plotted figures as .pngs."
   ]
  },
  {
   "cell_type": "markdown",
   "metadata": {},
   "source": [
    "## Latitude vs. Temperature Plot"
   ]
  },
  {
   "cell_type": "code",
   "execution_count": 78,
   "metadata": {},
   "outputs": [],
   "source": [
    "#The first requirement is to create a series of scatter plots to showcase the following relationships:\n",
    "\n",
    "# Temperature (F) vs. Latitude\n",
    "# Humidity (%) vs. Latitude\n",
    "# Cloudiness (%) vs. Latitude\n",
    "# Wind Speed (mph) vs. Latitude\n",
    "\n",
    "#After each plot, add a sentence or two explaining what the code is analyzing."
   ]
  },
  {
   "cell_type": "code",
   "execution_count": 79,
   "metadata": {},
   "outputs": [],
   "source": [
    "# These are notes only, no lines of code in this cell\n",
    "\n",
    "# In the spherical system, horizontal lines, or east–west lines, are lines of equal latitude, or parallels. \n",
    "# Vertical lines, or north–south lines, are lines of equal longitude, or meridians. \n",
    "# These lines encompass the globe and form a gridded network called a graticule\n",
    "\n",
    "# It may be helpful to equate longitude values with X and latitude values with Y.\n",
    "# Data defined on a geographic coordinate system is displayed as if a degree is a linear unit of measure.\n",
    "\n",
    "# Latitude and longitude values are traditionally measured either in decimal degrees or in degrees, minutes, and seconds (DMS).\n",
    "\n",
    "# Latitude values are measured relative to the equator and range from -90° at the South Pole to +90° at the North Pole. \n",
    "# Longitude values are measured relative to the prime meridian. They range from -180° when traveling west to 180° when traveling east. \n",
    "# If the prime meridian is at Greenwich, then Australia, which is south of the equator and east of Greenwich, has positive longitude values and negative latitude values."
   ]
  },
  {
   "cell_type": "code",
   "execution_count": 80,
   "metadata": {},
   "outputs": [
    {
     "name": "stdout",
     "output_type": "stream",
     "text": [
      " This sample shows as one moves closer to the equator the temperature increases.\n",
      " This is because of less sunlight the further away one goes from the equator.\n"
     ]
    },
    {
     "data": {
      "image/png": "[encoded data removed]",
      "text/plain": [
       "<Figure size 432x288 with 1 Axes>"
      ]
     },
     "metadata": {
      "needs_background": "light"
     },
     "output_type": "display_data"
    }
   ],
   "source": [
    "# Scatter plot of max temp vs latitude for weather data after filtering out cities with humidity >100\n",
    "x_lat=weather_data_df_one['Latitude']\n",
    "y_maxtemp=weather_data_df_one['Max Temp']\n",
    "\n",
    "plt.scatter(x_lat, y_maxtemp)\n",
    "plt.title(\"Max Temperature vs Latitude\") \n",
    "plt.xlabel('Latitude')\n",
    "plt.ylabel('Max Temperature (K)')\n",
    "plt.grid(True)\n",
    "\n",
    "#print statement\n",
    "plt.savefig('../WeatherPy/Latitude vs Temperature.png')\n",
    "\n",
    "print(f' This sample shows as one moves closer to the equator the temperature increases.') \n",
    "print(f' This is because of less sunlight the further away one goes from the equator.')\n",
    "#      Can you name all the countries on the equator?')"
   ]
  },
  {
   "cell_type": "markdown",
   "metadata": {},
   "source": [
    "## Latitude vs. Humidity Plot"
   ]
  },
  {
   "cell_type": "code",
   "execution_count": 81,
   "metadata": {},
   "outputs": [
    {
     "name": "stdout",
     "output_type": "stream",
     "text": [
      " This sample shows consistent humidity levels around the globe for most cities.\n",
      " There appear to be outliers. We could plot a boxplot to check for outliers.\n",
      " There world could not survive without humidity\n"
     ]
    },
    {
     "data": {
      "image/png": "[encoded data removed]",
      "text/plain": [
       "<Figure size 432x288 with 1 Axes>"
      ]
     },
     "metadata": {
      "needs_background": "light"
     },
     "output_type": "display_data"
    }
   ],
   "source": [
    "x_lat=weather_data_df_one['Latitude']\n",
    "y_humidity=weather_data_df_one['Humidity']\n",
    "\n",
    "plt.scatter(x_lat, y_humidity)\n",
    "#plt.scatter(x_lat, y_maxtemp)\n",
    "plt.title('City Latitude vs Humidity')\n",
    "plt.xlabel('Latitude')\n",
    "plt.ylabel('Humidity (%)')\n",
    "plt.grid(True)\n",
    "\n",
    "#print statement\n",
    "plt.savefig('../WeatherPy/Latitude vs Humidity.png')\n",
    "\n",
    "print(f' This sample shows consistent humidity levels around the globe for most cities.')\n",
    "print(f' There appear to be outliers. We could plot a boxplot to check for outliers.')\n",
    "print(f' There world could not survive without humidity')\n",
    "\n",
    "# what might be perceived as outliers.')"
   ]
  },
  {
   "cell_type": "markdown",
   "metadata": {},
   "source": [
    "## Latitude vs. Cloudiness Plot"
   ]
  },
  {
   "cell_type": "code",
   "execution_count": 82,
   "metadata": {},
   "outputs": [
    {
     "name": "stdout",
     "output_type": "stream",
     "text": [
      " The further one travels from the equator the less clouds you can expect.\n",
      " Come back to this\n"
     ]
    },
    {
     "data": {
      "image/png": "[encoded data removed]",
      "text/plain": [
       "<Figure size 432x288 with 1 Axes>"
      ]
     },
     "metadata": {
      "needs_background": "light"
     },
     "output_type": "display_data"
    }
   ],
   "source": [
    "# Scatter plot of max temp vs latitude for weather data after filtering out cities with humidity >100\n",
    "x_lat=weather_data_df_one['Latitude']\n",
    "y_cloudiness=weather_data_df_one['Cloudiness']\n",
    "\n",
    "plt.scatter(x_lat, y_cloudiness)\n",
    "plt.title('Cloudiness Percent vs. Latitude') #how to use % and ' in f string???\n",
    "plt.xlabel('Latitude')\n",
    "plt.ylabel('Cloudiness')\n",
    "plt.grid(True)\n",
    "\n",
    "#print statement\n",
    "plt.savefig('../WeatherPy/Latitude vs Cloudiness.png')\n",
    "\n",
    "print(f' The further one travels from the equator the less clouds you can expect.') \n",
    "print(f' Come back to this')"
   ]
  },
  {
   "cell_type": "markdown",
   "metadata": {},
   "source": [
    "## Latitude vs. Wind Speed Plot"
   ]
  },
  {
   "cell_type": "code",
   "execution_count": 83,
   "metadata": {},
   "outputs": [
    {
     "name": "stdout",
     "output_type": "stream",
     "text": [
      " Wind speed increases as distance from the equator increases.\n",
      " Wind speed is lowest near the equator. Wind appears to increase the further from the equator you go.\n"
     ]
    },
    {
     "data": {
      "image/png": "[encoded data removed]",
      "text/plain": [
       "<Figure size 432x288 with 1 Axes>"
      ]
     },
     "metadata": {
      "needs_background": "light"
     },
     "output_type": "display_data"
    }
   ],
   "source": [
    "x_lat=weather_data_df_one['Latitude']\n",
    "y_wind_speed=weather_data_df_one['Wind Speed']\n",
    "\n",
    "plt.scatter(x_lat, y_wind_speed)\n",
    "plt.title('City Latitude vs Wind Speed')\n",
    "plt.xlabel('Latitude')\n",
    "plt.ylabel('Wind Speed')\n",
    "plt.grid(True)\n",
    "\n",
    "#print statement\n",
    "plt.savefig('../WeatherPy/Latitude vs Wind Speed.png')\n",
    "\n",
    "print(f' Wind speed increases as distance from the equator increases.') \n",
    "print(f' Wind speed is lowest near the equator. Wind appears to increase the further from the equator you go.')"
   ]
  },
  {
   "cell_type": "markdown",
   "metadata": {},
   "source": [
    "## Linear Regression"
   ]
  },
  {
   "cell_type": "code",
   "execution_count": 84,
   "metadata": {},
   "outputs": [],
   "source": [
    "# latitude greater than 0 is northern\n",
    "# latitude less than 0 is southern\n",
    "# #print statement\n",
    "# look in the read me file "
   ]
  },
  {
   "cell_type": "code",
   "execution_count": 85,
   "metadata": {},
   "outputs": [
    {
     "data": {
      "text/html": [
       "<div>\n",
       "<style scoped>\n",
       "    .dataframe tbody tr th:only-of-type {\n",
       "        vertical-align: middle;\n",
       "    }\n",
       "\n",
       "    .dataframe tbody tr th {\n",
       "        vertical-align: top;\n",
       "    }\n",
       "\n",
       "    .dataframe thead th {\n",
       "        text-align: right;\n",
       "    }\n",
       "</style>\n",
       "<table border=\"1\" class=\"dataframe\">\n",
       "  <thead>\n",
       "    <tr style=\"text-align: right;\">\n",
       "      <th></th>\n",
       "      <th>Latitude</th>\n",
       "      <th>Longitude</th>\n",
       "      <th>Max Temp</th>\n",
       "      <th>Humidity</th>\n",
       "      <th>Cloudiness</th>\n",
       "      <th>Wind Speed</th>\n",
       "      <th>Date</th>\n",
       "    </tr>\n",
       "  </thead>\n",
       "  <tbody>\n",
       "    <tr>\n",
       "      <th>count</th>\n",
       "      <td>385.000000</td>\n",
       "      <td>385.000000</td>\n",
       "      <td>385.000000</td>\n",
       "      <td>385.000000</td>\n",
       "      <td>385.00000</td>\n",
       "      <td>385.00000</td>\n",
       "      <td>3.850000e+02</td>\n",
       "    </tr>\n",
       "    <tr>\n",
       "      <th>mean</th>\n",
       "      <td>39.064107</td>\n",
       "      <td>11.425945</td>\n",
       "      <td>275.561766</td>\n",
       "      <td>73.709091</td>\n",
       "      <td>52.00000</td>\n",
       "      <td>3.73013</td>\n",
       "      <td>1.611981e+09</td>\n",
       "    </tr>\n",
       "    <tr>\n",
       "      <th>std</th>\n",
       "      <td>20.092823</td>\n",
       "      <td>84.610842</td>\n",
       "      <td>18.801486</td>\n",
       "      <td>19.799346</td>\n",
       "      <td>40.45799</td>\n",
       "      <td>2.65699</td>\n",
       "      <td>6.760955e+01</td>\n",
       "    </tr>\n",
       "    <tr>\n",
       "      <th>min</th>\n",
       "      <td>0.516700</td>\n",
       "      <td>-173.300000</td>\n",
       "      <td>231.380000</td>\n",
       "      <td>19.000000</td>\n",
       "      <td>0.00000</td>\n",
       "      <td>0.09000</td>\n",
       "      <td>1.611980e+09</td>\n",
       "    </tr>\n",
       "    <tr>\n",
       "      <th>25%</th>\n",
       "      <td>22.075200</td>\n",
       "      <td>-68.591400</td>\n",
       "      <td>263.700000</td>\n",
       "      <td>62.000000</td>\n",
       "      <td>2.00000</td>\n",
       "      <td>1.75000</td>\n",
       "      <td>1.611981e+09</td>\n",
       "    </tr>\n",
       "    <tr>\n",
       "      <th>50%</th>\n",
       "      <td>41.587500</td>\n",
       "      <td>21.548200</td>\n",
       "      <td>279.150000</td>\n",
       "      <td>80.000000</td>\n",
       "      <td>61.00000</td>\n",
       "      <td>3.09000</td>\n",
       "      <td>1.611981e+09</td>\n",
       "    </tr>\n",
       "    <tr>\n",
       "      <th>75%</th>\n",
       "      <td>54.791400</td>\n",
       "      <td>76.833300</td>\n",
       "      <td>291.150000</td>\n",
       "      <td>88.000000</td>\n",
       "      <td>90.00000</td>\n",
       "      <td>4.83000</td>\n",
       "      <td>1.611981e+09</td>\n",
       "    </tr>\n",
       "    <tr>\n",
       "      <th>max</th>\n",
       "      <td>78.218600</td>\n",
       "      <td>179.316700</td>\n",
       "      <td>305.370000</td>\n",
       "      <td>100.000000</td>\n",
       "      <td>100.00000</td>\n",
       "      <td>15.43000</td>\n",
       "      <td>1.611981e+09</td>\n",
       "    </tr>\n",
       "  </tbody>\n",
       "</table>\n",
       "</div>"
      ],
      "text/plain": [
       "         Latitude   Longitude    Max Temp    Humidity  Cloudiness  Wind Speed  \\\n",
       "count  385.000000  385.000000  385.000000  385.000000   385.00000   385.00000   \n",
       "mean    39.064107   11.425945  275.561766   73.709091    52.00000     3.73013   \n",
       "std     20.092823   84.610842   18.801486   19.799346    40.45799     2.65699   \n",
       "min      0.516700 -173.300000  231.380000   19.000000     0.00000     0.09000   \n",
       "25%     22.075200  -68.591400  263.700000   62.000000     2.00000     1.75000   \n",
       "50%     41.587500   21.548200  279.150000   80.000000    61.00000     3.09000   \n",
       "75%     54.791400   76.833300  291.150000   88.000000    90.00000     4.83000   \n",
       "max     78.218600  179.316700  305.370000  100.000000   100.00000    15.43000   \n",
       "\n",
       "               Date  \n",
       "count  3.850000e+02  \n",
       "mean   1.611981e+09  \n",
       "std    6.760955e+01  \n",
       "min    1.611980e+09  \n",
       "25%    1.611981e+09  \n",
       "50%    1.611981e+09  \n",
       "75%    1.611981e+09  \n",
       "max    1.611981e+09  "
      ]
     },
     "execution_count": 85,
     "metadata": {},
     "output_type": "execute_result"
    }
   ],
   "source": [
    "northern_hem_filter=weather_data_df_one.loc[:, \"Latitude\"]>=0 #on the equator included\n",
    "northern_hem_df=weather_data_df_one.loc[northern_hem_filter,:]\n",
    "northern_hem_df.describe()\n"
   ]
  },
  {
   "cell_type": "code",
   "execution_count": 86,
   "metadata": {},
   "outputs": [
    {
     "data": {
      "text/html": [
       "<div>\n",
       "<style scoped>\n",
       "    .dataframe tbody tr th:only-of-type {\n",
       "        vertical-align: middle;\n",
       "    }\n",
       "\n",
       "    .dataframe tbody tr th {\n",
       "        vertical-align: top;\n",
       "    }\n",
       "\n",
       "    .dataframe thead th {\n",
       "        text-align: right;\n",
       "    }\n",
       "</style>\n",
       "<table border=\"1\" class=\"dataframe\">\n",
       "  <thead>\n",
       "    <tr style=\"text-align: right;\">\n",
       "      <th></th>\n",
       "      <th>Latitude</th>\n",
       "      <th>Longitude</th>\n",
       "      <th>Max Temp</th>\n",
       "      <th>Humidity</th>\n",
       "      <th>Cloudiness</th>\n",
       "      <th>Wind Speed</th>\n",
       "      <th>Date</th>\n",
       "    </tr>\n",
       "  </thead>\n",
       "  <tbody>\n",
       "    <tr>\n",
       "      <th>count</th>\n",
       "      <td>185.000000</td>\n",
       "      <td>185.000000</td>\n",
       "      <td>185.000000</td>\n",
       "      <td>185.000000</td>\n",
       "      <td>185.000000</td>\n",
       "      <td>185.000000</td>\n",
       "      <td>1.850000e+02</td>\n",
       "    </tr>\n",
       "    <tr>\n",
       "      <th>mean</th>\n",
       "      <td>-22.113424</td>\n",
       "      <td>30.311845</td>\n",
       "      <td>295.964703</td>\n",
       "      <td>75.286486</td>\n",
       "      <td>54.918919</td>\n",
       "      <td>3.469243</td>\n",
       "      <td>1.611981e+09</td>\n",
       "    </tr>\n",
       "    <tr>\n",
       "      <th>std</th>\n",
       "      <td>13.562646</td>\n",
       "      <td>95.702105</td>\n",
       "      <td>6.057803</td>\n",
       "      <td>18.536951</td>\n",
       "      <td>38.856745</td>\n",
       "      <td>2.243788</td>\n",
       "      <td>7.847299e+01</td>\n",
       "    </tr>\n",
       "    <tr>\n",
       "      <th>min</th>\n",
       "      <td>-54.800000</td>\n",
       "      <td>-175.200000</td>\n",
       "      <td>279.150000</td>\n",
       "      <td>10.000000</td>\n",
       "      <td>0.000000</td>\n",
       "      <td>0.420000</td>\n",
       "      <td>1.611980e+09</td>\n",
       "    </tr>\n",
       "    <tr>\n",
       "      <th>25%</th>\n",
       "      <td>-33.650000</td>\n",
       "      <td>-55.131100</td>\n",
       "      <td>292.150000</td>\n",
       "      <td>67.000000</td>\n",
       "      <td>18.000000</td>\n",
       "      <td>1.540000</td>\n",
       "      <td>1.611981e+09</td>\n",
       "    </tr>\n",
       "    <tr>\n",
       "      <th>50%</th>\n",
       "      <td>-20.516700</td>\n",
       "      <td>25.570100</td>\n",
       "      <td>296.380000</td>\n",
       "      <td>79.000000</td>\n",
       "      <td>70.000000</td>\n",
       "      <td>3.090000</td>\n",
       "      <td>1.611981e+09</td>\n",
       "    </tr>\n",
       "    <tr>\n",
       "      <th>75%</th>\n",
       "      <td>-9.800000</td>\n",
       "      <td>132.750000</td>\n",
       "      <td>300.150000</td>\n",
       "      <td>89.000000</td>\n",
       "      <td>93.000000</td>\n",
       "      <td>5.140000</td>\n",
       "      <td>1.611981e+09</td>\n",
       "    </tr>\n",
       "    <tr>\n",
       "      <th>max</th>\n",
       "      <td>-0.600000</td>\n",
       "      <td>175.515300</td>\n",
       "      <td>315.150000</td>\n",
       "      <td>100.000000</td>\n",
       "      <td>100.000000</td>\n",
       "      <td>10.770000</td>\n",
       "      <td>1.611981e+09</td>\n",
       "    </tr>\n",
       "  </tbody>\n",
       "</table>\n",
       "</div>"
      ],
      "text/plain": [
       "         Latitude   Longitude    Max Temp    Humidity  Cloudiness  Wind Speed  \\\n",
       "count  185.000000  185.000000  185.000000  185.000000  185.000000  185.000000   \n",
       "mean   -22.113424   30.311845  295.964703   75.286486   54.918919    3.469243   \n",
       "std     13.562646   95.702105    6.057803   18.536951   38.856745    2.243788   \n",
       "min    -54.800000 -175.200000  279.150000   10.000000    0.000000    0.420000   \n",
       "25%    -33.650000  -55.131100  292.150000   67.000000   18.000000    1.540000   \n",
       "50%    -20.516700   25.570100  296.380000   79.000000   70.000000    3.090000   \n",
       "75%     -9.800000  132.750000  300.150000   89.000000   93.000000    5.140000   \n",
       "max     -0.600000  175.515300  315.150000  100.000000  100.000000   10.770000   \n",
       "\n",
       "               Date  \n",
       "count  1.850000e+02  \n",
       "mean   1.611981e+09  \n",
       "std    7.847299e+01  \n",
       "min    1.611980e+09  \n",
       "25%    1.611981e+09  \n",
       "50%    1.611981e+09  \n",
       "75%    1.611981e+09  \n",
       "max    1.611981e+09  "
      ]
     },
     "execution_count": 86,
     "metadata": {},
     "output_type": "execute_result"
    }
   ],
   "source": [
    "southern_hem_filter=weather_data_df_one.loc[:, \"Latitude\"]<0 #on the equator included\n",
    "southern_hem_df=weather_data_df_one.loc[southern_hem_filter,:]\n",
    "southern_hem_df.describe()"
   ]
  },
  {
   "cell_type": "code",
   "execution_count": 87,
   "metadata": {},
   "outputs": [
    {
     "data": {
      "text/plain": [
       "185"
      ]
     },
     "execution_count": 87,
     "metadata": {},
     "output_type": "execute_result"
    }
   ],
   "source": [
    "len(southern_hem_df)\n",
    "# this plus northern_hem_df should add up to your weather_data_df_one "
   ]
  },
  {
   "cell_type": "code",
   "execution_count": 88,
   "metadata": {},
   "outputs": [
    {
     "data": {
      "text/plain": [
       "385"
      ]
     },
     "execution_count": 88,
     "metadata": {},
     "output_type": "execute_result"
    }
   ],
   "source": [
    "len(northern_hem_df)"
   ]
  },
  {
   "cell_type": "code",
   "execution_count": 89,
   "metadata": {},
   "outputs": [
    {
     "name": "stdout",
     "output_type": "stream",
     "text": [
      "The r-squared is: 0.00026685671929245925\n"
     ]
    },
    {
     "data": {
      "image/png": "[encoded data removed]",
      "text/plain": [
       "<Figure size 432x288 with 1 Axes>"
      ]
     },
     "metadata": {
      "needs_background": "light"
     },
     "output_type": "display_data"
    }
   ],
   "source": [
    "#(slope, intercept, rvalue, pvalue, stderr) = linregress(x_values, y_values)\n",
    "#regress_values = x_values * slope + intercept\n",
    "\n",
    "x_lat=weather_data_df_one['Latitude']\n",
    "y_wind_speed=weather_data_df_one['Wind Speed']\n",
    "\n",
    "(slope, intercept, rvalue, pvalue, stderr) = linregress(x_lat, y_wind_speed)\n",
    "regress_values = x_lat * slope + intercept\n",
    "line_eq = \"y = \" + str(round(slope,2)) + \"x + \" + str(round(intercept,2))\n",
    "plt.scatter(x_lat,y_wind_speed)\n",
    "plt.plot(x_lat,regress_values,\"r-\")\n",
    "plt.annotate(line_eq,(0,5),fontsize=15,color=\"red\")\n",
    "plt.xlabel('')\n",
    "plt.ylabel('')\n",
    "print(f\"The r-squared is: {rvalue**2}\")\n",
    "plt.show()\n",
    "\n",
    "\n",
    "#slope, intercept, rvalue, pvalue, stderr = linregress(x, y) #list unpacking \n",
    "# y=mx+b #every straight line can be represented by this equation\n",
    "#regression=slope+x+intercept\n",
    "#regression_label=(f'y={round(slope,2)}x+{round(intercept,2)}')\n",
    "\n",
    "#liner regression is trying to draw a line as close as possible to the most dots\n"
   ]
  },
  {
   "cell_type": "markdown",
   "metadata": {},
   "source": [
    "####  Northern Hemisphere - Max Temp vs. Latitude Linear Regression"
   ]
  },
  {
   "cell_type": "code",
   "execution_count": 90,
   "metadata": {},
   "outputs": [
    {
     "name": "stdout",
     "output_type": "stream",
     "text": [
      "The r-squared is: 0.7510049771976302\n"
     ]
    },
    {
     "data": {
      "image/png": "[encoded data removed]",
      "text/plain": [
       "<Figure size 432x288 with 1 Axes>"
      ]
     },
     "metadata": {
      "needs_background": "light"
     },
     "output_type": "display_data"
    },
    {
     "data": {
      "text/plain": [
       "<Figure size 432x288 with 0 Axes>"
      ]
     },
     "metadata": {},
     "output_type": "display_data"
    }
   ],
   "source": [
    "x_lat=northern_hem_df['Latitude']\n",
    "y_maxtemp=northern_hem_df['Max Temp']\n",
    "\n",
    "\n",
    "# (slope, intercept, rvalue, pvalue,stderr)= linregress(x_lat, y_maxtemp)\n",
    "# plt.scatter(x_lat, y_maxtemp)\n",
    "# plt.title('City Latitude vs Max Temperature')\n",
    "# plt.xlabel('Latitude')\n",
    "# plt.ylabel('Max Temperature (K)')\n",
    "# plt.grid(True)\n",
    "\n",
    "\n",
    "(slope, intercept, rvalue, pvalue, stderr) = linregress(x_lat, y_maxtemp)\n",
    "regress_values = x_lat * slope + intercept\n",
    "line_eq = \"y = \" + str(round(slope,2)) + \"x + \" + str(round(intercept,2))\n",
    "plt.scatter(x_lat,y_maxtemp)\n",
    "plt.plot(x_lat,regress_values,\"r-\")\n",
    "plt.annotate(line_eq,(10,240),fontsize=15,color=\"red\")\n",
    "plt.title('Northern Hemisphere: City Latitude vs Max Temp ')\n",
    "plt.xlabel('Latitude')\n",
    "plt.ylabel('Max Temp')\n",
    "print(f\"The r-squared is: {rvalue**2}\")\n",
    "#plt.xlim(0,90)\n",
    "#plt.ylim(0,110)\n",
    "\n",
    "plt.grid(True)\n",
    "plt.show()\n",
    "\n",
    "#=300-200\n",
    "# based off this regression, we can expect the max temp \n",
    "plt.savefig('../WeatherPy/Northern_Latitude vs Max Temp.png')"
   ]
  },
  {
   "cell_type": "markdown",
   "metadata": {},
   "source": [
    "####  Southern Hemisphere - Max Temp vs. Latitude Linear Regression"
   ]
  },
  {
   "cell_type": "code",
   "execution_count": 91,
   "metadata": {},
   "outputs": [
    {
     "name": "stdout",
     "output_type": "stream",
     "text": [
      "The r-squared is: 0.27493573728126514\n"
     ]
    },
    {
     "data": {
      "image/png": "[encoded data removed]",
      "text/plain": [
       "<Figure size 432x288 with 1 Axes>"
      ]
     },
     "metadata": {
      "needs_background": "light"
     },
     "output_type": "display_data"
    },
    {
     "data": {
      "text/plain": [
       "<Figure size 432x288 with 0 Axes>"
      ]
     },
     "metadata": {},
     "output_type": "display_data"
    }
   ],
   "source": [
    "x_lat=southern_hem_df['Latitude']\n",
    "y_maxtemp=southern_hem_df['Max Temp']\n",
    "\n",
    "\n",
    "# (slope, intercept, rvalue, pvalue,stderr)= linregress(x_lat, y_maxtemp)\n",
    "# plt.scatter(x_lat, y_maxtemp)\n",
    "# plt.title('City Latitude vs Max Temperature')\n",
    "# plt.xlabel('Latitude')\n",
    "# plt.ylabel('Max Temperature (K)')\n",
    "# plt.grid(True)\n",
    "\n",
    "\n",
    "(slope, intercept, rvalue, pvalue, stderr) = linregress(x_lat, y_maxtemp)\n",
    "regress_values = x_lat * slope + intercept\n",
    "line_eq = \"y = \" + str(round(slope,2)) + \"x + \" + str(round(intercept,2))\n",
    "plt.scatter(x_lat,y_maxtemp)\n",
    "plt.plot(x_lat,regress_values,\"r-\")\n",
    "plt.annotate(line_eq,(-70,288),fontsize=15,color=\"red\")\n",
    "plt.title('Southern Hemisphere: City Latitude vs Max Temp ')\n",
    "plt.xlabel('Latitude')\n",
    "plt.ylabel('Max Temp')\n",
    "print(f\"The r-squared is: {rvalue**2}\")\n",
    "#plt.xlim(0,90)\n",
    "#plt.ylim(0,110)\n",
    "\n",
    "plt.grid(True)\n",
    "plt.show()\n",
    "#plt.savefig()\n",
    "#find the line where you have the smallest distance between the point of the data set\n",
    "plt.savefig('../WeatherPy/Southern_Latitude vs Max Temp.png')"
   ]
  },
  {
   "cell_type": "markdown",
   "metadata": {},
   "source": [
    "####  Northern Hemisphere - Humidity (%) vs. Latitude Linear Regression"
   ]
  },
  {
   "cell_type": "code",
   "execution_count": 92,
   "metadata": {},
   "outputs": [
    {
     "name": "stdout",
     "output_type": "stream",
     "text": [
      "The r-squared is: 0.13836973618850062\n"
     ]
    },
    {
     "data": {
      "image/png": "[encoded data removed]",
      "text/plain": [
       "<Figure size 432x288 with 1 Axes>"
      ]
     },
     "metadata": {
      "needs_background": "light"
     },
     "output_type": "display_data"
    },
    {
     "data": {
      "text/plain": [
       "<Figure size 432x288 with 0 Axes>"
      ]
     },
     "metadata": {},
     "output_type": "display_data"
    }
   ],
   "source": [
    "x_lat=northern_hem_df['Latitude']\n",
    "y_humidity=northern_hem_df['Humidity']\n",
    "\n",
    "\n",
    "# (slope, intercept, rvalue, pvalue,stderr)= linregress(x_lat, y_maxtemp)\n",
    "# plt.scatter(x_lat, y_maxtemp)\n",
    "# plt.title('City Latitude vs Max Temperature')\n",
    "# plt.xlabel('Latitude')\n",
    "# plt.ylabel('Max Temperature (K)')\n",
    "# plt.grid(True)\n",
    "\n",
    "\n",
    "(slope, intercept, rvalue, pvalue, stderr) = linregress(x_lat, y_humidity)\n",
    "regress_values = x_lat * slope + intercept\n",
    "line_eq = \"y = \" + str(round(slope,2)) + \"x + \" + str(round(intercept,2))\n",
    "plt.scatter(x_lat,y_humidity)\n",
    "plt.plot(x_lat,regress_values,\"r-\")\n",
    "plt.annotate(line_eq,(20,20),fontsize=15,color=\"red\")\n",
    "plt.title('Northern Hemisphere: City Latitude vs Humidity ')\n",
    "plt.xlabel('Latitude')\n",
    "plt.ylabel('Humidity')\n",
    "print(f\"The r-squared is: {rvalue**2}\")\n",
    "#plot.xlim(min, max)\n",
    "plt.xlim(0,90)\n",
    "plt.ylim(0,110)\n",
    "plt.grid(True)\n",
    "plt.show()\n",
    "plt.savefig('../WeatherPy/Northern_Latitude vs Humidity.png')"
   ]
  },
  {
   "cell_type": "code",
   "execution_count": null,
   "metadata": {},
   "outputs": [],
   "source": []
  },
  {
   "cell_type": "markdown",
   "metadata": {},
   "source": [
    "####  Southern Hemisphere - Humidity (%) vs. Latitude Linear Regression"
   ]
  },
  {
   "cell_type": "code",
   "execution_count": 93,
   "metadata": {},
   "outputs": [
    {
     "data": {
      "image/png": "[encoded data removed]",
      "text/plain": [
       "<Figure size 432x288 with 1 Axes>"
      ]
     },
     "metadata": {
      "needs_background": "light"
     },
     "output_type": "display_data"
    },
    {
     "name": "stdout",
     "output_type": "stream",
     "text": [
      "The r-squared is: 0.12995977158517488\n"
     ]
    }
   ],
   "source": [
    "x_lat=southern_hem_df['Latitude']\n",
    "y_humidity=southern_hem_df['Humidity']\n",
    "\n",
    "\n",
    "# (slope, intercept, rvalue, pvalue,stderr)= linregress(x_lat, y_maxtemp)\n",
    "# plt.scatter(x_lat, y_maxtemp)\n",
    "# plt.title('City Latitude vs Max Temperature')\n",
    "# plt.xlabel('Latitude')\n",
    "# plt.ylabel('Max Temperature (K)')\n",
    "# plt.grid(True)\n",
    "\n",
    "\n",
    "(slope, intercept, rvalue, pvalue, stderr) = linregress(x_lat, y_humidity)\n",
    "regress_values = x_lat * slope + intercept\n",
    "line_eq = \"y = \" + str(round(slope,2)) + \"x + \" + str(round(intercept,2))\n",
    "plt.scatter(x_lat,y_humidity)\n",
    "plt.plot(x_lat,regress_values,\"r-\")\n",
    "plt.annotate(line_eq,(-65,30),fontsize=15,color=\"red\")\n",
    "plt.title('Southern Hemisphere: City Latitude vs Humidity')\n",
    "plt.xlabel('Latitude')\n",
    "plt.ylabel('Humidity')\n",
    "\n",
    "#plot.xlim(min, max)\n",
    "plt.xlim(-70,10)\n",
    "plt.ylim(10,110)\n",
    "plt.grid(True)\n",
    "plt.show()\n",
    "\n",
    "print(f\"The r-squared is: {rvalue**2}\")\n"
   ]
  },
  {
   "cell_type": "markdown",
   "metadata": {},
   "source": [
    "####  Northern Hemisphere - Cloudiness (%) vs. Latitude Linear Regression"
   ]
  },
  {
   "cell_type": "code",
   "execution_count": 94,
   "metadata": {},
   "outputs": [
    {
     "name": "stdout",
     "output_type": "stream",
     "text": [
      "The r-squared is: 0.0686997756751035\n"
     ]
    },
    {
     "data": {
      "image/png": "[encoded data removed]",
      "text/plain": [
       "<Figure size 432x288 with 1 Axes>"
      ]
     },
     "metadata": {
      "needs_background": "light"
     },
     "output_type": "display_data"
    }
   ],
   "source": [
    "x_lat=northern_hem_df['Latitude']\n",
    "y_cloudiness=northern_hem_df['Cloudiness']\n",
    "\n",
    "\n",
    "# (slope, intercept, rvalue, pvalue,stderr)= linregress(x_lat, y_maxtemp)\n",
    "# plt.scatter(x_lat, y_maxtemp)\n",
    "# plt.title('City Latitude vs Max Temperature')\n",
    "# plt.xlabel('Latitude')\n",
    "# plt.ylabel('Max Temperature (K)')\n",
    "# plt.grid(True)\n",
    "\n",
    "\n",
    "(slope, intercept, rvalue, pvalue, stderr) = linregress(x_lat, y_cloudiness)\n",
    "regress_values = x_lat * slope + intercept\n",
    "line_eq = \"y = \" + str(round(slope,2)) + \"x + \" + str(round(intercept,2))\n",
    "plt.scatter(x_lat,y_cloudiness)\n",
    "plt.plot(x_lat,regress_values,\"r-\")\n",
    "plt.annotate(line_eq,(10,240),fontsize=15,color=\"red\")\n",
    "plt.title('Northern Hemisphere: City Latitude vs Cloudiness (%) ')\n",
    "plt.xlabel('Latitude')\n",
    "plt.ylabel('Cloudiness')\n",
    "print(f\"The r-squared is: {rvalue**2}\")\n",
    "plt.grid(True)\n",
    "plt.show()"
   ]
  },
  {
   "cell_type": "code",
   "execution_count": null,
   "metadata": {},
   "outputs": [],
   "source": []
  },
  {
   "cell_type": "markdown",
   "metadata": {},
   "source": [
    "####  Southern Hemisphere - Cloudiness (%) vs. Latitude Linear Regression"
   ]
  },
  {
   "cell_type": "code",
   "execution_count": 95,
   "metadata": {},
   "outputs": [
    {
     "name": "stdout",
     "output_type": "stream",
     "text": [
      "The r-squared is: 0.12995977158517488\n"
     ]
    },
    {
     "data": {
      "image/png": "[encoded data removed]",
      "text/plain": [
       "<Figure size 432x288 with 1 Axes>"
      ]
     },
     "metadata": {
      "needs_background": "light"
     },
     "output_type": "display_data"
    }
   ],
   "source": [
    "x_lat=southern_hem_df['Latitude']\n",
    "y_cloudiness=southern_hem_df['Humidity']\n",
    "\n",
    "\n",
    "# (slope, intercept, rvalue, pvalue,stderr)= linregress(x_lat, y_maxtemp)\n",
    "# plt.scatter(x_lat, y_maxtemp)\n",
    "# plt.title('City Latitude vs Max Temperature')\n",
    "# plt.xlabel('Latitude')\n",
    "# plt.ylabel('Max Temperature (K)')\n",
    "# plt.grid(True)\n",
    "\n",
    "\n",
    "(slope, intercept, rvalue, pvalue, stderr) = linregress(x_lat, y_cloudiness)\n",
    "regress_values = x_lat * slope + intercept\n",
    "line_eq = \"y = \" + str(round(slope,2)) + \"x + \" + str(round(intercept,2))\n",
    "plt.scatter(x_lat,y_cloudiness)\n",
    "plt.plot(x_lat,regress_values,\"r-\")\n",
    "plt.annotate(line_eq,(-75,50),fontsize=15,color=\"red\")\n",
    "plt.title('Southern Hemisphere: City Latitude vs Cloudiness')\n",
    "plt.xlabel('Latitude')\n",
    "plt.ylabel('Cloudiness')\n",
    "print(f\"The r-squared is: {rvalue**2}\")\n",
    "#plot.xlim(min, max)\n",
    "plt.xlim(-70,10)\n",
    "plt.ylim(10,120)\n",
    "plt.grid(True)\n",
    "plt.show()\n"
   ]
  },
  {
   "cell_type": "markdown",
   "metadata": {},
   "source": [
    "####  Northern Hemisphere - Wind Speed (mph) vs. Latitude Linear Regression"
   ]
  },
  {
   "cell_type": "code",
   "execution_count": 96,
   "metadata": {},
   "outputs": [
    {
     "name": "stdout",
     "output_type": "stream",
     "text": [
      "The r-squared is: 0.00044791966493400127\n"
     ]
    },
    {
     "data": {
      "image/png": "[encoded data removed]",
      "text/plain": [
       "<Figure size 432x288 with 1 Axes>"
      ]
     },
     "metadata": {
      "needs_background": "light"
     },
     "output_type": "display_data"
    }
   ],
   "source": [
    "x_lat=northern_hem_df['Latitude']\n",
    "y_wind_speed=northern_hem_df['Wind Speed']\n",
    "\n",
    "\n",
    "# (slope, intercept, rvalue, pvalue,stderr)= linregress(x_lat, y_maxtemp)\n",
    "# plt.scatter(x_lat, y_maxtemp)\n",
    "# plt.title('City Latitude vs Max Temperature')\n",
    "# plt.xlabel('Latitude')\n",
    "# plt.ylabel('Max Temperature (K)')\n",
    "# plt.grid(True)\n",
    "\n",
    "\n",
    "(slope, intercept, rvalue, pvalue, stderr) = linregress(x_lat, y_wind_speed)\n",
    "regress_values = x_lat * slope + intercept\n",
    "line_eq = \"y = \" + str(round(slope,2)) + \"x + \" + str(round(intercept,2))\n",
    "plt.scatter(x_lat,y_wind_speed)\n",
    "plt.plot(x_lat,regress_values,\"r-\")\n",
    "plt.annotate(line_eq,(0,10),fontsize=15,color=\"red\")\n",
    "plt.title('Northern Hemisphere: City Latitude vs Wind Speed (mph) ')\n",
    "plt.xlabel('Latitude')\n",
    "plt.ylabel('Wind Speed')\n",
    "print(f\"The r-squared is: {rvalue**2}\")\n",
    "plt.grid(True)\n",
    "plt.show()"
   ]
  },
  {
   "cell_type": "markdown",
   "metadata": {},
   "source": [
    "####  Southern Hemisphere - Wind Speed (mph) vs. Latitude Linear Regression"
   ]
  },
  {
   "cell_type": "code",
   "execution_count": 97,
   "metadata": {},
   "outputs": [
    {
     "name": "stdout",
     "output_type": "stream",
     "text": [
      "The r-squared is: 0.01848316051212969\n"
     ]
    },
    {
     "data": {
      "image/png": "[encoded data removed]",
      "text/plain": [
       "<Figure size 432x288 with 1 Axes>"
      ]
     },
     "metadata": {
      "needs_background": "light"
     },
     "output_type": "display_data"
    }
   ],
   "source": [
    "x_lat=southern_hem_df['Latitude']\n",
    "y_wind_speed=southern_hem_df['Wind Speed']\n",
    "\n",
    "\n",
    "# (slope, intercept, rvalue, pvalue,stderr)= linregress(x_lat, y_maxtemp)\n",
    "# plt.scatter(x_lat, y_maxtemp)\n",
    "# plt.title('City Latitude vs Max Temperature')\n",
    "# plt.xlabel('Latitude')\n",
    "# plt.ylabel('Max Temperature (K)')\n",
    "# plt.grid(True)\n",
    "\n",
    "\n",
    "(slope, intercept, rvalue, pvalue, stderr) = linregress(x_lat, y_wind_speed)\n",
    "regress_values = x_lat * slope + intercept\n",
    "line_eq = \"y = \" + str(round(slope,2)) + \"x + \" + str(round(intercept,2))\n",
    "plt.scatter(x_lat,y_wind_speed)\n",
    "plt.plot(x_lat,regress_values,\"r-\")\n",
    "plt.annotate(line_eq,(-65,10),fontsize=15,color=\"red\")\n",
    "plt.title('Southern Hemisphere: City Latitude vs Wind Speed (mph)')\n",
    "plt.xlabel('Latitude')\n",
    "plt.ylabel('Wind Speed (mph)')\n",
    "print(f\"The r-squared is: {rvalue**2}\")\n",
    "#plot.xlim(min, max)\n",
    "#plt.xlim(-70,10)\n",
    "#plt.ylim(10,110)\n",
    "plt.grid(True)\n",
    "plt.show()"
   ]
  },
  {
   "cell_type": "code",
   "execution_count": null,
   "metadata": {},
   "outputs": [],
   "source": []
  },
  {
   "cell_type": "code",
   "execution_count": null,
   "metadata": {},
   "outputs": [],
   "source": []
  }
 ],
 "metadata": {
  "anaconda-cloud": {},
  "kernel_info": {
   "name": "python3"
  },
  "kernelspec": {
   "display_name": "Python 3",
   "language": "python",
   "name": "python3"
  },
  "language_info": {
   "codemirror_mode": {
    "name": "ipython",
    "version": 3
   },
   "file_extension": ".py",
   "mimetype": "text/x-python",
   "name": "python",
   "nbconvert_exporter": "python",
   "pygments_lexer": "ipython3",
   "version": "3.8.3"
  },
  "latex_envs": {
   "LaTeX_envs_menu_present": true,
   "autoclose": false,
   "autocomplete": true,
   "bibliofile": "biblio.bib",
   "cite_by": "apalike",
   "current_citInitial": 1,
   "eqLabelWithNumbers": true,
   "eqNumInitial": 1,
   "hotkeys": {
    "equation": "Ctrl-E",
    "itemize": "Ctrl-I"
   },
   "labels_anchors": false,
   "latex_user_defs": false,
   "report_style_numbering": false,
   "user_envs_cfg": false
  },
  "nteract": {
   "version": "0.12.3"
  }
 },
 "nbformat": 4,
 "nbformat_minor": 2
}
