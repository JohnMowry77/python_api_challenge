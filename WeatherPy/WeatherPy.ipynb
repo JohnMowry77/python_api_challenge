{
 "cells": [
  {
   "cell_type": "markdown",
   "metadata": {},
   "source": [
    "# WeatherPy\n",
    "----\n",
    "\n",
    "#### Note\n",
    "* Instructions have been included for each segment. You do not have to follow them exactly, but they are included to help you think through the steps."
   ]
  },
  {
   "cell_type": "code",
   "execution_count": 25,
   "metadata": {
    "scrolled": true
   },
   "outputs": [],
   "source": [
    "# Dependencies and Setup\n",
    "import matplotlib.pyplot as plt\n",
    "import pandas as pd\n",
    "import numpy as np\n",
    "import requests\n",
    "import time\n",
    "from scipy.stats import linregress\n",
    "from pprint import pprint\n",
    "\n",
    "# Import API key\n",
    "from api_keys import weather_api_key\n",
    "\n",
    "# Incorporated citipy to determine city based on latitude and longitude\n",
    "from citipy import citipy\n",
    "\n",
    "# Output File (CSV)\n",
    "output_data_file = \"output_data/cities.csv\"\n",
    "\n",
    "# Range of latitudes and longitudes\n",
    "lat_range = (-90, 90)\n",
    "lng_range = (-180, 180)\n",
    "\n",
    "#daily 7 day forecast API\n"
   ]
  },
  {
   "cell_type": "code",
   "execution_count": 26,
   "metadata": {},
   "outputs": [],
   "source": [
    "#weather_api_key\n"
   ]
  },
  {
   "cell_type": "markdown",
   "metadata": {},
   "source": [
    "## Generate Cities List"
   ]
  },
  {
   "cell_type": "code",
   "execution_count": 27,
   "metadata": {},
   "outputs": [
    {
     "data": {
      "text/plain": [
       "631"
      ]
     },
     "execution_count": 27,
     "metadata": {},
     "output_type": "execute_result"
    }
   ],
   "source": [
    "# List for holding lat_lngs and cities\n",
    "lat_lngs = []\n",
    "cities_list = []\n",
    "\n",
    "# Create a set of random lat and lng combinations\n",
    "lats = np.random.uniform(lat_range[0], lat_range[1], size=1500)\n",
    "lngs = np.random.uniform(lng_range[0], lng_range[1], size=1500)\n",
    "lat_lngs = zip(lats, lngs)\n",
    "\n",
    "# Identify nearest city for each lat, lng combination\n",
    "for lat_lng in lat_lngs:\n",
    "    city = citipy.nearest_city(lat_lng[0], lat_lng[1]).city_name\n",
    "    \n",
    "    # If the city is unique, then add it to a our cities list\n",
    "    if city not in cities_list:\n",
    "        cities_list.append(city)\n",
    "\n",
    "# Print the city count to confirm sufficient count\n",
    "len(cities_list)"
   ]
  },
  {
   "cell_type": "code",
   "execution_count": 28,
   "metadata": {},
   "outputs": [],
   "source": [
    "#print(city)"
   ]
  },
  {
   "cell_type": "code",
   "execution_count": 29,
   "metadata": {},
   "outputs": [],
   "source": [
    "#print(cities_list) #print a list of the cities_list"
   ]
  },
  {
   "cell_type": "code",
   "execution_count": 30,
   "metadata": {},
   "outputs": [],
   "source": [
    "# this is your api url link, we fill it in below. \n",
    "#api.openweathermap.org/data/2.5/weather?q={city name}&appid={API key}"
   ]
  },
  {
   "cell_type": "code",
   "execution_count": 31,
   "metadata": {},
   "outputs": [
    {
     "name": "stdout",
     "output_type": "stream",
     "text": [
      "http://api.openweathermap.org/data/2.5/weather?appid=bc6b9a82441f1910d9054de33f421ceb&q=bundaberg\n"
     ]
    }
   ],
   "source": [
    "base_url= \"http://api.openweathermap.org/data/2.5/weather?\"\n",
    "#city_one= \"Denver\"\n",
    "\n",
    "query_url= base_url+ \"appid=\"+weather_api_key+ \"&q=\" + city\n",
    "print(query_url) #click on this url and put into Google.\n"
   ]
  },
  {
   "cell_type": "code",
   "execution_count": 32,
   "metadata": {},
   "outputs": [
    {
     "name": "stdout",
     "output_type": "stream",
     "text": [
      "{'base': 'stations',\n",
      " 'clouds': {'all': 40},\n",
      " 'cod': 200,\n",
      " 'coord': {'lat': -24.85, 'lon': 152.35},\n",
      " 'dt': 1614565124,\n",
      " 'id': 2173323,\n",
      " 'main': {'feels_like': 303.45,\n",
      "          'humidity': 51,\n",
      "          'pressure': 1009,\n",
      "          'temp': 304.21,\n",
      "          'temp_max': 304.26,\n",
      "          'temp_min': 304.15},\n",
      " 'name': 'Bundaberg',\n",
      " 'sys': {'country': 'AU',\n",
      "         'id': 9501,\n",
      "         'sunrise': 1614541511,\n",
      "         'sunset': 1614586871,\n",
      "         'type': 1},\n",
      " 'timezone': 36000,\n",
      " 'visibility': 10000,\n",
      " 'weather': [{'description': 'scattered clouds',\n",
      "              'icon': '03d',\n",
      "              'id': 802,\n",
      "              'main': 'Clouds'}],\n",
      " 'wind': {'deg': 70, 'speed': 6.17}}\n"
     ]
    }
   ],
   "source": [
    "#query_url='api.openweathermap.org/data/2.5/weather?q={city}&appid={weather_api_key}'\n",
    "#query_url\n",
    "\n",
    "weather_response=requests.get(query_url)\n",
    "weather_json=weather_response.json()\n",
    "#pprint(f'The weather API responded with: {weather_json}.')\n",
    "\n",
    "pprint(weather_json)"
   ]
  },
  {
   "cell_type": "markdown",
   "metadata": {},
   "source": [
    "### Perform API Calls\n",
    "* Perform a weather check on each city using a series of successive API calls.\n",
    "* Include a print log of each city as it'sbeing processed (with the city number and city name).\n"
   ]
  },
  {
   "cell_type": "code",
   "execution_count": 33,
   "metadata": {
    "scrolled": true
   },
   "outputs": [
    {
     "name": "stdout",
     "output_type": "stream",
     "text": [
      " Processing record number 1 for Set 1 the city of chicama\n",
      " Processing record number 2 for Set 1 the city of ushuaia\n",
      " Processing record number 3 for Set 1 the city of albany\n",
      " Processing record number 4 for Set 1 the city of bonavista\n",
      "City not found. Skipping...\n",
      " Processing record number 6 for Set 1 the city of airai\n",
      " Processing record number 7 for Set 1 the city of buchanan\n",
      " Processing record number 8 for Set 1 the city of luderitz\n",
      " Processing record number 9 for Set 1 the city of fairbanks\n",
      " Processing record number 10 for Set 1 the city of geraldton\n",
      " Processing record number 11 for Set 1 the city of ostrovnoy\n",
      " Processing record number 12 for Set 1 the city of samarai\n",
      " Processing record number 13 for Set 1 the city of mandalgovi\n",
      " Processing record number 14 for Set 1 the city of saint george\n",
      " Processing record number 15 for Set 1 the city of kamaishi\n",
      " Processing record number 16 for Set 1 the city of prince rupert\n",
      "City not found. Skipping...\n",
      " Processing record number 18 for Set 1 the city of vila velha\n",
      " Processing record number 19 for Set 1 the city of port elizabeth\n",
      " Processing record number 20 for Set 1 the city of kapaa\n",
      " Processing record number 21 for Set 1 the city of clinton\n",
      " Processing record number 22 for Set 1 the city of rikitea\n",
      " Processing record number 23 for Set 1 the city of la fleche\n",
      " Processing record number 24 for Set 1 the city of san vicente\n",
      " Processing record number 25 for Set 1 the city of port alfred\n",
      " Processing record number 26 for Set 1 the city of antalaha\n",
      " Processing record number 27 for Set 1 the city of atuona\n",
      " Processing record number 28 for Set 1 the city of tabou\n",
      " Processing record number 29 for Set 1 the city of pisco\n",
      " Processing record number 30 for Set 1 the city of khuzdar\n",
      " Processing record number 31 for Set 1 the city of cabo san lucas\n",
      " Processing record number 32 for Set 1 the city of pervomayskiy\n",
      " Processing record number 33 for Set 1 the city of jiazi\n",
      " Processing record number 34 for Set 1 the city of punta arenas\n",
      " Processing record number 35 for Set 1 the city of lander\n",
      " Processing record number 36 for Set 1 the city of palmer\n",
      " Processing record number 37 for Set 1 the city of severo-kurilsk\n",
      " Processing record number 38 for Set 1 the city of paamiut\n",
      " Processing record number 39 for Set 1 the city of senno\n",
      " Processing record number 40 for Set 1 the city of cape town\n",
      " Processing record number 41 for Set 1 the city of bredasdorp\n",
      "City not found. Skipping...\n",
      " Processing record number 43 for Set 1 the city of orlik\n",
      " Processing record number 44 for Set 1 the city of huilong\n",
      " Processing record number 45 for Set 1 the city of gold coast\n",
      " Processing record number 46 for Set 1 the city of maragogi\n",
      "City not found. Skipping...\n",
      "City not found. Skipping...\n",
      " Processing record number 49 for Set 1 the city of puerto ayora\n",
      " Processing record number 50 for Set 1 the city of bengkulu\n",
      " Processing record number 1 for Set 2 the city of kruisfontein\n",
      " Processing record number 2 for Set 2 the city of hobart\n",
      " Processing record number 3 for Set 2 the city of mataura\n",
      " Processing record number 4 for Set 2 the city of herbertpur\n",
      " Processing record number 5 for Set 2 the city of hithadhoo\n",
      " Processing record number 6 for Set 2 the city of paka\n",
      " Processing record number 7 for Set 2 the city of san ramon\n",
      " Processing record number 8 for Set 2 the city of gimli\n",
      " Processing record number 9 for Set 2 the city of iqaluit\n",
      " Processing record number 10 for Set 2 the city of bethel\n",
      " Processing record number 11 for Set 2 the city of butaritari\n",
      " Processing record number 12 for Set 2 the city of avarua\n",
      " Processing record number 13 for Set 2 the city of kokstad\n",
      " Processing record number 14 for Set 2 the city of bluff\n",
      " Processing record number 15 for Set 2 the city of swift current\n",
      " Processing record number 16 for Set 2 the city of noumea\n",
      " Processing record number 17 for Set 2 the city of tubigon\n",
      "City not found. Skipping...\n",
      " Processing record number 19 for Set 2 the city of new norfolk\n",
      " Processing record number 20 for Set 2 the city of upernavik\n",
      " Processing record number 21 for Set 2 the city of saint anthony\n",
      " Processing record number 22 for Set 2 the city of iskateley\n",
      " Processing record number 23 for Set 2 the city of bang krathum\n",
      " Processing record number 24 for Set 2 the city of ous\n",
      "City not found. Skipping...\n",
      " Processing record number 26 for Set 2 the city of dawei\n",
      " Processing record number 27 for Set 2 the city of camacha\n",
      " Processing record number 28 for Set 2 the city of sur\n",
      " Processing record number 29 for Set 2 the city of busselton\n",
      " Processing record number 30 for Set 2 the city of pevek\n",
      " Processing record number 31 for Set 2 the city of saint-georges\n",
      " Processing record number 32 for Set 2 the city of ponta do sol\n",
      " Processing record number 33 for Set 2 the city of nome\n",
      " Processing record number 34 for Set 2 the city of clyde river\n",
      " Processing record number 35 for Set 2 the city of itaqui\n",
      " Processing record number 36 for Set 2 the city of forestville\n",
      " Processing record number 37 for Set 2 the city of flinders\n",
      " Processing record number 38 for Set 2 the city of kedrovyy\n",
      " Processing record number 39 for Set 2 the city of ola\n",
      "City not found. Skipping...\n",
      " Processing record number 41 for Set 2 the city of san quintin\n",
      " Processing record number 42 for Set 2 the city of jasper\n",
      " Processing record number 43 for Set 2 the city of provideniya\n",
      " Processing record number 44 for Set 2 the city of ushtobe\n",
      " Processing record number 45 for Set 2 the city of xuddur\n",
      " Processing record number 46 for Set 2 the city of hasaki\n",
      " Processing record number 47 for Set 2 the city of barrow\n",
      " Processing record number 48 for Set 2 the city of yulara\n",
      " Processing record number 49 for Set 2 the city of kyaikkami\n",
      " Processing record number 50 for Set 2 the city of sorland\n",
      " Processing record number 1 for Set 3 the city of morehead\n",
      " Processing record number 2 for Set 3 the city of nikolskoye\n",
      "City not found. Skipping...\n",
      " Processing record number 4 for Set 3 the city of jamestown\n",
      " Processing record number 5 for Set 3 the city of mackay\n",
      " Processing record number 6 for Set 3 the city of sanchor\n",
      " Processing record number 7 for Set 3 the city of tangshan\n",
      " Processing record number 8 for Set 3 the city of rabo de peixe\n",
      " Processing record number 9 for Set 3 the city of kodiak\n",
      " Processing record number 10 for Set 3 the city of vao\n",
      " Processing record number 11 for Set 3 the city of tasiilaq\n",
      " Processing record number 12 for Set 3 the city of olden\n",
      " Processing record number 13 for Set 3 the city of nuevo progreso\n",
      " Processing record number 14 for Set 3 the city of ostersund\n",
      " Processing record number 15 for Set 3 the city of constitucion\n",
      " Processing record number 16 for Set 3 the city of oistins\n",
      " Processing record number 17 for Set 3 the city of liverpool\n",
      " Processing record number 18 for Set 3 the city of traverse city\n",
      " Processing record number 19 for Set 3 the city of qaanaaq\n",
      " Processing record number 20 for Set 3 the city of challapata\n",
      " Processing record number 21 for Set 3 the city of hermanus\n",
      "City not found. Skipping...\n",
      " Processing record number 23 for Set 3 the city of kieta\n",
      " Processing record number 24 for Set 3 the city of tiksi\n",
      "City not found. Skipping...\n",
      " Processing record number 26 for Set 3 the city of cherskiy\n",
      " Processing record number 27 for Set 3 the city of tommot\n",
      "City not found. Skipping...\n",
      " Processing record number 29 for Set 3 the city of fort wellington\n",
      " Processing record number 30 for Set 3 the city of saint-joseph\n",
      " Processing record number 31 for Set 3 the city of diego de almagro\n",
      " Processing record number 32 for Set 3 the city of arraial do cabo\n",
      " Processing record number 33 for Set 3 the city of vaini\n",
      " Processing record number 34 for Set 3 the city of talnakh\n",
      " Processing record number 35 for Set 3 the city of bandarbeyla\n",
      "City not found. Skipping...\n",
      " Processing record number 37 for Set 3 the city of dunedin\n",
      " Processing record number 38 for Set 3 the city of caravelas\n",
      " Processing record number 39 for Set 3 the city of bambous virieux\n",
      " Processing record number 40 for Set 3 the city of mitsamiouli\n",
      "City not found. Skipping...\n",
      " Processing record number 42 for Set 3 the city of sitka\n",
      " Processing record number 43 for Set 3 the city of potosi\n",
      " Processing record number 44 for Set 3 the city of palmares do sul\n"
     ]
    },
    {
     "name": "stdout",
     "output_type": "stream",
     "text": [
      " Processing record number 45 for Set 3 the city of nanortalik\n",
      " Processing record number 46 for Set 3 the city of kargil\n",
      " Processing record number 47 for Set 3 the city of salalah\n",
      " Processing record number 48 for Set 3 the city of vardo\n",
      " Processing record number 49 for Set 3 the city of hampton\n",
      " Processing record number 50 for Set 3 the city of aykhal\n",
      " Processing record number 1 for Set 4 the city of macau\n",
      " Processing record number 2 for Set 4 the city of ati\n",
      " Processing record number 3 for Set 4 the city of denpasar\n",
      " Processing record number 4 for Set 4 the city of huarmey\n",
      " Processing record number 5 for Set 4 the city of saskylakh\n",
      " Processing record number 6 for Set 4 the city of pemangkat\n",
      " Processing record number 7 for Set 4 the city of half moon bay\n",
      " Processing record number 8 for Set 4 the city of atasu\n",
      " Processing record number 9 for Set 4 the city of kormilovka\n",
      " Processing record number 10 for Set 4 the city of coquimbo\n",
      " Processing record number 11 for Set 4 the city of uyemskiy\n",
      " Processing record number 12 for Set 4 the city of quatre cocos\n",
      " Processing record number 13 for Set 4 the city of biu\n",
      " Processing record number 14 for Set 4 the city of shumskiy\n",
      " Processing record number 15 for Set 4 the city of carnarvon\n",
      " Processing record number 16 for Set 4 the city of cooma\n",
      " Processing record number 17 for Set 4 the city of petropavlovsk-kamchatskiy\n",
      " Processing record number 18 for Set 4 the city of honiara\n",
      " Processing record number 19 for Set 4 the city of cidreira\n",
      " Processing record number 20 for Set 4 the city of tangzhai\n",
      " Processing record number 21 for Set 4 the city of alekseyevsk\n",
      " Processing record number 22 for Set 4 the city of alofi\n",
      " Processing record number 23 for Set 4 the city of arman\n",
      " Processing record number 24 for Set 4 the city of lebu\n",
      " Processing record number 25 for Set 4 the city of cabedelo\n",
      " Processing record number 26 for Set 4 the city of port augusta\n",
      "City not found. Skipping...\n",
      " Processing record number 28 for Set 4 the city of sherbakul\n",
      " Processing record number 29 for Set 4 the city of vestmanna\n",
      "City not found. Skipping...\n",
      " Processing record number 31 for Set 4 the city of shelburne\n",
      " Processing record number 32 for Set 4 the city of padang\n",
      " Processing record number 33 for Set 4 the city of vadso\n",
      " Processing record number 34 for Set 4 the city of san andres\n",
      " Processing record number 35 for Set 4 the city of tigil\n",
      " Processing record number 36 for Set 4 the city of ribeira grande\n",
      " Processing record number 37 for Set 4 the city of santiago\n",
      " Processing record number 38 for Set 4 the city of yellowknife\n",
      " Processing record number 39 for Set 4 the city of mount gambier\n",
      " Processing record number 40 for Set 4 the city of chuy\n",
      " Processing record number 41 for Set 4 the city of potsdam\n",
      " Processing record number 42 for Set 4 the city of ochsenfurt\n",
      " Processing record number 43 for Set 4 the city of moose factory\n",
      " Processing record number 44 for Set 4 the city of bubaque\n",
      " Processing record number 45 for Set 4 the city of berlevag\n",
      "City not found. Skipping...\n",
      " Processing record number 47 for Set 4 the city of santa rosa\n",
      " Processing record number 48 for Set 4 the city of ayan\n",
      " Processing record number 49 for Set 4 the city of georgetown\n",
      " Processing record number 50 for Set 4 the city of hilo\n",
      " Processing record number 1 for Set 5 the city of vila do maio\n",
      " Processing record number 2 for Set 5 the city of chara\n",
      " Processing record number 3 for Set 5 the city of faanui\n",
      " Processing record number 4 for Set 5 the city of esperance\n",
      " Processing record number 5 for Set 5 the city of jumla\n",
      " Processing record number 6 for Set 5 the city of riyadh\n",
      " Processing record number 7 for Set 5 the city of khatanga\n",
      " Processing record number 8 for Set 5 the city of qena\n",
      "City not found. Skipping...\n",
      " Processing record number 10 for Set 5 the city of marawi\n",
      " Processing record number 11 for Set 5 the city of nizhneudinsk\n",
      " Processing record number 12 for Set 5 the city of san patricio\n",
      " Processing record number 13 for Set 5 the city of nyurba\n",
      "City not found. Skipping...\n",
      " Processing record number 15 for Set 5 the city of leningradskiy\n",
      " Processing record number 16 for Set 5 the city of high rock\n",
      " Processing record number 17 for Set 5 the city of asau\n",
      " Processing record number 18 for Set 5 the city of aswan\n",
      " Processing record number 19 for Set 5 the city of pangnirtung\n",
      " Processing record number 20 for Set 5 the city of riachao\n",
      " Processing record number 21 for Set 5 the city of dikson\n",
      " Processing record number 22 for Set 5 the city of iseyin\n",
      " Processing record number 23 for Set 5 the city of chanute\n",
      " Processing record number 24 for Set 5 the city of callaway\n",
      " Processing record number 25 for Set 5 the city of norman wells\n",
      " Processing record number 26 for Set 5 the city of rodrigues alves\n",
      " Processing record number 27 for Set 5 the city of mangochi\n",
      " Processing record number 28 for Set 5 the city of troitskoye\n",
      "City not found. Skipping...\n",
      " Processing record number 30 for Set 5 the city of charters towers\n",
      " Processing record number 31 for Set 5 the city of shitanjing\n",
      " Processing record number 32 for Set 5 the city of te anau\n",
      " Processing record number 33 for Set 5 the city of kavieng\n",
      " Processing record number 34 for Set 5 the city of port hedland\n",
      " Processing record number 35 for Set 5 the city of otane\n",
      " Processing record number 36 for Set 5 the city of baker city\n",
      " Processing record number 37 for Set 5 the city of puerto escondido\n",
      "City not found. Skipping...\n",
      " Processing record number 39 for Set 5 the city of huangmei\n",
      " Processing record number 40 for Set 5 the city of teknaf\n",
      " Processing record number 41 for Set 5 the city of melenki\n",
      " Processing record number 42 for Set 5 the city of balabac\n",
      " Processing record number 43 for Set 5 the city of klaksvik\n",
      " Processing record number 44 for Set 5 the city of santander\n",
      "City not found. Skipping...\n",
      " Processing record number 46 for Set 5 the city of codrington\n",
      " Processing record number 47 for Set 5 the city of mankono\n",
      " Processing record number 48 for Set 5 the city of sistranda\n",
      " Processing record number 49 for Set 5 the city of thompson\n",
      " Processing record number 50 for Set 5 the city of lopatyn\n",
      " Processing record number 1 for Set 6 the city of eureka\n",
      "City not found. Skipping...\n",
      " Processing record number 3 for Set 6 the city of ambunti\n",
      "City not found. Skipping...\n",
      " Processing record number 5 for Set 6 the city of bartica\n",
      " Processing record number 6 for Set 6 the city of abu kamal\n",
      "City not found. Skipping...\n",
      " Processing record number 8 for Set 6 the city of dingle\n",
      " Processing record number 9 for Set 6 the city of castro\n",
      " Processing record number 10 for Set 6 the city of ekibastuz\n",
      " Processing record number 11 for Set 6 the city of turukhansk\n",
      " Processing record number 12 for Set 6 the city of murgab\n",
      " Processing record number 13 for Set 6 the city of torbay\n",
      " Processing record number 14 for Set 6 the city of kaitangata\n",
      " Processing record number 15 for Set 6 the city of auly\n",
      " Processing record number 16 for Set 6 the city of stornoway\n",
      " Processing record number 17 for Set 6 the city of bay roberts\n",
      " Processing record number 18 for Set 6 the city of port blair\n",
      " Processing record number 19 for Set 6 the city of comodoro rivadavia\n",
      " Processing record number 20 for Set 6 the city of grindavik\n",
      " Processing record number 21 for Set 6 the city of bilma\n",
      " Processing record number 22 for Set 6 the city of saint-philippe\n",
      " Processing record number 23 for Set 6 the city of cuenca\n",
      " Processing record number 24 for Set 6 the city of iralaya\n",
      " Processing record number 25 for Set 6 the city of kiama\n",
      " Processing record number 26 for Set 6 the city of belyy yar\n",
      " Processing record number 27 for Set 6 the city of patos\n",
      " Processing record number 28 for Set 6 the city of tavricheskoye\n",
      " Processing record number 29 for Set 6 the city of dubbo\n",
      " Processing record number 30 for Set 6 the city of puerto carreno\n",
      " Processing record number 31 for Set 6 the city of nogales\n",
      " Processing record number 32 for Set 6 the city of stolin\n",
      "City not found. Skipping...\n",
      " Processing record number 34 for Set 6 the city of saldanha\n",
      " Processing record number 35 for Set 6 the city of lekoni\n",
      " Processing record number 36 for Set 6 the city of lac du bonnet\n",
      " Processing record number 37 for Set 6 the city of east london\n",
      " Processing record number 38 for Set 6 the city of bathsheba\n"
     ]
    },
    {
     "name": "stdout",
     "output_type": "stream",
     "text": [
      " Processing record number 39 for Set 6 the city of coalinga\n",
      " Processing record number 40 for Set 6 the city of kokopo\n",
      " Processing record number 41 for Set 6 the city of tuktoyaktuk\n",
      " Processing record number 42 for Set 6 the city of jutai\n",
      "City not found. Skipping...\n",
      " Processing record number 44 for Set 6 the city of bavleny\n",
      " Processing record number 45 for Set 6 the city of guaruja\n",
      "City not found. Skipping...\n",
      " Processing record number 47 for Set 6 the city of neryungri\n",
      " Processing record number 48 for Set 6 the city of kita\n",
      " Processing record number 49 for Set 6 the city of marsh harbour\n",
      " Processing record number 50 for Set 6 the city of sovetskiy\n",
      " Processing record number 1 for Set 7 the city of katiola\n",
      " Processing record number 2 for Set 7 the city of batagay\n",
      "City not found. Skipping...\n",
      " Processing record number 4 for Set 7 the city of husavik\n",
      " Processing record number 5 for Set 7 the city of inta\n",
      " Processing record number 6 for Set 7 the city of whitianga\n",
      " Processing record number 7 for Set 7 the city of harwich\n",
      " Processing record number 8 for Set 7 the city of palmas\n",
      " Processing record number 9 for Set 7 the city of hofn\n",
      " Processing record number 10 for Set 7 the city of isangel\n",
      " Processing record number 11 for Set 7 the city of sakakah\n",
      " Processing record number 12 for Set 7 the city of chokurdakh\n",
      " Processing record number 13 for Set 7 the city of sungaipenuh\n",
      " Processing record number 14 for Set 7 the city of kailua\n",
      " Processing record number 15 for Set 7 the city of coelho neto\n",
      " Processing record number 16 for Set 7 the city of yol\n",
      "City not found. Skipping...\n",
      " Processing record number 18 for Set 7 the city of zhigansk\n",
      " Processing record number 19 for Set 7 the city of ilhabela\n",
      " Processing record number 20 for Set 7 the city of lorengau\n",
      " Processing record number 21 for Set 7 the city of pochutla\n",
      " Processing record number 22 for Set 7 the city of vila franca do campo\n",
      " Processing record number 23 for Set 7 the city of adre\n",
      " Processing record number 24 for Set 7 the city of mahebourg\n",
      " Processing record number 25 for Set 7 the city of portland\n",
      " Processing record number 26 for Set 7 the city of port moresby\n",
      " Processing record number 27 for Set 7 the city of aklavik\n",
      " Processing record number 28 for Set 7 the city of santa luzia\n",
      " Processing record number 29 for Set 7 the city of chagoda\n",
      " Processing record number 30 for Set 7 the city of ranong\n",
      " Processing record number 31 for Set 7 the city of darhan\n",
      " Processing record number 32 for Set 7 the city of swanzey\n",
      " Processing record number 33 for Set 7 the city of brae\n",
      " Processing record number 34 for Set 7 the city of ternate\n",
      " Processing record number 35 for Set 7 the city of bouloupari\n",
      " Processing record number 36 for Set 7 the city of paita\n",
      " Processing record number 37 for Set 7 the city of katherine\n",
      " Processing record number 38 for Set 7 the city of verkhnevilyuysk\n",
      " Processing record number 39 for Set 7 the city of victoria\n",
      " Processing record number 40 for Set 7 the city of salta\n",
      " Processing record number 41 for Set 7 the city of mar del plata\n",
      "City not found. Skipping...\n",
      " Processing record number 43 for Set 7 the city of hervey bay\n",
      " Processing record number 44 for Set 7 the city of changying\n",
      " Processing record number 45 for Set 7 the city of hinton\n",
      " Processing record number 46 for Set 7 the city of iwanai\n",
      " Processing record number 47 for Set 7 the city of lagunas\n",
      " Processing record number 48 for Set 7 the city of filingue\n",
      " Processing record number 49 for Set 7 the city of guerrero negro\n",
      " Processing record number 50 for Set 7 the city of veseloyarsk\n",
      " Processing record number 1 for Set 8 the city of araouane\n",
      "City not found. Skipping...\n",
      " Processing record number 3 for Set 8 the city of umm lajj\n",
      " Processing record number 4 for Set 8 the city of lagoa\n",
      " Processing record number 5 for Set 8 the city of bulgan\n",
      " Processing record number 6 for Set 8 the city of wuwei\n",
      " Processing record number 7 for Set 8 the city of richards bay\n",
      " Processing record number 8 for Set 8 the city of korla\n",
      " Processing record number 9 for Set 8 the city of krasnoselkup\n",
      " Processing record number 10 for Set 8 the city of carutapera\n",
      " Processing record number 11 for Set 8 the city of joao pinheiro\n",
      " Processing record number 12 for Set 8 the city of dongning\n",
      " Processing record number 13 for Set 8 the city of kintampo\n",
      " Processing record number 14 for Set 8 the city of ambon\n",
      " Processing record number 15 for Set 8 the city of melita\n",
      "City not found. Skipping...\n",
      " Processing record number 17 for Set 8 the city of aden\n",
      " Processing record number 18 for Set 8 the city of mujiayingzi\n",
      " Processing record number 19 for Set 8 the city of alandi\n",
      " Processing record number 20 for Set 8 the city of ust-tsilma\n",
      " Processing record number 21 for Set 8 the city of touros\n",
      " Processing record number 22 for Set 8 the city of songjianghe\n",
      " Processing record number 23 for Set 8 the city of dauphin\n",
      " Processing record number 24 for Set 8 the city of herran\n",
      " Processing record number 25 for Set 8 the city of san jose\n",
      " Processing record number 26 for Set 8 the city of lata\n",
      " Processing record number 27 for Set 8 the city of hambantota\n",
      " Processing record number 28 for Set 8 the city of labuhan\n",
      " Processing record number 29 for Set 8 the city of poum\n",
      " Processing record number 30 for Set 8 the city of galich\n",
      "City not found. Skipping...\n",
      " Processing record number 32 for Set 8 the city of port hardy\n",
      " Processing record number 33 for Set 8 the city of dhanbad\n",
      " Processing record number 34 for Set 8 the city of maralal\n",
      " Processing record number 35 for Set 8 the city of pemba\n",
      " Processing record number 36 for Set 8 the city of natalio\n",
      " Processing record number 37 for Set 8 the city of catio\n",
      " Processing record number 38 for Set 8 the city of agadir\n",
      " Processing record number 39 for Set 8 the city of opuwo\n",
      " Processing record number 40 for Set 8 the city of beringovskiy\n",
      " Processing record number 41 for Set 8 the city of makaha\n",
      " Processing record number 42 for Set 8 the city of halifax\n",
      " Processing record number 43 for Set 8 the city of port lincoln\n",
      " Processing record number 44 for Set 8 the city of marsa matruh\n",
      " Processing record number 45 for Set 8 the city of port hawkesbury\n",
      " Processing record number 46 for Set 8 the city of camp verde\n",
      " Processing record number 47 for Set 8 the city of mancio lima\n",
      " Processing record number 48 for Set 8 the city of barentu\n",
      " Processing record number 49 for Set 8 the city of monmouth\n",
      " Processing record number 50 for Set 8 the city of kichera\n",
      " Processing record number 1 for Set 9 the city of harper\n",
      " Processing record number 2 for Set 9 the city of tuatapere\n",
      " Processing record number 3 for Set 9 the city of necochea\n",
      " Processing record number 4 for Set 9 the city of innisfail\n",
      " Processing record number 5 for Set 9 the city of saint-pierre\n",
      " Processing record number 6 for Set 9 the city of yerbogachen\n",
      "City not found. Skipping...\n",
      " Processing record number 8 for Set 9 the city of sobolevo\n",
      " Processing record number 9 for Set 9 the city of cockburn town\n",
      " Processing record number 10 for Set 9 the city of liku\n",
      " Processing record number 11 for Set 9 the city of grand gaube\n",
      " Processing record number 12 for Set 9 the city of katsuura\n",
      "City not found. Skipping...\n",
      " Processing record number 14 for Set 9 the city of lonevag\n",
      " Processing record number 15 for Set 9 the city of blythe\n",
      " Processing record number 16 for Set 9 the city of ilulissat\n",
      "City not found. Skipping...\n",
      " Processing record number 18 for Set 9 the city of sambava\n",
      " Processing record number 19 for Set 9 the city of antakya\n",
      " Processing record number 20 for Set 9 the city of namatanai\n",
      " Processing record number 21 for Set 9 the city of maniitsoq\n",
      " Processing record number 22 for Set 9 the city of izberbash\n",
      " Processing record number 23 for Set 9 the city of coihaique\n",
      " Processing record number 24 for Set 9 the city of tecoanapa\n",
      " Processing record number 25 for Set 9 the city of yumen\n",
      " Processing record number 26 for Set 9 the city of haines junction\n",
      " Processing record number 27 for Set 9 the city of antofagasta\n",
      " Processing record number 28 for Set 9 the city of zaysan\n",
      " Processing record number 29 for Set 9 the city of souillac\n",
      " Processing record number 30 for Set 9 the city of sao joao da barra\n",
      " Processing record number 31 for Set 9 the city of hirara\n"
     ]
    },
    {
     "name": "stdout",
     "output_type": "stream",
     "text": [
      " Processing record number 32 for Set 9 the city of doka\n",
      " Processing record number 33 for Set 9 the city of lusambo\n",
      " Processing record number 34 for Set 9 the city of lannion\n",
      " Processing record number 35 for Set 9 the city of tazovskiy\n",
      " Processing record number 36 for Set 9 the city of aleksandrovka\n",
      " Processing record number 37 for Set 9 the city of cavalcante\n",
      " Processing record number 38 for Set 9 the city of willowmore\n",
      " Processing record number 39 for Set 9 the city of actipan\n",
      " Processing record number 40 for Set 9 the city of udachnyy\n",
      " Processing record number 41 for Set 9 the city of zanjan\n",
      " Processing record number 42 for Set 9 the city of binga\n",
      " Processing record number 43 for Set 9 the city of grand-lahou\n",
      " Processing record number 44 for Set 9 the city of poykovskiy\n",
      " Processing record number 45 for Set 9 the city of kwinana\n",
      " Processing record number 46 for Set 9 the city of longyearbyen\n",
      " Processing record number 47 for Set 9 the city of dhidhdhoo\n",
      " Processing record number 48 for Set 9 the city of hobyo\n",
      " Processing record number 49 for Set 9 the city of marsabit\n",
      "City not found. Skipping...\n",
      " Processing record number 1 for Set 10 the city of ballater\n",
      " Processing record number 2 for Set 10 the city of ayagoz\n",
      "City not found. Skipping...\n",
      " Processing record number 4 for Set 10 the city of jinxiang\n",
      " Processing record number 5 for Set 10 the city of cayenne\n",
      " Processing record number 6 for Set 10 the city of velikiy ustyug\n",
      " Processing record number 7 for Set 10 the city of platanos\n",
      " Processing record number 8 for Set 10 the city of paris\n",
      " Processing record number 9 for Set 10 the city of boguchany\n",
      " Processing record number 10 for Set 10 the city of hovd\n",
      " Processing record number 11 for Set 10 the city of altay\n",
      "City not found. Skipping...\n",
      " Processing record number 13 for Set 10 the city of shchebetovka\n",
      " Processing record number 14 for Set 10 the city of los llanos de aridane\n",
      " Processing record number 15 for Set 10 the city of chapais\n",
      " Processing record number 16 for Set 10 the city of aparecida\n",
      " Processing record number 17 for Set 10 the city of kolokani\n",
      " Processing record number 18 for Set 10 the city of asyut\n",
      " Processing record number 19 for Set 10 the city of shambu\n",
      " Processing record number 20 for Set 10 the city of la ronge\n",
      " Processing record number 21 for Set 10 the city of pouebo\n",
      "City not found. Skipping...\n",
      "City not found. Skipping...\n",
      " Processing record number 24 for Set 10 the city of tupik\n",
      " Processing record number 25 for Set 10 the city of sinnamary\n",
      " Processing record number 26 for Set 10 the city of sao miguel do araguaia\n",
      " Processing record number 27 for Set 10 the city of chikwawa\n",
      " Processing record number 28 for Set 10 the city of ardalstangen\n",
      " Processing record number 29 for Set 10 the city of sibolga\n",
      " Processing record number 30 for Set 10 the city of elat\n",
      " Processing record number 31 for Set 10 the city of mayor pablo lagerenza\n",
      " Processing record number 32 for Set 10 the city of tres arroyos\n",
      " Processing record number 33 for Set 10 the city of freeport\n",
      " Processing record number 34 for Set 10 the city of jiuquan\n",
      " Processing record number 35 for Set 10 the city of dali\n",
      " Processing record number 36 for Set 10 the city of daoukro\n",
      " Processing record number 37 for Set 10 the city of newport\n",
      " Processing record number 38 for Set 10 the city of louis trichardt\n",
      " Processing record number 39 for Set 10 the city of lumut\n",
      " Processing record number 40 for Set 10 the city of tyazhinskiy\n",
      " Processing record number 41 for Set 10 the city of zhuhai\n",
      " Processing record number 42 for Set 10 the city of vigrestad\n",
      " Processing record number 43 for Set 10 the city of aksha\n",
      " Processing record number 44 for Set 10 the city of umba\n",
      " Processing record number 45 for Set 10 the city of avera\n",
      " Processing record number 46 for Set 10 the city of kembe\n",
      " Processing record number 47 for Set 10 the city of yar-sale\n",
      " Processing record number 48 for Set 10 the city of sao filipe\n",
      " Processing record number 49 for Set 10 the city of westport\n",
      " Processing record number 50 for Set 10 the city of zyryanka\n",
      " Processing record number 1 for Set 11 the city of la primavera\n",
      " Processing record number 2 for Set 11 the city of bukachacha\n",
      " Processing record number 3 for Set 11 the city of lakselv\n",
      " Processing record number 4 for Set 11 the city of talara\n",
      " Processing record number 5 for Set 11 the city of fuerte olimpo\n",
      " Processing record number 6 for Set 11 the city of college\n",
      " Processing record number 7 for Set 11 the city of murray bridge\n",
      " Processing record number 8 for Set 11 the city of itarema\n",
      " Processing record number 9 for Set 11 the city of rosarito\n",
      " Processing record number 10 for Set 11 the city of pundaguitan\n",
      " Processing record number 11 for Set 11 the city of makinsk\n",
      " Processing record number 12 for Set 11 the city of nara\n",
      " Processing record number 13 for Set 11 the city of pontal do parana\n",
      " Processing record number 14 for Set 11 the city of villaviciosa\n",
      " Processing record number 15 for Set 11 the city of benghazi\n",
      " Processing record number 16 for Set 11 the city of klyuchi\n",
      " Processing record number 17 for Set 11 the city of tura\n",
      " Processing record number 18 for Set 11 the city of ambikapur\n",
      " Processing record number 19 for Set 11 the city of monsenhor gil\n",
      " Processing record number 20 for Set 11 the city of hualmay\n",
      " Processing record number 21 for Set 11 the city of byron bay\n",
      " Processing record number 22 for Set 11 the city of dwarka\n",
      " Processing record number 23 for Set 11 the city of bilibino\n",
      " Processing record number 24 for Set 11 the city of mana\n",
      " Processing record number 25 for Set 11 the city of bichena\n",
      " Processing record number 26 for Set 11 the city of karachi\n",
      "City not found. Skipping...\n",
      " Processing record number 28 for Set 11 the city of anadyr\n",
      " Processing record number 29 for Set 11 the city of rio grande\n",
      " Processing record number 30 for Set 11 the city of grootfontein\n",
      " Processing record number 31 for Set 11 the city of vaitape\n",
      " Processing record number 32 for Set 11 the city of severnyy\n",
      " Processing record number 33 for Set 11 the city of saint marys\n",
      " Processing record number 34 for Set 11 the city of atar\n",
      " Processing record number 35 for Set 11 the city of bojnurd\n",
      " Processing record number 36 for Set 11 the city of dryden\n",
      " Processing record number 37 for Set 11 the city of sirsa\n",
      " Processing record number 38 for Set 11 the city of bud\n",
      " Processing record number 39 for Set 11 the city of honningsvag\n",
      " Processing record number 40 for Set 11 the city of olafsvik\n",
      " Processing record number 41 for Set 11 the city of sherpur\n",
      " Processing record number 42 for Set 11 the city of salinopolis\n",
      "City not found. Skipping...\n",
      " Processing record number 44 for Set 11 the city of kamiiso\n",
      " Processing record number 45 for Set 11 the city of kaura namoda\n",
      " Processing record number 46 for Set 11 the city of tessalit\n",
      " Processing record number 47 for Set 11 the city of celestun\n",
      " Processing record number 48 for Set 11 the city of hay river\n",
      "City not found. Skipping...\n",
      " Processing record number 50 for Set 11 the city of shangrao\n",
      " Processing record number 1 for Set 12 the city of cascas\n",
      " Processing record number 2 for Set 12 the city of wajima\n",
      " Processing record number 3 for Set 12 the city of boende\n",
      " Processing record number 4 for Set 12 the city of corralillo\n",
      " Processing record number 5 for Set 12 the city of pasighat\n",
      " Processing record number 6 for Set 12 the city of merauke\n",
      " Processing record number 7 for Set 12 the city of tiarei\n",
      " Processing record number 8 for Set 12 the city of kambove\n",
      " Processing record number 9 for Set 12 the city of hami\n",
      " Processing record number 10 for Set 12 the city of shimoda\n",
      " Processing record number 11 for Set 12 the city of ambovombe\n",
      " Processing record number 12 for Set 12 the city of broken hill\n",
      " Processing record number 13 for Set 12 the city of itamaraca\n",
      " Processing record number 14 for Set 12 the city of teya\n",
      " Processing record number 15 for Set 12 the city of north myrtle beach\n",
      " Processing record number 16 for Set 12 the city of corinth\n",
      " Processing record number 17 for Set 12 the city of vostok\n",
      " Processing record number 18 for Set 12 the city of kahramanmaras\n",
      " Processing record number 19 for Set 12 the city of yangshe\n",
      " Processing record number 20 for Set 12 the city of charyshskoye\n"
     ]
    },
    {
     "name": "stdout",
     "output_type": "stream",
     "text": [
      " Processing record number 21 for Set 12 the city of ariquemes\n",
      " Processing record number 22 for Set 12 the city of saucillo\n",
      " Processing record number 23 for Set 12 the city of ust-kuyga\n",
      " Processing record number 24 for Set 12 the city of savelugu\n",
      " Processing record number 25 for Set 12 the city of nalut\n",
      " Processing record number 26 for Set 12 the city of narsaq\n",
      " Processing record number 27 for Set 12 the city of baherden\n",
      " Processing record number 28 for Set 12 the city of strzegom\n",
      " Processing record number 29 for Set 12 the city of finschhafen\n",
      " Processing record number 30 for Set 12 the city of joanopolis\n",
      " Processing record number 31 for Set 12 the city of acapulco\n",
      "City not found. Skipping...\n",
      " Processing record number 33 for Set 12 the city of hella\n",
      " Processing record number 34 for Set 12 the city of miandrivazo\n",
      "City not found. Skipping...\n",
      " Processing record number 36 for Set 12 the city of general pico\n",
      " Processing record number 37 for Set 12 the city of kismayo\n",
      " Processing record number 38 for Set 12 the city of panorama\n",
      " Processing record number 39 for Set 12 the city of matamoros\n",
      " Processing record number 40 for Set 12 the city of karasjok\n",
      " Processing record number 41 for Set 12 the city of dickson\n",
      " Processing record number 42 for Set 12 the city of luangwa\n",
      "City not found. Skipping...\n",
      " Processing record number 44 for Set 12 the city of storslett\n",
      " Processing record number 45 for Set 12 the city of melfort\n",
      " Processing record number 46 for Set 12 the city of georgiyevka\n",
      " Processing record number 47 for Set 12 the city of ekhabi\n",
      " Processing record number 48 for Set 12 the city of kangaatsiaq\n",
      " Processing record number 49 for Set 12 the city of nieuw amsterdam\n",
      " Processing record number 50 for Set 12 the city of qingyuan\n",
      " Processing record number 1 for Set 13 the city of wilmington island\n",
      " Processing record number 2 for Set 13 the city of chegdomyn\n",
      " Processing record number 3 for Set 13 the city of ormara\n",
      " Processing record number 4 for Set 13 the city of chase\n",
      " Processing record number 5 for Set 13 the city of mikhaylovka\n",
      " Processing record number 6 for Set 13 the city of mlonggo\n",
      " Processing record number 7 for Set 13 the city of narrabri\n",
      " Processing record number 8 for Set 13 the city of mongoumba\n",
      " Processing record number 9 for Set 13 the city of altamira\n",
      "City not found. Skipping...\n",
      " Processing record number 11 for Set 13 the city of praya\n",
      " Processing record number 12 for Set 13 the city of makakilo city\n",
      "City not found. Skipping...\n",
      " Processing record number 14 for Set 13 the city of lerwick\n",
      " Processing record number 15 for Set 13 the city of tiznit\n",
      " Processing record number 16 for Set 13 the city of rosbach\n",
      " Processing record number 17 for Set 13 the city of jammalamadugu\n",
      "City not found. Skipping...\n",
      " Processing record number 19 for Set 13 the city of beira\n",
      " Processing record number 20 for Set 13 the city of san policarpo\n",
      " Processing record number 21 for Set 13 the city of pacific grove\n",
      " Processing record number 22 for Set 13 the city of oparino\n",
      " Processing record number 23 for Set 13 the city of ipero\n",
      " Processing record number 24 for Set 13 the city of richha\n",
      " Processing record number 25 for Set 13 the city of porto novo\n",
      " Processing record number 26 for Set 13 the city of lompoc\n",
      "City not found. Skipping...\n",
      " Processing record number 28 for Set 13 the city of tual\n",
      " Processing record number 29 for Set 13 the city of sangod\n",
      " Processing record number 30 for Set 13 the city of lagos\n",
      " Processing record number 31 for Set 13 the city of bundaberg\n"
     ]
    }
   ],
   "source": [
    "#below is the base URL to access the openweather api data. Remove all data after ? \n",
    "\n",
    "#base_url= \"http://api.openweathermap.org/data/2.5/weather?\"\n",
    "\n",
    "\n",
    "# City\tLat\tLng\tMax Temp\tHumidity\tCloudiness\tWind Speed\tCountry\tDate\n",
    "#create empty list for your eventual dataframe\n",
    "city_list_500=[]\n",
    "lat_500=[]\n",
    "long_500=[]\n",
    "max_temp_500=[]\n",
    "humidity_500=[]\n",
    "wind_speed_500=[]\n",
    "cloudiness_500=[]\n",
    "country_500=[]\n",
    "date_500=[]\n",
    "counter=0\n",
    "group=1\n",
    "\n",
    "\n",
    "\n",
    "#[:3] gives me back 3 results from the cities_list. \n",
    "# for loop itreeather list of randomeng enerrate scitis, pings the opena \n",
    "for each_city in cities_list[:]: \n",
    "    #query_url= base_url+ \"appid=\"+weather_api_key+ \"&q=\" + city\n",
    "    query_url=f'{base_url}q={each_city}&appid={weather_api_key}'\n",
    "    weather_response=requests.get(query_url)\n",
    "    weather_data=weather_response.json()\n",
    "    counter= counter +1\n",
    "    \n",
    "    #pprint(weather_data) #keep this in the for loop so that it prints out the amount you want\n",
    "    try:\n",
    "        city_list_500.append(weather_data['name'])\n",
    "        lat_500.append(weather_data['coord']['lat'])\n",
    "        #print(lat_500)\n",
    "        long_500.append(weather_data['coord']['lon'])\n",
    "        max_temp_500.append(weather_data['main']['temp_max'])\n",
    "        humidity_500.append(weather_data['main']['humidity'])\n",
    "        cloudiness_500.append(weather_data['clouds']['all'])\n",
    "        wind_speed_500.append(weather_data['wind']['speed'])\n",
    "        country_500.append(weather_data['sys']['country'])\n",
    "        date_500.append(weather_data['dt'])\n",
    "        if counter >50:\n",
    "            counter=1\n",
    "            group=1 +group\n",
    "        #print(f\" Processing record number {len(city_list_500)} for the city of {each_city}\")\n",
    "        print(f\" Processing record number {counter} for Set {group} the city of {each_city}\")\n",
    "        \n",
    "    except:\n",
    "        print('City not found. Skipping...')\n",
    "        pass\n",
    "\n",
    "    # need to print out 50 and then new list shows up. look at starter file\n",
    "    # hint: these are counters\n",
    "    # \n",
    "\n",
    "# print(city_list_500)\n",
    "# print(lat_500)\n",
    "# print(long_500)\n",
    "# print(max_temp_500)\n",
    "# print(humidity_500)\n",
    "# print(wind_speed_500)\n",
    "# print(cloudiness_500)\n",
    "# print(country_500)\n",
    "# print(date_500)\n"
   ]
  },
  {
   "cell_type": "code",
   "execution_count": 36,
   "metadata": {},
   "outputs": [
    {
     "data": {
      "text/plain": [
       "579"
      ]
     },
     "execution_count": 36,
     "metadata": {},
     "output_type": "execute_result"
    }
   ],
   "source": [
    "len(city_list_500)"
   ]
  },
  {
   "cell_type": "code",
   "execution_count": 37,
   "metadata": {},
   "outputs": [],
   "source": [
    "# print(city_list_500)\n",
    "# print(lat_500)\n",
    "# print(long_500)\n",
    "# print(max_temp_500)\n",
    "# print(humidity_500)\n",
    "# print(wind_speed_500)\n",
    "# print(cloudiness_500)\n",
    "# print(country_500)\n",
    "# print(date_500)\n",
    "\n",
    "# # highlight them all and hit command ? to comment these\n",
    "# #"
   ]
  },
  {
   "cell_type": "markdown",
   "metadata": {},
   "source": [
    "### Convert Raw Data to DataFrame\n",
    "* Export the city data into a .csv.\n",
    "* Display the DataFrame"
   ]
  },
  {
   "cell_type": "code",
   "execution_count": 38,
   "metadata": {},
   "outputs": [
    {
     "data": {
      "text/html": [
       "<div>\n",
       "<style scoped>\n",
       "    .dataframe tbody tr th:only-of-type {\n",
       "        vertical-align: middle;\n",
       "    }\n",
       "\n",
       "    .dataframe tbody tr th {\n",
       "        vertical-align: top;\n",
       "    }\n",
       "\n",
       "    .dataframe thead th {\n",
       "        text-align: right;\n",
       "    }\n",
       "</style>\n",
       "<table border=\"1\" class=\"dataframe\">\n",
       "  <thead>\n",
       "    <tr style=\"text-align: right;\">\n",
       "      <th></th>\n",
       "      <th>City</th>\n",
       "      <th>Latitude</th>\n",
       "      <th>Longitude</th>\n",
       "      <th>Max Temp</th>\n",
       "      <th>Humidity</th>\n",
       "      <th>Cloudiness</th>\n",
       "      <th>Wind Speed</th>\n",
       "      <th>Country</th>\n",
       "      <th>Date</th>\n",
       "    </tr>\n",
       "  </thead>\n",
       "  <tbody>\n",
       "    <tr>\n",
       "      <th>0</th>\n",
       "      <td>Chicama</td>\n",
       "      <td>-7.8447</td>\n",
       "      <td>-79.1469</td>\n",
       "      <td>297.27</td>\n",
       "      <td>59</td>\n",
       "      <td>59</td>\n",
       "      <td>1.71</td>\n",
       "      <td>PE</td>\n",
       "      <td>1614565125</td>\n",
       "    </tr>\n",
       "    <tr>\n",
       "      <th>1</th>\n",
       "      <td>Ushuaia</td>\n",
       "      <td>-54.8000</td>\n",
       "      <td>-68.3000</td>\n",
       "      <td>280.15</td>\n",
       "      <td>61</td>\n",
       "      <td>20</td>\n",
       "      <td>2.57</td>\n",
       "      <td>AR</td>\n",
       "      <td>1614565125</td>\n",
       "    </tr>\n",
       "    <tr>\n",
       "      <th>2</th>\n",
       "      <td>Albany</td>\n",
       "      <td>42.6001</td>\n",
       "      <td>-73.9662</td>\n",
       "      <td>276.48</td>\n",
       "      <td>73</td>\n",
       "      <td>100</td>\n",
       "      <td>1.34</td>\n",
       "      <td>US</td>\n",
       "      <td>1614564930</td>\n",
       "    </tr>\n",
       "    <tr>\n",
       "      <th>3</th>\n",
       "      <td>Bonavista</td>\n",
       "      <td>48.6499</td>\n",
       "      <td>-53.1147</td>\n",
       "      <td>272.59</td>\n",
       "      <td>100</td>\n",
       "      <td>100</td>\n",
       "      <td>4.12</td>\n",
       "      <td>CA</td>\n",
       "      <td>1614565126</td>\n",
       "    </tr>\n",
       "    <tr>\n",
       "      <th>4</th>\n",
       "      <td>Airai</td>\n",
       "      <td>-8.9266</td>\n",
       "      <td>125.4092</td>\n",
       "      <td>291.17</td>\n",
       "      <td>100</td>\n",
       "      <td>96</td>\n",
       "      <td>0.97</td>\n",
       "      <td>TL</td>\n",
       "      <td>1614565126</td>\n",
       "    </tr>\n",
       "  </tbody>\n",
       "</table>\n",
       "</div>"
      ],
      "text/plain": [
       "        City  Latitude  Longitude  Max Temp  Humidity  Cloudiness  Wind Speed  \\\n",
       "0    Chicama   -7.8447   -79.1469    297.27        59          59        1.71   \n",
       "1    Ushuaia  -54.8000   -68.3000    280.15        61          20        2.57   \n",
       "2     Albany   42.6001   -73.9662    276.48        73         100        1.34   \n",
       "3  Bonavista   48.6499   -53.1147    272.59       100         100        4.12   \n",
       "4      Airai   -8.9266   125.4092    291.17       100          96        0.97   \n",
       "\n",
       "  Country        Date  \n",
       "0      PE  1614565125  \n",
       "1      AR  1614565125  \n",
       "2      US  1614564930  \n",
       "3      CA  1614565126  \n",
       "4      TL  1614565126  "
      ]
     },
     "execution_count": 38,
     "metadata": {},
     "output_type": "execute_result"
    }
   ],
   "source": [
    "#create a dictionary and then pass to data frame \n",
    "\n",
    "# how can we run the API calls so that the output is equal to 500.\n",
    "\n",
    "# is there a way to set = to 500?\n",
    "\n",
    "weather_data_dict= {'City': city_list_500,\n",
    "                       'Latitude': lat_500,\n",
    "                       'Longitude': long_500,\n",
    "                       'Max Temp': max_temp_500,\n",
    "                       'Humidity': humidity_500,\n",
    "                       'Cloudiness': cloudiness_500,\n",
    "                       'Wind Speed': wind_speed_500,\n",
    "                       'Country' : country_500,\n",
    "                       'Date': date_500\n",
    "                      }\n",
    "weather_data_df_zero=pd.DataFrame(weather_data_dict)\n",
    "weather_data_df_zero.head()\n",
    "\n",
    "#export the city data into a .csv\n"
   ]
  },
  {
   "cell_type": "code",
   "execution_count": 39,
   "metadata": {},
   "outputs": [
    {
     "data": {
      "text/html": [
       "<div>\n",
       "<style scoped>\n",
       "    .dataframe tbody tr th:only-of-type {\n",
       "        vertical-align: middle;\n",
       "    }\n",
       "\n",
       "    .dataframe tbody tr th {\n",
       "        vertical-align: top;\n",
       "    }\n",
       "\n",
       "    .dataframe thead th {\n",
       "        text-align: right;\n",
       "    }\n",
       "</style>\n",
       "<table border=\"1\" class=\"dataframe\">\n",
       "  <thead>\n",
       "    <tr style=\"text-align: right;\">\n",
       "      <th></th>\n",
       "      <th>Latitude</th>\n",
       "      <th>Longitude</th>\n",
       "      <th>Max Temp</th>\n",
       "      <th>Humidity</th>\n",
       "      <th>Cloudiness</th>\n",
       "      <th>Wind Speed</th>\n",
       "      <th>Date</th>\n",
       "    </tr>\n",
       "  </thead>\n",
       "  <tbody>\n",
       "    <tr>\n",
       "      <th>count</th>\n",
       "      <td>579.000000</td>\n",
       "      <td>579.000000</td>\n",
       "      <td>579.000000</td>\n",
       "      <td>579.000000</td>\n",
       "      <td>579.000000</td>\n",
       "      <td>579.000000</td>\n",
       "      <td>5.790000e+02</td>\n",
       "    </tr>\n",
       "    <tr>\n",
       "      <th>mean</th>\n",
       "      <td>21.012331</td>\n",
       "      <td>20.369887</td>\n",
       "      <td>283.285060</td>\n",
       "      <td>73.493955</td>\n",
       "      <td>54.186528</td>\n",
       "      <td>3.789896</td>\n",
       "      <td>1.614565e+09</td>\n",
       "    </tr>\n",
       "    <tr>\n",
       "      <th>std</th>\n",
       "      <td>33.486852</td>\n",
       "      <td>90.009783</td>\n",
       "      <td>17.804015</td>\n",
       "      <td>20.077132</td>\n",
       "      <td>40.824713</td>\n",
       "      <td>2.854576</td>\n",
       "      <td>1.508305e+02</td>\n",
       "    </tr>\n",
       "    <tr>\n",
       "      <th>min</th>\n",
       "      <td>-54.800000</td>\n",
       "      <td>-175.200000</td>\n",
       "      <td>235.890000</td>\n",
       "      <td>8.000000</td>\n",
       "      <td>0.000000</td>\n",
       "      <td>0.150000</td>\n",
       "      <td>1.614564e+09</td>\n",
       "    </tr>\n",
       "    <tr>\n",
       "      <th>25%</th>\n",
       "      <td>-7.002750</td>\n",
       "      <td>-57.578750</td>\n",
       "      <td>273.825000</td>\n",
       "      <td>64.000000</td>\n",
       "      <td>1.000000</td>\n",
       "      <td>1.585000</td>\n",
       "      <td>1.614565e+09</td>\n",
       "    </tr>\n",
       "    <tr>\n",
       "      <th>50%</th>\n",
       "      <td>25.021300</td>\n",
       "      <td>25.970400</td>\n",
       "      <td>289.820000</td>\n",
       "      <td>77.000000</td>\n",
       "      <td>69.000000</td>\n",
       "      <td>3.090000</td>\n",
       "      <td>1.614565e+09</td>\n",
       "    </tr>\n",
       "    <tr>\n",
       "      <th>75%</th>\n",
       "      <td>50.655300</td>\n",
       "      <td>99.478900</td>\n",
       "      <td>297.225000</td>\n",
       "      <td>88.000000</td>\n",
       "      <td>96.000000</td>\n",
       "      <td>5.140000</td>\n",
       "      <td>1.614565e+09</td>\n",
       "    </tr>\n",
       "    <tr>\n",
       "      <th>max</th>\n",
       "      <td>78.218600</td>\n",
       "      <td>179.316700</td>\n",
       "      <td>309.150000</td>\n",
       "      <td>100.000000</td>\n",
       "      <td>100.000000</td>\n",
       "      <td>16.540000</td>\n",
       "      <td>1.614565e+09</td>\n",
       "    </tr>\n",
       "  </tbody>\n",
       "</table>\n",
       "</div>"
      ],
      "text/plain": [
       "         Latitude   Longitude    Max Temp    Humidity  Cloudiness  Wind Speed  \\\n",
       "count  579.000000  579.000000  579.000000  579.000000  579.000000  579.000000   \n",
       "mean    21.012331   20.369887  283.285060   73.493955   54.186528    3.789896   \n",
       "std     33.486852   90.009783   17.804015   20.077132   40.824713    2.854576   \n",
       "min    -54.800000 -175.200000  235.890000    8.000000    0.000000    0.150000   \n",
       "25%     -7.002750  -57.578750  273.825000   64.000000    1.000000    1.585000   \n",
       "50%     25.021300   25.970400  289.820000   77.000000   69.000000    3.090000   \n",
       "75%     50.655300   99.478900  297.225000   88.000000   96.000000    5.140000   \n",
       "max     78.218600  179.316700  309.150000  100.000000  100.000000   16.540000   \n",
       "\n",
       "               Date  \n",
       "count  5.790000e+02  \n",
       "mean   1.614565e+09  \n",
       "std    1.508305e+02  \n",
       "min    1.614564e+09  \n",
       "25%    1.614565e+09  \n",
       "50%    1.614565e+09  \n",
       "75%    1.614565e+09  \n",
       "max    1.614565e+09  "
      ]
     },
     "execution_count": 39,
     "metadata": {},
     "output_type": "execute_result"
    }
   ],
   "source": [
    "#print a describe table for the weather data frame\n",
    "# the df_zero is the original dict we are using to run the API calls \n",
    "weather_data_df_zero.describe()\n",
    "\n",
    "# you are getting the same count \n"
   ]
  },
  {
   "cell_type": "markdown",
   "metadata": {},
   "source": [
    "## Inspect the data and remove the cities where the humidity > 100%.\n",
    "----\n",
    "Skip this step if there are no cities that have humidity > 100%. "
   ]
  },
  {
   "cell_type": "code",
   "execution_count": 40,
   "metadata": {},
   "outputs": [],
   "source": [
    "# create a filter to filter out cities that have humidity >100%\n",
    "# weather_data_one applies the humidity filter to weather_data_df_zero\n",
    "humidity_filter=weather_data_df_zero.loc[:, \"Humidity\"]<=100 \n",
    "weather_data_df_one=weather_data_df_zero.loc[humidity_filter,:]\n",
    "#.loc[ is saying grab all the rows and the humidity coul]\n",
    "#humidity_filter\n",
    "#weather_data_df_one.describe() #weather data_df_one is cities with less than or equal to 100% humidity\n",
    "weather_data_df_one.describe()\n",
    "\n",
    "#another way to get a filter, different syntax\n",
    "\n",
    "#print_me=weather_data_df_zero.loc[weather_data_df_zero['Humidity']<=100]\n",
    "#print_me #no comma : it assumes you want all the columns\n",
    "\n",
    "weather_data_df_one.to_csv(\"weather_data_one.csv\")"
   ]
  },
  {
   "cell_type": "code",
   "execution_count": 41,
   "metadata": {},
   "outputs": [
    {
     "data": {
      "text/plain": [
       "579"
      ]
     },
     "execution_count": 41,
     "metadata": {},
     "output_type": "execute_result"
    }
   ],
   "source": [
    "len(weather_data_df_one)\n"
   ]
  },
  {
   "cell_type": "code",
   "execution_count": 42,
   "metadata": {},
   "outputs": [
    {
     "data": {
      "text/plain": [
       "Int64Index([], dtype='int64')"
      ]
     },
     "execution_count": 42,
     "metadata": {},
     "output_type": "execute_result"
    }
   ],
   "source": [
    "# Get the indices of cities that have humidity over 100%.\n",
    "humidity_over_filter=weather_data_df_zero.loc[:, 'Humidity']>100\n",
    "weather_over_df=weather_data_df_zero.loc[humidity_over_filter,:]\n",
    "list(weather_over_df.index)\n",
    "weather_over_df.index\n",
    "# there are no indicies over 100\n",
    "# you can do this through itterrows\n"
   ]
  },
  {
   "cell_type": "code",
   "execution_count": 43,
   "metadata": {},
   "outputs": [],
   "source": [
    "# Make a new DataFrame equal to the city data to drop all humidity outliers by index.\n",
    "# Passing \"inplace=False\" will make a copy of the city_data DataFrame, which we call \"clean_city_data\".\n"
   ]
  },
  {
   "cell_type": "markdown",
   "metadata": {},
   "source": [
    "## Plotting the Data\n",
    "* Use proper labeling of the plots using plot titles (including date of analysis) and axes labels.\n",
    "* Save the plotted figures as .pngs."
   ]
  },
  {
   "cell_type": "markdown",
   "metadata": {},
   "source": [
    "## Latitude vs. Temperature Plot"
   ]
  },
  {
   "cell_type": "code",
   "execution_count": 44,
   "metadata": {},
   "outputs": [],
   "source": [
    "#The first requirement is to create a series of scatter plots to showcase the following relationships:\n",
    "\n",
    "# Temperature (F) vs. Latitude\n",
    "# Humidity (%) vs. Latitude\n",
    "# Cloudiness (%) vs. Latitude\n",
    "# Wind Speed (mph) vs. Latitude\n",
    "\n",
    "#After each plot, add a sentence or two explaining what the code is analyzing."
   ]
  },
  {
   "cell_type": "code",
   "execution_count": 45,
   "metadata": {},
   "outputs": [],
   "source": [
    "# These are notes only, no lines of code in this cell\n",
    "\n",
    "# In the spherical system, horizontal lines, or east–west lines, are lines of equal latitude, or parallels. \n",
    "# Vertical lines, or north–south lines, are lines of equal longitude, or meridians. \n",
    "# These lines encompass the globe and form a gridded network called a graticule\n",
    "\n",
    "# It may be helpful to equate longitude values with X and latitude values with Y.\n",
    "# Data defined on a geographic coordinate system is displayed as if a degree is a linear unit of measure.\n",
    "\n",
    "# Latitude and longitude values are traditionally measured either in decimal degrees or in degrees, minutes, and seconds (DMS).\n",
    "\n",
    "# Latitude values are measured relative to the equator and range from -90° at the South Pole to +90° at the North Pole. \n",
    "# Longitude values are measured relative to the prime meridian. They range from -180° when traveling west to 180° when traveling east. \n",
    "# If the prime meridian is at Greenwich, then Australia, which is south of the equator and east of Greenwich, has positive longitude values and negative latitude values."
   ]
  },
  {
   "cell_type": "code",
   "execution_count": 46,
   "metadata": {},
   "outputs": [
    {
     "name": "stdout",
     "output_type": "stream",
     "text": [
      " This sample shows as one moves closer to the equator the temperature increases.\n",
      " This is because of less sunlight the further away one goes from the equator.\n"
     ]
    },
    {
     "data": {
      "image/png": "[encoded data removed]",
      "text/plain": [
       "<Figure size 432x288 with 1 Axes>"
      ]
     },
     "metadata": {
      "needs_background": "light"
     },
     "output_type": "display_data"
    }
   ],
   "source": [
    "# Scatter plot of max temp vs latitude for weather data after filtering out cities with humidity >100\n",
    "x_lat=weather_data_df_one['Latitude']\n",
    "y_maxtemp=weather_data_df_one['Max Temp']\n",
    "\n",
    "plt.scatter(x_lat, y_maxtemp)\n",
    "plt.title(\"Max Temperature vs Latitude\") \n",
    "plt.xlabel('Latitude')\n",
    "plt.ylabel('Max Temperature (K)')\n",
    "plt.grid(True)\n",
    "\n",
    "#print statement\n",
    "plt.savefig('../WeatherPy/Max_Temp_vs._Latitude.png')\n",
    "\n",
    "print(f' This sample shows as one moves closer to the equator the temperature increases.') \n",
    "print(f' This is because of less sunlight the further away one goes from the equator.')\n",
    "#      Can you name all the countries on the equator?')"
   ]
  },
  {
   "cell_type": "markdown",
   "metadata": {},
   "source": [
    "## Latitude vs. Humidity Plot"
   ]
  },
  {
   "cell_type": "code",
   "execution_count": 47,
   "metadata": {},
   "outputs": [
    {
     "name": "stdout",
     "output_type": "stream",
     "text": [
      " This sample shows consistent humidity levels around the globe for most cities .\n",
      " There appear to be outliers. We could plot a boxplot to check for outliers.\n",
      " There world could not survive without humidity\n"
     ]
    },
    {
     "data": {
      "image/png": "[encoded data removed]",
      "text/plain": [
       "<Figure size 432x288 with 1 Axes>"
      ]
     },
     "metadata": {
      "needs_background": "light"
     },
     "output_type": "display_data"
    }
   ],
   "source": [
    "x_lat=weather_data_df_one['Latitude']\n",
    "y_humidity=weather_data_df_one['Humidity']\n",
    "\n",
    "plt.scatter(x_lat, y_humidity)\n",
    "#plt.scatter(x_lat, y_maxtemp)\n",
    "plt.title('Humidity vs Latitude')\n",
    "plt.xlabel('Latitude')\n",
    "plt.ylabel('Humidity (%)')\n",
    "plt.grid(True)\n",
    "\n",
    "#print statement\n",
    "plt.savefig('../WeatherPy/Humidity_vs._Latitude.png')\n",
    "\n",
    "print(f' This sample shows consistent humidity levels around the globe for most cities .')\n",
    "print(f' There appear to be outliers. We could plot a boxplot to check for outliers.')\n",
    "print(f' There world could not survive without humidity')\n",
    "# \\'  is how you f string a '\n",
    "# what might be perceived as outliers.')"
   ]
  },
  {
   "cell_type": "markdown",
   "metadata": {},
   "source": [
    "## Latitude vs. Cloudiness Plot"
   ]
  },
  {
   "cell_type": "code",
   "execution_count": 48,
   "metadata": {},
   "outputs": [
    {
     "name": "stdout",
     "output_type": "stream",
     "text": [
      " There was no correlation between city latitude and cloudiness in the sample of cities.\n"
     ]
    },
    {
     "data": {
      "image/png": "[encoded data removed]",
      "text/plain": [
       "<Figure size 432x288 with 1 Axes>"
      ]
     },
     "metadata": {
      "needs_background": "light"
     },
     "output_type": "display_data"
    }
   ],
   "source": [
    "# Scatter plot of max temp vs latitude for weather data after filtering out cities with humidity >100\n",
    "x_lat=weather_data_df_one['Latitude']\n",
    "y_cloudiness=weather_data_df_one['Cloudiness']\n",
    "\n",
    "plt.scatter(x_lat, y_cloudiness)\n",
    "plt.title('Cloudiness vs. Latitude') #how to use % and ' in f string???\n",
    "plt.xlabel('Latitude')\n",
    "plt.ylabel('Cloudiness')\n",
    "plt.grid(True)\n",
    "\n",
    "#print statement\n",
    "plt.savefig('../WeatherPy/Cloudiness_vs._Latitude.png')\n",
    "\n",
    "print(f' There was no correlation between city latitude and cloudiness in the sample of cities.') \n"
   ]
  },
  {
   "cell_type": "markdown",
   "metadata": {},
   "source": [
    "## Latitude vs. Wind Speed Plot"
   ]
  },
  {
   "cell_type": "code",
   "execution_count": 49,
   "metadata": {},
   "outputs": [
    {
     "name": "stdout",
     "output_type": "stream",
     "text": [
      " This doesn't look like there is much correlation.\n",
      " The further you move toward each pole the more windy it appears to be.\n",
      " Latitude values are measured relative to the equator\n",
      " and range from -90° at the South Pole to +90° at the North Pole.\n"
     ]
    },
    {
     "data": {
      "image/png": "[encoded data removed]",
      "text/plain": [
       "<Figure size 432x288 with 1 Axes>"
      ]
     },
     "metadata": {
      "needs_background": "light"
     },
     "output_type": "display_data"
    }
   ],
   "source": [
    "x_lat=weather_data_df_one['Latitude']\n",
    "y_wind_speed=weather_data_df_one['Wind Speed']\n",
    "\n",
    "plt.scatter(x_lat, y_wind_speed)\n",
    "plt.title('Wind Speed vs City Latitude')\n",
    "plt.xlabel('Latitude')\n",
    "plt.ylabel('Wind Speed')\n",
    "plt.grid(True)\n",
    "\n",
    "#print statement\n",
    "plt.savefig('../WeatherPy/Wind Speed_vs._Latitude.png')\n",
    "\n",
    "print(f' This doesn\\'t look like there is much correlation.') \n",
    "print(f' The further you move toward each pole the more windy it appears to be.')\n",
    "print(f' Latitude values are measured relative to the equator') \n",
    "print(f' and range from -90° at the South Pole to +90° at the North Pole.')\n"
   ]
  },
  {
   "cell_type": "markdown",
   "metadata": {},
   "source": [
    "## Linear Regression"
   ]
  },
  {
   "cell_type": "code",
   "execution_count": 50,
   "metadata": {},
   "outputs": [],
   "source": [
    "# latitude greater than 0 is northern\n",
    "# latitude less than 0 is southern\n",
    "# #print statement\n",
    "# look in the read me file \n",
    "\n",
    "\n",
    "#https://towardsdatascience.com/simple-and-multiple-linear-regression-in-python-c928425168f9\n",
    "# read this and then proceed next time"
   ]
  },
  {
   "cell_type": "code",
   "execution_count": 53,
   "metadata": {},
   "outputs": [
    {
     "data": {
      "text/html": [
       "<div>\n",
       "<style scoped>\n",
       "    .dataframe tbody tr th:only-of-type {\n",
       "        vertical-align: middle;\n",
       "    }\n",
       "\n",
       "    .dataframe tbody tr th {\n",
       "        vertical-align: top;\n",
       "    }\n",
       "\n",
       "    .dataframe thead th {\n",
       "        text-align: right;\n",
       "    }\n",
       "</style>\n",
       "<table border=\"1\" class=\"dataframe\">\n",
       "  <thead>\n",
       "    <tr style=\"text-align: right;\">\n",
       "      <th></th>\n",
       "      <th>Latitude</th>\n",
       "      <th>Longitude</th>\n",
       "      <th>Max Temp</th>\n",
       "      <th>Humidity</th>\n",
       "      <th>Cloudiness</th>\n",
       "      <th>Wind Speed</th>\n",
       "      <th>Date</th>\n",
       "    </tr>\n",
       "  </thead>\n",
       "  <tbody>\n",
       "    <tr>\n",
       "      <th>count</th>\n",
       "      <td>400.000000</td>\n",
       "      <td>400.000000</td>\n",
       "      <td>400.000000</td>\n",
       "      <td>400.000000</td>\n",
       "      <td>400.00000</td>\n",
       "      <td>400.000000</td>\n",
       "      <td>4.000000e+02</td>\n",
       "    </tr>\n",
       "    <tr>\n",
       "      <th>mean</th>\n",
       "      <td>39.751275</td>\n",
       "      <td>16.167025</td>\n",
       "      <td>277.230375</td>\n",
       "      <td>72.695000</td>\n",
       "      <td>52.68250</td>\n",
       "      <td>3.885800</td>\n",
       "      <td>1.614565e+09</td>\n",
       "    </tr>\n",
       "    <tr>\n",
       "      <th>std</th>\n",
       "      <td>20.277951</td>\n",
       "      <td>86.682502</td>\n",
       "      <td>18.145462</td>\n",
       "      <td>21.539774</td>\n",
       "      <td>41.93134</td>\n",
       "      <td>3.015623</td>\n",
       "      <td>1.574751e+02</td>\n",
       "    </tr>\n",
       "    <tr>\n",
       "      <th>min</th>\n",
       "      <td>0.800000</td>\n",
       "      <td>-173.300000</td>\n",
       "      <td>235.890000</td>\n",
       "      <td>8.000000</td>\n",
       "      <td>0.00000</td>\n",
       "      <td>0.150000</td>\n",
       "      <td>1.614564e+09</td>\n",
       "    </tr>\n",
       "    <tr>\n",
       "      <th>25%</th>\n",
       "      <td>23.154200</td>\n",
       "      <td>-61.448500</td>\n",
       "      <td>265.337500</td>\n",
       "      <td>62.750000</td>\n",
       "      <td>1.00000</td>\n",
       "      <td>1.590000</td>\n",
       "      <td>1.614565e+09</td>\n",
       "    </tr>\n",
       "    <tr>\n",
       "      <th>50%</th>\n",
       "      <td>41.256350</td>\n",
       "      <td>25.740800</td>\n",
       "      <td>278.930000</td>\n",
       "      <td>78.000000</td>\n",
       "      <td>67.00000</td>\n",
       "      <td>3.090000</td>\n",
       "      <td>1.614565e+09</td>\n",
       "    </tr>\n",
       "    <tr>\n",
       "      <th>75%</th>\n",
       "      <td>56.505225</td>\n",
       "      <td>90.068150</td>\n",
       "      <td>293.157500</td>\n",
       "      <td>88.000000</td>\n",
       "      <td>96.00000</td>\n",
       "      <td>5.207500</td>\n",
       "      <td>1.614565e+09</td>\n",
       "    </tr>\n",
       "    <tr>\n",
       "      <th>max</th>\n",
       "      <td>78.218600</td>\n",
       "      <td>179.316700</td>\n",
       "      <td>304.820000</td>\n",
       "      <td>100.000000</td>\n",
       "      <td>100.00000</td>\n",
       "      <td>15.950000</td>\n",
       "      <td>1.614565e+09</td>\n",
       "    </tr>\n",
       "  </tbody>\n",
       "</table>\n",
       "</div>"
      ],
      "text/plain": [
       "         Latitude   Longitude    Max Temp    Humidity  Cloudiness  Wind Speed  \\\n",
       "count  400.000000  400.000000  400.000000  400.000000   400.00000  400.000000   \n",
       "mean    39.751275   16.167025  277.230375   72.695000    52.68250    3.885800   \n",
       "std     20.277951   86.682502   18.145462   21.539774    41.93134    3.015623   \n",
       "min      0.800000 -173.300000  235.890000    8.000000     0.00000    0.150000   \n",
       "25%     23.154200  -61.448500  265.337500   62.750000     1.00000    1.590000   \n",
       "50%     41.256350   25.740800  278.930000   78.000000    67.00000    3.090000   \n",
       "75%     56.505225   90.068150  293.157500   88.000000    96.00000    5.207500   \n",
       "max     78.218600  179.316700  304.820000  100.000000   100.00000   15.950000   \n",
       "\n",
       "               Date  \n",
       "count  4.000000e+02  \n",
       "mean   1.614565e+09  \n",
       "std    1.574751e+02  \n",
       "min    1.614564e+09  \n",
       "25%    1.614565e+09  \n",
       "50%    1.614565e+09  \n",
       "75%    1.614565e+09  \n",
       "max    1.614565e+09  "
      ]
     },
     "execution_count": 53,
     "metadata": {},
     "output_type": "execute_result"
    }
   ],
   "source": [
    "northern_hem_filter=weather_data_df_one.loc[:, \"Latitude\"]>=0 #on the equator included\n",
    "northern_hem_df=weather_data_df_one.loc[northern_hem_filter,:]\n",
    "northern_hem_df.describe()\n",
    "# this is your northern_hemisphere_dataframe filter"
   ]
  },
  {
   "cell_type": "code",
   "execution_count": 54,
   "metadata": {},
   "outputs": [
    {
     "data": {
      "text/html": [
       "<div>\n",
       "<style scoped>\n",
       "    .dataframe tbody tr th:only-of-type {\n",
       "        vertical-align: middle;\n",
       "    }\n",
       "\n",
       "    .dataframe tbody tr th {\n",
       "        vertical-align: top;\n",
       "    }\n",
       "\n",
       "    .dataframe thead th {\n",
       "        text-align: right;\n",
       "    }\n",
       "</style>\n",
       "<table border=\"1\" class=\"dataframe\">\n",
       "  <thead>\n",
       "    <tr style=\"text-align: right;\">\n",
       "      <th></th>\n",
       "      <th>Latitude</th>\n",
       "      <th>Longitude</th>\n",
       "      <th>Max Temp</th>\n",
       "      <th>Humidity</th>\n",
       "      <th>Cloudiness</th>\n",
       "      <th>Wind Speed</th>\n",
       "      <th>Date</th>\n",
       "    </tr>\n",
       "  </thead>\n",
       "  <tbody>\n",
       "    <tr>\n",
       "      <th>count</th>\n",
       "      <td>179.000000</td>\n",
       "      <td>179.000000</td>\n",
       "      <td>179.000000</td>\n",
       "      <td>179.000000</td>\n",
       "      <td>179.000000</td>\n",
       "      <td>179.000000</td>\n",
       "      <td>1.790000e+02</td>\n",
       "    </tr>\n",
       "    <tr>\n",
       "      <th>mean</th>\n",
       "      <td>-20.862403</td>\n",
       "      <td>29.761759</td>\n",
       "      <td>296.815084</td>\n",
       "      <td>75.279330</td>\n",
       "      <td>57.547486</td>\n",
       "      <td>3.575587</td>\n",
       "      <td>1.614565e+09</td>\n",
       "    </tr>\n",
       "    <tr>\n",
       "      <th>std</th>\n",
       "      <td>12.928059</td>\n",
       "      <td>96.626658</td>\n",
       "      <td>4.977801</td>\n",
       "      <td>16.256379</td>\n",
       "      <td>38.135208</td>\n",
       "      <td>2.451202</td>\n",
       "      <td>1.351362e+02</td>\n",
       "    </tr>\n",
       "    <tr>\n",
       "      <th>min</th>\n",
       "      <td>-54.800000</td>\n",
       "      <td>-175.200000</td>\n",
       "      <td>279.820000</td>\n",
       "      <td>14.000000</td>\n",
       "      <td>0.000000</td>\n",
       "      <td>0.180000</td>\n",
       "      <td>1.614564e+09</td>\n",
       "    </tr>\n",
       "    <tr>\n",
       "      <th>25%</th>\n",
       "      <td>-31.248600</td>\n",
       "      <td>-52.834000</td>\n",
       "      <td>294.150000</td>\n",
       "      <td>65.000000</td>\n",
       "      <td>20.000000</td>\n",
       "      <td>1.555000</td>\n",
       "      <td>1.614565e+09</td>\n",
       "    </tr>\n",
       "    <tr>\n",
       "      <th>50%</th>\n",
       "      <td>-20.400000</td>\n",
       "      <td>26.596900</td>\n",
       "      <td>297.150000</td>\n",
       "      <td>76.000000</td>\n",
       "      <td>75.000000</td>\n",
       "      <td>3.090000</td>\n",
       "      <td>1.614565e+09</td>\n",
       "    </tr>\n",
       "    <tr>\n",
       "      <th>75%</th>\n",
       "      <td>-9.222750</td>\n",
       "      <td>134.308350</td>\n",
       "      <td>300.150000</td>\n",
       "      <td>88.000000</td>\n",
       "      <td>96.000000</td>\n",
       "      <td>5.010000</td>\n",
       "      <td>1.614565e+09</td>\n",
       "    </tr>\n",
       "    <tr>\n",
       "      <th>max</th>\n",
       "      <td>-0.216700</td>\n",
       "      <td>176.633300</td>\n",
       "      <td>309.150000</td>\n",
       "      <td>100.000000</td>\n",
       "      <td>100.000000</td>\n",
       "      <td>16.540000</td>\n",
       "      <td>1.614565e+09</td>\n",
       "    </tr>\n",
       "  </tbody>\n",
       "</table>\n",
       "</div>"
      ],
      "text/plain": [
       "         Latitude   Longitude    Max Temp    Humidity  Cloudiness  Wind Speed  \\\n",
       "count  179.000000  179.000000  179.000000  179.000000  179.000000  179.000000   \n",
       "mean   -20.862403   29.761759  296.815084   75.279330   57.547486    3.575587   \n",
       "std     12.928059   96.626658    4.977801   16.256379   38.135208    2.451202   \n",
       "min    -54.800000 -175.200000  279.820000   14.000000    0.000000    0.180000   \n",
       "25%    -31.248600  -52.834000  294.150000   65.000000   20.000000    1.555000   \n",
       "50%    -20.400000   26.596900  297.150000   76.000000   75.000000    3.090000   \n",
       "75%     -9.222750  134.308350  300.150000   88.000000   96.000000    5.010000   \n",
       "max     -0.216700  176.633300  309.150000  100.000000  100.000000   16.540000   \n",
       "\n",
       "               Date  \n",
       "count  1.790000e+02  \n",
       "mean   1.614565e+09  \n",
       "std    1.351362e+02  \n",
       "min    1.614564e+09  \n",
       "25%    1.614565e+09  \n",
       "50%    1.614565e+09  \n",
       "75%    1.614565e+09  \n",
       "max    1.614565e+09  "
      ]
     },
     "execution_count": 54,
     "metadata": {},
     "output_type": "execute_result"
    }
   ],
   "source": [
    "southern_hem_filter=weather_data_df_one.loc[:, \"Latitude\"]<0 #on the equator included\n",
    "southern_hem_df=weather_data_df_one.loc[southern_hem_filter,:]\n",
    "southern_hem_df.describe()\n",
    "# this is your southern_hemisphere_dataframe filter"
   ]
  },
  {
   "cell_type": "code",
   "execution_count": 55,
   "metadata": {},
   "outputs": [
    {
     "data": {
      "text/plain": [
       "179"
      ]
     },
     "execution_count": 55,
     "metadata": {},
     "output_type": "execute_result"
    }
   ],
   "source": [
    "len(southern_hem_df)\n",
    "# this plus northern_hem_df should add up to your weather_data_df_one "
   ]
  },
  {
   "cell_type": "code",
   "execution_count": 56,
   "metadata": {},
   "outputs": [
    {
     "data": {
      "text/plain": [
       "400"
      ]
     },
     "execution_count": 56,
     "metadata": {},
     "output_type": "execute_result"
    }
   ],
   "source": [
    "len(northern_hem_df)"
   ]
  },
  {
   "cell_type": "code",
   "execution_count": 57,
   "metadata": {},
   "outputs": [],
   "source": [
    "#(slope, intercept, rvalue, pvalue, stderr) = linregress(x_values, y_values)\n",
    "#regress_values = x_values * slope + intercept\n",
    "\n",
    "# x_lat=weather_data_df_one['Latitude']\n",
    "# y_wind_speed=weather_data_df_one['Wind Speed']\n",
    "\n",
    "# (slope, intercept, rvalue, pvalue, stderr) = linregress(x_lat, y_wind_speed)\n",
    "# regress_values = x_lat * slope + intercept\n",
    "# line_eq = \"y = \" + str(round(slope,2)) + \"x + \" + str(round(intercept,2))\n",
    "# plt.scatter(x_lat,y_wind_speed)\n",
    "# plt.plot(x_lat,regress_values,\"r-\")\n",
    "# plt.annotate(line_eq,(0,5),fontsize=15,color=\"red\")\n",
    "# plt.xlabel('')\n",
    "# plt.ylabel('')\n",
    "# print(f\"The r-squared is: {rvalue**2}\")\n",
    "# plt.show()\n",
    "# print(f' )\n",
    "\n",
    "# #slope, intercept, rvalue, pvalue, stderr = linregress(x, y) #list unpacking \n",
    "# # y=mx+b #every straight line can be represented by this equation\n",
    "# #regression=slope+x+intercept\n",
    "# #regression_label=(f'y={round(slope,2)}x+{round(intercept,2)}')\n",
    "\n",
    "# #liner regression is trying to draw a line as close as possible to the most dots\n"
   ]
  },
  {
   "cell_type": "markdown",
   "metadata": {},
   "source": [
    "####  Northern Hemisphere - Max Temp vs. Latitude Linear Regression"
   ]
  },
  {
   "cell_type": "code",
   "execution_count": 58,
   "metadata": {},
   "outputs": [
    {
     "name": "stdout",
     "output_type": "stream",
     "text": [
      "The r-squared is: 0.7150500866959828\n"
     ]
    },
    {
     "data": {
      "image/png": "[encoded data removed]",
      "text/plain": [
       "<Figure size 432x288 with 1 Axes>"
      ]
     },
     "metadata": {
      "needs_background": "light"
     },
     "output_type": "display_data"
    },
    {
     "name": "stdout",
     "output_type": "stream",
     "text": [
      " This regression appears tight but as you move closer to the north pole\n",
      " the data is less correlated.\n"
     ]
    },
    {
     "data": {
      "text/plain": [
       "<Figure size 432x288 with 0 Axes>"
      ]
     },
     "metadata": {},
     "output_type": "display_data"
    }
   ],
   "source": [
    "x_lat=northern_hem_df['Latitude']\n",
    "y_maxtemp=northern_hem_df['Max Temp']\n",
    "\n",
    "\n",
    "# (slope, intercept, rvalue, pvalue,stderr)= linregress(x_lat, y_maxtemp)\n",
    "# plt.scatter(x_lat, y_maxtemp)\n",
    "# plt.title('City Latitude vs Max Temperature')\n",
    "# plt.xlabel('Latitude')\n",
    "# plt.ylabel('Max Temperature (K)')\n",
    "# plt.grid(True)\n",
    "\n",
    "\n",
    "(slope, intercept, rvalue, pvalue, stderr) = linregress(x_lat, y_maxtemp)\n",
    "regress_values = x_lat * slope + intercept\n",
    "line_eq = \"y = \" + str(round(slope,2)) + \"x + \" + str(round(intercept,2))\n",
    "plt.scatter(x_lat,y_maxtemp)\n",
    "plt.plot(x_lat,regress_values,\"r-\")\n",
    "plt.annotate(line_eq,(10,240),fontsize=15,color=\"red\")\n",
    "plt.title('Northern Hemisphere: City Latitude vs Max Temp ')\n",
    "plt.xlabel('Latitude')\n",
    "plt.ylabel('Max Temp')\n",
    "print(f\"The r-squared is: {rvalue**2}\")\n",
    "#plt.xlim(0,90)\n",
    "#plt.ylim(0,110)\n",
    "\n",
    "plt.grid(True)\n",
    "plt.show()\n",
    "print(f' This regression appears tight but as you move closer to the north pole')\n",
    "print(f' the data is less correlated.')\n",
    "#=300-200\n",
    "# based off this regression, we can expect the max temp \n",
    "plt.savefig('../WeatherPy/Northern_Latitude vs Max Temp.png')\n"
   ]
  },
  {
   "cell_type": "markdown",
   "metadata": {},
   "source": [
    "####  Southern Hemisphere - Max Temp vs. Latitude Linear Regression"
   ]
  },
  {
   "cell_type": "code",
   "execution_count": 52,
   "metadata": {},
   "outputs": [
    {
     "name": "stdout",
     "output_type": "stream",
     "text": [
      "The r-squared is: 0.2893311006019193\n"
     ]
    },
    {
     "data": {
      "image/png": "[encoded data removed]",
      "text/plain": [
       "<Figure size 432x288 with 1 Axes>"
      ]
     },
     "metadata": {
      "needs_background": "light"
     },
     "output_type": "display_data"
    },
    {
     "name": "stdout",
     "output_type": "stream",
     "text": [
      " City latitude appears less correlated than the Northern Hemisphere\n",
      " but this might be because the sample set are not equal. There is\n",
      " a little more than 2 times the samples in Northern vs Southern.\n"
     ]
    },
    {
     "data": {
      "text/plain": [
       "<Figure size 432x288 with 0 Axes>"
      ]
     },
     "metadata": {},
     "output_type": "display_data"
    }
   ],
   "source": [
    "x_lat=southern_hem_df['Latitude']\n",
    "y_maxtemp=southern_hem_df['Max Temp']\n",
    "\n",
    "\n",
    "# (slope, intercept, rvalue, pvalue,stderr)= linregress(x_lat, y_maxtemp)\n",
    "# plt.scatter(x_lat, y_maxtemp)\n",
    "# plt.title('City Latitude vs Max Temperature')\n",
    "# plt.xlabel('Latitude')\n",
    "# plt.ylabel('Max Temperature (K)')\n",
    "# plt.grid(True)\n",
    "\n",
    "\n",
    "(slope, intercept, rvalue, pvalue, stderr) = linregress(x_lat, y_maxtemp)\n",
    "regress_values = x_lat * slope + intercept\n",
    "line_eq = \"y = \" + str(round(slope,2)) + \"x + \" + str(round(intercept,2))\n",
    "plt.scatter(x_lat,y_maxtemp)\n",
    "plt.plot(x_lat,regress_values,\"r-\")\n",
    "plt.annotate(line_eq,(-70,288),fontsize=15,color=\"red\")\n",
    "plt.title('Southern Hemisphere: City Latitude vs Max Temp ')\n",
    "plt.xlabel('Latitude')\n",
    "plt.ylabel('Max Temp')\n",
    "print(f\"The r-squared is: {rvalue**2}\")\n",
    "#plt.xlim(0,90)\n",
    "#plt.ylim(0,110)\n",
    "\n",
    "plt.grid(True)\n",
    "plt.show()\n",
    "\n",
    "print(f' City latitude appears less correlated than the Northern Hemisphere')\n",
    "print(f' but this might be because the sample set are not equal. There is')\n",
    "print(f' a little more than 2 times the samples in Northern vs Southern.')\n",
    "#plt.savefig()\n",
    "#find the line where you have the smallest distance between the point of the data set\n",
    "plt.savefig('../WeatherPy/Southern_Latitude vs Max Temp.png')"
   ]
  },
  {
   "cell_type": "markdown",
   "metadata": {},
   "source": [
    "####  Northern Hemisphere - Humidity (%) vs. Latitude Linear Regression"
   ]
  },
  {
   "cell_type": "code",
   "execution_count": 53,
   "metadata": {},
   "outputs": [
    {
     "name": "stdout",
     "output_type": "stream",
     "text": [
      "The r-squared is: 0.10445315980682346\n",
      " City latitude vs humidity shows there isn't a tight relationship\n"
     ]
    },
    {
     "data": {
      "image/png": "[encoded data removed]",
      "text/plain": [
       "<Figure size 432x288 with 1 Axes>"
      ]
     },
     "metadata": {
      "needs_background": "light"
     },
     "output_type": "display_data"
    },
    {
     "data": {
      "text/plain": [
       "<Figure size 432x288 with 0 Axes>"
      ]
     },
     "metadata": {},
     "output_type": "display_data"
    }
   ],
   "source": [
    "x_lat=northern_hem_df['Latitude']\n",
    "y_humidity=northern_hem_df['Humidity']\n",
    "\n",
    "\n",
    "# (slope, intercept, rvalue, pvalue,stderr)= linregress(x_lat, y_maxtemp)\n",
    "# plt.scatter(x_lat, y_maxtemp)\n",
    "# plt.title('City Latitude vs Max Temperature')\n",
    "# plt.xlabel('Latitude')\n",
    "# plt.ylabel('Max Temperature (K)')\n",
    "# plt.grid(True)\n",
    "\n",
    "\n",
    "(slope, intercept, rvalue, pvalue, stderr) = linregress(x_lat, y_humidity)\n",
    "regress_values = x_lat * slope + intercept\n",
    "line_eq = \"y = \" + str(round(slope,2)) + \"x + \" + str(round(intercept,2))\n",
    "plt.scatter(x_lat,y_humidity)\n",
    "plt.plot(x_lat,regress_values,\"r-\")\n",
    "plt.annotate(line_eq,(20,20),fontsize=15,color=\"red\")\n",
    "plt.title('Northern Hemisphere: City Latitude vs Humidity ')\n",
    "plt.xlabel('Latitude')\n",
    "plt.ylabel('Humidity')\n",
    "print(f\"The r-squared is: {rvalue**2}\")\n",
    "#plot.xlim(min, max)\n",
    "plt.xlim(0,90)\n",
    "plt.ylim(0,110)\n",
    "plt.grid(True)\n",
    "\n",
    "print(f' City latitude vs humidity shows there isn\\'t a tight relationship')\n",
    "plt.show()\n",
    "\n",
    "plt.savefig('../WeatherPy/Northern_Latitude vs Humidity.png')"
   ]
  },
  {
   "cell_type": "code",
   "execution_count": null,
   "metadata": {},
   "outputs": [],
   "source": []
  },
  {
   "cell_type": "markdown",
   "metadata": {},
   "source": [
    "####  Southern Hemisphere - Humidity (%) vs. Latitude Linear Regression"
   ]
  },
  {
   "cell_type": "code",
   "execution_count": 54,
   "metadata": {},
   "outputs": [
    {
     "name": "stdout",
     "output_type": "stream",
     "text": [
      " City latitude vs humidity in Southern Hempispher shows\n",
      " there isn't a strong correlation between the two.\n"
     ]
    },
    {
     "data": {
      "image/png": "[encoded data removed]",
      "text/plain": [
       "<Figure size 432x288 with 1 Axes>"
      ]
     },
     "metadata": {
      "needs_background": "light"
     },
     "output_type": "display_data"
    },
    {
     "name": "stdout",
     "output_type": "stream",
     "text": [
      "The r-squared is: 0.18029519276037584\n"
     ]
    }
   ],
   "source": [
    "x_lat=southern_hem_df['Latitude']\n",
    "y_humidity=southern_hem_df['Humidity']\n",
    "\n",
    "\n",
    "# (slope, intercept, rvalue, pvalue,stderr)= linregress(x_lat, y_maxtemp)\n",
    "# plt.scatter(x_lat, y_maxtemp)\n",
    "# plt.title('City Latitude vs Max Temperature')\n",
    "# plt.xlabel('Latitude')\n",
    "# plt.ylabel('Max Temperature (K)')\n",
    "# plt.grid(True)\n",
    "\n",
    "\n",
    "(slope, intercept, rvalue, pvalue, stderr) = linregress(x_lat, y_humidity)\n",
    "regress_values = x_lat * slope + intercept\n",
    "line_eq = \"y = \" + str(round(slope,2)) + \"x + \" + str(round(intercept,2))\n",
    "plt.scatter(x_lat,y_humidity)\n",
    "plt.plot(x_lat,regress_values,\"r-\")\n",
    "plt.annotate(line_eq,(-65,30),fontsize=15,color=\"red\")\n",
    "plt.title('Southern Hemisphere: City Latitude vs Humidity')\n",
    "plt.xlabel('Latitude')\n",
    "plt.ylabel('Humidity')\n",
    "\n",
    "#plot.xlim(min, max)\n",
    "plt.xlim(-70,10)\n",
    "plt.ylim(10,110)\n",
    "plt.grid(True)\n",
    "print(f' City latitude vs humidity in Southern Hempispher shows')\n",
    "print(f' there isn\\'t a strong correlation between the two.')\n",
    "plt.show()\n",
    "\n",
    "print(f\"The r-squared is: {rvalue**2}\")\n"
   ]
  },
  {
   "cell_type": "markdown",
   "metadata": {},
   "source": [
    "####  Northern Hemisphere - Cloudiness (%) vs. Latitude Linear Regression"
   ]
  },
  {
   "cell_type": "code",
   "execution_count": 55,
   "metadata": {},
   "outputs": [
    {
     "name": "stdout",
     "output_type": "stream",
     "text": [
      "The r-squared is: 0.07644413800294053\n",
      " There is not strong correlation between city latitude and cloudiness.\n",
      " I do not know why this plot would not show bigger.\n"
     ]
    },
    {
     "data": {
      "image/png": "[encoded data removed]",
      "text/plain": [
       "<Figure size 432x288 with 1 Axes>"
      ]
     },
     "metadata": {
      "needs_background": "light"
     },
     "output_type": "display_data"
    }
   ],
   "source": [
    "x_lat=northern_hem_df['Latitude']\n",
    "y_cloudiness=northern_hem_df['Cloudiness']\n",
    "\n",
    "\n",
    "# (slope, intercept, rvalue, pvalue,stderr)= linregress(x_lat, y_maxtemp)\n",
    "# plt.scatter(x_lat, y_maxtemp)\n",
    "# plt.title('City Latitude vs Max Temperature')\n",
    "# plt.xlabel('Latitude')\n",
    "# plt.ylabel('Max Temperature (K)')\n",
    "# plt.grid(True)\n",
    "\n",
    "\n",
    "(slope, intercept, rvalue, pvalue, stderr) = linregress(x_lat, y_cloudiness)\n",
    "regress_values = x_lat * slope + intercept\n",
    "line_eq = \"y = \" + str(round(slope,2)) + \"x + \" + str(round(intercept,2))\n",
    "plt.scatter(x_lat,y_cloudiness)\n",
    "plt.plot(x_lat,regress_values,\"r-\")\n",
    "plt.annotate(line_eq,(10,240),fontsize=15,color=\"red\")\n",
    "plt.title('Northern Hemisphere: City Latitude vs Cloudiness (%) ')\n",
    "plt.xlabel('Latitude')\n",
    "plt.ylabel('Cloudiness')\n",
    "print(f\"The r-squared is: {rvalue**2}\")\n",
    "\n",
    "plt.grid(True)\n",
    "print( f' There is not strong correlation between city latitude and cloudiness.')\n",
    "print(f' I do not know why this plot would not show bigger.')\n",
    "plt.show()"
   ]
  },
  {
   "cell_type": "code",
   "execution_count": null,
   "metadata": {},
   "outputs": [],
   "source": []
  },
  {
   "cell_type": "markdown",
   "metadata": {},
   "source": [
    "####  Southern Hemisphere - Cloudiness (%) vs. Latitude Linear Regression"
   ]
  },
  {
   "cell_type": "code",
   "execution_count": 56,
   "metadata": {},
   "outputs": [
    {
     "name": "stdout",
     "output_type": "stream",
     "text": [
      "The r-squared is: 0.18029519276037584\n",
      " There appears to be more correlation in the Southern Hempisphere\n",
      " for city latitude compared to cloudiness.\n"
     ]
    },
    {
     "data": {
      "image/png": "[encoded data removed]",
      "text/plain": [
       "<Figure size 432x288 with 1 Axes>"
      ]
     },
     "metadata": {
      "needs_background": "light"
     },
     "output_type": "display_data"
    }
   ],
   "source": [
    "x_lat=southern_hem_df['Latitude']\n",
    "y_cloudiness=southern_hem_df['Humidity']\n",
    "\n",
    "\n",
    "# (slope, intercept, rvalue, pvalue,stderr)= linregress(x_lat, y_maxtemp)\n",
    "# plt.scatter(x_lat, y_maxtemp)\n",
    "# plt.title('City Latitude vs Max Temperature')\n",
    "# plt.xlabel('Latitude')\n",
    "# plt.ylabel('Max Temperature (K)')\n",
    "# plt.grid(True)\n",
    "\n",
    "\n",
    "(slope, intercept, rvalue, pvalue, stderr) = linregress(x_lat, y_cloudiness)\n",
    "regress_values = x_lat * slope + intercept\n",
    "line_eq = \"y = \" + str(round(slope,2)) + \"x + \" + str(round(intercept,2))\n",
    "plt.scatter(x_lat,y_cloudiness)\n",
    "plt.plot(x_lat,regress_values,\"r-\")\n",
    "plt.annotate(line_eq,(-75,50),fontsize=15,color=\"red\")\n",
    "plt.title('Southern Hemisphere: City Latitude vs Cloudiness')\n",
    "plt.xlabel('Latitude')\n",
    "plt.ylabel('Cloudiness')\n",
    "print(f\"The r-squared is: {rvalue**2}\")\n",
    "#plot.xlim(min, max)\n",
    "plt.xlim(-70,10)\n",
    "plt.ylim(10,120)\n",
    "plt.grid(True)\n",
    "print(f' There appears to be more correlation in the Southern Hempisphere')\n",
    "print(f' for city latitude compared to cloudiness.')\n",
    "plt.show()\n"
   ]
  },
  {
   "cell_type": "markdown",
   "metadata": {},
   "source": [
    "####  Northern Hemisphere - Wind Speed (mph) vs. Latitude Linear Regression"
   ]
  },
  {
   "cell_type": "code",
   "execution_count": 57,
   "metadata": {},
   "outputs": [
    {
     "name": "stdout",
     "output_type": "stream",
     "text": [
      "The r-squared is: 0.0009570132607095526\n",
      " there doesn't appear to be strong correlation between city latitude vs wind speed.\n"
     ]
    },
    {
     "data": {
      "image/png": "[encoded data removed]",
      "text/plain": [
       "<Figure size 432x288 with 1 Axes>"
      ]
     },
     "metadata": {
      "needs_background": "light"
     },
     "output_type": "display_data"
    }
   ],
   "source": [
    "x_lat=northern_hem_df['Latitude']\n",
    "y_wind_speed=northern_hem_df['Wind Speed']\n",
    "\n",
    "\n",
    "# (slope, intercept, rvalue, pvalue,stderr)= linregress(x_lat, y_maxtemp)\n",
    "# plt.scatter(x_lat, y_maxtemp)\n",
    "# plt.title('City Latitude vs Max Temperature')\n",
    "# plt.xlabel('Latitude')\n",
    "# plt.ylabel('Max Temperature (K)')\n",
    "# plt.grid(True)\n",
    "\n",
    "\n",
    "(slope, intercept, rvalue, pvalue, stderr) = linregress(x_lat, y_wind_speed)\n",
    "regress_values = x_lat * slope + intercept\n",
    "line_eq = \"y = \" + str(round(slope,2)) + \"x + \" + str(round(intercept,2))\n",
    "plt.scatter(x_lat,y_wind_speed)\n",
    "plt.plot(x_lat,regress_values,\"r-\")\n",
    "plt.annotate(line_eq,(0,10),fontsize=15,color=\"red\")\n",
    "plt.title('Northern Hemisphere: City Latitude vs Wind Speed (mph) ')\n",
    "plt.xlabel('Latitude')\n",
    "plt.ylabel('Wind Speed')\n",
    "print(f\"The r-squared is: {rvalue**2}\")\n",
    "plt.grid(True)\n",
    "\n",
    "print(f' there doesn\\'t appear to be strong correlation between city latitude vs wind speed.')\n",
    "plt.show()"
   ]
  },
  {
   "cell_type": "markdown",
   "metadata": {},
   "source": [
    "####  Southern Hemisphere - Wind Speed (mph) vs. Latitude Linear Regression"
   ]
  },
  {
   "cell_type": "code",
   "execution_count": 58,
   "metadata": {},
   "outputs": [
    {
     "name": "stdout",
     "output_type": "stream",
     "text": [
      "The r-squared is: 0.04368842247720583\n",
      " there doesn't appear to be strong correlation between city latitude vs wind speed.\n"
     ]
    },
    {
     "data": {
      "image/png": "[encoded data removed]",
      "text/plain": [
       "<Figure size 432x288 with 1 Axes>"
      ]
     },
     "metadata": {
      "needs_background": "light"
     },
     "output_type": "display_data"
    }
   ],
   "source": [
    "x_lat=southern_hem_df['Latitude']\n",
    "y_wind_speed=southern_hem_df['Wind Speed']\n",
    "\n",
    "\n",
    "# (slope, intercept, rvalue, pvalue,stderr)= linregress(x_lat, y_maxtemp)\n",
    "# plt.scatter(x_lat, y_maxtemp)\n",
    "# plt.title('City Latitude vs Max Temperature')\n",
    "# plt.xlabel('Latitude')\n",
    "# plt.ylabel('Max Temperature (K)')\n",
    "# plt.grid(True)\n",
    "\n",
    "\n",
    "(slope, intercept, rvalue, pvalue, stderr) = linregress(x_lat, y_wind_speed)\n",
    "regress_values = x_lat * slope + intercept\n",
    "line_eq = \"y = \" + str(round(slope,2)) + \"x + \" + str(round(intercept,2))\n",
    "plt.scatter(x_lat,y_wind_speed)\n",
    "plt.plot(x_lat,regress_values,\"r-\")\n",
    "plt.annotate(line_eq,(-65,10),fontsize=15,color=\"red\")\n",
    "plt.title('Southern Hemisphere: City Latitude vs Wind Speed (mph)')\n",
    "plt.xlabel('Latitude')\n",
    "plt.ylabel('Wind Speed (mph)')\n",
    "print(f\"The r-squared is: {rvalue**2}\")\n",
    "#plot.xlim(min, max)\n",
    "#plt.xlim(-70,10)\n",
    "#plt.ylim(10,110)\n",
    "plt.grid(True)\n",
    "print(f' there doesn\\'t appear to be strong correlation between city latitude vs wind speed.')\n",
    "plt.show()"
   ]
  },
  {
   "cell_type": "code",
   "execution_count": null,
   "metadata": {},
   "outputs": [],
   "source": []
  },
  {
   "cell_type": "code",
   "execution_count": null,
   "metadata": {},
   "outputs": [],
   "source": []
  }
 ],
 "metadata": {
  "anaconda-cloud": {},
  "kernel_info": {
   "name": "python3"
  },
  "kernelspec": {
   "display_name": "Python 3",
   "language": "python",
   "name": "python3"
  },
  "language_info": {
   "codemirror_mode": {
    "name": "ipython",
    "version": 3
   },
   "file_extension": ".py",
   "mimetype": "text/x-python",
   "name": "python",
   "nbconvert_exporter": "python",
   "pygments_lexer": "ipython3",
   "version": "3.8.3"
  },
  "latex_envs": {
   "LaTeX_envs_menu_present": true,
   "autoclose": false,
   "autocomplete": true,
   "bibliofile": "biblio.bib",
   "cite_by": "apalike",
   "current_citInitial": 1,
   "eqLabelWithNumbers": true,
   "eqNumInitial": 1,
   "hotkeys": {
    "equation": "Ctrl-E",
    "itemize": "Ctrl-I"
   },
   "labels_anchors": false,
   "latex_user_defs": false,
   "report_style_numbering": false,
   "user_envs_cfg": false
  },
  "nteract": {
   "version": "0.12.3"
  }
 },
 "nbformat": 4,
 "nbformat_minor": 2
}
